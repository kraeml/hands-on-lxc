{
 "cells": [
  {
   "cell_type": "markdown",
   "metadata": {},
   "source": [
    "# Festplatten und Dateisysteme\n",
    "\n",
    "* https://de.wikipedia.org/wiki/Festplattenlaufwerk\n",
    "* https://de.wikipedia.org/wiki/Liste_von_Dateisystemen\n",
    "* Speziell für den Raspberry  \n",
    "  https://de.wikipedia.org/wiki/Liste_von_Dateisystemen#Dateisysteme_f%C3%BCr_Flash-Datentr%C3%A4ger und    \n",
    "  https://de.wikipedia.org/wiki/F2FS\n"
   ]
  },
  {
   "cell_type": "markdown",
   "metadata": {},
   "source": [
    "## Festplatten anzeigen lassen\n",
    "\n",
    "Genauer gesagt alle Blockdevices anzeigen lassen."
   ]
  },
  {
   "cell_type": "code",
   "execution_count": 1,
   "metadata": {
    "ExecuteTime": {
     "end_time": "2018-03-12T15:22:18.480635Z",
     "start_time": "2018-03-12T15:22:18.368108Z"
    }
   },
   "outputs": [
    {
     "name": "stdout",
     "output_type": "stream",
     "text": [
      "lsblk (8)            - list block devices\n"
     ]
    }
   ],
   "source": [
    "whatis lsblk"
   ]
  },
  {
   "cell_type": "code",
   "execution_count": 2,
   "metadata": {
    "ExecuteTime": {
     "end_time": "2018-03-12T15:22:19.529317Z",
     "start_time": "2018-03-12T15:22:19.413225Z"
    }
   },
   "outputs": [
    {
     "name": "stdout",
     "output_type": "stream",
     "text": [
      "NAME                       MAJ:MIN RM   SIZE RO TYPE MOUNTPOINT\n",
      "sda                          8:0    0   127G  0 disk \n",
      "├─sda1                       8:1    0   487M  0 part /boot\n",
      "├─sda2                       8:2    0     1K  0 part \n",
      "└─sda5                       8:5    0 126,5G  0 part \n",
      "  ├─rdf--dev--vg-root      252:0    0 125,6G  0 lvm  /\n",
      "  └─rdf--dev--vg-swap_1    252:1    0   980M  0 lvm  [SWAP]\n",
      "sdb                          8:16   0   500G  0 disk \n",
      "sdc                          8:32   0   500G  0 disk \n",
      "sdd                          8:48   0   500G  0 disk \n",
      "sde                          8:64   0  15,6G  0 disk \n",
      "└─sde1                       8:65   0  15,6G  0 part \n",
      "  └─persist--vg-persistent 252:2    0  15,6G  0 lvm  /var/persistent\n"
     ]
    }
   ],
   "source": [
    "lsblk"
   ]
  },
  {
   "cell_type": "markdown",
   "metadata": {},
   "source": [
    "> Die Aufgabe von lsblk ist es, verfügbare Block devices in Baumdarstellung aufzulisten und Informationen zu diesen anzuzeigen. Es liest hierzu das sysfs-Dateisystem ein.\n",
    "\n",
    "> Es ist vergleichbar mit blkid, welches aber nur für Geräte funktioniert, auf denen eine gültige Partitionstabelle existiert. lsblk hingegen listet auch Geräte auf, wenn diese über keine gültige Partitionstabelle verfügen.\n",
    "\n",
    "https://wiki.ubuntuusers.de/lsblk/ aufgerufen am 2018-03-11 10:37:28"
   ]
  },
  {
   "cell_type": "code",
   "execution_count": 3,
   "metadata": {
    "ExecuteTime": {
     "end_time": "2018-03-12T15:22:23.483971Z",
     "start_time": "2018-03-12T15:22:23.317011Z"
    }
   },
   "outputs": [
    {
     "name": "stdout",
     "output_type": "stream",
     "text": [
      "NAME   FSTYPE  STATE   OWNER GROUP MODE       TYPE MOUNTPOINT LABEL      MODEL\n",
      "sda            running root  disk  brw-rw---- disk                       VBOX HA\n",
      "├─sda1 ext2            root  disk  brw-rw---- part /boot                 \n",
      "├─sda2                 root  disk  brw-rw---- part                       \n",
      "└─sda5 LVM2_me         root  disk  brw-rw---- part                       \n",
      "  ├─rdf--dev--vg-root\n",
      "  │    ext4    running root  disk  brw-rw---- lvm  /                     \n",
      "  └─rdf--dev--vg-swap_1\n",
      "       swap    running root  disk  brw-rw---- lvm  [SWAP]                \n",
      "sdb            running root  disk  brw-rw---- disk                       VBOX HA\n",
      "sdc            running root  disk  brw-rw---- disk                       VBOX HA\n",
      "sdd            running root  disk  brw-rw---- disk                       VBOX HA\n",
      "sde            running root  disk  brw-rw---- disk                       VBOX HA\n",
      "└─sde1 LVM2_me         root  disk  brw-rw---- part                       \n",
      "  └─persist--vg-persistent\n",
      "       ext4    running root  disk  brw-rw---- lvm  /var/persi persistent \n"
     ]
    }
   ],
   "source": [
    "sudo lsblk -o NAME,FSTYPE,STATE,OWNER,GROUP,MODE,TYPE,MOUNTPOINT,LABEL,MODEL "
   ]
  },
  {
   "cell_type": "markdown",
   "metadata": {
    "ExecuteTime": {
     "end_time": "2018-03-11T09:40:19.731930Z",
     "start_time": "2018-03-11T09:40:19.529419Z"
    }
   },
   "source": [
    "Siehe auch: https://wiki.ubuntuusers.de/lsblk/#Spezialfall-o-output-Liste"
   ]
  },
  {
   "cell_type": "markdown",
   "metadata": {},
   "source": [
    "## Plattenplatz anzeigen lassen"
   ]
  },
  {
   "cell_type": "code",
   "execution_count": 4,
   "metadata": {
    "ExecuteTime": {
     "end_time": "2018-03-12T15:22:31.146816Z",
     "start_time": "2018-03-12T15:22:31.032716Z"
    }
   },
   "outputs": [
    {
     "name": "stdout",
     "output_type": "stream",
     "text": [
      "df (1)               - report file system disk space usage\n",
      "du (1)               - estimate file space usage\n"
     ]
    }
   ],
   "source": [
    "whatis df du"
   ]
  },
  {
   "cell_type": "code",
   "execution_count": 5,
   "metadata": {
    "ExecuteTime": {
     "end_time": "2018-03-12T15:22:33.485886Z",
     "start_time": "2018-03-12T15:22:33.328455Z"
    }
   },
   "outputs": [
    {
     "name": "stdout",
     "output_type": "stream",
     "text": [
      "Aufruf: df [OPTION]... [DATEI]...\n",
      "Anzeige von Informationen über die Dateisysteme, auf dem sich jede\n",
      "DATEI befindet, oder alle Dateisysteme, welches der Normalfall ist.\n",
      "\n",
      "Erforderliche Argumente für lange Optionen sind auch für kurze erforderlich.\n",
      "  -a, --all                 unechte Dateisysteme mit einschließen\n",
      "  -B, --block-size=GRÖßE    Größen in Einheiten von GRÖßE ausgeben, z.B. werden\n",
      "                              bei „-BM“ die Grössen in Einheiten von 1.048.576\n",
      "                              Bytes ausgegeben. Siehe auch GRÖẞE weiter unten\n",
      "  -h, --human-readable      Größen in menschenlesbarem Format (z.B. 1K 234M 2G)\n",
      "  -H, --si                  genauso, aber mit 1000 statt 1024 als Teiler (z.B 1.1G)\n",
      "  -i, --inodes              INode‐Information statt der Block‐Benutzung\n",
      "                              auflisten\n",
      "  -k                        wie „--block-size=1K“\n",
      "  -l, --local               Liste auf lokale Dateisysteme begrenzen\n",
      "      --no-sync             nicht „sync“ vor Erlangen der Benutzungsinformation\n",
      "                              aufrufen (Standardvorgabe)\n",
      "      --output[=FELDLISTE]  Das durch FELDLISTE definierte Ausgabeformat\n",
      "                              verwenden, oder alle Felder ausgeben, wenn\n",
      "                              FELDLISTE nicht angegeben wird.\n",
      "  -P, --portability         POSIX‐Ausgabeformat verwenden\n",
      "      --sync                „sync“ vor Erlangen der Benutzungsinformation\n",
      "                              aufrufen\n",
      "      --total               Gesamtsumme erstellen\n",
      "  -t, --type=TYP            Liste auf Dateisysteme des Typs TYP begrenzen\n",
      "  -T, --print-type          Dateisystemtyp ausgeben.\n",
      "  -x, --exclude-type=TYP    Liste auf Dateisysteme nicht vom Typ TYP begrenzen.\n",
      "  -v                        (ignoriert)\n",
      "      --help     diese Hilfe anzeigen und beenden\n",
      "      --version  Versionsinformation anzeigen und beenden\n",
      "\n",
      "Werte werden in der ersten verfügbaren GRÖßE von --block-size und der\n",
      "Umgebungsvariablen DF_BLOCK_SIZE, BLOCK_SIZE und BLOCKSIZE ausgegeben.\n",
      "Andernfalls ist die Vorgabe Einheiten von 1024 Bytes \t(oder 512 wenn\n",
      "POSIXLY_CORRECT gesetzt wurde).\n",
      "\n",
      "GRÖẞE ist eine Ganzzahl und eine optionale Einheit (Beispiel: 10M sind\n",
      "10*1024*1024). Einheiten sind K, M, G, T, P, E, Z, Y (Potenzen von 1024) oder\n",
      "KB, MB, ... (Potenzen von 1000).\n",
      "\n",
      "FELDLISTE ist eine durch Komma getrennte Liste der zu verwendenden Spalten.\n",
      "Gültige Feldnamen sind: „source“, „fstype“, „itotal“, „iused“, „iavail“,\n",
      "„ipcent“, „size“, „used“, „avail“, „pcent“, „file“ und „target“ (siehe\n",
      "Infoseite).\n",
      "\n",
      "GNU coreutils Onlinehilfe: <http://www.gnu.org/software/coreutils/>\n",
      "Melden Sie Übersetzungsfehler für df an <translation-team-de@lists.sourceforge.net>\n",
      "Die vollständige Dokumentation ist hier: <http://www.gnu.org/software/coreutils/df>\n",
      "oder auch lokal mittels „info '(coreutils) df invocation'“\n"
     ]
    }
   ],
   "source": [
    "df --help"
   ]
  },
  {
   "cell_type": "code",
   "execution_count": 6,
   "metadata": {
    "ExecuteTime": {
     "end_time": "2018-03-12T15:22:37.942482Z",
     "start_time": "2018-03-12T15:22:37.778157Z"
    }
   },
   "outputs": [
    {
     "name": "stdout",
     "output_type": "stream",
     "text": [
      "Aufruf: du [OPTION]... [DATEI]...\n",
      " oder:  du [OPTION]... --files0-from=DL\n",
      "Summierung der Plattennutzung jeder DATEI, rekursiv für Verzeichnisse\n",
      "\n",
      "Erforderliche Argumente für lange Optionen sind auch für kurze erforderlich.\n",
      "  -0, --null              jede Zeile mit einem Nullbyte statt eines\n",
      "                            Zeilenumbruchs beenden\n",
      "  -a, --all               Zählung für jede Datei ausgeben, nicht nur für\n",
      "                            Verzeichnisse\n",
      "      --apparent-size     die sichtbare Größe ausgeben statt des\n",
      "                            Platzverbrauchs; diese ist meist kleiner, kann\n",
      "                            aber auch größer sein durch Löcher in („sparse“‐)\n",
      "                            Dateien, interne Fragmentierung, indirekte Blöcke\n",
      "                            und ähnliches\n",
      "  -B, --block-size=GRÖßE  GRÖßE große Blöcke verwenden. Siehe GRÖßE unten.\n",
      "  -b, --bytes             äquivalent zu „--apparent-size --block-size=1“\n",
      "  -c, --total             Gesamtsumme erzeugen\n",
      "  -D, --dereference-args  nur symbolische Verknüpfungen dereferenzieren, die\n",
      "                            an der Kommandozeile angegeben wurden\n",
      "  -d, --max-depth=N       die Gesamtgröße für ein Verzeichnis (oder, mit\n",
      "                            --all, einer Datei) ausgeben, aber nur dann, wenn\n",
      "                            es bzw. sie N oder weniger Ebenen unterhalb des\n",
      "                            Kommando-zeilenarguments ist; --max-depth=0 ist\n",
      "                            gleichbedeutend mit --summarize\n",
      "      --files0-from=D     aufsummierten Platzverbrauch der in der Datei D\n",
      "                            angegebenen null-terminierten Dateinamen ausgeben.\n",
      "                            ist D „-“, so wird aus der Standardeingabe gelesen\n",
      "  -H                      wie --dereference-args (-D)\n",
      "  -h, --human-readable    Größen in menschenlesbarem Format (z.B. 1K 234M 2G)\n",
      "                            ausgeben\n",
      "  -k                      Wie „--block-size=1K“\n",
      "  -L, --dereference       alle symbolischen Verknüpfungen dereferenzieren\n",
      "  -l, --count-links       Größe mehrfach zählen, wenn durch harte\n",
      "                            Verknüpfungen verbunden\n",
      "  -m                      Wie „--block-size=1M“\n",
      "  -P, --no-dereference    keinen symbolischen Verknüpfungen folgen (Voreinstellung)\n",
      "  -S, --separate-dirs     Größe von Unterverzeichnissen nicht\n",
      "                            mitzählen\n",
      "      --si                wie -h, verwendet aber Potenzen von 1000 statt 1024\n",
      "  -s, --summarize         nur Summe für jedes Argument anzeigen\n",
      "  -t, --threshold=GRÖẞE  Einträge kleiner als GRÖẞE ausschließen wenn positiv,\n",
      "                          oder größer als GRÖẞE wenn negativ\n",
      "      --time             Zeit der letzten Änderung irgendeiner Datei im\n",
      "                           Verzeichnis oder einem seiner Unterverzeichnisse\n",
      "                           anzeigen\n",
      "      --time=WORT        Zeit als WORT anstelle der Änderungszeit anzeigen:\n",
      "                           atime, access, use, ctime or status\n",
      "      --time-style=STIL  Zeit in Stil STIL anzeigen:\n",
      "                           full-iso, long-iso, iso, +FORMAT\n",
      "                           FORMAT wird wie bei „date“ interpretiert\n",
      "  -X, --exclude-from=DATEI  Dateien ausschließen, die einem Muster in DATEI\n",
      "                              entsprechen\n",
      "      --exclude=MUSTER   Dateien ausschließen, die MUSTER entsprechen\n",
      "  -x, --one-file-system  Verzeichnisse auf anderen Dateisystemen überspringen\n",
      "      --help     diese Hilfe anzeigen und beenden\n",
      "      --version  Versionsinformation anzeigen und beenden\n",
      "\n",
      "Werte werden in der ersten verfügbaren GRÖßE von --block-size und der\n",
      "Umgebungsvariablen DU_BLOCK_SIZE, BLOCK_SIZE und BLOCKSIZE ausgegeben.\n",
      "Andernfalls ist die Vorgabe Einheiten von 1024 Bytes \t(oder 512 wenn\n",
      "POSIXLY_CORRECT gesetzt wurde).\n",
      "\n",
      "GRÖẞE ist eine Ganzzahl und eine optionale Einheit (Beispiel: 10M sind\n",
      "10*1024*1024). Einheiten sind K, M, G, T, P, E, Z, Y (Potenzen von 1024) oder\n",
      "KB, MB, ... (Potenzen von 1000).\n",
      "\n",
      "GNU coreutils Onlinehilfe: <http://www.gnu.org/software/coreutils/>\n",
      "Melden Sie Übersetzungsfehler für du an <translation-team-de@lists.sourceforge.net>\n",
      "Die vollständige Dokumentation ist hier: <http://www.gnu.org/software/coreutils/du>\n",
      "oder auch lokal mittels „info '(coreutils) du invocation'“\n"
     ]
    }
   ],
   "source": [
    "du --help"
   ]
  },
  {
   "cell_type": "code",
   "execution_count": 7,
   "metadata": {
    "ExecuteTime": {
     "end_time": "2018-03-12T15:22:42.934483Z",
     "start_time": "2018-03-12T15:22:42.803088Z"
    }
   },
   "outputs": [
    {
     "name": "stdout",
     "output_type": "stream",
     "text": [
      "Dateisystem                        Typ       1K-Blöcke   Benutzt  Verfügbar Verw% Eingehängt auf\n",
      "udev                               devtmpfs    1004756         0    1004756    0% /dev\n",
      "tmpfs                              tmpfs        204808      6036     198772    3% /run\n",
      "/dev/mapper/rdf--dev--vg-root      ext4      129463932  22238888  100625572   19% /\n",
      "tmpfs                              tmpfs       1024032       176    1023856    1% /dev/shm\n",
      "tmpfs                              tmpfs          5120         4       5116    1% /run/lock\n",
      "tmpfs                              tmpfs       1024032         0    1024032    0% /sys/fs/cgroup\n",
      "/dev/sda1                          ext2         482922     57453     400535   13% /boot\n",
      "/dev/mapper/persist--vg-persistent ext4       15991752     40020   15116356    1% /var/persistent\n",
      "cgmfs                              tmpfs           100         0        100    0% /run/cgmanager/fs\n",
      "tmpfs                              tmpfs        204808        52     204756    1% /run/user/900\n",
      "vagrant                            vboxsf   1921802432 574328084 1347474348   30% /vagrant\n"
     ]
    }
   ],
   "source": [
    "df -T"
   ]
  },
  {
   "cell_type": "code",
   "execution_count": 8,
   "metadata": {
    "ExecuteTime": {
     "end_time": "2018-03-12T15:22:56.340800Z",
     "start_time": "2018-03-12T15:22:56.229283Z"
    }
   },
   "outputs": [
    {
     "name": "stdout",
     "output_type": "stream",
     "text": [
      "Dateisystem                        Größe Benutzt Verf. Verw% Eingehängt auf\n",
      "udev                                982M       0  982M    0% /dev\n",
      "tmpfs                               201M    5,9M  195M    3% /run\n",
      "/dev/mapper/rdf--dev--vg-root       124G     22G   96G   19% /\n",
      "tmpfs                              1001M    176K 1000M    1% /dev/shm\n",
      "tmpfs                               5,0M    4,0K  5,0M    1% /run/lock\n",
      "tmpfs                              1001M       0 1001M    0% /sys/fs/cgroup\n",
      "/dev/sda1                           472M     57M  392M   13% /boot\n",
      "/dev/mapper/persist--vg-persistent   16G     40M   15G    1% /var/persistent\n",
      "cgmfs                               100K       0  100K    0% /run/cgmanager/fs\n",
      "tmpfs                               201M     52K  200M    1% /run/user/900\n",
      "vagrant                             1,8T    548G  1,3T   30% /vagrant\n"
     ]
    }
   ],
   "source": [
    "df --human-readable"
   ]
  },
  {
   "cell_type": "code",
   "execution_count": 9,
   "metadata": {
    "ExecuteTime": {
     "end_time": "2018-03-12T15:23:00.442118Z",
     "start_time": "2018-03-12T15:23:00.315631Z"
    }
   },
   "outputs": [
    {
     "name": "stdout",
     "output_type": "stream",
     "text": [
      "Dateisystem                        Größe Benutzt Verf. Verw% Eingehängt auf\n",
      "udev                                1,1G       0  1,1G    0% /dev\n",
      "tmpfs                               210M    6,2M  204M    3% /run\n",
      "/dev/mapper/rdf--dev--vg-root       133G     23G  104G   19% /\n",
      "tmpfs                               1,1G    181k  1,1G    1% /dev/shm\n",
      "tmpfs                               5,3M    4,1k  5,3M    1% /run/lock\n",
      "tmpfs                               1,1G       0  1,1G    0% /sys/fs/cgroup\n",
      "/dev/sda1                           495M     59M  411M   13% /boot\n",
      "/dev/mapper/persist--vg-persistent   17G     41M   16G    1% /var/persistent\n",
      "cgmfs                               103k       0  103k    0% /run/cgmanager/fs\n",
      "tmpfs                               210M     54k  210M    1% /run/user/900\n",
      "vagrant                             2,0T    589G  1,4T   30% /vagrant\n"
     ]
    }
   ],
   "source": [
    "df --si"
   ]
  },
  {
   "cell_type": "code",
   "execution_count": 10,
   "metadata": {
    "ExecuteTime": {
     "end_time": "2018-03-12T15:23:04.926080Z",
     "start_time": "2018-03-12T15:23:04.806573Z"
    }
   },
   "outputs": [
    {
     "name": "stdout",
     "output_type": "stream",
     "text": [
      "Dateisystem                         Inodes IBenutzt   IFrei IUse% Eingehängt auf\n",
      "udev                                251189      485  250704    1% /dev\n",
      "tmpfs                               256008      738  255270    1% /run\n",
      "/dev/mapper/rdf--dev--vg-root      8232960   812933 7420027   10% /\n",
      "tmpfs                               256008        6  256002    1% /dev/shm\n",
      "tmpfs                               256008        5  256003    1% /run/lock\n",
      "tmpfs                               256008       18  255990    1% /sys/fs/cgroup\n",
      "/dev/sda1                           124928      304  124624    1% /boot\n",
      "/dev/mapper/persist--vg-persistent 1024000       20 1023980    1% /var/persistent\n",
      "cgmfs                               256008       14  255994    1% /run/cgmanager/fs\n",
      "tmpfs                               256008       28  255980    1% /run/user/900\n",
      "vagrant                               1000        0    1000    0% /vagrant\n"
     ]
    }
   ],
   "source": [
    "df --inodes"
   ]
  },
  {
   "cell_type": "code",
   "execution_count": 11,
   "metadata": {
    "ExecuteTime": {
     "end_time": "2018-03-12T15:23:07.663900Z",
     "start_time": "2018-03-12T15:23:07.503631Z"
    }
   },
   "outputs": [
    {
     "name": "stdout",
     "output_type": "stream",
     "text": [
      "16M\t/bin\n"
     ]
    }
   ],
   "source": [
    "du -h /bin"
   ]
  },
  {
   "cell_type": "markdown",
   "metadata": {},
   "source": [
    "## RAID und LVM\n",
    "\n",
    "* https://de.wikipedia.org/wiki/RAID\n",
    "\n",
    "* https://de.wikipedia.org/wiki/Logical_Volume_Manager\n",
    "\n",
    "* https://wiki.ubuntuusers.de/Software-RAID/\n",
    "\n",
    "* https://wiki.ubuntuusers.de/Software_RAID_mit_LVM/"
   ]
  },
  {
   "cell_type": "markdown",
   "metadata": {},
   "source": [
    "### Redundant Array of Independent Disks (RAID)\n",
    "\n",
    "> Ein RAID-System dient zur Organisation __mehrerer physischer__ Massenspeicher (üblicherweise Festplattenlaufwerke oder Solid-State-Drives) zu __einem logischen__ Laufwerk, das eine _höhere Ausfallsicherheit_ oder einen _größeren Datendurchsatz_ erlaubt als ein einzelnes physisches Speichermedium\n",
    "\n",
    "https://de.wikipedia.org/wiki/RAID aufgerufen am 2018-03-11 10:44:11 "
   ]
  },
  {
   "cell_type": "markdown",
   "metadata": {},
   "source": [
    "> Der Betrieb eines RAID-Systems setzt __mindestens zwei__ Speichermedien voraus. Diese werden gemeinsam betrieben und bilden einen Verbund, der unter mindestens einem Aspekt betrachtet leistungsfähiger ist als die einzelnen Medien. Mit RAID-Systemen kann man folgende Vorteile erreichen (allerdings schließen sich einige gleichzeitig aus):  \n",
    "* Erhöhung der Ausfallsicherheit (Redundanz)\n",
    "* Steigerung der Datenübertragungsrate (Leistung)\n",
    "* Aufbau großer logischer Laufwerke\n",
    "* Austausch von Speichermedien (auch während des Betriebes)\n",
    "* Vergrößern des Speichers (auch während des Betriebs)\n",
    "* Kostenreduktion durch Einsatz mehrerer kleiner, preiswerter Medien\n",
    "\n",
    "https://de.wikipedia.org/wiki/RAID#Aufbau_und_Anschluss_%E2%80%93_Hardware-RAID,_Software-RAID aufgerufen am 2018-03-11 10:45:16 "
   ]
  },
  {
   "cell_type": "markdown",
   "metadata": {
    "ExecuteTime": {
     "end_time": "2018-03-10T14:42:47.783640Z",
     "start_time": "2018-03-10T14:42:46.690321Z"
    }
   },
   "source": [
    "Es gibt zwei Arten wie ein RAID Verbund betrieben werden kann:\n",
    "\n",
    "* __Hardware__ durch den Festplattencontroller\n",
    "* __Software__ durch die CPU\n",
    "    * Host-Raid (wird meist als HW-RAID verkauft)\n",
    "    * Linux Software RAID\n",
    "    * Windows Software RAID"
   ]
  },
  {
   "cell_type": "markdown",
   "metadata": {},
   "source": [
    "#### Host RAID\n",
    "\n",
    "__Achtung__ Host Raid (auch BIOS-RAID oder Fake-RAID) diese belasten wie die Software RAID die CPU und sind stark abhängig von der verwendeten Hardware (BIOS).\n",
    "\n",
    "* https://de.wikipedia.org/wiki/RAID#Host-RAID\n",
    "\n",
    "Fehleranfällig und sollte nicht verwendet werden."
   ]
  },
  {
   "cell_type": "markdown",
   "metadata": {},
   "source": [
    "#### Linux Software RAID\n",
    "\n",
    "Linux kann durch den Multi Devices Driver Support mehrere Festplatten(partitionen) zu einem RAID verbinden."
   ]
  },
  {
   "cell_type": "markdown",
   "metadata": {},
   "source": [
    "#### Windows RAID\n",
    "\n",
    "Auch unter Windows gibt es Softwar RAID. Diese RAID lassen sich von Linux nicht mehr auslesen."
   ]
  },
  {
   "cell_type": "markdown",
   "metadata": {},
   "source": [
    "### RAID Level\n",
    "\n",
    "* RAID-0 (Stripping)\n",
    "* RAID-1 (Mirroring)\n",
    "* RAID-10 (Kombi von 1 und 0)\n",
    "* RAID-5 (Parity Striping)\n",
    "* RADI-6 (wie 5 nur doppelt redundant)"
   ]
  },
  {
   "cell_type": "markdown",
   "metadata": {},
   "source": [
    "#### RAID 0\n",
    "\n",
    "> Bei RAID 0 fehlt die Redundanz, daher gehört es streng genommen nicht zu den RAID-Systemen, es ist nur ein schnelles „Array of Independent Disks“.\n",
    "\n",
    "> RAID 0 bietet gesteigerte Transferraten, indem die beteiligten Festplatten in zusammenhängende Blöcke gleicher Größe aufgeteilt werden, wobei diese Blöcke quasi im Reißverschlussverfahren zu einer großen Festplatte angeordnet werden. Somit können Zugriffe auf allen Platten parallel durchgeführt werden (engl. striping, was „in Streifen zerlegen“ bedeutet, abgeleitet von stripe, oder „Streifen“)\n",
    "\n",
    "![RAID-Level 0](https://upload.wikimedia.org/wikipedia/commons/thumb/9/9b/RAID_0.svg/325px-RAID_0.svg.png)\n",
    "\n",
    "Von en:User:Cburnett - Eigenes WerkDiese Vektorgrafik wurde mit Inkscape erstellt., CC BY-SA 3.0, https://commons.wikimedia.org/w/index.php?curid=1509075\n",
    "\n",
    "Nachteile: \n",
    "\n",
    "* Hohes Ausfallrisiko (eine defekt alles defekt).\n",
    "* Geschwindigkeitsgewinn nur bei großen Dateien."
   ]
  },
  {
   "cell_type": "markdown",
   "metadata": {},
   "source": [
    "#### Raid 1\n",
    "\n",
    "> RAID 1 ist der Verbund von mindestens zwei Festplatten. Ein RAID 1 speichert auf allen Festplatten die gleichen Daten (Spiegelung) und bietet somit volle Redundanz. Die Kapazität des Arrays ist hierbei höchstens so groß wie die kleinste beteiligte Festplatte. \n",
    "\n",
    "![Raid 1](https://upload.wikimedia.org/wikipedia/commons/thumb/b/b7/RAID_1.svg/325px-RAID_1.svg.png)\n",
    "\n",
    "Vorteil:\n",
    "\n",
    "* erhöhte Sicherheit (fällt eine aus sind die Daten noch da)\n",
    "\n",
    "Nachteil:\n",
    "\n",
    "* Schreiben leicht langsamer."
   ]
  },
  {
   "cell_type": "markdown",
   "metadata": {},
   "source": [
    "#### RAID 10\n",
    "\n",
    "> Ein RAID-10-Verbund ist ein RAID 0 über mehrere RAID 1. Es werden dabei die Eigenschaften der beiden RAIDs kombiniert: Sicherheit und gesteigerte Schreib-/Lesegeschwindigkeit.\n",
    "\n",
    "> Ein RAID-10-Verbund benötigt mindestens vier Festplatten. \n",
    "\n",
    "![Raid 10](https://upload.wikimedia.org/wikipedia/commons/thumb/b/bb/RAID_10.svg/800px-RAID_10.svg.png)"
   ]
  },
  {
   "cell_type": "markdown",
   "metadata": {},
   "source": [
    "#### RAID 5\n",
    "\n",
    "> RAID 5 implementiert Striping mit auf Block-Level-verteilten Paritäts-Informationen. Zur Berechnung der Parität wird durch die jeweils an gleicher Adresse anliegenden Datenblöcke der am RAID-Verbund beteiligten Festplatten eine logische Gruppe gebildet. Von allen Datenblöcken einer Gruppe enthält ein Datenblock die Paritätsdaten, während die anderen Datenblöcke Nutzdaten enthalten. Die Nutzdaten von RAID-5-Gruppen werden wie bei RAID 0 auf alle Festplatten verteilt.\n",
    "\n",
    "![RAID 5](https://upload.wikimedia.org/wikipedia/commons/thumb/6/64/RAID_5.svg/675px-RAID_5.svg.png)\n",
    "\n",
    "Vorteil:\n",
    "\n",
    "* Bietet wie Raid 0 schnelle Schreib/Lesezugriffe.\n",
    "* Daten können wie bei RAID 1 bei Ausfall wiederhergestellt werden.\n",
    "\n",
    "Nachteil:\n",
    "\n",
    "* Bei kleinen Dateien. Checksumme muss für den betroffenen Datenblock neu berechnet werden.\n",
    "* Wiederherstellung ist zeitintensiver als bei RAID1.\n"
   ]
  },
  {
   "cell_type": "markdown",
   "metadata": {},
   "source": [
    "#### RAID 6\n",
    "\n",
    "> RAID 6 (unter diversen Handelsnamen angeboten, zum Beispiel Advanced Data Guarding) funktioniert ähnlich wie RAID 5, verkraftet aber den gleichzeitigen Ausfall von bis zu zwei Festplatten. Insbesondere beim intensiven Einsatz hochkapazitiver SATA-/IDE-Festplatten kann die Wiederherstellung der Redundanz nach dem Ausfall einer Platte viele Stunden bis hin zu Tagen dauern; bei RAID 5 besteht währenddessen kein Schutz vor einem weiteren Ausfall. \n",
    "\n",
    "![RAID 6](https://upload.wikimedia.org/wikipedia/commons/thumb/7/70/RAID_6.svg/850px-RAID_6.svg.png)"
   ]
  },
  {
   "cell_type": "markdown",
   "metadata": {},
   "source": [
    "### RAID Grundlagen\n",
    "\n",
    "Administration mit dem Kommando `mdadm`. Exemplarisch wird hier RAID-0 und RAID-1 gezeigt. Da im Fehlerfall eines RAID eine Mail verschickt wird, wird normalerweise auch ein Mailserver installiert. Dieses wird durch `--no-install-recommends` unterbunden.\n",
    "\n",
    "https://wiki.ubuntuusers.de/Software-RAID/"
   ]
  },
  {
   "cell_type": "markdown",
   "metadata": {},
   "source": [
    "#### RAID Pakete"
   ]
  },
  {
   "cell_type": "code",
   "execution_count": 87,
   "metadata": {
    "ExecuteTime": {
     "end_time": "2018-03-12T18:43:52.693338Z",
     "start_time": "2018-03-12T18:43:51.499873Z"
    }
   },
   "outputs": [
    {
     "name": "stdout",
     "output_type": "stream",
     "text": [
      "Paketlisten werden gelesen... Fertig\n",
      "Abhängigkeitsbaum wird aufgebaut.       \n",
      "Statusinformationen werden eingelesen.... Fertig\n",
      "Paketaktualisierung (Upgrade) wird berechnet... Fertig\n",
      "0 aktualisiert, 0 neu installiert, 0 zu entfernen und 0 nicht aktualisiert.\n",
      "Paketlisten werden gelesen... Fertig\n",
      "Abhängigkeitsbaum wird aufgebaut.       \n",
      "Statusinformationen werden eingelesen.... Fertig\n",
      "»smartmontools« ist bereits die neuste Version (6.4+svn4214-1).\n",
      "»mdadm« ist bereits die neuste Version (3.3-2ubuntu7.6).\n",
      "0 aktualisiert, 0 neu installiert, 0 zu entfernen und 0 nicht aktualisiert.\n"
     ]
    }
   ],
   "source": [
    "sudo apt upgrade\n",
    "sudo apt install --yes --no-install-recommends mdadm smartmontools"
   ]
  },
  {
   "cell_type": "markdown",
   "metadata": {},
   "source": [
    "#### Erste Überprüfung"
   ]
  },
  {
   "cell_type": "code",
   "execution_count": 88,
   "metadata": {
    "ExecuteTime": {
     "end_time": "2018-03-12T18:44:00.634539Z",
     "start_time": "2018-03-12T18:44:00.519637Z"
    }
   },
   "outputs": [
    {
     "name": "stdout",
     "output_type": "stream",
     "text": [
      "/proc/mdstat\n"
     ]
    }
   ],
   "source": [
    "ls /proc/mdstat"
   ]
  },
  {
   "cell_type": "markdown",
   "metadata": {},
   "source": [
    "Oben wird geprüft, ob der Multi Devices Driver im Kernel geladen ist."
   ]
  },
  {
   "cell_type": "code",
   "execution_count": 89,
   "metadata": {
    "ExecuteTime": {
     "end_time": "2018-03-12T18:44:01.998523Z",
     "start_time": "2018-03-12T18:44:01.838216Z"
    }
   },
   "outputs": [
    {
     "name": "stdout",
     "output_type": "stream",
     "text": [
      "Personalities : [raid0] [raid1] \n",
      "md0 : active raid1 sdc1[1] sdb1[0]\n",
      "      524151808 blocks super 1.2 [2/1] [U_]\n",
      "      [=========>...........]  recovery = 47.1% (247360384/524151808) finish=22.3min speed=206292K/sec\n",
      "      bitmap: 3/4 pages [12KB], 65536KB chunk\n",
      "\n",
      "unused devices: <none>\n"
     ]
    }
   ],
   "source": [
    "cat /proc/mdstat"
   ]
  },
  {
   "cell_type": "code",
   "execution_count": 90,
   "metadata": {
    "ExecuteTime": {
     "end_time": "2018-03-12T18:44:11.611348Z",
     "start_time": "2018-03-12T18:44:11.457588Z"
    }
   },
   "outputs": [
    {
     "name": "stdout",
     "output_type": "stream",
     "text": [
      "NAME                       MAJ:MIN RM   SIZE RO TYPE  MOUNTPOINT\n",
      "sda                          8:0    0   127G  0 disk  \n",
      "├─sda1                       8:1    0   487M  0 part  /boot\n",
      "├─sda2                       8:2    0     1K  0 part  \n",
      "└─sda5                       8:5    0 126,5G  0 part  \n",
      "  ├─rdf--dev--vg-root      252:0    0 125,6G  0 lvm   /\n",
      "  └─rdf--dev--vg-swap_1    252:1    0   980M  0 lvm   [SWAP]\n",
      "sdb                          8:16   0   500G  0 disk  \n",
      "└─sdb1                       8:17   0   500G  0 part  \n",
      "  └─md0                      9:0    0 499,9G  0 raid1 /striped\n",
      "sdc                          8:32   0   500G  0 disk  \n",
      "└─sdc1                       8:33   0   500G  0 part  \n",
      "  └─md0                      9:0    0 499,9G  0 raid1 /striped\n",
      "sdd                          8:48   0   500G  0 disk  \n",
      "└─sdd1                       8:49   0   500G  0 part  \n",
      "sde                          8:64   0  15,6G  0 disk  \n",
      "└─sde1                       8:65   0  15,6G  0 part  \n",
      "  └─persist--vg-persistent 252:2    0  15,6G  0 lvm   /var/persistent\n"
     ]
    }
   ],
   "source": [
    "lsblk"
   ]
  },
  {
   "cell_type": "markdown",
   "metadata": {},
   "source": [
    "#### HD einrichten"
   ]
  },
  {
   "cell_type": "code",
   "execution_count": 28,
   "metadata": {
    "ExecuteTime": {
     "end_time": "2018-03-12T15:40:27.771530Z",
     "start_time": "2018-03-12T15:40:27.012304Z"
    }
   },
   "outputs": [],
   "source": [
    "sudo parted --script /dev/sdb mklabel gpt\n",
    "sudo parted --script /dev/sdc mklabel gpt\n",
    "sudo parted --script /dev/sdd mklabel gpt"
   ]
  },
  {
   "cell_type": "code",
   "execution_count": 91,
   "metadata": {
    "ExecuteTime": {
     "end_time": "2018-03-12T18:46:27.032568Z",
     "start_time": "2018-03-12T18:46:25.149455Z"
    }
   },
   "outputs": [
    {
     "name": "stdout",
     "output_type": "stream",
     "text": [
      "Modell: ATA VBOX HARDDISK (scsi)\n",
      "Festplatte  /dev/sda:  136GB\n",
      "Sektorgröße (logisch/physisch): 512B/512B\n",
      "Partitionstabelle: msdos\n",
      "Disk-Flags: \n",
      "\n",
      "Nummer  Anfang  Ende   Größe  Typ       Dateisystem  Flags\n",
      " 1      1049kB  512MB  511MB  primary   ext2         boot\n",
      " 2      513MB   136GB  136GB  extended\n",
      " 5      513MB   136GB  136GB  logical                LVM\n",
      "\n",
      "\n",
      "Modell: ATA VBOX HARDDISK (scsi)\n",
      "Festplatte  /dev/sdb:  537GB\n",
      "Sektorgröße (logisch/physisch): 512B/512B\n",
      "Partitionstabelle: gpt\n",
      "Disk-Flags: \n",
      "\n",
      "Nummer  Anfang  Ende   Größe  Dateisystem  Name     Flags\n",
      " 1      1049kB  537GB  537GB               primary  RAID\n",
      "\n",
      "\n",
      "Modell: ATA VBOX HARDDISK (scsi)\n",
      "Festplatte  /dev/sdc:  537GB\n",
      "Sektorgröße (logisch/physisch): 512B/512B\n",
      "Partitionstabelle: gpt\n",
      "Disk-Flags: \n",
      "\n",
      "Nummer  Anfang  Ende   Größe  Dateisystem  Name     Flags\n",
      " 1      1049kB  537GB  537GB               primary  RAID\n",
      "\n",
      "\n",
      "Modell: ATA VBOX HARDDISK (scsi)\n",
      "Festplatte  /dev/sdd:  537GB\n",
      "Sektorgröße (logisch/physisch): 512B/512B\n",
      "Partitionstabelle: gpt\n",
      "Disk-Flags: \n",
      "\n",
      "Nummer  Anfang  Ende   Größe  Dateisystem  Name     Flags\n",
      " 1      1049kB  537GB  537GB               primary  RAID\n",
      "\n",
      "\n",
      "Modell: ATA VBOX HARDDISK (scsi)\n",
      "Festplatte  /dev/sde:  16,8GB\n",
      "Sektorgröße (logisch/physisch): 512B/512B\n",
      "Partitionstabelle: gpt\n",
      "Disk-Flags: \n",
      "\n",
      "Nummer  Anfang  Ende  Größe  Dateisystem  Name  Flags\n",
      "\n",
      "\n",
      "Modell: Linux device-mapper (linear) (dm)\n",
      "Festplatte  /dev/mapper/persist--vg-persistent:  16,8GB\n",
      "Sektorgröße (logisch/physisch): 512B/512B\n",
      "Partitionstabelle: loop\n",
      "Disk-Flags: \n",
      "\n",
      "Nummer  Anfang  Ende    Größe   Dateisystem  Flags\n",
      " 1      0,00B   16,8GB  16,8GB  ext4\n",
      "\n",
      "\n",
      "Modell: Linux device-mapper (linear) (dm)\n",
      "Festplatte  /dev/mapper/rdf--dev--vg-swap_1:  1028MB\n",
      "Sektorgröße (logisch/physisch): 512B/512B\n",
      "Partitionstabelle: loop\n",
      "Disk-Flags: \n",
      "\n",
      "Nummer  Anfang  Ende    Größe   Dateisystem     Flags\n",
      " 1      0,00B   1028MB  1028MB  linux-swap(v1)\n",
      "\n",
      "\n",
      "Modell: Linux device-mapper (linear) (dm)\n",
      "Festplatte  /dev/mapper/rdf--dev--vg-root:  135GB\n",
      "Sektorgröße (logisch/physisch): 512B/512B\n",
      "Partitionstabelle: loop\n",
      "Disk-Flags: \n",
      "\n",
      "Nummer  Anfang  Ende   Größe  Dateisystem  Flags\n",
      " 1      0,00B   135GB  135GB  ext4\n",
      "\n",
      "\n",
      "Modell: Linux Software-RAID-Verbund (md)\n",
      "Festplatte  /dev/md0:  537GB\n",
      "Sektorgröße (logisch/physisch): 512B/512B\n",
      "Partitionstabelle: loop\n",
      "Disk-Flags: \n",
      "\n",
      "Nummer  Anfang  Ende   Größe  Dateisystem  Flags\n",
      " 1      0,00B   537GB  537GB  ext4\n",
      "\n",
      "\n"
     ]
    }
   ],
   "source": [
    "sudo parted -l"
   ]
  },
  {
   "cell_type": "code",
   "execution_count": 30,
   "metadata": {
    "ExecuteTime": {
     "end_time": "2018-03-12T15:42:32.293863Z",
     "start_time": "2018-03-12T15:42:31.623670Z"
    }
   },
   "outputs": [
    {
     "name": "stdout",
     "output_type": "stream",
     "text": [
      "Informationen: Möglicherweise müssen Sie /etc/fstab anpassen.\n",
      "\n",
      "Informationen: Möglicherweise müssen Sie /etc/fstab anpassen.             \n",
      "\n",
      "Informationen: Möglicherweise müssen Sie /etc/fstab anpassen.             \n",
      "\n",
      "                                                                          \r"
     ]
    }
   ],
   "source": [
    "sudo parted -a optimal -- /dev/sdb mkpart primary 2048s -8192s  \n",
    "sudo parted -a optimal -- /dev/sdc mkpart primary 2048s -8192s\n",
    "sudo parted -a optimal -- /dev/sdd mkpart primary 2048s -8192s"
   ]
  },
  {
   "cell_type": "code",
   "execution_count": 31,
   "metadata": {
    "ExecuteTime": {
     "end_time": "2018-03-12T15:43:13.414835Z",
     "start_time": "2018-03-12T15:43:12.752131Z"
    }
   },
   "outputs": [
    {
     "name": "stdout",
     "output_type": "stream",
     "text": [
      "Informationen: Möglicherweise müssen Sie /etc/fstab anpassen.\n",
      "\n",
      "Informationen: Möglicherweise müssen Sie /etc/fstab anpassen.             \n",
      "\n",
      "Informationen: Möglicherweise müssen Sie /etc/fstab anpassen.             \n",
      "\n",
      "                                                                          \r"
     ]
    }
   ],
   "source": [
    "sudo parted /dev/sdb set 1 raid on \n",
    "sudo parted /dev/sdc set 1 raid on \n",
    "sudo parted /dev/sdd set 1 raid on "
   ]
  },
  {
   "cell_type": "code",
   "execution_count": 32,
   "metadata": {
    "ExecuteTime": {
     "end_time": "2018-03-12T15:43:35.165782Z",
     "start_time": "2018-03-12T15:43:35.040490Z"
    }
   },
   "outputs": [
    {
     "name": "stdout",
     "output_type": "stream",
     "text": [
      "NAME                       MAJ:MIN RM   SIZE RO TYPE MOUNTPOINT\n",
      "sda                          8:0    0   127G  0 disk \n",
      "├─sda1                       8:1    0   487M  0 part /boot\n",
      "├─sda2                       8:2    0     1K  0 part \n",
      "└─sda5                       8:5    0 126,5G  0 part \n",
      "  ├─rdf--dev--vg-root      252:0    0 125,6G  0 lvm  /\n",
      "  └─rdf--dev--vg-swap_1    252:1    0   980M  0 lvm  [SWAP]\n",
      "sdb                          8:16   0   500G  0 disk \n",
      "└─sdb1                       8:17   0   500G  0 part \n",
      "sdc                          8:32   0   500G  0 disk \n",
      "└─sdc1                       8:33   0   500G  0 part \n",
      "sdd                          8:48   0   500G  0 disk \n",
      "└─sdd1                       8:49   0   500G  0 part \n",
      "sde                          8:64   0  15,6G  0 disk \n",
      "└─sde1                       8:65   0  15,6G  0 part \n",
      "  └─persist--vg-persistent 252:2    0  15,6G  0 lvm  /var/persistent\n"
     ]
    }
   ],
   "source": [
    "lsblk"
   ]
  },
  {
   "cell_type": "code",
   "execution_count": 34,
   "metadata": {
    "ExecuteTime": {
     "end_time": "2018-03-12T15:44:21.127410Z",
     "start_time": "2018-03-12T15:44:20.658107Z"
    }
   },
   "outputs": [
    {
     "name": "stdout",
     "output_type": "stream",
     "text": [
      "Modell: ATA VBOX HARDDISK (scsi)\n",
      "Festplatte  /dev/sda:  136GB\n",
      "Sektorgröße (logisch/physisch): 512B/512B\n",
      "Partitionstabelle: msdos\n",
      "Disk-Flags: \n",
      "\n",
      "Nummer  Anfang  Ende   Größe  Typ       Dateisystem  Flags\n",
      " 1      1049kB  512MB  511MB  primary   ext2         boot\n",
      " 2      513MB   136GB  136GB  extended\n",
      " 5      513MB   136GB  136GB  logical                LVM\n",
      "\n",
      "\n",
      "Modell: ATA VBOX HARDDISK (scsi)\n",
      "Festplatte  /dev/sdb:  537GB\n",
      "Sektorgröße (logisch/physisch): 512B/512B\n",
      "Partitionstabelle: gpt\n",
      "Disk-Flags: \n",
      "\n",
      "Nummer  Anfang  Ende   Größe  Dateisystem  Name     Flags\n",
      " 1      1049kB  537GB  537GB               primary  RAID\n",
      "\n",
      "\n",
      "Modell: ATA VBOX HARDDISK (scsi)\n",
      "Festplatte  /dev/sdc:  537GB\n",
      "Sektorgröße (logisch/physisch): 512B/512B\n",
      "Partitionstabelle: gpt\n",
      "Disk-Flags: \n",
      "\n",
      "Nummer  Anfang  Ende   Größe  Dateisystem  Name     Flags\n",
      " 1      1049kB  537GB  537GB               primary  RAID\n",
      "\n",
      "\n",
      "Modell: ATA VBOX HARDDISK (scsi)\n",
      "Festplatte  /dev/sdd:  537GB\n",
      "Sektorgröße (logisch/physisch): 512B/512B\n",
      "Partitionstabelle: gpt\n",
      "Disk-Flags: \n",
      "\n",
      "Nummer  Anfang  Ende   Größe  Dateisystem  Name     Flags\n",
      " 1      1049kB  537GB  537GB               primary  RAID\n",
      "\n",
      "\n",
      "Modell: ATA VBOX HARDDISK (scsi)\n",
      "Festplatte  /dev/sde:  16,8GB\n",
      "Sektorgröße (logisch/physisch): 512B/512B\n",
      "Partitionstabelle: gpt\n",
      "Disk-Flags: \n",
      "\n",
      "Nummer  Anfang  Ende  Größe  Dateisystem  Name  Flags\n",
      "\n",
      "\n",
      "Modell: Linux device-mapper (linear) (dm)\n",
      "Festplatte  /dev/mapper/persist--vg-persistent:  16,8GB\n",
      "Sektorgröße (logisch/physisch): 512B/512B\n",
      "Partitionstabelle: loop\n",
      "Disk-Flags: \n",
      "\n",
      "Nummer  Anfang  Ende    Größe   Dateisystem  Flags\n",
      " 1      0,00B   16,8GB  16,8GB  ext4\n",
      "\n",
      "\n",
      "Modell: Linux device-mapper (linear) (dm)\n",
      "Festplatte  /dev/mapper/rdf--dev--vg-swap_1:  1028MB\n",
      "Sektorgröße (logisch/physisch): 512B/512B\n",
      "Partitionstabelle: loop\n",
      "Disk-Flags: \n",
      "\n",
      "Nummer  Anfang  Ende    Größe   Dateisystem     Flags\n",
      " 1      0,00B   1028MB  1028MB  linux-swap(v1)\n",
      "\n",
      "\n",
      "Modell: Linux device-mapper (linear) (dm)\n",
      "Festplatte  /dev/mapper/rdf--dev--vg-root:  135GB\n",
      "Sektorgröße (logisch/physisch): 512B/512B\n",
      "Partitionstabelle: loop\n",
      "Disk-Flags: \n",
      "\n",
      "Nummer  Anfang  Ende   Größe  Dateisystem  Flags\n",
      " 1      0,00B   135GB  135GB  ext4\n",
      "\n",
      "\n"
     ]
    }
   ],
   "source": [
    "sudo parted -l"
   ]
  },
  {
   "cell_type": "code",
   "execution_count": 35,
   "metadata": {
    "ExecuteTime": {
     "end_time": "2018-03-12T15:45:45.351838Z",
     "start_time": "2018-03-12T15:45:45.246152Z"
    }
   },
   "outputs": [
    {
     "name": "stdout",
     "output_type": "stream",
     "text": [
      "Personalities : \n",
      "unused devices: <none>\n"
     ]
    }
   ],
   "source": [
    "cat /proc/mdstat"
   ]
  },
  {
   "cell_type": "markdown",
   "metadata": {},
   "source": [
    "### RAID-0 anlegen"
   ]
  },
  {
   "cell_type": "code",
   "execution_count": 36,
   "metadata": {
    "ExecuteTime": {
     "end_time": "2018-03-12T15:46:57.695561Z",
     "start_time": "2018-03-12T15:46:57.445449Z"
    }
   },
   "outputs": [
    {
     "name": "stdout",
     "output_type": "stream",
     "text": [
      "mdadm: Defaulting to version 1.2 metadata\n",
      "mdadm: array /dev/md0 started.\n"
     ]
    }
   ],
   "source": [
    "sudo  mdadm --create /dev/md0 --level=0 --raid-devices=2 /dev/sdb1 /dev/sdc1"
   ]
  },
  {
   "cell_type": "code",
   "execution_count": 37,
   "metadata": {
    "ExecuteTime": {
     "end_time": "2018-03-12T15:47:09.118796Z",
     "start_time": "2018-03-12T15:47:08.915657Z"
    }
   },
   "outputs": [
    {
     "name": "stdout",
     "output_type": "stream",
     "text": [
      "Personalities : [raid0] \n",
      "md0 : active raid0 sdc1[1] sdb1[0]\n",
      "      1048303616 blocks super 1.2 512k chunks\n",
      "      \n",
      "unused devices: <none>\n"
     ]
    }
   ],
   "source": [
    "cat /proc/mdstat"
   ]
  },
  {
   "cell_type": "code",
   "execution_count": 38,
   "metadata": {
    "ExecuteTime": {
     "end_time": "2018-03-12T15:48:01.189960Z",
     "start_time": "2018-03-12T15:47:45.983745Z"
    }
   },
   "outputs": [
    {
     "name": "stdout",
     "output_type": "stream",
     "text": [
      "mke2fs 1.42.13 (17-May-2015)\n",
      "Ein Dateisystems mit 262075904 (4k) Blöcken und 65519616 Inodes wird erzeugt.\n",
      "UUID des Dateisystems: 55740729-3f55-4076-95da-9041caef664d\n",
      "Superblock-Sicherungskopien gespeichert in den Blöcken: \n",
      "\t32768, 98304, 163840, 229376, 294912, 819200, 884736, 1605632, 2654208, \n",
      "\t4096000, 7962624, 11239424, 20480000, 23887872, 71663616, 78675968, \n",
      "\t102400000, 214990848\n",
      "\n",
      "beim Anfordern von Speicher für die Gruppentabellen:    0/799        erledigt                        \n",
      "Inode-Tabellen werden geschrieben:    0/799        erledigt                        \n",
      "Das Journal (32768 Blöcke) wird angelegt: erledgt\n",
      "Die Superblöcke und die Informationen über die Dateisystemnutzung werden\n",
      "geschrieben:    0/799        erledigt\n",
      "\n"
     ]
    }
   ],
   "source": [
    "sudo mkfs.ext4 /dev/md0"
   ]
  },
  {
   "cell_type": "code",
   "execution_count": 39,
   "metadata": {
    "ExecuteTime": {
     "end_time": "2018-03-12T15:48:14.980642Z",
     "start_time": "2018-03-12T15:48:14.815699Z"
    }
   },
   "outputs": [],
   "source": [
    "sudo mkdir /striped"
   ]
  },
  {
   "cell_type": "code",
   "execution_count": 40,
   "metadata": {
    "ExecuteTime": {
     "end_time": "2018-03-12T15:48:38.435791Z",
     "start_time": "2018-03-12T15:48:38.170376Z"
    }
   },
   "outputs": [],
   "source": [
    "sudo mount /dev/md0 /striped/"
   ]
  },
  {
   "cell_type": "code",
   "execution_count": 43,
   "metadata": {
    "ExecuteTime": {
     "end_time": "2018-03-12T15:50:43.812413Z",
     "start_time": "2018-03-12T15:50:43.677915Z"
    }
   },
   "outputs": [
    {
     "name": "stdout",
     "output_type": "stream",
     "text": [
      "/dev/md0 /striped ext4 defaults 0 0\n"
     ]
    }
   ],
   "source": [
    "echo \"/dev/md0 /striped ext4 defaults 0 0\" | sudo tee -a /etc/fstab"
   ]
  },
  {
   "cell_type": "code",
   "execution_count": 44,
   "metadata": {
    "ExecuteTime": {
     "end_time": "2018-03-12T15:50:44.914965Z",
     "start_time": "2018-03-12T15:50:44.724490Z"
    }
   },
   "outputs": [
    {
     "name": "stdout",
     "output_type": "stream",
     "text": [
      "# /etc/fstab: static file system information.\n",
      "#\n",
      "# Use 'blkid' to print the universally unique identifier for a\n",
      "# device; this may be used with UUID= as a more robust way to name devices\n",
      "# that works even if disks are added and removed. See fstab(5).\n",
      "#\n",
      "# <file system> <mount point>   <type>  <options>       <dump>  <pass>\n",
      "/dev/mapper/rdf--dev--vg-root /               ext4    errors=remount-ro 0       1\n",
      "# /boot was on /dev/sda1 during installation\n",
      "UUID=63371645-d01a-4ca4-ba5e-2c1081123ffb /boot           ext2    defaults        0       2\n",
      "/dev/mapper/rdf--dev--vg-swap_1 none            swap    sw              0       0\n",
      "/dev/persist-vg/persistent /var/persistent ext4 defaults 0 0\n",
      "/var/persistent/var/cache/apt/archives /var/cache/apt/archives none bind 0 0\n",
      "/var/persistent/usr/local/src/ansible/data /usr/local/src/ansible/data none bind 0 0\n",
      "/dev/md0 /striped ext4 defaults 0 0\n"
     ]
    }
   ],
   "source": [
    "cat /etc/fstab"
   ]
  },
  {
   "cell_type": "code",
   "execution_count": 45,
   "metadata": {
    "ExecuteTime": {
     "end_time": "2018-03-12T15:50:55.268960Z",
     "start_time": "2018-03-12T15:50:55.138024Z"
    }
   },
   "outputs": [],
   "source": [
    "sudo mount -a"
   ]
  },
  {
   "cell_type": "markdown",
   "metadata": {},
   "source": [
    "Normalerweise müsste man noch die /etc/mdad"
   ]
  },
  {
   "cell_type": "markdown",
   "metadata": {},
   "source": [
    "### RAID-1\n",
    "\n",
    "Unser RAID-0 von oben entfernen und danach RAID-1 einrichten."
   ]
  },
  {
   "cell_type": "markdown",
   "metadata": {},
   "source": [
    "#### RAID löschen"
   ]
  },
  {
   "cell_type": "code",
   "execution_count": 46,
   "metadata": {
    "ExecuteTime": {
     "end_time": "2018-03-12T15:53:54.158440Z",
     "start_time": "2018-03-12T15:53:53.960057Z"
    }
   },
   "outputs": [],
   "source": [
    "sudo umount /striped"
   ]
  },
  {
   "cell_type": "code",
   "execution_count": 48,
   "metadata": {
    "ExecuteTime": {
     "end_time": "2018-03-12T15:54:45.101669Z",
     "start_time": "2018-03-12T15:54:44.928122Z"
    }
   },
   "outputs": [
    {
     "name": "stdout",
     "output_type": "stream",
     "text": [
      "mdadm: stopped /dev/md0\n"
     ]
    }
   ],
   "source": [
    "sudo mdadm --stop /dev/md0"
   ]
  },
  {
   "cell_type": "markdown",
   "metadata": {},
   "source": [
    "#### RAID-1 einrichten"
   ]
  },
  {
   "cell_type": "code",
   "execution_count": 53,
   "metadata": {
    "ExecuteTime": {
     "end_time": "2018-03-12T18:21:02.164216Z",
     "start_time": "2018-03-12T18:21:01.886031Z"
    }
   },
   "outputs": [
    {
     "name": "stdout",
     "output_type": "stream",
     "text": [
      "mdadm: /dev/sdb1 appears to be part of a raid array:\n",
      "       level=raid0 devices=2 ctime=Mon Mar 12 15:46:57 2018\n",
      "mdadm: Note: this array has metadata at the start and\n",
      "    may not be suitable as a boot device.  If you plan to\n",
      "    store '/boot' on this device please ensure that\n",
      "    your boot-loader understands md/v1.x metadata, or use\n",
      "    --metadata=0.90\n",
      "mdadm: /dev/sdc1 appears to be part of a raid array:\n",
      "       level=raid0 devices=2 ctime=Mon Mar 12 15:46:57 2018\n",
      "Continue creating array? mdadm: Defaulting to version 1.2 metadata\n",
      "mdadm: array /dev/md0 started.\n",
      "yes: Standardausgabe: Datenübergabe unterbrochen (broken pipe)\n"
     ]
    }
   ],
   "source": [
    "yes | sudo mdadm --create /dev/md0 --level=1 --force --raid-devices=2 /dev/sdb1 /dev/sdc1"
   ]
  },
  {
   "cell_type": "code",
   "execution_count": 55,
   "metadata": {
    "ExecuteTime": {
     "end_time": "2018-03-12T18:22:25.288722Z",
     "start_time": "2018-03-12T18:22:16.008166Z"
    }
   },
   "outputs": [
    {
     "name": "stdout",
     "output_type": "stream",
     "text": [
      "mke2fs 1.42.13 (17-May-2015)\n",
      "Ein Dateisystems mit 131037952 (4k) Blöcken und 32759808 Inodes wird erzeugt.\n",
      "UUID des Dateisystems: 8a4edf17-e058-4f52-a892-0b791c4bb714\n",
      "Superblock-Sicherungskopien gespeichert in den Blöcken: \n",
      "\t32768, 98304, 163840, 229376, 294912, 819200, 884736, 1605632, 2654208, \n",
      "\t4096000, 7962624, 11239424, 20480000, 23887872, 71663616, 78675968, \n",
      "\t102400000\n",
      "\n",
      "beim Anfordern von Speicher für die Gruppentabellen:    0/399        erledigt                        \n",
      "Inode-Tabellen werden geschrieben:    0/399        erledigt                        \n",
      "Das Journal (32768 Blöcke) wird angelegt: erledgt\n",
      "Die Superblöcke und die Informationen über die Dateisystemnutzung werden\n",
      "geschrieben:    0/399        erledigt\n",
      "\n",
      "yes: Standardausgabe: Datenübergabe unterbrochen (broken pipe)\n"
     ]
    }
   ],
   "source": [
    "yes | sudo mkfs.ext4 /dev/md0"
   ]
  },
  {
   "cell_type": "code",
   "execution_count": 56,
   "metadata": {
    "ExecuteTime": {
     "end_time": "2018-03-12T18:23:14.534344Z",
     "start_time": "2018-03-12T18:23:14.383945Z"
    }
   },
   "outputs": [
    {
     "name": "stdout",
     "output_type": "stream",
     "text": [
      "\n",
      "\n",
      "CREATE owner=root group=disk mode=0660 auto=yes\n",
      "\n",
      "HOMEHOST <system>\n",
      "\n",
      "MAILADDR root\n",
      "\n",
      "\n"
     ]
    }
   ],
   "source": [
    "grep -v ^# /etc/mdadm/mdadm.conf"
   ]
  },
  {
   "cell_type": "code",
   "execution_count": 60,
   "metadata": {
    "ExecuteTime": {
     "end_time": "2018-03-12T18:24:50.266977Z",
     "start_time": "2018-03-12T18:24:49.889332Z"
    }
   },
   "outputs": [
    {
     "name": "stdout",
     "output_type": "stream",
     "text": [
      "ARRAY /dev/md/0  metadata=1.2 UUID=04a918b3:494691df:57af98ce:1be56fc6 name=rdf-dev:0\n"
     ]
    }
   ],
   "source": [
    "sudo mdadm --examine --scan | sudo tee -a /etc/mdadm/mdadm.conf"
   ]
  },
  {
   "cell_type": "code",
   "execution_count": 61,
   "metadata": {
    "ExecuteTime": {
     "end_time": "2018-03-12T18:25:18.254382Z",
     "start_time": "2018-03-12T18:25:18.089887Z"
    }
   },
   "outputs": [],
   "source": [
    "sudo mount -a"
   ]
  },
  {
   "cell_type": "code",
   "execution_count": 62,
   "metadata": {
    "ExecuteTime": {
     "end_time": "2018-03-12T18:25:30.988758Z",
     "start_time": "2018-03-12T18:25:30.876265Z"
    }
   },
   "outputs": [
    {
     "name": "stdout",
     "output_type": "stream",
     "text": [
      "sysfs on /sys type sysfs (rw,nosuid,nodev,noexec,relatime)\n",
      "proc on /proc type proc (rw,nosuid,nodev,noexec,relatime)\n",
      "udev on /dev type devtmpfs (rw,nosuid,relatime,size=1004756k,nr_inodes=251189,mode=755)\n",
      "devpts on /dev/pts type devpts (rw,nosuid,noexec,relatime,gid=5,mode=620,ptmxmode=000)\n",
      "tmpfs on /run type tmpfs (rw,nosuid,noexec,relatime,size=204808k,mode=755)\n",
      "/dev/mapper/rdf--dev--vg-root on / type ext4 (rw,relatime,errors=remount-ro,data=ordered)\n",
      "securityfs on /sys/kernel/security type securityfs (rw,nosuid,nodev,noexec,relatime)\n",
      "tmpfs on /dev/shm type tmpfs (rw,nosuid,nodev)\n",
      "tmpfs on /run/lock type tmpfs (rw,nosuid,nodev,noexec,relatime,size=5120k)\n",
      "tmpfs on /sys/fs/cgroup type tmpfs (rw,mode=755)\n",
      "cgroup on /sys/fs/cgroup/systemd type cgroup (rw,nosuid,nodev,noexec,relatime,xattr,release_agent=/lib/systemd/systemd-cgroups-agent,name=systemd)\n",
      "pstore on /sys/fs/pstore type pstore (rw,nosuid,nodev,noexec,relatime)\n",
      "cgroup on /sys/fs/cgroup/blkio type cgroup (rw,nosuid,nodev,noexec,relatime,blkio)\n",
      "cgroup on /sys/fs/cgroup/cpu,cpuacct type cgroup (rw,nosuid,nodev,noexec,relatime,cpu,cpuacct)\n",
      "cgroup on /sys/fs/cgroup/devices type cgroup (rw,nosuid,nodev,noexec,relatime,devices)\n",
      "cgroup on /sys/fs/cgroup/memory type cgroup (rw,nosuid,nodev,noexec,relatime,memory)\n",
      "cgroup on /sys/fs/cgroup/pids type cgroup (rw,nosuid,nodev,noexec,relatime,pids,release_agent=/run/cgmanager/agents/cgm-release-agent.pids)\n",
      "cgroup on /sys/fs/cgroup/freezer type cgroup (rw,nosuid,nodev,noexec,relatime,freezer)\n",
      "cgroup on /sys/fs/cgroup/net_cls,net_prio type cgroup (rw,nosuid,nodev,noexec,relatime,net_cls,net_prio)\n",
      "cgroup on /sys/fs/cgroup/cpuset type cgroup (rw,nosuid,nodev,noexec,relatime,cpuset,clone_children)\n",
      "cgroup on /sys/fs/cgroup/hugetlb type cgroup (rw,nosuid,nodev,noexec,relatime,hugetlb,release_agent=/run/cgmanager/agents/cgm-release-agent.hugetlb)\n",
      "cgroup on /sys/fs/cgroup/perf_event type cgroup (rw,nosuid,nodev,noexec,relatime,perf_event,release_agent=/run/cgmanager/agents/cgm-release-agent.perf_event)\n",
      "systemd-1 on /proc/sys/fs/binfmt_misc type autofs (rw,relatime,fd=36,pgrp=1,timeout=0,minproto=5,maxproto=5,direct)\n",
      "hugetlbfs on /dev/hugepages type hugetlbfs (rw,relatime)\n",
      "debugfs on /sys/kernel/debug type debugfs (rw,relatime)\n",
      "mqueue on /dev/mqueue type mqueue (rw,relatime)\n",
      "sunrpc on /run/rpc_pipefs type rpc_pipefs (rw,relatime)\n",
      "nfsd on /proc/fs/nfsd type nfsd (rw,relatime)\n",
      "fusectl on /sys/fs/fuse/connections type fusectl (rw,relatime)\n",
      "/dev/sda1 on /boot type ext2 (rw,relatime,block_validity,barrier,user_xattr,acl)\n",
      "/dev/mapper/persist--vg-persistent on /var/persistent type ext4 (rw,relatime,data=ordered)\n",
      "/dev/mapper/persist--vg-persistent on /var/cache/apt/archives type ext4 (rw,relatime,data=ordered)\n",
      "/dev/mapper/persist--vg-persistent on /usr/local/src/ansible/data type ext4 (rw,relatime,data=ordered)\n",
      "binfmt_misc on /proc/sys/fs/binfmt_misc type binfmt_misc (rw,relatime)\n",
      "lxcfs on /var/lib/lxcfs type fuse.lxcfs (rw,nosuid,nodev,relatime,user_id=0,group_id=0,allow_other)\n",
      "cgmfs on /run/cgmanager/fs type tmpfs (rw,relatime,size=100k,mode=755)\n",
      "tmpfs on /run/user/900 type tmpfs (rw,nosuid,nodev,relatime,size=204808k,mode=700,uid=900,gid=900)\n",
      "/dev/mapper/rdf--dev--vg-root on /var/lib/docker/plugins type ext4 (rw,relatime,errors=remount-ro,data=ordered)\n",
      "vagrant on /vagrant type vboxsf (rw,nodev,relatime)\n",
      "/dev/md0 on /striped type ext4 (rw,relatime,data=ordered)\n"
     ]
    }
   ],
   "source": [
    "mount"
   ]
  },
  {
   "cell_type": "markdown",
   "metadata": {},
   "source": [
    "#### RAID-1 Verbund testen"
   ]
  },
  {
   "cell_type": "code",
   "execution_count": 63,
   "metadata": {
    "ExecuteTime": {
     "end_time": "2018-03-12T18:26:40.135058Z",
     "start_time": "2018-03-12T18:26:40.004733Z"
    }
   },
   "outputs": [
    {
     "name": "stdout",
     "output_type": "stream",
     "text": [
      "mdadm: set /dev/sdc1 faulty in /dev/md0\n"
     ]
    }
   ],
   "source": [
    "sudo mdadm /dev/md0 --fail /dev/sdc1"
   ]
  },
  {
   "cell_type": "code",
   "execution_count": 64,
   "metadata": {
    "ExecuteTime": {
     "end_time": "2018-03-12T18:27:07.487670Z",
     "start_time": "2018-03-12T18:27:07.379195Z"
    }
   },
   "outputs": [
    {
     "name": "stdout",
     "output_type": "stream",
     "text": [
      "Personalities : [raid0] [raid1] \n",
      "md0 : active raid1 sdc1[1](F) sdb1[0]\n",
      "      524151808 blocks super 1.2 [2/1] [U_]\n",
      "      bitmap: 4/4 pages [16KB], 65536KB chunk\n",
      "\n",
      "unused devices: <none>\n"
     ]
    }
   ],
   "source": [
    "cat /proc/mdstat"
   ]
  },
  {
   "cell_type": "code",
   "execution_count": 65,
   "metadata": {
    "ExecuteTime": {
     "end_time": "2018-03-12T18:28:23.680252Z",
     "start_time": "2018-03-12T18:28:23.456572Z"
    }
   },
   "outputs": [
    {
     "name": "stdout",
     "output_type": "stream",
     "text": [
      "mdadm: hot removed /dev/sdc1 from /dev/md0\n"
     ]
    }
   ],
   "source": [
    "sudo mdadm --remove /dev/md0 /dev/sdc1"
   ]
  },
  {
   "cell_type": "code",
   "execution_count": 67,
   "metadata": {
    "ExecuteTime": {
     "end_time": "2018-03-12T18:28:57.670787Z",
     "start_time": "2018-03-12T18:28:57.460791Z"
    }
   },
   "outputs": [
    {
     "name": "stdout",
     "output_type": "stream",
     "text": [
      "mdadm: re-added /dev/sdc1\n"
     ]
    }
   ],
   "source": [
    "sudo mdadm --add /dev/md0 /dev/sdc1"
   ]
  },
  {
   "cell_type": "code",
   "execution_count": 69,
   "metadata": {
    "ExecuteTime": {
     "end_time": "2018-03-12T18:29:19.815776Z",
     "start_time": "2018-03-12T18:29:19.696663Z"
    }
   },
   "outputs": [
    {
     "name": "stdout",
     "output_type": "stream",
     "text": [
      "Personalities : [raid0] [raid1] \n",
      "md0 : active raid1 sdc1[1] sdb1[0]\n",
      "      524151808 blocks super 1.2 [2/1] [U_]\n",
      "      [==>..................]  recovery = 13.6% (71510144/524151808) finish=37.6min speed=200058K/sec\n",
      "      bitmap: 4/4 pages [16KB], 65536KB chunk\n",
      "\n",
      "unused devices: <none>\n"
     ]
    }
   ],
   "source": [
    "cat /proc/mdstat"
   ]
  },
  {
   "cell_type": "code",
   "execution_count": 86,
   "metadata": {
    "ExecuteTime": {
     "end_time": "2018-03-12T18:38:04.443162Z",
     "start_time": "2018-03-12T18:38:04.226909Z"
    }
   },
   "outputs": [
    {
     "name": "stdout",
     "output_type": "stream",
     "text": [
      "/dev/md0:\n",
      "        Version : 1.2\n",
      "  Creation Time : Mon Mar 12 18:21:01 2018\n",
      "     Raid Level : raid1\n",
      "     Array Size : 524151808 (499.87 GiB 536.73 GB)\n",
      "  Used Dev Size : 524151808 (499.87 GiB 536.73 GB)\n",
      "   Raid Devices : 2\n",
      "  Total Devices : 2\n",
      "    Persistence : Superblock is persistent\n",
      "\n",
      "  Intent Bitmap : Internal\n",
      "\n",
      "    Update Time : Mon Mar 12 18:38:01 2018\n",
      "          State : clean, degraded, recovering \n",
      " Active Devices : 1\n",
      "Working Devices : 2\n",
      " Failed Devices : 0\n",
      "  Spare Devices : 1\n",
      "\n",
      " Rebuild Status : 33% complete\n",
      "\n",
      "           Name : rdf-dev:0  (local to host rdf-dev)\n",
      "           UUID : 04a918b3:494691df:57af98ce:1be56fc6\n",
      "         Events : 178\n",
      "\n",
      "    Number   Major   Minor   RaidDevice State\n",
      "       0       8       17        0      active sync   /dev/sdb1\n",
      "       1       8       33        1      spare rebuilding   /dev/sdc1\n"
     ]
    }
   ],
   "source": [
    "sudo mdadm --detail /dev/md0"
   ]
  },
  {
   "cell_type": "markdown",
   "metadata": {},
   "source": [
    "#### Defekte RAID-1-HD austauschen\n",
    "\n",
    "Wichtig ist es die richtige (Seriennummer) HD austauschen!\n",
    "\n",
    "Das Kommandos `mdadm --remove` wurde schon oben verwendet."
   ]
  },
  {
   "cell_type": "code",
   "execution_count": 77,
   "metadata": {
    "ExecuteTime": {
     "end_time": "2018-03-12T18:33:12.210301Z",
     "start_time": "2018-03-12T18:33:12.080336Z"
    }
   },
   "outputs": [
    {
     "name": "stdout",
     "output_type": "stream",
     "text": [
      "\n",
      "/dev/sdc:\n",
      "\n",
      " Model=VBOX HARDDISK, FwRev=1.0, SerialNo=VB3e4e33ee-e0dbf0f9\n",
      " Config={ Fixed }\n",
      " RawCHS=16383/16/63, TrkSize=0, SectSize=512, ECCbytes=0\n",
      " BuffType=DualPortCache, BuffSize=256kB, MaxMultSect=128, MultSect=128\n",
      " CurCHS=16383/16/63, CurSects=16514064, LBA=yes, LBAsects=1048576000\n",
      " IORDY=yes, tPIO={min:120,w/IORDY:120}, tDMA={min:120,rec:120}\n",
      " PIO modes:  pio0 pio3 pio4 \n",
      " DMA modes:  mdma0 mdma1 mdma2 \n",
      " UDMA modes: udma0 udma1 udma2 udma3 udma4 udma5 *udma6 \n",
      " AdvancedPM=no WriteCache=enabled\n",
      " Drive conforms to: unknown:  ATA/ATAPI-1,2,3,4,5,6\n",
      "\n",
      " * signifies the current active mode\n",
      "\n"
     ]
    }
   ],
   "source": [
    "sudo hdparm -i /dev/sdc"
   ]
  },
  {
   "cell_type": "code",
   "execution_count": 79,
   "metadata": {
    "ExecuteTime": {
     "end_time": "2018-03-12T18:33:47.581784Z",
     "start_time": "2018-03-12T18:33:47.407428Z"
    }
   },
   "outputs": [
    {
     "name": "stdout",
     "output_type": "stream",
     "text": [
      "smartctl 6.5 2016-01-24 r4214 [x86_64-linux-4.4.0-116-generic] (local build)\n",
      "Copyright (C) 2002-16, Bruce Allen, Christian Franke, www.smartmontools.org\n",
      "\n",
      "=== START OF INFORMATION SECTION ===\n",
      "Device Model:     VBOX HARDDISK\n",
      "Serial Number:    VB3e4e33ee-e0dbf0f9\n",
      "Firmware Version: 1.0\n",
      "User Capacity:    536.870.912.000 bytes [536 GB]\n",
      "Sector Size:      512 bytes logical/physical\n",
      "Device is:        Not in smartctl database [for details use: -P showall]\n",
      "ATA Version is:   ATA/ATAPI-6 published, ANSI INCITS 361-2002\n",
      "Local Time is:    Mon Mar 12 18:33:47 2018 UTC\n",
      "SMART support is: Unavailable - device lacks SMART capability.\n",
      "\n"
     ]
    }
   ],
   "source": [
    "sudo smartctl -i /dev/sdc"
   ]
  },
  {
   "cell_type": "markdown",
   "metadata": {},
   "source": [
    "### Partitionen analysieren"
   ]
  },
  {
   "cell_type": "code",
   "execution_count": 83,
   "metadata": {
    "ExecuteTime": {
     "end_time": "2018-03-12T18:36:21.115138Z",
     "start_time": "2018-03-12T18:36:20.988804Z"
    }
   },
   "outputs": [
    {
     "name": "stdout",
     "output_type": "stream",
     "text": [
      "/dev/sdc1: is not an md array\n",
      "/dev/sdc1: device 1 in 2 device active raid1 /dev/md0.  Use mdadm --examine for more detail.\n"
     ]
    }
   ],
   "source": [
    "sudo mdadm --query /dev/sdc1"
   ]
  },
  {
   "cell_type": "code",
   "execution_count": 82,
   "metadata": {
    "ExecuteTime": {
     "end_time": "2018-03-12T18:37:02.990731Z",
     "start_time": "2018-03-12T18:37:02.769196Z"
    }
   },
   "outputs": [
    {
     "name": "stdout",
     "output_type": "stream",
     "text": [
      "/dev/md0: 499.87GiB raid1 2 devices, 1 spare. Use mdadm --detail for more detail.\n"
     ]
    }
   ],
   "source": [
    "sudo mdadm --query /dev/md0"
   ]
  },
  {
   "cell_type": "code",
   "execution_count": 84,
   "metadata": {
    "ExecuteTime": {
     "end_time": "2018-03-12T18:37:02.990731Z",
     "start_time": "2018-03-12T18:37:02.769196Z"
    }
   },
   "outputs": [
    {
     "name": "stdout",
     "output_type": "stream",
     "text": [
      "/dev/sdc1:\n",
      "          Magic : a92b4efc\n",
      "        Version : 1.2\n",
      "    Feature Map : 0x83\n",
      "     Array UUID : 04a918b3:494691df:57af98ce:1be56fc6\n",
      "           Name : rdf-dev:0  (local to host rdf-dev)\n",
      "  Creation Time : Mon Mar 12 18:21:01 2018\n",
      "     Raid Level : raid1\n",
      "   Raid Devices : 2\n",
      "\n",
      " Avail Dev Size : 1048303617 (499.87 GiB 536.73 GB)\n",
      "     Array Size : 524151808 (499.87 GiB 536.73 GB)\n",
      "  Used Dev Size : 1048303616 (499.87 GiB 536.73 GB)\n",
      "    Data Offset : 262144 sectors\n",
      "   Super Offset : 8 sectors\n",
      "Recovery Offset : 319155968 sectors\n",
      "          State : clean\n",
      "    Device UUID : 57a9620c:6556c2bb:193cf990:7555adc7\n",
      "\n",
      "Internal Bitmap : 8 sectors from superblock\n",
      "    Update Time : Mon Mar 12 18:36:41 2018\n",
      "  Bad Block Log : 512 entries available at offset 72 sectors\n",
      "       Checksum : 9e9f5c9d - correct\n",
      "         Events : 163\n",
      "\n",
      "\n",
      "   Device Role : Active device 1\n",
      "   Array State : AA ('A' == active, '.' == missing, 'R' == replacing)\n"
     ]
    }
   ],
   "source": [
    "sudo mdadm --examine /dev/sdc1"
   ]
  },
  {
   "cell_type": "code",
   "execution_count": 85,
   "metadata": {
    "ExecuteTime": {
     "end_time": "2018-03-12T18:37:02.990731Z",
     "start_time": "2018-03-12T18:37:02.769196Z"
    }
   },
   "outputs": [
    {
     "name": "stdout",
     "output_type": "stream",
     "text": [
      "/dev/md0:\n",
      "        Version : 1.2\n",
      "  Creation Time : Mon Mar 12 18:21:01 2018\n",
      "     Raid Level : raid1\n",
      "     Array Size : 524151808 (499.87 GiB 536.73 GB)\n",
      "  Used Dev Size : 524151808 (499.87 GiB 536.73 GB)\n",
      "   Raid Devices : 2\n",
      "  Total Devices : 2\n",
      "    Persistence : Superblock is persistent\n",
      "\n",
      "  Intent Bitmap : Internal\n",
      "\n",
      "    Update Time : Mon Mar 12 18:37:01 2018\n",
      "          State : clean, degraded, recovering \n",
      " Active Devices : 1\n",
      "Working Devices : 2\n",
      " Failed Devices : 0\n",
      "  Spare Devices : 1\n",
      "\n",
      " Rebuild Status : 31% complete\n",
      "\n",
      "           Name : rdf-dev:0  (local to host rdf-dev)\n",
      "           UUID : 04a918b3:494691df:57af98ce:1be56fc6\n",
      "         Events : 167\n",
      "\n",
      "    Number   Major   Minor   RaidDevice State\n",
      "       0       8       17        0      active sync   /dev/sdb1\n",
      "       1       8       33        1      spare rebuilding   /dev/sdc1\n"
     ]
    }
   ],
   "source": [
    "sudo mdadm --detail /dev/md0"
   ]
  },
  {
   "cell_type": "markdown",
   "metadata": {},
   "source": [
    "### RAID Verbund deaktiveren"
   ]
  },
  {
   "cell_type": "code",
   "execution_count": 92,
   "metadata": {
    "ExecuteTime": {
     "end_time": "2018-03-12T19:37:49.696954Z",
     "start_time": "2018-03-12T19:37:49.505948Z"
    }
   },
   "outputs": [],
   "source": [
    "sudo umount /striped"
   ]
  },
  {
   "cell_type": "code",
   "execution_count": 93,
   "metadata": {
    "ExecuteTime": {
     "end_time": "2018-03-12T19:38:09.789042Z",
     "start_time": "2018-03-12T19:38:09.577490Z"
    }
   },
   "outputs": [
    {
     "name": "stdout",
     "output_type": "stream",
     "text": [
      "mdadm: stopped /dev/md0\n"
     ]
    }
   ],
   "source": [
    "sudo mdadm --stop /dev/md0"
   ]
  },
  {
   "cell_type": "markdown",
   "metadata": {},
   "source": [
    "### RAID Verbund aktivieren"
   ]
  },
  {
   "cell_type": "code",
   "execution_count": 94,
   "metadata": {
    "ExecuteTime": {
     "end_time": "2018-03-12T19:39:19.837224Z",
     "start_time": "2018-03-12T19:39:19.554820Z"
    }
   },
   "outputs": [
    {
     "name": "stdout",
     "output_type": "stream",
     "text": [
      "mdadm: /dev/md0 has been started with 2 drives.\n"
     ]
    }
   ],
   "source": [
    "sudo mdadm --assemble /dev/md0 /dev/sdb1 /dev/sdc1"
   ]
  },
  {
   "cell_type": "code",
   "execution_count": 95,
   "metadata": {
    "ExecuteTime": {
     "end_time": "2018-03-12T19:41:36.874705Z",
     "start_time": "2018-03-12T19:41:36.722371Z"
    }
   },
   "outputs": [
    {
     "name": "stdout",
     "output_type": "stream",
     "text": [
      "tail: '/sys/block/md0/sync_action' kann nicht zum Lesen geöffnet werden: Datei oder Verzeichnis nicht gefunden\n"
     ]
    },
    {
     "ename": "",
     "evalue": "1",
     "output_type": "error",
     "traceback": []
    }
   ],
   "source": [
    "echo check | sudo tail /sys/block/md0/sync_action"
   ]
  },
  {
   "cell_type": "markdown",
   "metadata": {},
   "source": [
    "### RAID-Metadaten löschen"
   ]
  },
  {
   "cell_type": "code",
   "execution_count": 97,
   "metadata": {
    "ExecuteTime": {
     "end_time": "2018-03-12T19:44:13.262881Z",
     "start_time": "2018-03-12T19:44:12.932555Z"
    }
   },
   "outputs": [
    {
     "name": "stdout",
     "output_type": "stream",
     "text": [
      "mdadm: stopped /dev/md0\n"
     ]
    }
   ],
   "source": [
    "sudo umount /striped\n",
    "sudo mdadm --stop /dev/md0"
   ]
  },
  {
   "cell_type": "code",
   "execution_count": 98,
   "metadata": {
    "ExecuteTime": {
     "end_time": "2018-03-12T19:45:26.371552Z",
     "start_time": "2018-03-12T19:45:26.099696Z"
    }
   },
   "outputs": [],
   "source": [
    "sudo mdadm --zero-superblock /dev/sdb1\n",
    "sudo mdadm --zero-superblock /dev/sdc1"
   ]
  },
  {
   "cell_type": "markdown",
   "metadata": {},
   "source": [
    "### Aufräumen RAID"
   ]
  },
  {
   "cell_type": "code",
   "execution_count": 99,
   "metadata": {
    "ExecuteTime": {
     "end_time": "2018-03-12T19:46:31.065690Z",
     "start_time": "2018-03-12T19:46:29.894128Z"
    }
   },
   "outputs": [
    {
     "name": "stdout",
     "output_type": "stream",
     "text": [
      "Modell: ATA VBOX HARDDISK (scsi)\n",
      "Festplatte  /dev/sda:  136GB\n",
      "Sektorgröße (logisch/physisch): 512B/512B\n",
      "Partitionstabelle: msdos\n",
      "Disk-Flags: \n",
      "\n",
      "Nummer  Anfang  Ende   Größe  Typ       Dateisystem  Flags\n",
      " 1      1049kB  512MB  511MB  primary   ext2         boot\n",
      " 2      513MB   136GB  136GB  extended\n",
      " 5      513MB   136GB  136GB  logical                LVM\n",
      "\n",
      "\n",
      "Modell: ATA VBOX HARDDISK (scsi)\n",
      "Festplatte  /dev/sdb:  537GB\n",
      "Sektorgröße (logisch/physisch): 512B/512B\n",
      "Partitionstabelle: gpt\n",
      "Disk-Flags: \n",
      "\n",
      "Nummer  Anfang  Ende   Größe  Dateisystem  Name     Flags\n",
      " 1      1049kB  537GB  537GB               primary  RAID\n",
      "\n",
      "\n",
      "Modell: ATA VBOX HARDDISK (scsi)\n",
      "Festplatte  /dev/sdc:  537GB\n",
      "Sektorgröße (logisch/physisch): 512B/512B\n",
      "Partitionstabelle: gpt\n",
      "Disk-Flags: \n",
      "\n",
      "Nummer  Anfang  Ende   Größe  Dateisystem  Name     Flags\n",
      " 1      1049kB  537GB  537GB               primary  RAID\n",
      "\n",
      "\n",
      "Modell: ATA VBOX HARDDISK (scsi)\n",
      "Festplatte  /dev/sdd:  537GB\n",
      "Sektorgröße (logisch/physisch): 512B/512B\n",
      "Partitionstabelle: gpt\n",
      "Disk-Flags: \n",
      "\n",
      "Nummer  Anfang  Ende   Größe  Dateisystem  Name     Flags\n",
      " 1      1049kB  537GB  537GB               primary  RAID\n",
      "\n",
      "\n",
      "Modell: ATA VBOX HARDDISK (scsi)\n",
      "Festplatte  /dev/sde:  16,8GB\n",
      "Sektorgröße (logisch/physisch): 512B/512B\n",
      "Partitionstabelle: gpt\n",
      "Disk-Flags: \n",
      "\n",
      "Nummer  Anfang  Ende  Größe  Dateisystem  Name  Flags\n",
      "\n",
      "\n",
      "Modell: Linux device-mapper (linear) (dm)\n",
      "Festplatte  /dev/mapper/persist--vg-persistent:  16,8GB\n",
      "Sektorgröße (logisch/physisch): 512B/512B\n",
      "Partitionstabelle: loop\n",
      "Disk-Flags: \n",
      "\n",
      "Nummer  Anfang  Ende    Größe   Dateisystem  Flags\n",
      " 1      0,00B   16,8GB  16,8GB  ext4\n",
      "\n",
      "\n",
      "Modell: Linux device-mapper (linear) (dm)\n",
      "Festplatte  /dev/mapper/rdf--dev--vg-swap_1:  1028MB\n",
      "Sektorgröße (logisch/physisch): 512B/512B\n",
      "Partitionstabelle: loop\n",
      "Disk-Flags: \n",
      "\n",
      "Nummer  Anfang  Ende    Größe   Dateisystem     Flags\n",
      " 1      0,00B   1028MB  1028MB  linux-swap(v1)\n",
      "\n",
      "\n",
      "Modell: Linux device-mapper (linear) (dm)\n",
      "Festplatte  /dev/mapper/rdf--dev--vg-root:  135GB\n",
      "Sektorgröße (logisch/physisch): 512B/512B\n",
      "Partitionstabelle: loop\n",
      "Disk-Flags: \n",
      "\n",
      "Nummer  Anfang  Ende   Größe  Dateisystem  Flags\n",
      " 1      0,00B   135GB  135GB  ext4\n",
      "\n",
      "\n"
     ]
    }
   ],
   "source": [
    "sudo parted -l"
   ]
  },
  {
   "cell_type": "code",
   "execution_count": 103,
   "metadata": {
    "ExecuteTime": {
     "end_time": "2018-03-12T19:49:50.555298Z",
     "start_time": "2018-03-12T19:49:50.030234Z"
    }
   },
   "outputs": [
    {
     "name": "stdout",
     "output_type": "stream",
     "text": [
      "Fehler: Die Partition existiert nicht.\n",
      "Fehler: Die Partition existiert nicht.                                    \n",
      "Informationen: Möglicherweise müssen Sie /etc/fstab anpassen.             \n",
      "\n",
      "                                                                          \r"
     ]
    }
   ],
   "source": [
    "sudo parted /dev/sdb rm 1\n",
    "sudo parted /dev/sdc rm 1\n",
    "sudo parted /dev/sdd rm 1"
   ]
  },
  {
   "cell_type": "code",
   "execution_count": 104,
   "metadata": {
    "ExecuteTime": {
     "end_time": "2018-03-12T19:50:59.395923Z",
     "start_time": "2018-03-12T19:50:58.735487Z"
    }
   },
   "outputs": [
    {
     "name": "stdout",
     "output_type": "stream",
     "text": [
      "Modell: ATA VBOX HARDDISK (scsi)\n",
      "Festplatte  /dev/sda:  136GB\n",
      "Sektorgröße (logisch/physisch): 512B/512B\n",
      "Partitionstabelle: msdos\n",
      "Disk-Flags: \n",
      "\n",
      "Nummer  Anfang  Ende   Größe  Typ       Dateisystem  Flags\n",
      " 1      1049kB  512MB  511MB  primary   ext2         boot\n",
      " 2      513MB   136GB  136GB  extended\n",
      " 5      513MB   136GB  136GB  logical                LVM\n",
      "\n",
      "\n",
      "Modell: ATA VBOX HARDDISK (scsi)\n",
      "Festplatte  /dev/sdb:  537GB\n",
      "Sektorgröße (logisch/physisch): 512B/512B\n",
      "Partitionstabelle: gpt\n",
      "Disk-Flags: \n",
      "\n",
      "Nummer  Anfang  Ende  Größe  Dateisystem  Name  Flags\n",
      "\n",
      "\n",
      "Modell: ATA VBOX HARDDISK (scsi)\n",
      "Festplatte  /dev/sdc:  537GB\n",
      "Sektorgröße (logisch/physisch): 512B/512B\n",
      "Partitionstabelle: gpt\n",
      "Disk-Flags: \n",
      "\n",
      "Nummer  Anfang  Ende  Größe  Dateisystem  Name  Flags\n",
      "\n",
      "\n",
      "Modell: ATA VBOX HARDDISK (scsi)\n",
      "Festplatte  /dev/sdd:  537GB\n",
      "Sektorgröße (logisch/physisch): 512B/512B\n",
      "Partitionstabelle: gpt\n",
      "Disk-Flags: \n",
      "\n",
      "Nummer  Anfang  Ende  Größe  Dateisystem  Name  Flags\n",
      "\n",
      "\n",
      "Modell: ATA VBOX HARDDISK (scsi)\n",
      "Festplatte  /dev/sde:  16,8GB\n",
      "Sektorgröße (logisch/physisch): 512B/512B\n",
      "Partitionstabelle: gpt\n",
      "Disk-Flags: \n",
      "\n",
      "Nummer  Anfang  Ende  Größe  Dateisystem  Name  Flags\n",
      "\n",
      "\n",
      "Modell: Linux device-mapper (linear) (dm)\n",
      "Festplatte  /dev/mapper/persist--vg-persistent:  16,8GB\n",
      "Sektorgröße (logisch/physisch): 512B/512B\n",
      "Partitionstabelle: loop\n",
      "Disk-Flags: \n",
      "\n",
      "Nummer  Anfang  Ende    Größe   Dateisystem  Flags\n",
      " 1      0,00B   16,8GB  16,8GB  ext4\n",
      "\n",
      "\n",
      "Modell: Linux device-mapper (linear) (dm)\n",
      "Festplatte  /dev/mapper/rdf--dev--vg-swap_1:  1028MB\n",
      "Sektorgröße (logisch/physisch): 512B/512B\n",
      "Partitionstabelle: loop\n",
      "Disk-Flags: \n",
      "\n",
      "Nummer  Anfang  Ende    Größe   Dateisystem     Flags\n",
      " 1      0,00B   1028MB  1028MB  linux-swap(v1)\n",
      "\n",
      "\n",
      "Modell: Linux device-mapper (linear) (dm)\n",
      "Festplatte  /dev/mapper/rdf--dev--vg-root:  135GB\n",
      "Sektorgröße (logisch/physisch): 512B/512B\n",
      "Partitionstabelle: loop\n",
      "Disk-Flags: \n",
      "\n",
      "Nummer  Anfang  Ende   Größe  Dateisystem  Flags\n",
      " 1      0,00B   135GB  135GB  ext4\n",
      "\n",
      "\n"
     ]
    }
   ],
   "source": [
    "sudo parted -l"
   ]
  },
  {
   "cell_type": "markdown",
   "metadata": {},
   "source": [
    "### LVM\n",
    "\n",
    "> Der Logical Volume Manager (LVM) ist ein hauptsächlich im Unix- und Linux-Umfeld verbreitetes Partitionsschema, das eine Abstraktionsebene zwischen Festplatten, Partitionen und Dateisystemen bietet. Durch den LVM ist es möglich, dynamisch veränderbare Partitionen (Logical Volumes, kurz LV) zu bilden, die sich auch über mehrere Festplatten hinweg erstrecken können. Die Größe dieser virtuellen Datenträger lässt sich auch nach dem Anlegen eines Dateisystems noch ändern, selbst wenn schon Daten darin gespeichert wurden. \n",
    "\n",
    "Vorteile:\n",
    "\n",
    "* Anlegen, vergrößern und verkleinern im laufenden Betrieb.\n",
    "* Mehrere HD können als riesige virtuelle Partition zusammengefasst werden.\n",
    "* __Snapshot__ für Backups\n",
    "* Ist sehr schnell\n",
    "* Kann mit RAID kombiniert werden. Außnahme RAID-0, diese wird von LVM direkt unterstützt.\n",
    "\n",
    "![LVM](https://upload.wikimedia.org/wikipedia/commons/thumb/e/e6/Lvm.svg/620px-Lvm.svg.png)\n",
    "Von Emanuel DussDiese Vektorgrafik wurde mit Inkscape erstellt und von Perhelion dann manuell nachbearbeitet. - Eigenes Werk, CC BY-SA 3.0 de, https://commons.wikimedia.org/w/index.php?curid=11624545\n",
    "\n",
    "> Der LVM fasst _Festplatten_ beziehungsweise _Partitionen_ (Physical Volume, __PV__) zu einem _Pool_ (Volume Group, __VG__) zusammen, aus dem dynamisch _LV-„Partitionen“_ (die Logical Volumes, __LV__) angefordert werden können. Auf diesen Logical Volumes werden die Dateisysteme angelegt."
   ]
  },
  {
   "cell_type": "markdown",
   "metadata": {},
   "source": [
    "### Arbeiten mit LVM\n",
    "\n",
    "| Kommando  | \tFunktion |\n",
    "|-----------|------------|\n",
    "| lvcreate  | \trichtet ein neues LV in einer VG ein. |\n",
    "| lvdisplay  | \tliefert Detailinformationen zu einem LV. |\n",
    "| lvextend  | \tvergrößert ein LV. |\n",
    "| lvreduce  | \tverkleinert ein LV. |\n",
    "| lvremove  | \tlöscht ein LV. |\n",
    "| lvrename  | \tgibt dem LV einen neuen Namen. |\n",
    "| lvscan  | \tlistet alle LVs auf. |\n",
    "| pvcreate  | \tkennzeichnet eine Partition oder ein Device als PV. |\n",
    "| pvdisplay  | \tliefert Detailinformationen zu einem PV. |\n",
    "| pvremove  | \tentfernt die PV-Kennzeichnung eines ungenutzten PVs. |\n",
    "| pvscan  | \tlistet alle PVs auf. |\n",
    "| vgchange  | \tändert die Attribute einer VG. |\n",
    "| vgcreate  | \terzeugt eine neue VG aus einem oder mehreren PVs. |\n",
    "| vgdisplay  | \tliefert Detailinformationen zu einer VG. |\n",
    "| vgextend  | \tvergrößert eine VG um ein PV. |\n",
    "| vgmerge  | \tvereint zwei VGs. |\n",
    "| vgreduce  | \tverkleinert eine VG um ein ungenutztes PV. |\n",
    "| vgrename  | \tgibt einer VG einen neuen Namen. |\n",
    "| vgscan  | \tlistet alle VGs auf. |\n"
   ]
  },
  {
   "cell_type": "code",
   "execution_count": null,
   "metadata": {
    "ExecuteTime": {
     "end_time": "2018-03-10T20:38:53.095765Z",
     "start_time": "2018-03-10T20:38:52.968650Z"
    }
   },
   "outputs": [],
   "source": [
    "sudo lvscan"
   ]
  },
  {
   "cell_type": "code",
   "execution_count": null,
   "metadata": {
    "ExecuteTime": {
     "end_time": "2018-03-10T20:38:15.607190Z",
     "start_time": "2018-03-10T20:38:15.419516Z"
    }
   },
   "outputs": [],
   "source": [
    "sudo lvdisplay"
   ]
  },
  {
   "cell_type": "code",
   "execution_count": null,
   "metadata": {
    "ExecuteTime": {
     "end_time": "2018-03-10T20:39:23.028621Z",
     "start_time": "2018-03-10T20:39:22.792457Z"
    }
   },
   "outputs": [],
   "source": [
    "sudo pvscan"
   ]
  },
  {
   "cell_type": "code",
   "execution_count": null,
   "metadata": {
    "ExecuteTime": {
     "end_time": "2018-03-10T20:39:53.472930Z",
     "start_time": "2018-03-10T20:39:53.199902Z"
    }
   },
   "outputs": [],
   "source": [
    "sudo pvdisplay"
   ]
  },
  {
   "cell_type": "code",
   "execution_count": null,
   "metadata": {
    "ExecuteTime": {
     "end_time": "2018-03-10T20:40:27.999263Z",
     "start_time": "2018-03-10T20:40:27.861257Z"
    }
   },
   "outputs": [],
   "source": [
    "sudo vgscan"
   ]
  },
  {
   "cell_type": "code",
   "execution_count": null,
   "metadata": {
    "ExecuteTime": {
     "end_time": "2018-03-10T20:40:48.045511Z",
     "start_time": "2018-03-10T20:40:47.908273Z"
    }
   },
   "outputs": [],
   "source": [
    "sudo vgdisplay"
   ]
  },
  {
   "cell_type": "markdown",
   "metadata": {},
   "source": [
    "## Dateisysteme\n",
    "\n",
    "https://wiki.ubuntuusers.de/Dateisystem/\n",
    "\n",
    "> Dateisysteme sind die Schnittstellen zwischen dem Betriebssystem und den Partitionen auf Datenträgern. Sie organisieren die geordnete Ablage von Daten.\n",
    "\n"
   ]
  },
  {
   "cell_type": "markdown",
   "metadata": {},
   "source": [
    "## Was macht ein Dateisystem?\n",
    "\n",
    "> Neben der Datenorganisation auf dem Datenträger kann ein Dateisystem noch zusätzliche Möglichkeiten zur Verfügung stellen (Beispiele):  \n",
    "\n",
    "> * Verzeichnisse und Unterverzeichnisse anlegen\n",
    "* Datumsinformationen speichern (Erstellungsdatum, letzte Änderung, Zugriff)\n",
    "* Lange Dateinamen verwenden\n",
    "* Groß- und Kleinschreibung für Dateinamen berücksichtigen\n",
    "* Sonderzeichen für Dateinamen ermöglichen (z.B.: Leerzeichen)\n",
    "* Rechteverwaltung zur Zugriffssteuerung auf Dateien/Verzeichnisse\n",
    "* Journaling-Funktionen\n",
    "* ..."
   ]
  },
  {
   "cell_type": "markdown",
   "metadata": {},
   "source": [
    "## Dateisystem und Formatierung\n",
    "\n",
    "> Ein Dateisystem wird einer Partition durch Formatierung zugewiesen, „man formatiert mit einem Dateisystem“. Hierbei werden auf einer Partition bestimmte Stellen für die Verwaltung reserviert und mit vordefinierten Werten überschrieben (was zu Datenverlust führt). Außerdem wird eine Inhaltstabelle angelegt und die ersten Werte (für die reservierten Stellen) eingetragen. \n",
    "\n",
    "> Die Formatierung kann entweder mit grafischen Programmen wie GParted durchgeführt werden oder man benutzt die Terminalprogramme mke2fs bzw. mkfs (Für Beschreibungen der Terminalbefehle siehe die entsprechenden manpages). "
   ]
  },
  {
   "cell_type": "markdown",
   "metadata": {
    "ExecuteTime": {
     "end_time": "2018-03-10T16:24:32.144795Z",
     "start_time": "2018-03-10T16:24:31.820685Z"
    }
   },
   "source": [
    "Gegenüberstellung von Dateisystemen siehe:\n",
    "\n",
    "https://wiki.ubuntuusers.de/Dateisystem/#Unterschiede"
   ]
  },
  {
   "cell_type": "markdown",
   "metadata": {},
   "source": [
    "Hier die wichtigsten Linux Dateisysteme und deren Maximalen Dateigröße\n",
    "\n",
    "| Dateisystem |  \tMaximale Dateigröße | \tMaximale Dateisystemgröße |\n",
    "|-------------|-------------------------|-----------------------------|\n",
    "| btrfs |  \t16.777.216 TiB | \t16.777.216 TiB = 16 Exabyte = 16 EiB |\n",
    "| ext3 |  \t2 TiB  |\t32 TiB (bei 8 KiB Blockgröße) |\n",
    "| ext4 |  \t16 TiB  |\t1.048.576 TiB = 1 EiB |\n",
    "| xfs |  \t9.437.184 TiB | \t9.437.184 TiB |\n",
    "| ZFS |  \t16.777.216 TiB | \t16.777.216 TiB |\n"
   ]
  },
  {
   "cell_type": "markdown",
   "metadata": {},
   "source": [
    "### ext Dateisystem\n",
    "\n",
    "> Im Gegensatz zu den unter Windows verwendeten Dateisystemen FAT32 und NTFS, die auf einer Tabellenstruktur basieren, verwenden ext-Dateisysteme eine Baumstruktur zum Speichern des Laufwerksinhaltes. Die Knoten dieser Baumstruktur bestehen aus Inodes (Kurzwort aus \"index node\"). Diese Inodes speichern entweder direkte Verweise auf Festplattenblöcke mit kleinen Dateien oder einen Verweis auf einen weiteren Block, in dem die Datenblöcke größerer Dateien gespeichert sind. Ein Inode hat eine Mindestgröße von 128 Byte.\n",
    "\n",
    "> Informationen über das Dateisystem werden im ersten Block, im Superblock des Dateisystems, gespeichert. Hier finden sich alle Optionen des Dateisystems, die sich auch mit dem Befehl tune2fs manipulieren lassen. Außerdem findet sich dort ein Verweis auf die Inode-Struktur des zu Grunde liegenden Dateisystems.\n",
    "\n",
    "https://wiki.ubuntuusers.de/ext/ Stand 2018-03-10 20:22:53 \n",
    "\n",
    "Siehe auch: https://de.wikipedia.org/wiki/Ext4\n",
    "\n",
    "Zum Journaling:\n",
    "\n",
    "Hier wird überprüft, ob eine Dateiopreation vollständig durchgeführt wurde, ähnlich wie bei Datenbanken die Transaktion.\n",
    "\n",
    "__Allerdings__: Werden Daten im Cache gehalten und können u.U. erst nach Sekunden später ausgeführt werden. Somit kann es trotz Journalings zu Datenverlusten kommen."
   ]
  },
  {
   "cell_type": "markdown",
   "metadata": {},
   "source": [
    "### btrfs\n",
    "\n",
    "> Es soll in Zukunft die bislang im Linux-Umfeld vorherrschenden Dateisysteme ext3 bzw. ext4 mit seinen Beschränkungen (Dateigröße und Gesamtdateisystemgröße) ersetzen. Das Btrfs-Dateisystem ist u.a. auf die folgenden Eigenschaften ausgelegt:  \n",
    "* erweiterte Dateispeicherung (Dateigröße bis 2^64 Byte)\n",
    "* effizientere Speicherung kleiner Dateien\n",
    "* effizientere Verwaltung der Verzeichnisstrukturen\n",
    "* dynamische Metadatenverwaltung\n",
    "* direkt erstellbare \"Schnappschüsse\" des Dateisystems oder Teilen davon\n",
    "    * Unterverzeichnisse mit separatem Laufwerk-Charakter\n",
    "    * Objekt bezogene Spiegelung mit Trennung der Ebenen\n",
    "* Prüfsummen für Daten und Metadaten (Mehrfach-Algorithmen verfügbar)\n",
    "    * direkte Integration in den \"Device-Mapper\" mit mehrfacher Geräteunterstützung\n",
    "    * ständige (online) Dateisystemprüfung und Defragmentierung\n",
    "* sehr schnelle Dateisystemprüfung beim Hochfahren\n",
    "    * effiziente Backup-Erweiterung und Dateisystem-Spiegelung"
   ]
  },
  {
   "cell_type": "markdown",
   "metadata": {},
   "source": [
    "Wichtigste Eigenschaft:\n",
    "\n",
    "__Copy on Write (CoW)__: \n",
    "\n",
    "> Das Copy-On-Write-Verfahren (kurz COW genannt, englisch wörtlich für „Kopieren-beim-Schreiben“) ist in der Datenverarbeitung eine Optimierungsmethode zur Vermeidung unnötiger Kopien und Kopiervorgänge, beispielsweise zwischen Prozessen unter unixartigen Systemen, insbesondere bei oder nach einem fork-Systemaufruf.\n",
    "\n",
    "> Die Grundidee des Verfahrens ist, dass die Kopie erst dann „real“ angefertigt wird, sobald sie von einem der Beteiligten verändert wird. Solange alle Beteiligten ihre Kopie nicht verändert haben, reicht es, das Original ein einziges Mal zu speichern. Die Kopie erfolgt also zunächst „virtuell“ – üblicherweise durch das Setzen harter Verknüpfungen – und wird erst bei einer ersten Änderung verzögert angelegt. \n",
    "\n",
    "https://de.wikipedia.org/wiki/Copy-On-Write aufgerufen 2018-03-10 20:33:24\n",
    "\n",
    "__Achtung__: Bei großen Binärdateien (Datenbanken, virtuelle Festplattenimages) kann sich btrfs CoW negativ auswirken.\n",
    "\n",
    "__Deduplizierung__ um Dateien gleichen Inhalts nur einmal zu speichern.\n",
    "\n",
    "Direket Unterstützt RAID-0, -1, -5, -6 und -10\n",
    "\n",
    "Komprimiert Dateien (mount-Option compress)\n",
    "\n",
    "SSD-Optimierung (mount-Option ssd)\n",
    "\n",
    "...\n",
    "\n",
    "Mit Subvolumes, Snapshots und RAID bietet btrfs ähnliche Funktionen wie die\n",
    "im Kernel schon enthaltenen Multi Device und Logical Volume Manager und RAID. "
   ]
  },
  {
   "cell_type": "markdown",
   "metadata": {},
   "source": [
    "### ZFS\n",
    "\n",
    "> ZFS (ursprünglich Zettabyte File System) wird oft als Dateisystem angesehen, was im Grunde genommen ein Missverständnis darstellt. ZFS kann ein Dateisystem sein, aber beherrscht auch noch einiges mehr. Es vereint die Funktionalität eines _Logical Volume Managers_ und eines _Software-RAID_ mit einem _Copy-on-Write-Dateisystem (COW)_. Das heißt, dass es (aufgrund seiner Kenntnisse der Festplattenbelegung) effizienter als jedes Hardware-RAID arbeitet, Daten-Integrität per Transaktionen ähnlich wie bei relationalen Datenbanken sichert und im Falle von Daten-Redundanz (Mehrfachspeicherung) sogar selbständig Daten repariert.\n",
    "\n",
    "> ZFS ist ein 128-bit-Dateisystem, das die Adressierung von 1.000.000.000.000.000.000.000 (1021) Bytes erlaubt (zum Vergleich siehe Binärpräfix). Es ist wahrscheinlich das fortschrittlichste Dateisystem, das es derzeit gibt.\n",
    "\n",
    "https://wiki.ubuntuusers.de/ZFS_on_Linux/ aufgerufen 2018-03-10 21:29:52 "
   ]
  },
  {
   "cell_type": "markdown",
   "metadata": {},
   "source": [
    "## Arbeiten mit den Dateisystemen"
   ]
  },
  {
   "cell_type": "markdown",
   "metadata": {},
   "source": [
    "### EXT4\n",
    "\n",
    "Siehe auch: https://www.thomas-krenn.com/de/wiki/Ext4_Dateisystem\n"
   ]
  },
  {
   "cell_type": "code",
   "execution_count": null,
   "metadata": {
    "ExecuteTime": {
     "end_time": "2018-03-10T20:33:43.042747Z",
     "start_time": "2018-03-10T20:33:42.932798Z"
    }
   },
   "outputs": [],
   "source": [
    "grep -v ^# /etc/fstab"
   ]
  },
  {
   "cell_type": "markdown",
   "metadata": {},
   "source": [
    "#### Journaling\n",
    "\n",
    "* data=ordered: Es werden nur Metadaten gespeichert, also Informationen _über_ Dateien. Es werden alle 5 Sekunden die Daten gespeichert. Mit ext4 kommt hier auch Delayd Allocation hinzu (wie auch bei btrfs, zfs ...).  \n",
    "Die Datenblöcke werden erst beim physikalischen Schreiben reserviert. Datenblöcke werden nicht fragementiert und die Geschwindigkeit kann durch Bündelung erhöht werden.\n",
    "\n",
    "* data=writeback: Schneller also `ordered` da der Abschluß einer Operation nicht abgewartet wird. Operationen sollten mit `fsync` abgeschlossen werden.\n",
    "\n",
    "* data=journal: Es werden zusätlich die Daten im Journal abgespeichert."
   ]
  },
  {
   "cell_type": "code",
   "execution_count": null,
   "metadata": {
    "ExecuteTime": {
     "end_time": "2018-03-10T20:42:54.950131Z",
     "start_time": "2018-03-10T20:42:54.832482Z"
    }
   },
   "outputs": [],
   "source": [
    "dmesg | grep EXT"
   ]
  },
  {
   "cell_type": "code",
   "execution_count": null,
   "metadata": {
    "ExecuteTime": {
     "end_time": "2018-03-10T20:56:19.805653Z",
     "start_time": "2018-03-10T20:56:19.616037Z"
    }
   },
   "outputs": [],
   "source": [
    "sudo tune2fs /dev/mapper/rdf--dev--vg-root -l"
   ]
  },
  {
   "cell_type": "code",
   "execution_count": null,
   "metadata": {
    "ExecuteTime": {
     "end_time": "2018-03-10T20:58:45.733028Z",
     "start_time": "2018-03-10T20:58:45.566607Z"
    }
   },
   "outputs": [],
   "source": [
    "sudo e2label /dev/mapper/rdf--dev--vg-root mylabel"
   ]
  },
  {
   "cell_type": "code",
   "execution_count": null,
   "metadata": {
    "ExecuteTime": {
     "end_time": "2018-03-10T20:58:58.913715Z",
     "start_time": "2018-03-10T20:58:58.775658Z"
    }
   },
   "outputs": [],
   "source": [
    "sudo tune2fs /dev/mapper/rdf--dev--vg-root -l"
   ]
  },
  {
   "cell_type": "code",
   "execution_count": null,
   "metadata": {
    "ExecuteTime": {
     "end_time": "2018-03-10T21:00:19.805726Z",
     "start_time": "2018-03-10T21:00:19.645925Z"
    }
   },
   "outputs": [],
   "source": [
    "sudo tune2fs --help"
   ]
  },
  {
   "cell_type": "code",
   "execution_count": null,
   "metadata": {
    "ExecuteTime": {
     "end_time": "2018-03-10T21:01:35.533368Z",
     "start_time": "2018-03-10T21:01:35.392551Z"
    }
   },
   "outputs": [],
   "source": [
    "sudo resize2fs --help"
   ]
  },
  {
   "cell_type": "code",
   "execution_count": null,
   "metadata": {
    "ExecuteTime": {
     "end_time": "2018-03-10T21:03:35.032417Z",
     "start_time": "2018-03-10T21:02:59.171926Z"
    }
   },
   "outputs": [],
   "source": [
    "sudo e4defrag -c /"
   ]
  },
  {
   "cell_type": "markdown",
   "metadata": {},
   "source": [
    "### BTRFS\n",
    "\n"
   ]
  },
  {
   "cell_type": "code",
   "execution_count": null,
   "metadata": {
    "ExecuteTime": {
     "end_time": "2018-03-10T21:04:54.363038Z",
     "start_time": "2018-03-10T21:04:54.202868Z"
    }
   },
   "outputs": [],
   "source": [
    "sudo fdisk -l /dev/sdb"
   ]
  },
  {
   "cell_type": "code",
   "execution_count": null,
   "metadata": {
    "ExecuteTime": {
     "end_time": "2018-03-10T21:07:03.502786Z",
     "start_time": "2018-03-10T21:07:03.357615Z"
    }
   },
   "outputs": [],
   "source": [
    "sudo sfdisk -T | grep Linux"
   ]
  },
  {
   "cell_type": "code",
   "execution_count": null,
   "metadata": {
    "ExecuteTime": {
     "end_time": "2018-03-10T21:07:36.340518Z",
     "start_time": "2018-03-10T21:07:36.069490Z"
    }
   },
   "outputs": [],
   "source": [
    "echo ',,83;' | sudo sfdisk /dev/sdb"
   ]
  },
  {
   "cell_type": "code",
   "execution_count": null,
   "metadata": {
    "ExecuteTime": {
     "end_time": "2018-03-10T21:07:51.710265Z",
     "start_time": "2018-03-10T21:07:51.580646Z"
    }
   },
   "outputs": [],
   "source": [
    "sudo fdisk -l /dev/sdb"
   ]
  },
  {
   "cell_type": "code",
   "execution_count": null,
   "metadata": {
    "ExecuteTime": {
     "end_time": "2018-03-10T21:08:18.336491Z",
     "start_time": "2018-03-10T21:08:18.179197Z"
    }
   },
   "outputs": [],
   "source": [
    "sudo mkfs.btrfs /dev/sdb1"
   ]
  },
  {
   "cell_type": "code",
   "execution_count": null,
   "metadata": {
    "ExecuteTime": {
     "end_time": "2018-03-10T21:08:46.126250Z",
     "start_time": "2018-03-10T21:08:45.994797Z"
    }
   },
   "outputs": [],
   "source": [
    "sudo mkdir /media/btrfs"
   ]
  },
  {
   "cell_type": "code",
   "execution_count": null,
   "metadata": {
    "ExecuteTime": {
     "end_time": "2018-03-10T21:09:15.049850Z",
     "start_time": "2018-03-10T21:09:14.881106Z"
    }
   },
   "outputs": [],
   "source": [
    "sudo mount /dev/sdb1 /media/btrfs"
   ]
  },
  {
   "cell_type": "code",
   "execution_count": null,
   "metadata": {
    "ExecuteTime": {
     "end_time": "2018-03-10T21:12:49.424515Z",
     "start_time": "2018-03-10T21:12:49.260464Z"
    }
   },
   "outputs": [],
   "source": [
    "sudo btrfs filesystem show"
   ]
  },
  {
   "cell_type": "code",
   "execution_count": null,
   "metadata": {
    "ExecuteTime": {
     "end_time": "2018-03-10T21:14:20.838948Z",
     "start_time": "2018-03-10T21:14:20.725621Z"
    },
    "scrolled": false
   },
   "outputs": [],
   "source": [
    "btrfs"
   ]
  },
  {
   "cell_type": "code",
   "execution_count": null,
   "metadata": {
    "ExecuteTime": {
     "end_time": "2018-03-10T21:12:49.424515Z",
     "start_time": "2018-03-10T21:12:49.260464Z"
    }
   },
   "outputs": [],
   "source": [
    "sudo btrfs filesystem show"
   ]
  },
  {
   "cell_type": "code",
   "execution_count": null,
   "metadata": {
    "ExecuteTime": {
     "end_time": "2018-03-10T21:10:55.378617Z",
     "start_time": "2018-03-10T21:10:55.166324Z"
    }
   },
   "outputs": [],
   "source": [
    "sudo btrfs filesystem resize -2G /media/btrfs"
   ]
  },
  {
   "cell_type": "code",
   "execution_count": null,
   "metadata": {
    "ExecuteTime": {
     "end_time": "2018-03-10T21:11:21.904454Z",
     "start_time": "2018-03-10T21:11:21.771711Z"
    }
   },
   "outputs": [],
   "source": [
    "sudo btrfs check /dev/sdb1"
   ]
  },
  {
   "cell_type": "code",
   "execution_count": null,
   "metadata": {
    "ExecuteTime": {
     "end_time": "2018-03-10T21:16:17.429487Z",
     "start_time": "2018-03-10T21:16:17.276771Z"
    }
   },
   "outputs": [],
   "source": [
    "sudo btrfs check /dev/sdb1"
   ]
  },
  {
   "cell_type": "code",
   "execution_count": null,
   "metadata": {
    "ExecuteTime": {
     "end_time": "2018-03-10T21:20:49.294336Z",
     "start_time": "2018-03-10T21:20:49.067515Z"
    }
   },
   "outputs": [],
   "source": [
    "sudo touch /media/btrfs/datei\n",
    "sudo chattr +C /media/btrfs/datei"
   ]
  },
  {
   "cell_type": "code",
   "execution_count": null,
   "metadata": {
    "ExecuteTime": {
     "end_time": "2018-03-10T21:23:39.743034Z",
     "start_time": "2018-03-10T21:23:39.596786Z"
    }
   },
   "outputs": [],
   "source": [
    "sudo lsattr /media/btrfs/datei"
   ]
  },
  {
   "cell_type": "code",
   "execution_count": null,
   "metadata": {
    "ExecuteTime": {
     "end_time": "2018-03-10T21:24:08.248609Z",
     "start_time": "2018-03-10T21:24:08.108961Z"
    }
   },
   "outputs": [],
   "source": [
    "sudo btrfs subvolume create /media/btrfs/sub1"
   ]
  },
  {
   "cell_type": "code",
   "execution_count": null,
   "metadata": {
    "ExecuteTime": {
     "end_time": "2018-03-10T21:24:36.182138Z",
     "start_time": "2018-03-10T21:24:36.002730Z"
    }
   },
   "outputs": [],
   "source": [
    "sudo mkdir /media/btrfs/data"
   ]
  },
  {
   "cell_type": "code",
   "execution_count": null,
   "metadata": {
    "ExecuteTime": {
     "end_time": "2018-03-10T21:25:53.581585Z",
     "start_time": "2018-03-10T21:25:53.458531Z"
    }
   },
   "outputs": [],
   "source": [
    "sudo btrfs subvolume create /media/btrfs/data/sub2"
   ]
  },
  {
   "cell_type": "code",
   "execution_count": null,
   "metadata": {
    "ExecuteTime": {
     "end_time": "2018-03-10T21:26:19.347683Z",
     "start_time": "2018-03-10T21:26:19.213391Z"
    }
   },
   "outputs": [],
   "source": [
    "sudo btrfs subvolume list /media/btrfs"
   ]
  },
  {
   "cell_type": "code",
   "execution_count": null,
   "metadata": {
    "ExecuteTime": {
     "end_time": "2018-03-10T21:27:17.956392Z",
     "start_time": "2018-03-10T21:27:17.789326Z"
    }
   },
   "outputs": [],
   "source": [
    "sudo touch /media/btrfs/sub1/tst"
   ]
  },
  {
   "cell_type": "code",
   "execution_count": null,
   "metadata": {
    "ExecuteTime": {
     "end_time": "2018-03-10T21:27:32.381244Z",
     "start_time": "2018-03-10T21:27:32.251327Z"
    }
   },
   "outputs": [],
   "source": [
    "sudo rm /media/btrfs/sub1/tst"
   ]
  },
  {
   "cell_type": "code",
   "execution_count": null,
   "metadata": {
    "ExecuteTime": {
     "end_time": "2018-03-10T21:27:53.054690Z",
     "start_time": "2018-03-10T21:27:52.918587Z"
    }
   },
   "outputs": [],
   "source": [
    "sudo rmdir /media/btrfs/sub1"
   ]
  },
  {
   "cell_type": "code",
   "execution_count": null,
   "metadata": {
    "ExecuteTime": {
     "end_time": "2018-03-10T21:28:19.910762Z",
     "start_time": "2018-03-10T21:28:19.776603Z"
    }
   },
   "outputs": [],
   "source": [
    "sudo mkdir /media/sub2"
   ]
  },
  {
   "cell_type": "code",
   "execution_count": null,
   "metadata": {
    "ExecuteTime": {
     "end_time": "2018-03-10T21:28:59.035919Z",
     "start_time": "2018-03-10T21:28:58.878438Z"
    }
   },
   "outputs": [],
   "source": [
    "sudo mount -o subvolid=258 /dev/sdb1 /media/sub2"
   ]
  },
  {
   "cell_type": "code",
   "execution_count": null,
   "metadata": {
    "ExecuteTime": {
     "end_time": "2018-03-10T21:30:17.159431Z",
     "start_time": "2018-03-10T21:30:17.002662Z"
    }
   },
   "outputs": [],
   "source": [
    "sudo btrfs subvolume delete /media/btrfs/sub1"
   ]
  },
  {
   "cell_type": "code",
   "execution_count": null,
   "metadata": {
    "ExecuteTime": {
     "end_time": "2018-03-10T21:31:22.193077Z",
     "start_time": "2018-03-10T21:31:22.059733Z"
    }
   },
   "outputs": [],
   "source": [
    "sudo btrfs subvolume delete /media/btrfs/data/sub2"
   ]
  },
  {
   "cell_type": "code",
   "execution_count": null,
   "metadata": {
    "ExecuteTime": {
     "end_time": "2018-03-10T21:31:39.661116Z",
     "start_time": "2018-03-10T21:31:39.529373Z"
    }
   },
   "outputs": [],
   "source": [
    "sudo ls /media/sub2"
   ]
  },
  {
   "cell_type": "code",
   "execution_count": null,
   "metadata": {
    "ExecuteTime": {
     "end_time": "2018-03-10T21:37:14.401786Z",
     "start_time": "2018-03-10T21:37:14.296827Z"
    }
   },
   "outputs": [],
   "source": [
    "ls /media/btrfs"
   ]
  },
  {
   "cell_type": "code",
   "execution_count": null,
   "metadata": {
    "ExecuteTime": {
     "end_time": "2018-03-10T21:37:45.985384Z",
     "start_time": "2018-03-10T21:37:45.850512Z"
    }
   },
   "outputs": [],
   "source": [
    "sudo btrfs subvolume snapshot /media/btrfs /media/btrfs/snap1"
   ]
  },
  {
   "cell_type": "code",
   "execution_count": null,
   "metadata": {
    "ExecuteTime": {
     "end_time": "2018-03-10T21:38:37.256433Z",
     "start_time": "2018-03-10T21:38:37.013405Z"
    }
   },
   "outputs": [],
   "source": [
    "sudo mkdir /media/snap1\n",
    "sudo mount -o subvol=snap1 /dev/sdb1 /media/snap1"
   ]
  },
  {
   "cell_type": "code",
   "execution_count": null,
   "metadata": {
    "ExecuteTime": {
     "end_time": "2018-03-10T21:38:52.181608Z",
     "start_time": "2018-03-10T21:38:52.073396Z"
    }
   },
   "outputs": [],
   "source": [
    "ls /media/snap1"
   ]
  },
  {
   "cell_type": "code",
   "execution_count": null,
   "metadata": {
    "ExecuteTime": {
     "end_time": "2018-03-10T21:39:13.397424Z",
     "start_time": "2018-03-10T21:39:13.258232Z"
    }
   },
   "outputs": [],
   "source": [
    "sudo touch /media/snap1/datei2"
   ]
  },
  {
   "cell_type": "code",
   "execution_count": null,
   "metadata": {
    "ExecuteTime": {
     "end_time": "2018-03-10T21:39:28.075846Z",
     "start_time": "2018-03-10T21:39:27.963562Z"
    }
   },
   "outputs": [],
   "source": [
    "ls /media/btrfs"
   ]
  },
  {
   "cell_type": "code",
   "execution_count": null,
   "metadata": {
    "ExecuteTime": {
     "end_time": "2018-03-10T21:42:46.093916Z",
     "start_time": "2018-03-10T21:42:45.972443Z"
    }
   },
   "outputs": [],
   "source": [
    "sudo btrfs filesystem show /dev/sdb1"
   ]
  },
  {
   "cell_type": "code",
   "execution_count": null,
   "metadata": {
    "ExecuteTime": {
     "end_time": "2018-03-10T21:43:28.099574Z",
     "start_time": "2018-03-10T21:43:27.976200Z"
    }
   },
   "outputs": [],
   "source": [
    "sudo btrfs filesystem df /media/btrfs"
   ]
  },
  {
   "cell_type": "code",
   "execution_count": null,
   "metadata": {},
   "outputs": [],
   "source": []
  }
 ],
 "metadata": {
  "kernelspec": {
   "display_name": "Bash",
   "language": "bash",
   "name": "bash"
  },
  "language_info": {
   "codemirror_mode": "shell",
   "file_extension": ".sh",
   "mimetype": "text/x-sh",
   "name": "bash"
  },
  "toc": {
   "nav_menu": {},
   "number_sections": true,
   "sideBar": true,
   "skip_h1_title": false,
   "title_cell": "Table of Contents",
   "title_sidebar": "Contents",
   "toc_cell": false,
   "toc_position": {
    "height": "calc(100% - 180px)",
    "left": "10px",
    "top": "150px",
    "width": "220px"
   },
   "toc_section_display": true,
   "toc_window_display": true
  },
  "varInspector": {
   "cols": {
    "lenName": 16,
    "lenType": 16,
    "lenVar": 40
   },
   "kernels_config": {
    "python": {
     "delete_cmd_postfix": "",
     "delete_cmd_prefix": "del ",
     "library": "var_list.py",
     "varRefreshCmd": "print(var_dic_list())"
    },
    "r": {
     "delete_cmd_postfix": ") ",
     "delete_cmd_prefix": "rm(",
     "library": "var_list.r",
     "varRefreshCmd": "cat(var_dic_list()) "
    }
   },
   "types_to_exclude": [
    "module",
    "function",
    "builtin_function_or_method",
    "instance",
    "_Feature"
   ],
   "window_display": false
  }
 },
 "nbformat": 4,
 "nbformat_minor": 2
}
