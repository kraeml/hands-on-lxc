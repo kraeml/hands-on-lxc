{
 "cells": [
  {
   "cell_type": "markdown",
   "metadata": {},
   "source": [
    "# Festplatten und Dateisysteme\n",
    "\n",
    "* https://de.wikipedia.org/wiki/Festplattenlaufwerk\n",
    "* https://de.wikipedia.org/wiki/Liste_von_Dateisystemen\n",
    "* Speziell für den Raspberry  \n",
    "  https://de.wikipedia.org/wiki/Liste_von_Dateisystemen#Dateisysteme_f%C3%BCr_Flash-Datentr%C3%A4ger und    \n",
    "  https://de.wikipedia.org/wiki/F2FS\n"
   ]
  },
  {
   "cell_type": "markdown",
   "metadata": {},
   "source": [
    "## Festplatten anzeigen lassen\n",
    "\n",
    "Genauer gesagt alle Blockdevices anzeigen lassen."
   ]
  },
  {
   "cell_type": "code",
   "execution_count": 15,
   "metadata": {
    "ExecuteTime": {
     "end_time": "2018-03-11T09:32:20.347064Z",
     "start_time": "2018-03-11T09:32:20.241184Z"
    }
   },
   "outputs": [
    {
     "name": "stdout",
     "output_type": "stream",
     "text": [
      "lsblk (8)            - list block devices\n"
     ]
    }
   ],
   "source": [
    "whatis lsblk"
   ]
  },
  {
   "cell_type": "code",
   "execution_count": 16,
   "metadata": {
    "ExecuteTime": {
     "end_time": "2018-03-11T09:32:22.164627Z",
     "start_time": "2018-03-11T09:32:22.045248Z"
    }
   },
   "outputs": [
    {
     "name": "stdout",
     "output_type": "stream",
     "text": [
      "NAME                    MAJ:MIN RM   SIZE RO TYPE MOUNTPOINT\n",
      "sda                       8:0    0   127G  0 disk \n",
      "├─sda1                    8:1    0   487M  0 part /boot\n",
      "├─sda2                    8:2    0     1K  0 part \n",
      "└─sda5                    8:5    0 126,5G  0 part \n",
      "  ├─rdf--dev--vg-root   252:0    0 125,6G  0 lvm  /\n",
      "  └─rdf--dev--vg-swap_1 252:1    0   980M  0 lvm  [SWAP]\n",
      "sdb                       8:16   0   500G  0 disk \n",
      "└─sdb1                    8:17   0   500G  0 part /media/btrfs\n"
     ]
    }
   ],
   "source": [
    "lsblk"
   ]
  },
  {
   "cell_type": "markdown",
   "metadata": {},
   "source": [
    "> Die Aufgabe von lsblk ist es, verfügbare Block devices in Baumdarstellung aufzulisten und Informationen zu diesen anzuzeigen. Es liest hierzu das sysfs-Dateisystem ein.\n",
    "\n",
    "> Es ist vergleichbar mit blkid, welches aber nur für Geräte funktioniert, auf denen eine gültige Partitionstabelle existiert. lsblk hingegen listet auch Geräte auf, wenn diese über keine gültige Partitionstabelle verfügen.\n",
    "\n",
    "https://wiki.ubuntuusers.de/lsblk/ aufgerufen am 2018-03-11 10:37:28"
   ]
  },
  {
   "cell_type": "code",
   "execution_count": 20,
   "metadata": {
    "ExecuteTime": {
     "end_time": "2018-03-11T09:38:07.888757Z",
     "start_time": "2018-03-11T09:38:07.757525Z"
    }
   },
   "outputs": [
    {
     "name": "stdout",
     "output_type": "stream",
     "text": [
      "NAME   FSTYPE  UUID                                   RO RM   SIZE STATE OWNER GROUP MODE       TYPE MOUNTPOINT LABEL   MODEL\n",
      "sda                                                    0  0   127G runni root  disk  brw-rw---- disk                    VBOX HA\n",
      "├─sda1 ext2    65b9c4c3-6580-4695-95cf-0ac99bab64eb    0  0   487M       root  disk  brw-rw---- part /boot              \n",
      "├─sda2                                                 0  0     1K       root  disk  brw-rw---- part                    \n",
      "└─sda5 LVM2_me nooOXA-y3HK-xp96-i0BO-cbyE-eLWr-wyLA8N  0  0 126,5G       root  disk  brw-rw---- part                    \n",
      "  ├─rdf--dev--vg-root\n",
      "  │    ext4    008479b7-dc82-494e-af03-3c4d4abbf652    0  0 125,6G runni root  disk  brw-rw---- lvm  /          mylabel \n",
      "  └─rdf--dev--vg-swap_1\n",
      "       swap    5a534821-4d3a-4b5d-ac92-6ad3b8477ce3    0  0   980M runni root  disk  brw-rw---- lvm  [SWAP]             \n",
      "sdb                                                    0  0   500G runni root  disk  brw-rw---- disk                    VBOX HA\n",
      "└─sdb1 btrfs   aa61692f-e171-4e30-8e41-2fbceea3c959    0  0   500G       root  disk  brw-rw---- part /media/btr         \n"
     ]
    }
   ],
   "source": [
    "sudo lsblk -o NAME,FSTYPE,UUID,RO,RM,SIZE,STATE,OWNER,GROUP,MODE,TYPE,MOUNTPOINT,LABEL,MODEL "
   ]
  },
  {
   "cell_type": "markdown",
   "metadata": {
    "ExecuteTime": {
     "end_time": "2018-03-11T09:40:19.731930Z",
     "start_time": "2018-03-11T09:40:19.529419Z"
    }
   },
   "source": [
    "Siehe auch: https://wiki.ubuntuusers.de/lsblk/#Spezialfall-o-output-Liste"
   ]
  },
  {
   "cell_type": "markdown",
   "metadata": {},
   "source": [
    "## Plattenplatz anzeigen lassen"
   ]
  },
  {
   "cell_type": "code",
   "execution_count": 22,
   "metadata": {
    "ExecuteTime": {
     "end_time": "2018-03-11T09:41:05.950891Z",
     "start_time": "2018-03-11T09:41:05.838435Z"
    }
   },
   "outputs": [
    {
     "name": "stdout",
     "output_type": "stream",
     "text": [
      "df (1)               - report file system disk space usage\n",
      "du (1)               - estimate file space usage\n"
     ]
    }
   ],
   "source": [
    "whatis df du"
   ]
  },
  {
   "cell_type": "code",
   "execution_count": 18,
   "metadata": {
    "ExecuteTime": {
     "end_time": "2018-03-11T09:33:40.894514Z",
     "start_time": "2018-03-11T09:33:40.759070Z"
    }
   },
   "outputs": [
    {
     "name": "stdout",
     "output_type": "stream",
     "text": [
      "Aufruf: df [OPTION]... [DATEI]...\n",
      "Anzeige von Informationen über die Dateisysteme, auf dem sich jede\n",
      "DATEI befindet, oder alle Dateisysteme, welches der Normalfall ist.\n",
      "\n",
      "Erforderliche Argumente für lange Optionen sind auch für kurze erforderlich.\n",
      "  -a, --all                 unechte Dateisysteme mit einschließen\n",
      "  -B, --block-size=GRÖßE    Größen in Einheiten von GRÖßE ausgeben, z.B. werden\n",
      "                              bei „-BM“ die Grössen in Einheiten von 1.048.576\n",
      "                              Bytes ausgegeben. Siehe auch GRÖẞE weiter unten\n",
      "  -h, --human-readable      Größen in menschenlesbarem Format (z.B. 1K 234M 2G)\n",
      "  -H, --si                  genauso, aber mit 1000 statt 1024 als Teiler (z.B 1.1G)\n",
      "  -i, --inodes              INode‐Information statt der Block‐Benutzung\n",
      "                              auflisten\n",
      "  -k                        wie „--block-size=1K“\n",
      "  -l, --local               Liste auf lokale Dateisysteme begrenzen\n",
      "      --no-sync             nicht „sync“ vor Erlangen der Benutzungsinformation\n",
      "                              aufrufen (Standardvorgabe)\n",
      "      --output[=FELDLISTE]  Das durch FELDLISTE definierte Ausgabeformat\n",
      "                              verwenden, oder alle Felder ausgeben, wenn\n",
      "                              FELDLISTE nicht angegeben wird.\n",
      "  -P, --portability         POSIX‐Ausgabeformat verwenden\n",
      "      --sync                „sync“ vor Erlangen der Benutzungsinformation\n",
      "                              aufrufen\n",
      "      --total               Gesamtsumme erstellen\n",
      "  -t, --type=TYP            Liste auf Dateisysteme des Typs TYP begrenzen\n",
      "  -T, --print-type          Dateisystemtyp ausgeben.\n",
      "  -x, --exclude-type=TYP    Liste auf Dateisysteme nicht vom Typ TYP begrenzen.\n",
      "  -v                        (ignoriert)\n",
      "      --help     diese Hilfe anzeigen und beenden\n",
      "      --version  Versionsinformation anzeigen und beenden\n",
      "\n",
      "Werte werden in der ersten verfügbaren GRÖßE von --block-size und der\n",
      "Umgebungsvariablen DF_BLOCK_SIZE, BLOCK_SIZE und BLOCKSIZE ausgegeben.\n",
      "Andernfalls ist die Vorgabe Einheiten von 1024 Bytes \t(oder 512 wenn\n",
      "POSIXLY_CORRECT gesetzt wurde).\n",
      "\n",
      "GRÖẞE ist eine Ganzzahl und eine optionale Einheit (Beispiel: 10M sind\n",
      "10*1024*1024). Einheiten sind K, M, G, T, P, E, Z, Y (Potenzen von 1024) oder\n",
      "KB, MB, ... (Potenzen von 1000).\n",
      "\n",
      "FELDLISTE ist eine durch Komma getrennte Liste der zu verwendenden Spalten.\n",
      "Gültige Feldnamen sind: „source“, „fstype“, „itotal“, „iused“, „iavail“,\n",
      "„ipcent“, „size“, „used“, „avail“, „pcent“, „file“ und „target“ (siehe\n",
      "Infoseite).\n",
      "\n",
      "GNU coreutils Onlinehilfe: <http://www.gnu.org/software/coreutils/>\n",
      "Melden Sie Übersetzungsfehler für df an <translation-team-de@lists.sourceforge.net>\n",
      "Die vollständige Dokumentation ist hier: <http://www.gnu.org/software/coreutils/df>\n",
      "oder auch lokal mittels „info '(coreutils) df invocation'“\n"
     ]
    }
   ],
   "source": [
    "df --help"
   ]
  },
  {
   "cell_type": "code",
   "execution_count": 23,
   "metadata": {
    "ExecuteTime": {
     "end_time": "2018-03-11T09:41:21.248040Z",
     "start_time": "2018-03-11T09:41:21.130387Z"
    }
   },
   "outputs": [
    {
     "name": "stdout",
     "output_type": "stream",
     "text": [
      "Aufruf: du [OPTION]... [DATEI]...\n",
      " oder:  du [OPTION]... --files0-from=DL\n",
      "Summierung der Plattennutzung jeder DATEI, rekursiv für Verzeichnisse\n",
      "\n",
      "Erforderliche Argumente für lange Optionen sind auch für kurze erforderlich.\n",
      "  -0, --null              jede Zeile mit einem Nullbyte statt eines\n",
      "                            Zeilenumbruchs beenden\n",
      "  -a, --all               Zählung für jede Datei ausgeben, nicht nur für\n",
      "                            Verzeichnisse\n",
      "      --apparent-size     die sichtbare Größe ausgeben statt des\n",
      "                            Platzverbrauchs; diese ist meist kleiner, kann\n",
      "                            aber auch größer sein durch Löcher in („sparse“‐)\n",
      "                            Dateien, interne Fragmentierung, indirekte Blöcke\n",
      "                            und ähnliches\n",
      "  -B, --block-size=GRÖßE  GRÖßE große Blöcke verwenden. Siehe GRÖßE unten.\n",
      "  -b, --bytes             äquivalent zu „--apparent-size --block-size=1“\n",
      "  -c, --total             Gesamtsumme erzeugen\n",
      "  -D, --dereference-args  nur symbolische Verknüpfungen dereferenzieren, die\n",
      "                            an der Kommandozeile angegeben wurden\n",
      "  -d, --max-depth=N       die Gesamtgröße für ein Verzeichnis (oder, mit\n",
      "                            --all, einer Datei) ausgeben, aber nur dann, wenn\n",
      "                            es bzw. sie N oder weniger Ebenen unterhalb des\n",
      "                            Kommando-zeilenarguments ist; --max-depth=0 ist\n",
      "                            gleichbedeutend mit --summarize\n",
      "      --files0-from=D     aufsummierten Platzverbrauch der in der Datei D\n",
      "                            angegebenen null-terminierten Dateinamen ausgeben.\n",
      "                            ist D „-“, so wird aus der Standardeingabe gelesen\n",
      "  -H                      wie --dereference-args (-D)\n",
      "  -h, --human-readable    Größen in menschenlesbarem Format (z.B. 1K 234M 2G)\n",
      "                            ausgeben\n",
      "  -k                      Wie „--block-size=1K“\n",
      "  -L, --dereference       alle symbolischen Verknüpfungen dereferenzieren\n",
      "  -l, --count-links       Größe mehrfach zählen, wenn durch harte\n",
      "                            Verknüpfungen verbunden\n",
      "  -m                      Wie „--block-size=1M“\n",
      "  -P, --no-dereference    keinen symbolischen Verknüpfungen folgen (Voreinstellung)\n",
      "  -S, --separate-dirs     Größe von Unterverzeichnissen nicht\n",
      "                            mitzählen\n",
      "      --si                wie -h, verwendet aber Potenzen von 1000 statt 1024\n",
      "  -s, --summarize         nur Summe für jedes Argument anzeigen\n",
      "  -t, --threshold=GRÖẞE  Einträge kleiner als GRÖẞE ausschließen wenn positiv,\n",
      "                          oder größer als GRÖẞE wenn negativ\n",
      "      --time             Zeit der letzten Änderung irgendeiner Datei im\n",
      "                           Verzeichnis oder einem seiner Unterverzeichnisse\n",
      "                           anzeigen\n",
      "      --time=WORT        Zeit als WORT anstelle der Änderungszeit anzeigen:\n",
      "                           atime, access, use, ctime or status\n",
      "      --time-style=STIL  Zeit in Stil STIL anzeigen:\n",
      "                           full-iso, long-iso, iso, +FORMAT\n",
      "                           FORMAT wird wie bei „date“ interpretiert\n",
      "  -X, --exclude-from=DATEI  Dateien ausschließen, die einem Muster in DATEI\n",
      "                              entsprechen\n",
      "      --exclude=MUSTER   Dateien ausschließen, die MUSTER entsprechen\n",
      "  -x, --one-file-system  Verzeichnisse auf anderen Dateisystemen überspringen\n",
      "      --help     diese Hilfe anzeigen und beenden\n",
      "      --version  Versionsinformation anzeigen und beenden\n",
      "\n",
      "Werte werden in der ersten verfügbaren GRÖßE von --block-size und der\n",
      "Umgebungsvariablen DU_BLOCK_SIZE, BLOCK_SIZE und BLOCKSIZE ausgegeben.\n",
      "Andernfalls ist die Vorgabe Einheiten von 1024 Bytes \t(oder 512 wenn\n",
      "POSIXLY_CORRECT gesetzt wurde).\n",
      "\n",
      "GRÖẞE ist eine Ganzzahl und eine optionale Einheit (Beispiel: 10M sind\n",
      "10*1024*1024). Einheiten sind K, M, G, T, P, E, Z, Y (Potenzen von 1024) oder\n",
      "KB, MB, ... (Potenzen von 1000).\n",
      "\n",
      "GNU coreutils Onlinehilfe: <http://www.gnu.org/software/coreutils/>\n",
      "Melden Sie Übersetzungsfehler für du an <translation-team-de@lists.sourceforge.net>\n",
      "Die vollständige Dokumentation ist hier: <http://www.gnu.org/software/coreutils/du>\n",
      "oder auch lokal mittels „info '(coreutils) du invocation'“\n"
     ]
    }
   ],
   "source": [
    "du --help"
   ]
  },
  {
   "cell_type": "code",
   "execution_count": 19,
   "metadata": {
    "ExecuteTime": {
     "end_time": "2018-03-11T09:33:43.326173Z",
     "start_time": "2018-03-11T09:33:43.219057Z"
    }
   },
   "outputs": [
    {
     "name": "stdout",
     "output_type": "stream",
     "text": [
      "Dateisystem                   Typ       1K-Blöcke   Benutzt  Verfügbar Verw% Eingehängt auf\n",
      "udev                          devtmpfs    1004756         0    1004756    0% /dev\n",
      "tmpfs                         tmpfs        204808     21424     183384   11% /run\n",
      "/dev/mapper/rdf--dev--vg-root ext4      129463932  19889352  102975108   17% /\n",
      "tmpfs                         tmpfs       1024032       172    1023860    1% /dev/shm\n",
      "tmpfs                         tmpfs          5120         4       5116    1% /run/lock\n",
      "tmpfs                         tmpfs       1024032         0    1024032    0% /sys/fs/cgroup\n",
      "/dev/sda1                     ext2         482922     57450     400538   13% /boot\n",
      "cgmfs                         tmpfs           100         0        100    0% /run/cgmanager/fs\n",
      "tmpfs                         tmpfs        204808        52     204756    1% /run/user/900\n",
      "vagrant                       vboxsf   1921802432 541028824 1380773608   29% /vagrant\n",
      "/dev/sdb1                     btrfs     522189824     16960  520075008    1% /media/btrfs\n",
      "/dev/sdb1                     btrfs     522189824     16960  520075008    1% /media/sub2\n",
      "/dev/sdb1                     btrfs     522189824     16960  520075008    1% /media/snap1\n"
     ]
    }
   ],
   "source": [
    "df -T"
   ]
  },
  {
   "cell_type": "code",
   "execution_count": 12,
   "metadata": {
    "ExecuteTime": {
     "end_time": "2018-03-11T09:24:06.695696Z",
     "start_time": "2018-03-11T09:24:06.581596Z"
    }
   },
   "outputs": [
    {
     "name": "stdout",
     "output_type": "stream",
     "text": [
      "Dateisystem                   Größe Benutzt Verf. Verw% Eingehängt auf\n",
      "udev                           982M       0  982M    0% /dev\n",
      "tmpfs                          201M     21M  180M   11% /run\n",
      "/dev/mapper/rdf--dev--vg-root  124G     19G   99G   17% /\n",
      "tmpfs                         1001M    172K 1000M    1% /dev/shm\n",
      "tmpfs                          5,0M    4,0K  5,0M    1% /run/lock\n",
      "tmpfs                         1001M       0 1001M    0% /sys/fs/cgroup\n",
      "/dev/sda1                      472M     57M  392M   13% /boot\n",
      "cgmfs                          100K       0  100K    0% /run/cgmanager/fs\n",
      "tmpfs                          201M     52K  200M    1% /run/user/900\n",
      "vagrant                        1,8T    516G  1,3T   29% /vagrant\n",
      "/dev/sdb1                      498G     17M  496G    1% /media/btrfs\n",
      "/dev/sdb1                      498G     17M  496G    1% /media/sub2\n",
      "/dev/sdb1                      498G     17M  496G    1% /media/snap1\n"
     ]
    }
   ],
   "source": [
    "df --human-readable"
   ]
  },
  {
   "cell_type": "code",
   "execution_count": 13,
   "metadata": {
    "ExecuteTime": {
     "end_time": "2018-03-11T09:24:45.991986Z",
     "start_time": "2018-03-11T09:24:45.882266Z"
    }
   },
   "outputs": [
    {
     "name": "stdout",
     "output_type": "stream",
     "text": [
      "Dateisystem                   Größe Benutzt Verf. Verw% Eingehängt auf\n",
      "udev                           1,1G       0  1,1G    0% /dev\n",
      "tmpfs                          210M     22M  188M   11% /run\n",
      "/dev/mapper/rdf--dev--vg-root  133G     21G  106G   17% /\n",
      "tmpfs                          1,1G    177k  1,1G    1% /dev/shm\n",
      "tmpfs                          5,3M    4,1k  5,3M    1% /run/lock\n",
      "tmpfs                          1,1G       0  1,1G    0% /sys/fs/cgroup\n",
      "/dev/sda1                      495M     59M  411M   13% /boot\n",
      "cgmfs                          103k       0  103k    0% /run/cgmanager/fs\n",
      "tmpfs                          210M     54k  210M    1% /run/user/900\n",
      "vagrant                        2,0T    555G  1,5T   29% /vagrant\n",
      "/dev/sdb1                      535G     18M  533G    1% /media/btrfs\n",
      "/dev/sdb1                      535G     18M  533G    1% /media/sub2\n",
      "/dev/sdb1                      535G     18M  533G    1% /media/snap1\n"
     ]
    }
   ],
   "source": [
    "df --si"
   ]
  },
  {
   "cell_type": "code",
   "execution_count": 14,
   "metadata": {
    "ExecuteTime": {
     "end_time": "2018-03-11T09:24:54.350343Z",
     "start_time": "2018-03-11T09:24:54.231842Z"
    }
   },
   "outputs": [
    {
     "name": "stdout",
     "output_type": "stream",
     "text": [
      "Dateisystem                    Inodes IBenutzt   IFrei IUse% Eingehängt auf\n",
      "udev                           251189      453  250736    1% /dev\n",
      "tmpfs                          256008      714  255294    1% /run\n",
      "/dev/mapper/rdf--dev--vg-root 8232960   759540 7473420   10% /\n",
      "tmpfs                          256008        6  256002    1% /dev/shm\n",
      "tmpfs                          256008        5  256003    1% /run/lock\n",
      "tmpfs                          256008       18  255990    1% /sys/fs/cgroup\n",
      "/dev/sda1                      124928      304  124624    1% /boot\n",
      "cgmfs                          256008       14  255994    1% /run/cgmanager/fs\n",
      "tmpfs                          256008       28  255980    1% /run/user/900\n",
      "vagrant                          1000        0    1000    0% /vagrant\n",
      "/dev/sdb1                           0        0       0     - /media/btrfs\n",
      "/dev/sdb1                           0        0       0     - /media/sub2\n",
      "/dev/sdb1                           0        0       0     - /media/snap1\n"
     ]
    }
   ],
   "source": [
    "df --inodes"
   ]
  },
  {
   "cell_type": "code",
   "execution_count": 26,
   "metadata": {
    "ExecuteTime": {
     "end_time": "2018-03-11T09:41:54.769375Z",
     "start_time": "2018-03-11T09:41:54.663550Z"
    }
   },
   "outputs": [
    {
     "name": "stdout",
     "output_type": "stream",
     "text": [
      "16M\t/bin\n"
     ]
    }
   ],
   "source": [
    "du -h /bin"
   ]
  },
  {
   "cell_type": "markdown",
   "metadata": {},
   "source": [
    "## RAID und LVM\n",
    "\n",
    "* https://de.wikipedia.org/wiki/RAID\n",
    "\n",
    "* https://de.wikipedia.org/wiki/Logical_Volume_Manager\n",
    "\n",
    "* https://wiki.ubuntuusers.de/Software-RAID/\n",
    "\n",
    "* https://wiki.ubuntuusers.de/Software_RAID_mit_LVM/"
   ]
  },
  {
   "cell_type": "markdown",
   "metadata": {},
   "source": [
    "### Redundant Array of Independent Disks (RAID)\n",
    "\n",
    "> Ein RAID-System dient zur Organisation __mehrerer physischer__ Massenspeicher (üblicherweise Festplattenlaufwerke oder Solid-State-Drives) zu __einem logischen__ Laufwerk, das eine _höhere Ausfallsicherheit_ oder einen _größeren Datendurchsatz_ erlaubt als ein einzelnes physisches Speichermedium\n",
    "\n",
    "https://de.wikipedia.org/wiki/RAID aufgerufen am 2018-03-11 10:44:11 "
   ]
  },
  {
   "cell_type": "markdown",
   "metadata": {},
   "source": [
    "> Der Betrieb eines RAID-Systems setzt __mindestens zwei__ Speichermedien voraus. Diese werden gemeinsam betrieben und bilden einen Verbund, der unter mindestens einem Aspekt betrachtet leistungsfähiger ist als die einzelnen Medien. Mit RAID-Systemen kann man folgende Vorteile erreichen (allerdings schließen sich einige gleichzeitig aus):  \n",
    "* Erhöhung der Ausfallsicherheit (Redundanz)\n",
    "* Steigerung der Datenübertragungsrate (Leistung)\n",
    "* Aufbau großer logischer Laufwerke\n",
    "* Austausch von Speichermedien (auch während des Betriebes)\n",
    "* Vergrößern des Speichers (auch während des Betriebs)\n",
    "* Kostenreduktion durch Einsatz mehrerer kleiner, preiswerter Medien\n",
    "\n",
    "https://de.wikipedia.org/wiki/RAID#Aufbau_und_Anschluss_%E2%80%93_Hardware-RAID,_Software-RAID aufgerufen am 2018-03-11 10:45:16 "
   ]
  },
  {
   "cell_type": "markdown",
   "metadata": {
    "ExecuteTime": {
     "end_time": "2018-03-10T14:42:47.783640Z",
     "start_time": "2018-03-10T14:42:46.690321Z"
    }
   },
   "source": [
    "Es gibt zwei Arten wie ein RAID Verbund betrieben werden kann:\n",
    "\n",
    "* __Hardware__ durch den Festplattencontroller\n",
    "* __Software__ durch die CPU\n",
    "    * Host-Raid (wird meist als HW-RAID verkauft)\n",
    "    * Linux Software RAID\n",
    "    * Windows Software RAID"
   ]
  },
  {
   "cell_type": "markdown",
   "metadata": {},
   "source": [
    "#### Host RAID\n",
    "\n",
    "__Achtung__ Host Raid (auch BIOS-RAID oder Fake-RAID) diese belasten wie die Software RAID die CPU und sind stark abhängig von der verwendeten Hardware (BIOS).\n",
    "\n",
    "* https://de.wikipedia.org/wiki/RAID#Host-RAID\n",
    "\n",
    "Fehleranfällig und sollte nicht verwendet werden."
   ]
  },
  {
   "cell_type": "markdown",
   "metadata": {},
   "source": [
    "#### Linux Software RAID\n",
    "\n",
    "Linux kann durch den Multi Devices Driver Support mehrere Festplatten(partitionen) zu einem RAID verbinden."
   ]
  },
  {
   "cell_type": "markdown",
   "metadata": {},
   "source": [
    "#### Windows RAID\n",
    "\n",
    "Auch unter Windows gibt es Softwar RAID. Diese RAID lassen sich von Linux nicht mehr auslesen."
   ]
  },
  {
   "cell_type": "markdown",
   "metadata": {},
   "source": [
    "### RAID Level\n",
    "\n",
    "* RAID-0 (Stripping)\n",
    "* RAID-1 (Mirroring)\n",
    "* RAID-10 (Kombi von 1 und 0)\n",
    "* RAID-5 (Parity Striping)\n",
    "* RADI-6 (wie 5 nur doppelt redundant)"
   ]
  },
  {
   "cell_type": "markdown",
   "metadata": {},
   "source": [
    "#### RAID 0\n",
    "\n",
    "> Bei RAID 0 fehlt die Redundanz, daher gehört es streng genommen nicht zu den RAID-Systemen, es ist nur ein schnelles „Array of Independent Disks“.\n",
    "\n",
    "> RAID 0 bietet gesteigerte Transferraten, indem die beteiligten Festplatten in zusammenhängende Blöcke gleicher Größe aufgeteilt werden, wobei diese Blöcke quasi im Reißverschlussverfahren zu einer großen Festplatte angeordnet werden. Somit können Zugriffe auf allen Platten parallel durchgeführt werden (engl. striping, was „in Streifen zerlegen“ bedeutet, abgeleitet von stripe, oder „Streifen“)\n",
    "\n",
    "![RAID-Level 0](https://upload.wikimedia.org/wikipedia/commons/thumb/9/9b/RAID_0.svg/325px-RAID_0.svg.png)\n",
    "\n",
    "Von en:User:Cburnett - Eigenes WerkDiese Vektorgrafik wurde mit Inkscape erstellt., CC BY-SA 3.0, https://commons.wikimedia.org/w/index.php?curid=1509075\n",
    "\n",
    "Nachteile: \n",
    "\n",
    "* Hohes Ausfallrisiko (eine defekt alles defekt).\n",
    "* Geschwindigkeitsgewinn nur bei großen Dateien."
   ]
  },
  {
   "cell_type": "markdown",
   "metadata": {},
   "source": [
    "#### Raid 1\n",
    "\n",
    "> RAID 1 ist der Verbund von mindestens zwei Festplatten. Ein RAID 1 speichert auf allen Festplatten die gleichen Daten (Spiegelung) und bietet somit volle Redundanz. Die Kapazität des Arrays ist hierbei höchstens so groß wie die kleinste beteiligte Festplatte. \n",
    "\n",
    "![Raid 1](https://upload.wikimedia.org/wikipedia/commons/thumb/b/b7/RAID_1.svg/325px-RAID_1.svg.png)\n",
    "\n",
    "Vorteil:\n",
    "\n",
    "* erhöhte Sicherheit (fällt eine aus sind die Daten noch da)\n",
    "\n",
    "Nachteil:\n",
    "\n",
    "* Schreiben leicht langsamer."
   ]
  },
  {
   "cell_type": "markdown",
   "metadata": {},
   "source": [
    "#### RAID 10\n",
    "\n",
    "> Ein RAID-10-Verbund ist ein RAID 0 über mehrere RAID 1. Es werden dabei die Eigenschaften der beiden RAIDs kombiniert: Sicherheit und gesteigerte Schreib-/Lesegeschwindigkeit.\n",
    "\n",
    "> Ein RAID-10-Verbund benötigt mindestens vier Festplatten. \n",
    "\n",
    "![Raid 10](https://upload.wikimedia.org/wikipedia/commons/thumb/b/bb/RAID_10.svg/800px-RAID_10.svg.png)"
   ]
  },
  {
   "cell_type": "markdown",
   "metadata": {},
   "source": [
    "#### RAID 5\n",
    "\n",
    "> RAID 5 implementiert Striping mit auf Block-Level-verteilten Paritäts-Informationen. Zur Berechnung der Parität wird durch die jeweils an gleicher Adresse anliegenden Datenblöcke der am RAID-Verbund beteiligten Festplatten eine logische Gruppe gebildet. Von allen Datenblöcken einer Gruppe enthält ein Datenblock die Paritätsdaten, während die anderen Datenblöcke Nutzdaten enthalten. Die Nutzdaten von RAID-5-Gruppen werden wie bei RAID 0 auf alle Festplatten verteilt.\n",
    "\n",
    "![RAID 5](https://upload.wikimedia.org/wikipedia/commons/thumb/6/64/RAID_5.svg/675px-RAID_5.svg.png)\n",
    "\n",
    "Vorteil:\n",
    "\n",
    "* Bietet wie Raid 0 schnelle Schreib/Lesezugriffe.\n",
    "* Daten können wie bei RAID 1 bei Ausfall wiederhergestellt werden.\n",
    "\n",
    "Nachteil:\n",
    "\n",
    "* Bei kleinen Dateien. Checksumme muss für den betroffenen Datenblock neu berechnet werden.\n",
    "* Wiederherstellung ist zeitintensiver als bei RAID1.\n"
   ]
  },
  {
   "cell_type": "markdown",
   "metadata": {},
   "source": [
    "#### RAID 6\n",
    "\n",
    "> RAID 6 (unter diversen Handelsnamen angeboten, zum Beispiel Advanced Data Guarding) funktioniert ähnlich wie RAID 5, verkraftet aber den gleichzeitigen Ausfall von bis zu zwei Festplatten. Insbesondere beim intensiven Einsatz hochkapazitiver SATA-/IDE-Festplatten kann die Wiederherstellung der Redundanz nach dem Ausfall einer Platte viele Stunden bis hin zu Tagen dauern; bei RAID 5 besteht währenddessen kein Schutz vor einem weiteren Ausfall. \n",
    "\n",
    "![RAID 6](https://upload.wikimedia.org/wikipedia/commons/thumb/7/70/RAID_6.svg/850px-RAID_6.svg.png)"
   ]
  },
  {
   "cell_type": "markdown",
   "metadata": {},
   "source": [
    "### LVM\n",
    "\n",
    "> Der Logical Volume Manager (LVM) ist ein hauptsächlich im Unix- und Linux-Umfeld verbreitetes Partitionsschema, das eine Abstraktionsebene zwischen Festplatten, Partitionen und Dateisystemen bietet. Durch den LVM ist es möglich, dynamisch veränderbare Partitionen (Logical Volumes, kurz LV) zu bilden, die sich auch über mehrere Festplatten hinweg erstrecken können. Die Größe dieser virtuellen Datenträger lässt sich auch nach dem Anlegen eines Dateisystems noch ändern, selbst wenn schon Daten darin gespeichert wurden. \n",
    "\n",
    "Vorteile:\n",
    "\n",
    "* Anlegen, vergrößern und verkleinern im laufenden Betrieb.\n",
    "* Mehrere HD können als riesige virtuelle Partition zusammengefasst werden.\n",
    "* __Snapshot__ für Backups\n",
    "* Ist sehr schnell\n",
    "* Kann mit RAID kombiniert werden. Außnahme RAID-0, diese wird von LVM direkt unterstützt.\n",
    "\n",
    "![LVM](https://upload.wikimedia.org/wikipedia/commons/thumb/e/e6/Lvm.svg/620px-Lvm.svg.png)\n",
    "Von Emanuel DussDiese Vektorgrafik wurde mit Inkscape erstellt und von Perhelion dann manuell nachbearbeitet. - Eigenes Werk, CC BY-SA 3.0 de, https://commons.wikimedia.org/w/index.php?curid=11624545\n",
    "\n",
    "> Der LVM fasst _Festplatten_ beziehungsweise _Partitionen_ (Physical Volume, __PV__) zu einem _Pool_ (Volume Group, __VG__) zusammen, aus dem dynamisch _LV-„Partitionen“_ (die Logical Volumes, __LV__) angefordert werden können. Auf diesen Logical Volumes werden die Dateisysteme angelegt."
   ]
  },
  {
   "cell_type": "markdown",
   "metadata": {},
   "source": [
    "### Arbeiten mit LVM\n",
    "\n",
    "| Kommando  | \tFunktion |\n",
    "|-----------|------------|\n",
    "| lvcreate  | \trichtet ein neues LV in einer VG ein. |\n",
    "| lvdisplay  | \tliefert Detailinformationen zu einem LV. |\n",
    "| lvextend  | \tvergrößert ein LV. |\n",
    "| lvreduce  | \tverkleinert ein LV. |\n",
    "| lvremove  | \tlöscht ein LV. |\n",
    "| lvrename  | \tgibt dem LV einen neuen Namen. |\n",
    "| lvscan  | \tlistet alle LVs auf. |\n",
    "| pvcreate  | \tkennzeichnet eine Partition oder ein Device als PV. |\n",
    "| pvdisplay  | \tliefert Detailinformationen zu einem PV. |\n",
    "| pvremove  | \tentfernt die PV-Kennzeichnung eines ungenutzten PVs. |\n",
    "| pvscan  | \tlistet alle PVs auf. |\n",
    "| vgchange  | \tändert die Attribute einer VG. |\n",
    "| vgcreate  | \terzeugt eine neue VG aus einem oder mehreren PVs. |\n",
    "| vgdisplay  | \tliefert Detailinformationen zu einer VG. |\n",
    "| vgextend  | \tvergrößert eine VG um ein PV. |\n",
    "| vgmerge  | \tvereint zwei VGs. |\n",
    "| vgreduce  | \tverkleinert eine VG um ein ungenutztes PV. |\n",
    "| vgrename  | \tgibt einer VG einen neuen Namen. |\n",
    "| vgscan  | \tlistet alle VGs auf. |\n"
   ]
  },
  {
   "cell_type": "code",
   "execution_count": 7,
   "metadata": {
    "ExecuteTime": {
     "end_time": "2018-03-10T20:38:53.095765Z",
     "start_time": "2018-03-10T20:38:52.968650Z"
    }
   },
   "outputs": [
    {
     "name": "stdout",
     "output_type": "stream",
     "text": [
      "  ACTIVE            '/dev/rdf-dev-vg/root' [125,56 GiB] inherit\n",
      "  ACTIVE            '/dev/rdf-dev-vg/swap_1' [980,00 MiB] inherit\n"
     ]
    }
   ],
   "source": [
    "sudo lvscan"
   ]
  },
  {
   "cell_type": "code",
   "execution_count": 6,
   "metadata": {
    "ExecuteTime": {
     "end_time": "2018-03-10T20:38:15.607190Z",
     "start_time": "2018-03-10T20:38:15.419516Z"
    }
   },
   "outputs": [
    {
     "name": "stdout",
     "output_type": "stream",
     "text": [
      "  --- Logical volume ---\n",
      "  LV Path                /dev/rdf-dev-vg/root\n",
      "  LV Name                root\n",
      "  VG Name                rdf-dev-vg\n",
      "  LV UUID                4rg6Rc-6yYv-ykq8-yWAa-JWvL-c2Od-X2RlkW\n",
      "  LV Write Access        read/write\n",
      "  LV Creation host, time rdf-dev, 2018-03-08 14:26:00 +0000\n",
      "  LV Status              available\n",
      "  # open                 1\n",
      "  LV Size                125,56 GiB\n",
      "  Current LE             32144\n",
      "  Segments               1\n",
      "  Allocation             inherit\n",
      "  Read ahead sectors     auto\n",
      "  - currently set to     256\n",
      "  Block device           252:0\n",
      "   \n",
      "  --- Logical volume ---\n",
      "  LV Path                /dev/rdf-dev-vg/swap_1\n",
      "  LV Name                swap_1\n",
      "  VG Name                rdf-dev-vg\n",
      "  LV UUID                VpyfSg-u2Kl-57Ow-1CBU-N9sJ-1ymv-UMg9Vt\n",
      "  LV Write Access        read/write\n",
      "  LV Creation host, time rdf-dev, 2018-03-08 14:26:01 +0000\n",
      "  LV Status              available\n",
      "  # open                 2\n",
      "  LV Size                980,00 MiB\n",
      "  Current LE             245\n",
      "  Segments               1\n",
      "  Allocation             inherit\n",
      "  Read ahead sectors     auto\n",
      "  - currently set to     256\n",
      "  Block device           252:1\n",
      "   \n"
     ]
    }
   ],
   "source": [
    "sudo lvdisplay"
   ]
  },
  {
   "cell_type": "code",
   "execution_count": 9,
   "metadata": {
    "ExecuteTime": {
     "end_time": "2018-03-10T20:39:23.028621Z",
     "start_time": "2018-03-10T20:39:22.792457Z"
    }
   },
   "outputs": [
    {
     "name": "stdout",
     "output_type": "stream",
     "text": [
      "  PV /dev/sda5   VG rdf-dev-vg      lvm2 [126,52 GiB / 0    free]\n",
      "  Total: 1 [126,52 GiB] / in use: 1 [126,52 GiB] / in no VG: 0 [0   ]\n"
     ]
    }
   ],
   "source": [
    "sudo pvscan"
   ]
  },
  {
   "cell_type": "code",
   "execution_count": 10,
   "metadata": {
    "ExecuteTime": {
     "end_time": "2018-03-10T20:39:53.472930Z",
     "start_time": "2018-03-10T20:39:53.199902Z"
    }
   },
   "outputs": [
    {
     "name": "stdout",
     "output_type": "stream",
     "text": [
      "  --- Physical volume ---\n",
      "  PV Name               /dev/sda5\n",
      "  VG Name               rdf-dev-vg\n",
      "  PV Size               126,52 GiB / not usable 2,00 MiB\n",
      "  Allocatable           yes (but full)\n",
      "  PE Size               4,00 MiB\n",
      "  Total PE              32389\n",
      "  Free PE               0\n",
      "  Allocated PE          32389\n",
      "  PV UUID               nooOXA-y3HK-xp96-i0BO-cbyE-eLWr-wyLA8N\n",
      "   \n"
     ]
    }
   ],
   "source": [
    "sudo pvdisplay"
   ]
  },
  {
   "cell_type": "code",
   "execution_count": 11,
   "metadata": {
    "ExecuteTime": {
     "end_time": "2018-03-10T20:40:27.999263Z",
     "start_time": "2018-03-10T20:40:27.861257Z"
    }
   },
   "outputs": [
    {
     "name": "stdout",
     "output_type": "stream",
     "text": [
      "  Reading all physical volumes.  This may take a while...\n",
      "  Found volume group \"rdf-dev-vg\" using metadata type lvm2\n"
     ]
    }
   ],
   "source": [
    "sudo vgscan"
   ]
  },
  {
   "cell_type": "code",
   "execution_count": 12,
   "metadata": {
    "ExecuteTime": {
     "end_time": "2018-03-10T20:40:48.045511Z",
     "start_time": "2018-03-10T20:40:47.908273Z"
    }
   },
   "outputs": [
    {
     "name": "stdout",
     "output_type": "stream",
     "text": [
      "  --- Volume group ---\n",
      "  VG Name               rdf-dev-vg\n",
      "  System ID             \n",
      "  Format                lvm2\n",
      "  Metadata Areas        1\n",
      "  Metadata Sequence No  3\n",
      "  VG Access             read/write\n",
      "  VG Status             resizable\n",
      "  MAX LV                0\n",
      "  Cur LV                2\n",
      "  Open LV               2\n",
      "  Max PV                0\n",
      "  Cur PV                1\n",
      "  Act PV                1\n",
      "  VG Size               126,52 GiB\n",
      "  PE Size               4,00 MiB\n",
      "  Total PE              32389\n",
      "  Alloc PE / Size       32389 / 126,52 GiB\n",
      "  Free  PE / Size       0 / 0   \n",
      "  VG UUID               eqwYZf-cKTu-WPJc-A3sH-i809-ye33-MfGQJb\n",
      "   \n"
     ]
    }
   ],
   "source": [
    "sudo vgdisplay"
   ]
  },
  {
   "cell_type": "markdown",
   "metadata": {},
   "source": [
    "## Dateisysteme\n",
    "\n",
    "https://wiki.ubuntuusers.de/Dateisystem/\n",
    "\n",
    "> Dateisysteme sind die Schnittstellen zwischen dem Betriebssystem und den Partitionen auf Datenträgern. Sie organisieren die geordnete Ablage von Daten.\n",
    "\n"
   ]
  },
  {
   "cell_type": "markdown",
   "metadata": {},
   "source": [
    "## Was macht ein Dateisystem?\n",
    "\n",
    "> Neben der Datenorganisation auf dem Datenträger kann ein Dateisystem noch zusätzliche Möglichkeiten zur Verfügung stellen (Beispiele):  \n",
    "\n",
    "> * Verzeichnisse und Unterverzeichnisse anlegen\n",
    "* Datumsinformationen speichern (Erstellungsdatum, letzte Änderung, Zugriff)\n",
    "* Lange Dateinamen verwenden\n",
    "* Groß- und Kleinschreibung für Dateinamen berücksichtigen\n",
    "* Sonderzeichen für Dateinamen ermöglichen (z.B.: Leerzeichen)\n",
    "* Rechteverwaltung zur Zugriffssteuerung auf Dateien/Verzeichnisse\n",
    "* Journaling-Funktionen\n",
    "* ..."
   ]
  },
  {
   "cell_type": "markdown",
   "metadata": {},
   "source": [
    "## Dateisystem und Formatierung\n",
    "\n",
    "> Ein Dateisystem wird einer Partition durch Formatierung zugewiesen, „man formatiert mit einem Dateisystem“. Hierbei werden auf einer Partition bestimmte Stellen für die Verwaltung reserviert und mit vordefinierten Werten überschrieben (was zu Datenverlust führt). Außerdem wird eine Inhaltstabelle angelegt und die ersten Werte (für die reservierten Stellen) eingetragen. \n",
    "\n",
    "> Die Formatierung kann entweder mit grafischen Programmen wie GParted durchgeführt werden oder man benutzt die Terminalprogramme mke2fs bzw. mkfs (Für Beschreibungen der Terminalbefehle siehe die entsprechenden manpages). "
   ]
  },
  {
   "cell_type": "markdown",
   "metadata": {
    "ExecuteTime": {
     "end_time": "2018-03-10T16:24:32.144795Z",
     "start_time": "2018-03-10T16:24:31.820685Z"
    }
   },
   "source": [
    "Gegenüberstellung von Dateisystemen siehe:\n",
    "\n",
    "https://wiki.ubuntuusers.de/Dateisystem/#Unterschiede"
   ]
  },
  {
   "cell_type": "markdown",
   "metadata": {},
   "source": [
    "Hier die wichtigsten Linux Dateisysteme und deren Maximalen Dateigröße\n",
    "\n",
    "| Dateisystem |  \tMaximale Dateigröße | \tMaximale Dateisystemgröße |\n",
    "|-------------|-------------------------|-----------------------------|\n",
    "| btrfs |  \t16.777.216 TiB | \t16.777.216 TiB = 16 Exabyte = 16 EiB |\n",
    "| ext3 |  \t2 TiB  |\t32 TiB (bei 8 KiB Blockgröße) |\n",
    "| ext4 |  \t16 TiB  |\t1.048.576 TiB = 1 EiB |\n",
    "| xfs |  \t9.437.184 TiB | \t9.437.184 TiB |\n",
    "| ZFS |  \t16.777.216 TiB | \t16.777.216 TiB |\n"
   ]
  },
  {
   "cell_type": "markdown",
   "metadata": {},
   "source": [
    "### ext Dateisystem\n",
    "\n",
    "> Im Gegensatz zu den unter Windows verwendeten Dateisystemen FAT32 und NTFS, die auf einer Tabellenstruktur basieren, verwenden ext-Dateisysteme eine Baumstruktur zum Speichern des Laufwerksinhaltes. Die Knoten dieser Baumstruktur bestehen aus Inodes (Kurzwort aus \"index node\"). Diese Inodes speichern entweder direkte Verweise auf Festplattenblöcke mit kleinen Dateien oder einen Verweis auf einen weiteren Block, in dem die Datenblöcke größerer Dateien gespeichert sind. Ein Inode hat eine Mindestgröße von 128 Byte.\n",
    "\n",
    "> Informationen über das Dateisystem werden im ersten Block, im Superblock des Dateisystems, gespeichert. Hier finden sich alle Optionen des Dateisystems, die sich auch mit dem Befehl tune2fs manipulieren lassen. Außerdem findet sich dort ein Verweis auf die Inode-Struktur des zu Grunde liegenden Dateisystems.\n",
    "\n",
    "https://wiki.ubuntuusers.de/ext/ Stand 2018-03-10 20:22:53 \n",
    "\n",
    "Siehe auch: https://de.wikipedia.org/wiki/Ext4\n",
    "\n",
    "Zum Journaling:\n",
    "\n",
    "Hier wird überprüft, ob eine Dateiopreation vollständig durchgeführt wurde, ähnlich wie bei Datenbanken die Transaktion.\n",
    "\n",
    "__Allerdings__: Werden Daten im Cache gehalten und können u.U. erst nach Sekunden später ausgeführt werden. Somit kann es trotz Journalings zu Datenverlusten kommen."
   ]
  },
  {
   "cell_type": "markdown",
   "metadata": {},
   "source": [
    "### btrfs\n",
    "\n",
    "> Es soll in Zukunft die bislang im Linux-Umfeld vorherrschenden Dateisysteme ext3 bzw. ext4 mit seinen Beschränkungen (Dateigröße und Gesamtdateisystemgröße) ersetzen. Das Btrfs-Dateisystem ist u.a. auf die folgenden Eigenschaften ausgelegt:  \n",
    "* erweiterte Dateispeicherung (Dateigröße bis 2^64 Byte)\n",
    "* effizientere Speicherung kleiner Dateien\n",
    "* effizientere Verwaltung der Verzeichnisstrukturen\n",
    "* dynamische Metadatenverwaltung\n",
    "* direkt erstellbare \"Schnappschüsse\" des Dateisystems oder Teilen davon\n",
    "    * Unterverzeichnisse mit separatem Laufwerk-Charakter\n",
    "    * Objekt bezogene Spiegelung mit Trennung der Ebenen\n",
    "* Prüfsummen für Daten und Metadaten (Mehrfach-Algorithmen verfügbar)\n",
    "    * direkte Integration in den \"Device-Mapper\" mit mehrfacher Geräteunterstützung\n",
    "    * ständige (online) Dateisystemprüfung und Defragmentierung\n",
    "* sehr schnelle Dateisystemprüfung beim Hochfahren\n",
    "    * effiziente Backup-Erweiterung und Dateisystem-Spiegelung"
   ]
  },
  {
   "cell_type": "markdown",
   "metadata": {},
   "source": [
    "Wichtigste Eigenschaft:\n",
    "\n",
    "__Copy on Write (CoW)__: \n",
    "\n",
    "> Das Copy-On-Write-Verfahren (kurz COW genannt, englisch wörtlich für „Kopieren-beim-Schreiben“) ist in der Datenverarbeitung eine Optimierungsmethode zur Vermeidung unnötiger Kopien und Kopiervorgänge, beispielsweise zwischen Prozessen unter unixartigen Systemen, insbesondere bei oder nach einem fork-Systemaufruf.\n",
    "\n",
    "> Die Grundidee des Verfahrens ist, dass die Kopie erst dann „real“ angefertigt wird, sobald sie von einem der Beteiligten verändert wird. Solange alle Beteiligten ihre Kopie nicht verändert haben, reicht es, das Original ein einziges Mal zu speichern. Die Kopie erfolgt also zunächst „virtuell“ – üblicherweise durch das Setzen harter Verknüpfungen – und wird erst bei einer ersten Änderung verzögert angelegt. \n",
    "\n",
    "https://de.wikipedia.org/wiki/Copy-On-Write aufgerufen 2018-03-10 20:33:24\n",
    "\n",
    "__Achtung__: Bei großen Binärdateien (Datenbanken, virtuelle Festplattenimages) kann sich btrfs CoW negativ auswirken.\n",
    "\n",
    "__Deduplizierung__ um Dateien gleichen Inhalts nur einmal zu speichern.\n",
    "\n",
    "Direket Unterstützt RAID-0, -1, -5, -6 und -10\n",
    "\n",
    "Komprimiert Dateien (mount-Option compress)\n",
    "\n",
    "SSD-Optimierung (mount-Option ssd)\n",
    "\n",
    "...\n",
    "\n",
    "Mit Subvolumes, Snapshots und RAID bietet btrfs ähnliche Funktionen wie die\n",
    "im Kernel schon enthaltenen Multi Device und Logical Volume Manager und RAID. "
   ]
  },
  {
   "cell_type": "markdown",
   "metadata": {},
   "source": [
    "### ZFS\n",
    "\n",
    "> ZFS (ursprünglich Zettabyte File System) wird oft als Dateisystem angesehen, was im Grunde genommen ein Missverständnis darstellt. ZFS kann ein Dateisystem sein, aber beherrscht auch noch einiges mehr. Es vereint die Funktionalität eines _Logical Volume Managers_ und eines _Software-RAID_ mit einem _Copy-on-Write-Dateisystem (COW)_. Das heißt, dass es (aufgrund seiner Kenntnisse der Festplattenbelegung) effizienter als jedes Hardware-RAID arbeitet, Daten-Integrität per Transaktionen ähnlich wie bei relationalen Datenbanken sichert und im Falle von Daten-Redundanz (Mehrfachspeicherung) sogar selbständig Daten repariert.\n",
    "\n",
    "> ZFS ist ein 128-bit-Dateisystem, das die Adressierung von 1.000.000.000.000.000.000.000 (1021) Bytes erlaubt (zum Vergleich siehe Binärpräfix). Es ist wahrscheinlich das fortschrittlichste Dateisystem, das es derzeit gibt.\n",
    "\n",
    "https://wiki.ubuntuusers.de/ZFS_on_Linux/ aufgerufen 2018-03-10 21:29:52 "
   ]
  },
  {
   "cell_type": "markdown",
   "metadata": {},
   "source": [
    "## Arbeiten mit den Dateisystemen"
   ]
  },
  {
   "cell_type": "markdown",
   "metadata": {},
   "source": [
    "### EXT4\n",
    "\n",
    "Siehe auch: https://www.thomas-krenn.com/de/wiki/Ext4_Dateisystem\n"
   ]
  },
  {
   "cell_type": "code",
   "execution_count": 4,
   "metadata": {
    "ExecuteTime": {
     "end_time": "2018-03-10T20:33:43.042747Z",
     "start_time": "2018-03-10T20:33:42.932798Z"
    }
   },
   "outputs": [
    {
     "name": "stdout",
     "output_type": "stream",
     "text": [
      "/dev/mapper/rdf--dev--vg-root /               ext4    errors=remount-ro 0       1\n",
      "UUID=65b9c4c3-6580-4695-95cf-0ac99bab64eb /boot           ext2    defaults        0       2\n",
      "/dev/mapper/rdf--dev--vg-swap_1 none            swap    sw              0       0\n"
     ]
    }
   ],
   "source": [
    "grep -v ^# /etc/fstab"
   ]
  },
  {
   "cell_type": "markdown",
   "metadata": {},
   "source": [
    "#### Journaling\n",
    "\n",
    "* data=ordered: Es werden nur Metadaten gespeichert, also Informationen _über_ Dateien. Es werden alle 5 Sekunden die Daten gespeichert. Mit ext4 kommt hier auch Delayd Allocation hinzu (wie auch bei btrfs, zfs ...).  \n",
    "Die Datenblöcke werden erst beim physikalischen Schreiben reserviert. Datenblöcke werden nicht fragementiert und die Geschwindigkeit kann durch Bündelung erhöht werden.\n",
    "\n",
    "* data=writeback: Schneller also `ordered` da der Abschluß einer Operation nicht abgewartet wird. Operationen sollten mit `fsync` abgeschlossen werden.\n",
    "\n",
    "* data=journal: Es werden zusätlich die Daten im Journal abgespeichert."
   ]
  },
  {
   "cell_type": "code",
   "execution_count": 13,
   "metadata": {
    "ExecuteTime": {
     "end_time": "2018-03-10T20:42:54.950131Z",
     "start_time": "2018-03-10T20:42:54.832482Z"
    }
   },
   "outputs": [
    {
     "name": "stdout",
     "output_type": "stream",
     "text": [
      "[    6.620874] EXT4-fs (dm-0): mounted filesystem with ordered data mode. Opts: (null)\n",
      "[    7.597597] EXT4-fs (dm-0): re-mounted. Opts: errors=remount-ro\n",
      "[    8.004363] EXT4-fs (sda1): mounting ext2 file system using the ext4 subsystem\n",
      "[    8.007095] EXT4-fs (sda1): mounted filesystem without journal. Opts: (null)\n"
     ]
    }
   ],
   "source": [
    "dmesg | grep EXT"
   ]
  },
  {
   "cell_type": "code",
   "execution_count": 15,
   "metadata": {
    "ExecuteTime": {
     "end_time": "2018-03-10T20:56:19.805653Z",
     "start_time": "2018-03-10T20:56:19.616037Z"
    }
   },
   "outputs": [
    {
     "name": "stdout",
     "output_type": "stream",
     "text": [
      "tune2fs 1.42.13 (17-May-2015)\n",
      "Filesystem volume name:   <none>\n",
      "Last mounted on:          /\n",
      "Filesystem UUID:          008479b7-dc82-494e-af03-3c4d4abbf652\n",
      "Filesystem magic number:  0xEF53\n",
      "Filesystem revision #:    1 (dynamic)\n",
      "Filesystem features:      has_journal ext_attr resize_inode dir_index filetype needs_recovery extent flex_bg sparse_super large_file huge_file uninit_bg dir_nlink extra_isize\n",
      "Filesystem flags:         signed_directory_hash \n",
      "Default mount options:    user_xattr acl\n",
      "Filesystem state:         clean\n",
      "Errors behavior:          Continue\n",
      "Filesystem OS type:       Linux\n",
      "Inode count:              8232960\n",
      "Block count:              32915456\n",
      "Reserved block count:     1645772\n",
      "Free blocks:              27400798\n",
      "Free inodes:              7473594\n",
      "First block:              0\n",
      "Block size:               4096\n",
      "Fragment size:            4096\n",
      "Reserved GDT blocks:      1016\n",
      "Blocks per group:         32768\n",
      "Fragments per group:      32768\n",
      "Inodes per group:         8192\n",
      "Inode blocks per group:   512\n",
      "Flex block group size:    16\n",
      "Filesystem created:       Thu Mar  8 14:26:03 2018\n",
      "Last mount time:          Sat Mar 10 14:24:17 2018\n",
      "Last write time:          Sat Mar 10 14:24:16 2018\n",
      "Mount count:              4\n",
      "Maximum mount count:      -1\n",
      "Last checked:             Thu Mar  8 14:26:03 2018\n",
      "Check interval:           0 (<none>)\n",
      "Lifetime writes:          240 GB\n",
      "Reserved blocks uid:      0 (user root)\n",
      "Reserved blocks gid:      0 (group root)\n",
      "First inode:              11\n",
      "Inode size:\t          256\n",
      "Required extra isize:     28\n",
      "Desired extra isize:      28\n",
      "Journal inode:            8\n",
      "First orphan inode:       1187562\n",
      "Default directory hash:   half_md4\n",
      "Directory Hash Seed:      5614465b-7ba9-436f-b772-0a7aad010296\n",
      "Journal backup:           inode blocks\n"
     ]
    }
   ],
   "source": [
    "sudo tune2fs /dev/mapper/rdf--dev--vg-root -l"
   ]
  },
  {
   "cell_type": "code",
   "execution_count": 19,
   "metadata": {
    "ExecuteTime": {
     "end_time": "2018-03-10T20:58:45.733028Z",
     "start_time": "2018-03-10T20:58:45.566607Z"
    }
   },
   "outputs": [],
   "source": [
    "sudo e2label /dev/mapper/rdf--dev--vg-root mylabel"
   ]
  },
  {
   "cell_type": "code",
   "execution_count": 20,
   "metadata": {
    "ExecuteTime": {
     "end_time": "2018-03-10T20:58:58.913715Z",
     "start_time": "2018-03-10T20:58:58.775658Z"
    }
   },
   "outputs": [
    {
     "name": "stdout",
     "output_type": "stream",
     "text": [
      "tune2fs 1.42.13 (17-May-2015)\n",
      "Filesystem volume name:   mylabel\n",
      "Last mounted on:          /\n",
      "Filesystem UUID:          008479b7-dc82-494e-af03-3c4d4abbf652\n",
      "Filesystem magic number:  0xEF53\n",
      "Filesystem revision #:    1 (dynamic)\n",
      "Filesystem features:      has_journal ext_attr resize_inode dir_index filetype needs_recovery extent flex_bg sparse_super large_file huge_file uninit_bg dir_nlink extra_isize\n",
      "Filesystem flags:         signed_directory_hash \n",
      "Default mount options:    user_xattr acl\n",
      "Filesystem state:         clean\n",
      "Errors behavior:          Continue\n",
      "Filesystem OS type:       Linux\n",
      "Inode count:              8232960\n",
      "Block count:              32915456\n",
      "Reserved block count:     1645772\n",
      "Free blocks:              27400798\n",
      "Free inodes:              7473594\n",
      "First block:              0\n",
      "Block size:               4096\n",
      "Fragment size:            4096\n",
      "Reserved GDT blocks:      1016\n",
      "Blocks per group:         32768\n",
      "Fragments per group:      32768\n",
      "Inodes per group:         8192\n",
      "Inode blocks per group:   512\n",
      "Flex block group size:    16\n",
      "Filesystem created:       Thu Mar  8 14:26:03 2018\n",
      "Last mount time:          Sat Mar 10 14:24:17 2018\n",
      "Last write time:          Sat Mar 10 20:58:45 2018\n",
      "Mount count:              4\n",
      "Maximum mount count:      -1\n",
      "Last checked:             Thu Mar  8 14:26:03 2018\n",
      "Check interval:           0 (<none>)\n",
      "Lifetime writes:          240 GB\n",
      "Reserved blocks uid:      0 (user root)\n",
      "Reserved blocks gid:      0 (group root)\n",
      "First inode:              11\n",
      "Inode size:\t          256\n",
      "Required extra isize:     28\n",
      "Desired extra isize:      28\n",
      "Journal inode:            8\n",
      "First orphan inode:       1187562\n",
      "Default directory hash:   half_md4\n",
      "Directory Hash Seed:      5614465b-7ba9-436f-b772-0a7aad010296\n",
      "Journal backup:           inode blocks\n"
     ]
    }
   ],
   "source": [
    "sudo tune2fs /dev/mapper/rdf--dev--vg-root -l"
   ]
  },
  {
   "cell_type": "code",
   "execution_count": 22,
   "metadata": {
    "ExecuteTime": {
     "end_time": "2018-03-10T21:00:19.805726Z",
     "start_time": "2018-03-10T21:00:19.645925Z"
    }
   },
   "outputs": [
    {
     "name": "stdout",
     "output_type": "stream",
     "text": [
      "tune2fs 1.42.13 (17-May-2015)\n",
      "tune2fs: Ungültige Option -- -\n",
      "Aufruf: tune2fs [-c max_Anzahl_Einhängungen] [-e Fehlerverhalten] [-g Gruppe]\n",
      "\t[-i Intervall[d|m|w]] [-j] [-J Journal_Optionen] [-l]\n",
      "\t[-m reservierte_Blöcke_Prozent] [-o [^]Einhängeoptionen[,...]] [-p mmp_Aktualisierungsintervall]\n",
      "\t[-r Anzahl_reservierter_Blöcke] [-u Benutzer] [-C Anzahl_Einhängungen] [-L Volume_Kennung]\n",
      "\t[-M letztes_eingehängtes_Verzeichnis] [-O [^]Eigenschaft[,...]]\n",
      "\t[-Q Quota-Optionen]\n",
      "\t[-E erweiterte_Optionen[,...]] [-T Zeitpunkt_letzter_Prüfung] [-U UUID]\n",
      "\t[ -I neue_Inodegröße ] Gerät\n"
     ]
    },
    {
     "ename": "",
     "evalue": "1",
     "output_type": "error",
     "traceback": []
    }
   ],
   "source": [
    "sudo tune2fs --help"
   ]
  },
  {
   "cell_type": "code",
   "execution_count": 24,
   "metadata": {
    "ExecuteTime": {
     "end_time": "2018-03-10T21:01:35.533368Z",
     "start_time": "2018-03-10T21:01:35.392551Z"
    }
   },
   "outputs": [
    {
     "name": "stdout",
     "output_type": "stream",
     "text": [
      "resize2fs 1.42.13 (17-May-2015)\n",
      "resize2fs: Ungültige Option -- -\n",
      "Aufruf: resize2fs [-d debug_flags] [-f] [-F] [-M] [-P] [-p] Gerät [neue_Größe]\n",
      "\n"
     ]
    },
    {
     "ename": "",
     "evalue": "1",
     "output_type": "error",
     "traceback": []
    }
   ],
   "source": [
    "sudo resize2fs --help"
   ]
  },
  {
   "cell_type": "code",
   "execution_count": 26,
   "metadata": {
    "ExecuteTime": {
     "end_time": "2018-03-10T21:03:35.032417Z",
     "start_time": "2018-03-10T21:02:59.171926Z"
    }
   },
   "outputs": [
    {
     "name": "stdout",
     "output_type": "stream",
     "text": [
      "<Fragmented files>                             now/best       size/ext\n",
      "1. /home/vagrant/.local/share/jupyter/nbsignatures.db\n",
      "                                                 4/1              4 KB\n",
      "2. /home/vagrant/.ipython/profile_default/history.sqlite\n",
      "                                                 3/1              4 KB\n",
      "3. /var/cache/lxc/centos/x86_64/7/rootfs/var/log/yum.log\n",
      "                                                 3/1              4 KB\n",
      "4. /var/lib/rabbitmq/mnesia/rabbit@rdf-dev/schema.DAT\n",
      "                                                 5/1              4 KB\n",
      "5. /var/cache/lxc/xenial/rootfs-amd64/var/log/alternatives.log\n",
      "                                                 4/1              5 KB\n",
      "\n",
      " Total/best extents\t\t\t\t618251/617956\n",
      " Average size per extent\t\t\t31 KB\n",
      " Fragmentation score\t\t\t\t0\n",
      " [0-30 no problem: 31-55 a little bit fragmented: 56- needs defrag]\n",
      " This directory (/) does not need defragmentation.\n",
      " Done.\n"
     ]
    }
   ],
   "source": [
    "sudo e4defrag -c /"
   ]
  },
  {
   "cell_type": "markdown",
   "metadata": {},
   "source": [
    "### BTRFS\n",
    "\n"
   ]
  },
  {
   "cell_type": "code",
   "execution_count": 28,
   "metadata": {
    "ExecuteTime": {
     "end_time": "2018-03-10T21:04:54.363038Z",
     "start_time": "2018-03-10T21:04:54.202868Z"
    }
   },
   "outputs": [
    {
     "name": "stdout",
     "output_type": "stream",
     "text": [
      "Medium /dev/sdb: 500 GiB, 536870912000 Bytes, 1048576000 Sektoren\n",
      "Einheiten: sectors von 1 * 512 = 512 Bytes\n",
      "Sektorengröße (logisch/physisch): 512 Bytes / 512 Bytes\n",
      "I/O Größe (minimal/optimal): 512 Bytes / 512 Bytes\n"
     ]
    }
   ],
   "source": [
    "sudo fdisk -l /dev/sdb"
   ]
  },
  {
   "cell_type": "code",
   "execution_count": 30,
   "metadata": {
    "ExecuteTime": {
     "end_time": "2018-03-10T21:07:03.502786Z",
     "start_time": "2018-03-10T21:07:03.357615Z"
    }
   },
   "outputs": [
    {
     "name": "stdout",
     "output_type": "stream",
     "text": [
      "81  Minix / old Linux\n",
      "82  Linux swap / Solaris\n",
      "83  Linux\n",
      "85  Linux extended\n",
      "88  Linux plaintext\n",
      "8e  Linux LVM\n",
      "f0  Linux/PA-RISC boot\n",
      "fd  Linux raid autodetect\n"
     ]
    }
   ],
   "source": [
    "sudo sfdisk -T | grep Linux"
   ]
  },
  {
   "cell_type": "code",
   "execution_count": 31,
   "metadata": {
    "ExecuteTime": {
     "end_time": "2018-03-10T21:07:36.340518Z",
     "start_time": "2018-03-10T21:07:36.069490Z"
    }
   },
   "outputs": [
    {
     "name": "stdout",
     "output_type": "stream",
     "text": [
      "Checking that no-one is using this disk right now ... OK\n",
      "\n",
      "Medium /dev/sdb: 500 GiB, 536870912000 Bytes, 1048576000 Sektoren\n",
      "Einheiten: sectors von 1 * 512 = 512 Bytes\n",
      "Sektorengröße (logisch/physisch): 512 Bytes / 512 Bytes\n",
      "I/O Größe (minimal/optimal): 512 Bytes / 512 Bytes\n",
      "\n",
      ">>> Created a new DOS disklabel with disk identifier 0x270f957a.\n",
      "Created a new partition 1 of type 'Linux' and of size 500 GiB.\n",
      "/dev/sdb2: \n",
      "New situation:\n",
      "\n",
      "Gerät      Boot Start       Ende   Sektoren Größe Id Typ\n",
      "/dev/sdb1        2048 1048575999 1048573952  500G 83 Linux\n",
      "\n",
      "The partition table has been altered.\n",
      "Calling ioctl() to re-read partition table.\n",
      "Syncing disks.\n"
     ]
    }
   ],
   "source": [
    "echo ',,83;' | sudo sfdisk /dev/sdb"
   ]
  },
  {
   "cell_type": "code",
   "execution_count": 32,
   "metadata": {
    "ExecuteTime": {
     "end_time": "2018-03-10T21:07:51.710265Z",
     "start_time": "2018-03-10T21:07:51.580646Z"
    }
   },
   "outputs": [
    {
     "name": "stdout",
     "output_type": "stream",
     "text": [
      "Medium /dev/sdb: 500 GiB, 536870912000 Bytes, 1048576000 Sektoren\n",
      "Einheiten: sectors von 1 * 512 = 512 Bytes\n",
      "Sektorengröße (logisch/physisch): 512 Bytes / 512 Bytes\n",
      "I/O Größe (minimal/optimal): 512 Bytes / 512 Bytes\n",
      "Typ der Medienbezeichnung: dos\n",
      "Medienkennung: 0x270f957a\n",
      "\n",
      "Gerät      Boot Start       Ende   Sektoren Größe Id Typ\n",
      "/dev/sdb1        2048 1048575999 1048573952  500G 83 Linux\n"
     ]
    }
   ],
   "source": [
    "sudo fdisk -l /dev/sdb"
   ]
  },
  {
   "cell_type": "code",
   "execution_count": 33,
   "metadata": {
    "ExecuteTime": {
     "end_time": "2018-03-10T21:08:18.336491Z",
     "start_time": "2018-03-10T21:08:18.179197Z"
    }
   },
   "outputs": [
    {
     "name": "stdout",
     "output_type": "stream",
     "text": [
      "btrfs-progs v4.4\n",
      "See http://btrfs.wiki.kernel.org for more information.\n",
      "\n",
      "Label:              (null)\n",
      "UUID:               aa61692f-e171-4e30-8e41-2fbceea3c959\n",
      "Node size:          16384\n",
      "Sector size:        4096\n",
      "Filesystem size:    500.00GiB\n",
      "Block group profiles:\n",
      "  Data:             single            8.00MiB\n",
      "  Metadata:         DUP               1.01GiB\n",
      "  System:           DUP              12.00MiB\n",
      "SSD detected:       no\n",
      "Incompat features:  extref, skinny-metadata\n",
      "Number of devices:  1\n",
      "Devices:\n",
      "   ID        SIZE  PATH\n",
      "    1   500.00GiB  /dev/sdb1\n",
      "\n"
     ]
    }
   ],
   "source": [
    "sudo mkfs.btrfs /dev/sdb1"
   ]
  },
  {
   "cell_type": "code",
   "execution_count": 34,
   "metadata": {
    "ExecuteTime": {
     "end_time": "2018-03-10T21:08:46.126250Z",
     "start_time": "2018-03-10T21:08:45.994797Z"
    }
   },
   "outputs": [],
   "source": [
    "sudo mkdir /media/btrfs"
   ]
  },
  {
   "cell_type": "code",
   "execution_count": 36,
   "metadata": {
    "ExecuteTime": {
     "end_time": "2018-03-10T21:09:15.049850Z",
     "start_time": "2018-03-10T21:09:14.881106Z"
    }
   },
   "outputs": [],
   "source": [
    "sudo mount /dev/sdb1 /media/btrfs"
   ]
  },
  {
   "cell_type": "code",
   "execution_count": 41,
   "metadata": {
    "ExecuteTime": {
     "end_time": "2018-03-10T21:12:49.424515Z",
     "start_time": "2018-03-10T21:12:49.260464Z"
    }
   },
   "outputs": [
    {
     "name": "stdout",
     "output_type": "stream",
     "text": [
      "Label: none  uuid: aa61692f-e171-4e30-8e41-2fbceea3c959\n",
      "\tTotal devices 1 FS bytes used 384.00KiB\n",
      "\tdevid    1 size 498.00GiB used 2.02GiB path /dev/sdb1\n",
      "\n"
     ]
    }
   ],
   "source": [
    "sudo btrfs filesystem show"
   ]
  },
  {
   "cell_type": "code",
   "execution_count": 42,
   "metadata": {
    "ExecuteTime": {
     "end_time": "2018-03-10T21:14:20.838948Z",
     "start_time": "2018-03-10T21:14:20.725621Z"
    },
    "scrolled": false
   },
   "outputs": [
    {
     "name": "stdout",
     "output_type": "stream",
     "text": [
      "usage: btrfs [--help] [--version] <group> [<group>...] <command> [<args>]\n",
      "\n",
      "Command groups:\n",
      "  subvolume         manage subvolumes: create, delete, list, etc\n",
      "  filesystem        overall filesystem tasks and information\n",
      "  balance           balance data accross devices, or change block groups using filters\n",
      "  device            manage and query devices in the filesystem\n",
      "  scrub             verify checksums of data and metadata\n",
      "  rescue            toolbox for specific rescue operations\n",
      "  inspect-internal  query various internal information\n",
      "  property          modify properties of filesystem objects\n",
      "  quota             manage filesystem quota settings\n",
      "  qgroup            manage quota groups\n",
      "  replace           replace a device in the filesystem\n",
      "\n",
      "Commands:\n",
      "  check             Check structural inegrity of a filesystem (unmounted).\n",
      "  restore           Try to restore files from a damaged filesystem (unmounted)\n",
      "  send              Send the subvolume(s) to stdout.\n",
      "  receive           Receive subvolumes from stdin.\n",
      "  help              Display help information\n",
      "  version           Display btrfs-progs version\n",
      "\n",
      "For an overview of a given command use 'btrfs command --help'\n",
      "or 'btrfs [command...] --help --full' to print all available options.\n",
      "Any command name can be shortened as far as it stays unambiguous,\n",
      "however it is recommended to use full command names in scripts.\n",
      "All command groups have their manual page named 'btrfs-<group>'.\n"
     ]
    },
    {
     "ename": "",
     "evalue": "1",
     "output_type": "error",
     "traceback": []
    }
   ],
   "source": [
    "btrfs"
   ]
  },
  {
   "cell_type": "code",
   "execution_count": 41,
   "metadata": {
    "ExecuteTime": {
     "end_time": "2018-03-10T21:12:49.424515Z",
     "start_time": "2018-03-10T21:12:49.260464Z"
    }
   },
   "outputs": [
    {
     "name": "stdout",
     "output_type": "stream",
     "text": [
      "Label: none  uuid: aa61692f-e171-4e30-8e41-2fbceea3c959\n",
      "\tTotal devices 1 FS bytes used 384.00KiB\n",
      "\tdevid    1 size 498.00GiB used 2.02GiB path /dev/sdb1\n",
      "\n"
     ]
    }
   ],
   "source": [
    "sudo btrfs filesystem show"
   ]
  },
  {
   "cell_type": "code",
   "execution_count": 38,
   "metadata": {
    "ExecuteTime": {
     "end_time": "2018-03-10T21:10:55.378617Z",
     "start_time": "2018-03-10T21:10:55.166324Z"
    }
   },
   "outputs": [
    {
     "name": "stdout",
     "output_type": "stream",
     "text": [
      "Resize '/media/btrfs' of '-2G'\n"
     ]
    }
   ],
   "source": [
    "sudo btrfs filesystem resize -2G /media/btrfs"
   ]
  },
  {
   "cell_type": "code",
   "execution_count": 39,
   "metadata": {
    "ExecuteTime": {
     "end_time": "2018-03-10T21:11:21.904454Z",
     "start_time": "2018-03-10T21:11:21.771711Z"
    }
   },
   "outputs": [
    {
     "name": "stdout",
     "output_type": "stream",
     "text": [
      "/dev/sdb1 is currently mounted. Aborting.\n"
     ]
    },
    {
     "ename": "",
     "evalue": "240",
     "output_type": "error",
     "traceback": []
    }
   ],
   "source": [
    "sudo btrfs check /dev/sdb1"
   ]
  },
  {
   "cell_type": "code",
   "execution_count": 43,
   "metadata": {
    "ExecuteTime": {
     "end_time": "2018-03-10T21:16:17.429487Z",
     "start_time": "2018-03-10T21:16:17.276771Z"
    }
   },
   "outputs": [
    {
     "name": "stdout",
     "output_type": "stream",
     "text": [
      "/dev/sdb1 is currently mounted. Aborting.\n"
     ]
    },
    {
     "ename": "",
     "evalue": "240",
     "output_type": "error",
     "traceback": []
    }
   ],
   "source": [
    "sudo btrfs check /dev/sdb1"
   ]
  },
  {
   "cell_type": "code",
   "execution_count": 47,
   "metadata": {
    "ExecuteTime": {
     "end_time": "2018-03-10T21:20:49.294336Z",
     "start_time": "2018-03-10T21:20:49.067515Z"
    }
   },
   "outputs": [],
   "source": [
    "sudo touch /media/btrfs/datei\n",
    "sudo chattr +C /media/btrfs/datei"
   ]
  },
  {
   "cell_type": "code",
   "execution_count": 50,
   "metadata": {
    "ExecuteTime": {
     "end_time": "2018-03-10T21:23:39.743034Z",
     "start_time": "2018-03-10T21:23:39.596786Z"
    }
   },
   "outputs": [
    {
     "name": "stdout",
     "output_type": "stream",
     "text": [
      "---------------C /media/btrfs/datei\n"
     ]
    }
   ],
   "source": [
    "sudo lsattr /media/btrfs/datei"
   ]
  },
  {
   "cell_type": "code",
   "execution_count": 51,
   "metadata": {
    "ExecuteTime": {
     "end_time": "2018-03-10T21:24:08.248609Z",
     "start_time": "2018-03-10T21:24:08.108961Z"
    }
   },
   "outputs": [
    {
     "name": "stdout",
     "output_type": "stream",
     "text": [
      "Create subvolume '/media/btrfs/sub1'\n"
     ]
    }
   ],
   "source": [
    "sudo btrfs subvolume create /media/btrfs/sub1"
   ]
  },
  {
   "cell_type": "code",
   "execution_count": 53,
   "metadata": {
    "ExecuteTime": {
     "end_time": "2018-03-10T21:24:36.182138Z",
     "start_time": "2018-03-10T21:24:36.002730Z"
    }
   },
   "outputs": [],
   "source": [
    "sudo mkdir /media/btrfs/data"
   ]
  },
  {
   "cell_type": "code",
   "execution_count": 55,
   "metadata": {
    "ExecuteTime": {
     "end_time": "2018-03-10T21:25:53.581585Z",
     "start_time": "2018-03-10T21:25:53.458531Z"
    }
   },
   "outputs": [
    {
     "name": "stdout",
     "output_type": "stream",
     "text": [
      "Create subvolume '/media/btrfs/data/sub2'\n"
     ]
    }
   ],
   "source": [
    "sudo btrfs subvolume create /media/btrfs/data/sub2"
   ]
  },
  {
   "cell_type": "code",
   "execution_count": 56,
   "metadata": {
    "ExecuteTime": {
     "end_time": "2018-03-10T21:26:19.347683Z",
     "start_time": "2018-03-10T21:26:19.213391Z"
    }
   },
   "outputs": [
    {
     "name": "stdout",
     "output_type": "stream",
     "text": [
      "ID 257 gen 10 top level 5 path sub1\n",
      "ID 258 gen 12 top level 5 path data/sub2\n"
     ]
    }
   ],
   "source": [
    "sudo btrfs subvolume list /media/btrfs"
   ]
  },
  {
   "cell_type": "code",
   "execution_count": 57,
   "metadata": {
    "ExecuteTime": {
     "end_time": "2018-03-10T21:27:17.956392Z",
     "start_time": "2018-03-10T21:27:17.789326Z"
    }
   },
   "outputs": [],
   "source": [
    "sudo touch /media/btrfs/sub1/tst"
   ]
  },
  {
   "cell_type": "code",
   "execution_count": 58,
   "metadata": {
    "ExecuteTime": {
     "end_time": "2018-03-10T21:27:32.381244Z",
     "start_time": "2018-03-10T21:27:32.251327Z"
    }
   },
   "outputs": [],
   "source": [
    "sudo rm /media/btrfs/sub1/tst"
   ]
  },
  {
   "cell_type": "code",
   "execution_count": 60,
   "metadata": {
    "ExecuteTime": {
     "end_time": "2018-03-10T21:27:53.054690Z",
     "start_time": "2018-03-10T21:27:52.918587Z"
    }
   },
   "outputs": [
    {
     "name": "stdout",
     "output_type": "stream",
     "text": [
      "rmdir: konnte '/media/btrfs/sub1' nicht entfernen: Vorgang nicht zulässig\n"
     ]
    },
    {
     "ename": "",
     "evalue": "1",
     "output_type": "error",
     "traceback": []
    }
   ],
   "source": [
    "sudo rmdir /media/btrfs/sub1"
   ]
  },
  {
   "cell_type": "code",
   "execution_count": 61,
   "metadata": {
    "ExecuteTime": {
     "end_time": "2018-03-10T21:28:19.910762Z",
     "start_time": "2018-03-10T21:28:19.776603Z"
    }
   },
   "outputs": [],
   "source": [
    "sudo mkdir /media/sub2"
   ]
  },
  {
   "cell_type": "code",
   "execution_count": 62,
   "metadata": {
    "ExecuteTime": {
     "end_time": "2018-03-10T21:28:59.035919Z",
     "start_time": "2018-03-10T21:28:58.878438Z"
    }
   },
   "outputs": [],
   "source": [
    "sudo mount -o subvolid=258 /dev/sdb1 /media/sub2"
   ]
  },
  {
   "cell_type": "code",
   "execution_count": 64,
   "metadata": {
    "ExecuteTime": {
     "end_time": "2018-03-10T21:30:17.159431Z",
     "start_time": "2018-03-10T21:30:17.002662Z"
    }
   },
   "outputs": [
    {
     "name": "stdout",
     "output_type": "stream",
     "text": [
      "Delete subvolume (no-commit): '/media/btrfs/sub1'\n"
     ]
    }
   ],
   "source": [
    "sudo btrfs subvolume delete /media/btrfs/sub1"
   ]
  },
  {
   "cell_type": "code",
   "execution_count": 66,
   "metadata": {
    "ExecuteTime": {
     "end_time": "2018-03-10T21:31:22.193077Z",
     "start_time": "2018-03-10T21:31:22.059733Z"
    }
   },
   "outputs": [
    {
     "name": "stdout",
     "output_type": "stream",
     "text": [
      "Delete subvolume (no-commit): '/media/btrfs/data/sub2'\n"
     ]
    }
   ],
   "source": [
    "sudo btrfs subvolume delete /media/btrfs/data/sub2"
   ]
  },
  {
   "cell_type": "code",
   "execution_count": 67,
   "metadata": {
    "ExecuteTime": {
     "end_time": "2018-03-10T21:31:39.661116Z",
     "start_time": "2018-03-10T21:31:39.529373Z"
    }
   },
   "outputs": [],
   "source": [
    "sudo ls /media/sub2"
   ]
  },
  {
   "cell_type": "code",
   "execution_count": 68,
   "metadata": {
    "ExecuteTime": {
     "end_time": "2018-03-10T21:37:14.401786Z",
     "start_time": "2018-03-10T21:37:14.296827Z"
    }
   },
   "outputs": [
    {
     "name": "stdout",
     "output_type": "stream",
     "text": [
      "data  datei\n"
     ]
    }
   ],
   "source": [
    "ls /media/btrfs"
   ]
  },
  {
   "cell_type": "code",
   "execution_count": 69,
   "metadata": {
    "ExecuteTime": {
     "end_time": "2018-03-10T21:37:45.985384Z",
     "start_time": "2018-03-10T21:37:45.850512Z"
    }
   },
   "outputs": [
    {
     "name": "stdout",
     "output_type": "stream",
     "text": [
      "Create a snapshot of '/media/btrfs' in '/media/btrfs/snap1'\n"
     ]
    }
   ],
   "source": [
    "sudo btrfs subvolume snapshot /media/btrfs /media/btrfs/snap1"
   ]
  },
  {
   "cell_type": "code",
   "execution_count": 70,
   "metadata": {
    "ExecuteTime": {
     "end_time": "2018-03-10T21:38:37.256433Z",
     "start_time": "2018-03-10T21:38:37.013405Z"
    }
   },
   "outputs": [],
   "source": [
    "sudo mkdir /media/snap1\n",
    "sudo mount -o subvol=snap1 /dev/sdb1 /media/snap1"
   ]
  },
  {
   "cell_type": "code",
   "execution_count": 71,
   "metadata": {
    "ExecuteTime": {
     "end_time": "2018-03-10T21:38:52.181608Z",
     "start_time": "2018-03-10T21:38:52.073396Z"
    }
   },
   "outputs": [
    {
     "name": "stdout",
     "output_type": "stream",
     "text": [
      "data  datei\n"
     ]
    }
   ],
   "source": [
    "ls /media/snap1"
   ]
  },
  {
   "cell_type": "code",
   "execution_count": 72,
   "metadata": {
    "ExecuteTime": {
     "end_time": "2018-03-10T21:39:13.397424Z",
     "start_time": "2018-03-10T21:39:13.258232Z"
    }
   },
   "outputs": [],
   "source": [
    "sudo touch /media/snap1/datei2"
   ]
  },
  {
   "cell_type": "code",
   "execution_count": 73,
   "metadata": {
    "ExecuteTime": {
     "end_time": "2018-03-10T21:39:28.075846Z",
     "start_time": "2018-03-10T21:39:27.963562Z"
    }
   },
   "outputs": [
    {
     "name": "stdout",
     "output_type": "stream",
     "text": [
      "data  datei  snap1\n"
     ]
    }
   ],
   "source": [
    "ls /media/btrfs"
   ]
  },
  {
   "cell_type": "code",
   "execution_count": 75,
   "metadata": {
    "ExecuteTime": {
     "end_time": "2018-03-10T21:42:46.093916Z",
     "start_time": "2018-03-10T21:42:45.972443Z"
    }
   },
   "outputs": [
    {
     "name": "stdout",
     "output_type": "stream",
     "text": [
      "Label: none  uuid: aa61692f-e171-4e30-8e41-2fbceea3c959\n",
      "\tTotal devices 1 FS bytes used 416.00KiB\n",
      "\tdevid    1 size 498.00GiB used 2.02GiB path /dev/sdb1\n",
      "\n"
     ]
    }
   ],
   "source": [
    "sudo btrfs filesystem show /dev/sdb1"
   ]
  },
  {
   "cell_type": "code",
   "execution_count": 77,
   "metadata": {
    "ExecuteTime": {
     "end_time": "2018-03-10T21:43:28.099574Z",
     "start_time": "2018-03-10T21:43:27.976200Z"
    }
   },
   "outputs": [
    {
     "name": "stdout",
     "output_type": "stream",
     "text": [
      "Data, single: total=8.00MiB, used=256.00KiB\n",
      "System, DUP: total=8.00MiB, used=16.00KiB\n",
      "Metadata, DUP: total=1.00GiB, used=144.00KiB\n",
      "GlobalReserve, single: total=16.00MiB, used=0.00B\n"
     ]
    }
   ],
   "source": [
    "sudo btrfs filesystem df /media/btrfs"
   ]
  },
  {
   "cell_type": "code",
   "execution_count": null,
   "metadata": {},
   "outputs": [],
   "source": []
  }
 ],
 "metadata": {
  "kernelspec": {
   "display_name": "Bash",
   "language": "bash",
   "name": "bash"
  },
  "language_info": {
   "codemirror_mode": "shell",
   "file_extension": ".sh",
   "mimetype": "text/x-sh",
   "name": "bash"
  },
  "toc": {
   "nav_menu": {},
   "number_sections": true,
   "sideBar": true,
   "skip_h1_title": false,
   "title_cell": "Table of Contents",
   "title_sidebar": "Contents",
   "toc_cell": false,
   "toc_position": {},
   "toc_section_display": true,
   "toc_window_display": false
  },
  "varInspector": {
   "cols": {
    "lenName": 16,
    "lenType": 16,
    "lenVar": 40
   },
   "kernels_config": {
    "python": {
     "delete_cmd_postfix": "",
     "delete_cmd_prefix": "del ",
     "library": "var_list.py",
     "varRefreshCmd": "print(var_dic_list())"
    },
    "r": {
     "delete_cmd_postfix": ") ",
     "delete_cmd_prefix": "rm(",
     "library": "var_list.r",
     "varRefreshCmd": "cat(var_dic_list()) "
    }
   },
   "types_to_exclude": [
    "module",
    "function",
    "builtin_function_or_method",
    "instance",
    "_Feature"
   ],
   "window_display": false
  }
 },
 "nbformat": 4,
 "nbformat_minor": 2
}
