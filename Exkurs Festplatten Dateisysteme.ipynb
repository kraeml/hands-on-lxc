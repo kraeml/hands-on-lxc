{
 "cells": [
  {
   "cell_type": "markdown",
   "metadata": {},
   "source": [
    "# Festplatten und Dateisysteme\n",
    "\n",
    "* https://de.wikipedia.org/wiki/Festplattenlaufwerk\n",
    "* https://de.wikipedia.org/wiki/Liste_von_Dateisystemen\n",
    "* Speziell für den Raspberry  \n",
    "  https://de.wikipedia.org/wiki/Liste_von_Dateisystemen#Dateisysteme_f%C3%BCr_Flash-Datentr%C3%A4ger und    \n",
    "  https://de.wikipedia.org/wiki/F2FS\n"
   ]
  },
  {
   "cell_type": "markdown",
   "metadata": {},
   "source": [
    "## Festplatten anzeigen lassen\n",
    "\n",
    "Genauer gesagt alle Blockdevices anzeigen lassen."
   ]
  },
  {
   "cell_type": "code",
   "execution_count": 1,
   "metadata": {
    "ExecuteTime": {
     "end_time": "2018-03-16T09:01:28.796597Z",
     "start_time": "2018-03-16T09:01:28.458049Z"
    }
   },
   "outputs": [
    {
     "name": "stdout",
     "output_type": "stream",
     "text": [
      "lsblk (8)            - list block devices\n"
     ]
    }
   ],
   "source": [
    "whatis lsblk"
   ]
  },
  {
   "cell_type": "code",
   "execution_count": 2,
   "metadata": {
    "ExecuteTime": {
     "end_time": "2018-03-16T09:01:28.946493Z",
     "start_time": "2018-03-16T09:01:28.797996Z"
    }
   },
   "outputs": [
    {
     "name": "stdout",
     "output_type": "stream",
     "text": [
      "NAME                    MAJ:MIN RM   SIZE RO TYPE MOUNTPOINT\n",
      "sda                       8:0    0   127G  0 disk \n",
      "├─sda1                    8:1    0   487M  0 part /boot\n",
      "├─sda2                    8:2    0     1K  0 part \n",
      "└─sda5                    8:5    0 126,5G  0 part \n",
      "  ├─rdf--dev--vg-root   252:0    0 125,6G  0 lvm  /\n",
      "  └─rdf--dev--vg-swap_1 252:1    0   980M  0 lvm  [SWAP]\n",
      "sdb                       8:16   0   500G  0 disk \n",
      "sdc                       8:32   0   500G  0 disk \n",
      "sdd                       8:48   0   500G  0 disk \n"
     ]
    }
   ],
   "source": [
    "lsblk"
   ]
  },
  {
   "cell_type": "markdown",
   "metadata": {},
   "source": [
    "> Die Aufgabe von lsblk ist es, verfügbare Block devices in Baumdarstellung aufzulisten und Informationen zu diesen anzuzeigen. Es liest hierzu das sysfs-Dateisystem ein.\n",
    "\n",
    "> Es ist vergleichbar mit blkid, welches aber nur für Geräte funktioniert, auf denen eine gültige Partitionstabelle existiert. lsblk hingegen listet auch Geräte auf, wenn diese über keine gültige Partitionstabelle verfügen.\n",
    "\n",
    "https://wiki.ubuntuusers.de/lsblk/ aufgerufen am 2018-03-11 10:37:28"
   ]
  },
  {
   "cell_type": "code",
   "execution_count": 3,
   "metadata": {
    "ExecuteTime": {
     "end_time": "2018-03-16T09:01:29.141074Z",
     "start_time": "2018-03-16T09:01:28.947814Z"
    }
   },
   "outputs": [
    {
     "name": "stdout",
     "output_type": "stream",
     "text": [
      "NAME   FSTYPE  STATE   OWNER GROUP MODE       TYPE MOUNTPOINT LABEL MODEL\n",
      "sda            running root  disk  brw-rw---- disk                  VBOX HARDDIS\n",
      "├─sda1 ext2            root  disk  brw-rw---- part /boot            \n",
      "├─sda2                 root  disk  brw-rw---- part                  \n",
      "└─sda5 LVM2_me         root  disk  brw-rw---- part                  \n",
      "  ├─rdf--dev--vg-root\n",
      "  │    ext4    running root  disk  brw-rw---- lvm  /                \n",
      "  └─rdf--dev--vg-swap_1\n",
      "       swap    running root  disk  brw-rw---- lvm  [SWAP]           \n",
      "sdb            running root  disk  brw-rw---- disk                  VBOX HARDDIS\n",
      "sdc            running root  disk  brw-rw---- disk                  VBOX HARDDIS\n",
      "sdd            running root  disk  brw-rw---- disk                  VBOX HARDDIS\n"
     ]
    }
   ],
   "source": [
    "sudo lsblk -o NAME,FSTYPE,STATE,OWNER,GROUP,MODE,TYPE,MOUNTPOINT,LABEL,MODEL "
   ]
  },
  {
   "cell_type": "markdown",
   "metadata": {
    "ExecuteTime": {
     "end_time": "2018-03-11T09:40:19.731930Z",
     "start_time": "2018-03-11T09:40:19.529419Z"
    }
   },
   "source": [
    "Siehe auch: https://wiki.ubuntuusers.de/lsblk/#Spezialfall-o-output-Liste"
   ]
  },
  {
   "cell_type": "markdown",
   "metadata": {},
   "source": [
    "## Plattenplatz anzeigen lassen"
   ]
  },
  {
   "cell_type": "code",
   "execution_count": 4,
   "metadata": {
    "ExecuteTime": {
     "end_time": "2018-03-16T09:01:29.254014Z",
     "start_time": "2018-03-16T09:01:29.142359Z"
    }
   },
   "outputs": [
    {
     "name": "stdout",
     "output_type": "stream",
     "text": [
      "df (1)               - report file system disk space usage\n",
      "du (1)               - estimate file space usage\n"
     ]
    }
   ],
   "source": [
    "whatis df du"
   ]
  },
  {
   "cell_type": "code",
   "execution_count": 5,
   "metadata": {
    "ExecuteTime": {
     "end_time": "2018-03-16T09:01:29.371789Z",
     "start_time": "2018-03-16T09:01:29.255302Z"
    }
   },
   "outputs": [
    {
     "name": "stdout",
     "output_type": "stream",
     "text": [
      "Aufruf: df [OPTION]... [DATEI]...\n",
      "Anzeige von Informationen über die Dateisysteme, auf dem sich jede\n",
      "DATEI befindet, oder alle Dateisysteme, welches der Normalfall ist.\n",
      "\n",
      "Erforderliche Argumente für lange Optionen sind auch für kurze erforderlich.\n",
      "  -a, --all                 unechte Dateisysteme mit einschließen\n",
      "  -B, --block-size=GRÖßE    Größen in Einheiten von GRÖßE ausgeben, z.B. werden\n",
      "                              bei „-BM“ die Grössen in Einheiten von 1.048.576\n",
      "                              Bytes ausgegeben. Siehe auch GRÖẞE weiter unten\n",
      "  -h, --human-readable      Größen in menschenlesbarem Format (z.B. 1K 234M 2G)\n",
      "  -H, --si                  genauso, aber mit 1000 statt 1024 als Teiler (z.B 1.1G)\n",
      "  -i, --inodes              INode‐Information statt der Block‐Benutzung\n",
      "                              auflisten\n",
      "  -k                        wie „--block-size=1K“\n",
      "  -l, --local               Liste auf lokale Dateisysteme begrenzen\n",
      "      --no-sync             nicht „sync“ vor Erlangen der Benutzungsinformation\n",
      "                              aufrufen (Standardvorgabe)\n",
      "      --output[=FELDLISTE]  Das durch FELDLISTE definierte Ausgabeformat\n",
      "                              verwenden, oder alle Felder ausgeben, wenn\n",
      "                              FELDLISTE nicht angegeben wird.\n",
      "  -P, --portability         POSIX‐Ausgabeformat verwenden\n",
      "      --sync                „sync“ vor Erlangen der Benutzungsinformation\n",
      "                              aufrufen\n",
      "      --total               Gesamtsumme erstellen\n",
      "  -t, --type=TYP            Liste auf Dateisysteme des Typs TYP begrenzen\n",
      "  -T, --print-type          Dateisystemtyp ausgeben.\n",
      "  -x, --exclude-type=TYP    Liste auf Dateisysteme nicht vom Typ TYP begrenzen.\n",
      "  -v                        (ignoriert)\n",
      "      --help     diese Hilfe anzeigen und beenden\n",
      "      --version  Versionsinformation anzeigen und beenden\n",
      "\n",
      "Werte werden in der ersten verfügbaren GRÖßE von --block-size und der\n",
      "Umgebungsvariablen DF_BLOCK_SIZE, BLOCK_SIZE und BLOCKSIZE ausgegeben.\n",
      "Andernfalls ist die Vorgabe Einheiten von 1024 Bytes \t(oder 512 wenn\n",
      "POSIXLY_CORRECT gesetzt wurde).\n",
      "\n",
      "GRÖẞE ist eine Ganzzahl und eine optionale Einheit (Beispiel: 10M sind\n",
      "10*1024*1024). Einheiten sind K, M, G, T, P, E, Z, Y (Potenzen von 1024) oder\n",
      "KB, MB, ... (Potenzen von 1000).\n",
      "\n",
      "FELDLISTE ist eine durch Komma getrennte Liste der zu verwendenden Spalten.\n",
      "Gültige Feldnamen sind: „source“, „fstype“, „itotal“, „iused“, „iavail“,\n",
      "„ipcent“, „size“, „used“, „avail“, „pcent“, „file“ und „target“ (siehe\n",
      "Infoseite).\n",
      "\n",
      "GNU coreutils Onlinehilfe: <http://www.gnu.org/software/coreutils/>\n",
      "Melden Sie Übersetzungsfehler für df an <translation-team-de@lists.sourceforge.net>\n",
      "Die vollständige Dokumentation ist hier: <http://www.gnu.org/software/coreutils/df>\n",
      "oder auch lokal mittels „info '(coreutils) df invocation'“\n"
     ]
    }
   ],
   "source": [
    "df --help"
   ]
  },
  {
   "cell_type": "code",
   "execution_count": 6,
   "metadata": {
    "ExecuteTime": {
     "end_time": "2018-03-16T09:01:29.526183Z",
     "start_time": "2018-03-16T09:01:29.373672Z"
    }
   },
   "outputs": [
    {
     "name": "stdout",
     "output_type": "stream",
     "text": [
      "Aufruf: du [OPTION]... [DATEI]...\n",
      " oder:  du [OPTION]... --files0-from=DL\n",
      "Summierung der Plattennutzung jeder DATEI, rekursiv für Verzeichnisse\n",
      "\n",
      "Erforderliche Argumente für lange Optionen sind auch für kurze erforderlich.\n",
      "  -0, --null              jede Zeile mit einem Nullbyte statt eines\n",
      "                            Zeilenumbruchs beenden\n",
      "  -a, --all               Zählung für jede Datei ausgeben, nicht nur für\n",
      "                            Verzeichnisse\n",
      "      --apparent-size     die sichtbare Größe ausgeben statt des\n",
      "                            Platzverbrauchs; diese ist meist kleiner, kann\n",
      "                            aber auch größer sein durch Löcher in („sparse“‐)\n",
      "                            Dateien, interne Fragmentierung, indirekte Blöcke\n",
      "                            und ähnliches\n",
      "  -B, --block-size=GRÖßE  GRÖßE große Blöcke verwenden. Siehe GRÖßE unten.\n",
      "  -b, --bytes             äquivalent zu „--apparent-size --block-size=1“\n",
      "  -c, --total             Gesamtsumme erzeugen\n",
      "  -D, --dereference-args  nur symbolische Verknüpfungen dereferenzieren, die\n",
      "                            an der Kommandozeile angegeben wurden\n",
      "  -d, --max-depth=N       die Gesamtgröße für ein Verzeichnis (oder, mit\n",
      "                            --all, einer Datei) ausgeben, aber nur dann, wenn\n",
      "                            es bzw. sie N oder weniger Ebenen unterhalb des\n",
      "                            Kommando-zeilenarguments ist; --max-depth=0 ist\n",
      "                            gleichbedeutend mit --summarize\n",
      "      --files0-from=D     aufsummierten Platzverbrauch der in der Datei D\n",
      "                            angegebenen null-terminierten Dateinamen ausgeben.\n",
      "                            ist D „-“, so wird aus der Standardeingabe gelesen\n",
      "  -H                      wie --dereference-args (-D)\n",
      "  -h, --human-readable    Größen in menschenlesbarem Format (z.B. 1K 234M 2G)\n",
      "                            ausgeben\n",
      "  -k                      Wie „--block-size=1K“\n",
      "  -L, --dereference       alle symbolischen Verknüpfungen dereferenzieren\n",
      "  -l, --count-links       Größe mehrfach zählen, wenn durch harte\n",
      "                            Verknüpfungen verbunden\n",
      "  -m                      Wie „--block-size=1M“\n",
      "  -P, --no-dereference    keinen symbolischen Verknüpfungen folgen (Voreinstellung)\n",
      "  -S, --separate-dirs     Größe von Unterverzeichnissen nicht\n",
      "                            mitzählen\n",
      "      --si                wie -h, verwendet aber Potenzen von 1000 statt 1024\n",
      "  -s, --summarize         nur Summe für jedes Argument anzeigen\n",
      "  -t, --threshold=GRÖẞE  Einträge kleiner als GRÖẞE ausschließen wenn positiv,\n",
      "                          oder größer als GRÖẞE wenn negativ\n",
      "      --time             Zeit der letzten Änderung irgendeiner Datei im\n",
      "                           Verzeichnis oder einem seiner Unterverzeichnisse\n",
      "                           anzeigen\n",
      "      --time=WORT        Zeit als WORT anstelle der Änderungszeit anzeigen:\n",
      "                           atime, access, use, ctime or status\n",
      "      --time-style=STIL  Zeit in Stil STIL anzeigen:\n",
      "                           full-iso, long-iso, iso, +FORMAT\n",
      "                           FORMAT wird wie bei „date“ interpretiert\n",
      "  -X, --exclude-from=DATEI  Dateien ausschließen, die einem Muster in DATEI\n",
      "                              entsprechen\n",
      "      --exclude=MUSTER   Dateien ausschließen, die MUSTER entsprechen\n",
      "  -x, --one-file-system  Verzeichnisse auf anderen Dateisystemen überspringen\n",
      "      --help     diese Hilfe anzeigen und beenden\n",
      "      --version  Versionsinformation anzeigen und beenden\n",
      "\n",
      "Werte werden in der ersten verfügbaren GRÖßE von --block-size und der\n",
      "Umgebungsvariablen DU_BLOCK_SIZE, BLOCK_SIZE und BLOCKSIZE ausgegeben.\n",
      "Andernfalls ist die Vorgabe Einheiten von 1024 Bytes \t(oder 512 wenn\n",
      "POSIXLY_CORRECT gesetzt wurde).\n",
      "\n",
      "GRÖẞE ist eine Ganzzahl und eine optionale Einheit (Beispiel: 10M sind\n",
      "10*1024*1024). Einheiten sind K, M, G, T, P, E, Z, Y (Potenzen von 1024) oder\n",
      "KB, MB, ... (Potenzen von 1000).\n",
      "\n",
      "GNU coreutils Onlinehilfe: <http://www.gnu.org/software/coreutils/>\n",
      "Melden Sie Übersetzungsfehler für du an <translation-team-de@lists.sourceforge.net>\n",
      "Die vollständige Dokumentation ist hier: <http://www.gnu.org/software/coreutils/du>\n",
      "oder auch lokal mittels „info '(coreutils) du invocation'“\n"
     ]
    }
   ],
   "source": [
    "du --help"
   ]
  },
  {
   "cell_type": "code",
   "execution_count": 7,
   "metadata": {
    "ExecuteTime": {
     "end_time": "2018-03-16T09:01:29.639613Z",
     "start_time": "2018-03-16T09:01:29.527475Z"
    }
   },
   "outputs": [
    {
     "name": "stdout",
     "output_type": "stream",
     "text": [
      "Dateisystem                   Typ       1K-Blöcke   Benutzt  Verfügbar Verw% Eingehängt auf\n",
      "udev                          devtmpfs    1004744         0    1004744    0% /dev\n",
      "tmpfs                         tmpfs        204808      6012     198796    3% /run\n",
      "/dev/mapper/rdf--dev--vg-root ext4      129463932  22233148  100631312   19% /\n",
      "tmpfs                         tmpfs       1024032       176    1023856    1% /dev/shm\n",
      "tmpfs                         tmpfs          5120         4       5116    1% /run/lock\n",
      "tmpfs                         tmpfs       1024032         0    1024032    0% /sys/fs/cgroup\n",
      "/dev/sda1                     ext2         482922     57472     400516   13% /boot\n",
      "cgmfs                         tmpfs           100         0        100    0% /run/cgmanager/fs\n",
      "tmpfs                         tmpfs        204808        44     204764    1% /run/user/900\n",
      "vagrant                       vboxsf   1921802432 583638708 1338163724   31% /vagrant\n"
     ]
    }
   ],
   "source": [
    "df -T"
   ]
  },
  {
   "cell_type": "code",
   "execution_count": 8,
   "metadata": {
    "ExecuteTime": {
     "end_time": "2018-03-16T09:01:29.747277Z",
     "start_time": "2018-03-16T09:01:29.641181Z"
    }
   },
   "outputs": [
    {
     "name": "stdout",
     "output_type": "stream",
     "text": [
      "Dateisystem                   Größe Benutzt Verf. Verw% Eingehängt auf\n",
      "udev                           982M       0  982M    0% /dev\n",
      "tmpfs                          201M    5,9M  195M    3% /run\n",
      "/dev/mapper/rdf--dev--vg-root  124G     22G   96G   19% /\n",
      "tmpfs                         1001M    176K 1000M    1% /dev/shm\n",
      "tmpfs                          5,0M    4,0K  5,0M    1% /run/lock\n",
      "tmpfs                         1001M       0 1001M    0% /sys/fs/cgroup\n",
      "/dev/sda1                      472M     57M  392M   13% /boot\n",
      "cgmfs                          100K       0  100K    0% /run/cgmanager/fs\n",
      "tmpfs                          201M     44K  200M    1% /run/user/900\n",
      "vagrant                        1,8T    557G  1,3T   31% /vagrant\n"
     ]
    }
   ],
   "source": [
    "df --human-readable"
   ]
  },
  {
   "cell_type": "code",
   "execution_count": 9,
   "metadata": {
    "ExecuteTime": {
     "end_time": "2018-03-16T09:01:29.855251Z",
     "start_time": "2018-03-16T09:01:29.749440Z"
    }
   },
   "outputs": [
    {
     "name": "stdout",
     "output_type": "stream",
     "text": [
      "Dateisystem                   Größe Benutzt Verf. Verw% Eingehängt auf\n",
      "udev                           1,1G       0  1,1G    0% /dev\n",
      "tmpfs                          210M    6,2M  204M    3% /run\n",
      "/dev/mapper/rdf--dev--vg-root  133G     23G  104G   19% /\n",
      "tmpfs                          1,1G    181k  1,1G    1% /dev/shm\n",
      "tmpfs                          5,3M    4,1k  5,3M    1% /run/lock\n",
      "tmpfs                          1,1G       0  1,1G    0% /sys/fs/cgroup\n",
      "/dev/sda1                      495M     59M  411M   13% /boot\n",
      "cgmfs                          103k       0  103k    0% /run/cgmanager/fs\n",
      "tmpfs                          210M     46k  210M    1% /run/user/900\n",
      "vagrant                        2,0T    598G  1,4T   31% /vagrant\n"
     ]
    }
   ],
   "source": [
    "df --si"
   ]
  },
  {
   "cell_type": "code",
   "execution_count": 10,
   "metadata": {
    "ExecuteTime": {
     "end_time": "2018-03-16T09:01:29.963761Z",
     "start_time": "2018-03-16T09:01:29.857144Z"
    }
   },
   "outputs": [
    {
     "name": "stdout",
     "output_type": "stream",
     "text": [
      "Dateisystem                    Inodes IBenutzt   IFrei IUse% Eingehängt auf\n",
      "udev                           251186      462  250724    1% /dev\n",
      "tmpfs                          256008      700  255308    1% /run\n",
      "/dev/mapper/rdf--dev--vg-root 8232960   811997 7420963   10% /\n",
      "tmpfs                          256008        6  256002    1% /dev/shm\n",
      "tmpfs                          256008        5  256003    1% /run/lock\n",
      "tmpfs                          256008       18  255990    1% /sys/fs/cgroup\n",
      "/dev/sda1                      124928      304  124624    1% /boot\n",
      "cgmfs                          256008       14  255994    1% /run/cgmanager/fs\n",
      "tmpfs                          256008       26  255982    1% /run/user/900\n",
      "vagrant                          1000        0    1000    0% /vagrant\n"
     ]
    }
   ],
   "source": [
    "df --inodes"
   ]
  },
  {
   "cell_type": "code",
   "execution_count": 11,
   "metadata": {
    "ExecuteTime": {
     "end_time": "2018-03-16T09:01:30.070042Z",
     "start_time": "2018-03-16T09:01:29.965243Z"
    }
   },
   "outputs": [
    {
     "name": "stdout",
     "output_type": "stream",
     "text": [
      "16M\t/bin\n"
     ]
    }
   ],
   "source": [
    "du -h /bin"
   ]
  },
  {
   "cell_type": "markdown",
   "metadata": {},
   "source": [
    "## RAID und LVM\n",
    "\n",
    "* https://de.wikipedia.org/wiki/RAID\n",
    "\n",
    "* https://de.wikipedia.org/wiki/Logical_Volume_Manager\n",
    "\n",
    "* https://wiki.ubuntuusers.de/Software-RAID/\n",
    "\n",
    "* https://wiki.ubuntuusers.de/Software_RAID_mit_LVM/"
   ]
  },
  {
   "cell_type": "markdown",
   "metadata": {},
   "source": [
    "### Redundant Array of Independent Disks (RAID)\n",
    "\n",
    "> Ein RAID-System dient zur Organisation __mehrerer physischer__ Massenspeicher (üblicherweise Festplattenlaufwerke oder Solid-State-Drives) zu __einem logischen__ Laufwerk, das eine _höhere Ausfallsicherheit_ oder einen _größeren Datendurchsatz_ erlaubt als ein einzelnes physisches Speichermedium\n",
    "\n",
    "https://de.wikipedia.org/wiki/RAID aufgerufen am 2018-03-11 10:44:11 "
   ]
  },
  {
   "cell_type": "markdown",
   "metadata": {},
   "source": [
    "> Der Betrieb eines RAID-Systems setzt __mindestens zwei__ Speichermedien voraus. Diese werden gemeinsam betrieben und bilden einen Verbund, der unter mindestens einem Aspekt betrachtet leistungsfähiger ist als die einzelnen Medien. Mit RAID-Systemen kann man folgende Vorteile erreichen (allerdings schließen sich einige gleichzeitig aus):  \n",
    "* Erhöhung der Ausfallsicherheit (Redundanz)\n",
    "* Steigerung der Datenübertragungsrate (Leistung)\n",
    "* Aufbau großer logischer Laufwerke\n",
    "* Austausch von Speichermedien (auch während des Betriebes)\n",
    "* Vergrößern des Speichers (auch während des Betriebs)\n",
    "* Kostenreduktion durch Einsatz mehrerer kleiner, preiswerter Medien\n",
    "\n",
    "https://de.wikipedia.org/wiki/RAID#Aufbau_und_Anschluss_%E2%80%93_Hardware-RAID,_Software-RAID aufgerufen am 2018-03-11 10:45:16 "
   ]
  },
  {
   "cell_type": "markdown",
   "metadata": {
    "ExecuteTime": {
     "end_time": "2018-03-10T14:42:47.783640Z",
     "start_time": "2018-03-10T14:42:46.690321Z"
    }
   },
   "source": [
    "Es gibt zwei Arten wie ein RAID Verbund betrieben werden kann:\n",
    "\n",
    "* __Hardware__ durch den Festplattencontroller\n",
    "* __Software__ durch die CPU\n",
    "    * Host-Raid (wird meist als HW-RAID verkauft)\n",
    "    * Linux Software RAID\n",
    "    * Windows Software RAID"
   ]
  },
  {
   "cell_type": "markdown",
   "metadata": {},
   "source": [
    "#### Host RAID\n",
    "\n",
    "__Achtung__ Host Raid (auch BIOS-RAID oder Fake-RAID) diese belasten wie die Software RAID die CPU und sind stark abhängig von der verwendeten Hardware (BIOS).\n",
    "\n",
    "* https://de.wikipedia.org/wiki/RAID#Host-RAID\n",
    "\n",
    "Fehleranfällig und sollte nicht verwendet werden."
   ]
  },
  {
   "cell_type": "markdown",
   "metadata": {},
   "source": [
    "#### Linux Software RAID\n",
    "\n",
    "Linux kann durch den Multi Devices Driver Support mehrere Festplatten(partitionen) zu einem RAID verbinden."
   ]
  },
  {
   "cell_type": "markdown",
   "metadata": {},
   "source": [
    "#### Windows RAID\n",
    "\n",
    "Auch unter Windows gibt es Softwar RAID. Diese RAID lassen sich von Linux nicht mehr auslesen."
   ]
  },
  {
   "cell_type": "markdown",
   "metadata": {},
   "source": [
    "### RAID Level\n",
    "\n",
    "* RAID-0 (Stripping)\n",
    "* RAID-1 (Mirroring)\n",
    "* RAID-10 (Kombi von 1 und 0)\n",
    "* RAID-5 (Parity Striping)\n",
    "* RADI-6 (wie 5 nur doppelt redundant)"
   ]
  },
  {
   "cell_type": "markdown",
   "metadata": {},
   "source": [
    "#### RAID 0\n",
    "\n",
    "> Bei RAID 0 fehlt die Redundanz, daher gehört es streng genommen nicht zu den RAID-Systemen, es ist nur ein schnelles „Array of Independent Disks“.\n",
    "\n",
    "> RAID 0 bietet gesteigerte Transferraten, indem die beteiligten Festplatten in zusammenhängende Blöcke gleicher Größe aufgeteilt werden, wobei diese Blöcke quasi im Reißverschlussverfahren zu einer großen Festplatte angeordnet werden. Somit können Zugriffe auf allen Platten parallel durchgeführt werden (engl. striping, was „in Streifen zerlegen“ bedeutet, abgeleitet von stripe, oder „Streifen“)\n",
    "\n",
    "![RAID-Level 0](https://upload.wikimedia.org/wikipedia/commons/thumb/9/9b/RAID_0.svg/325px-RAID_0.svg.png)\n",
    "\n",
    "Von en:User:Cburnett - Eigenes WerkDiese Vektorgrafik wurde mit Inkscape erstellt., CC BY-SA 3.0, https://commons.wikimedia.org/w/index.php?curid=1509075\n",
    "\n",
    "Nachteile: \n",
    "\n",
    "* Hohes Ausfallrisiko (eine defekt alles defekt).\n",
    "* Geschwindigkeitsgewinn nur bei großen Dateien."
   ]
  },
  {
   "cell_type": "markdown",
   "metadata": {},
   "source": [
    "#### Raid 1\n",
    "\n",
    "> RAID 1 ist der Verbund von mindestens zwei Festplatten. Ein RAID 1 speichert auf allen Festplatten die gleichen Daten (Spiegelung) und bietet somit volle Redundanz. Die Kapazität des Arrays ist hierbei höchstens so groß wie die kleinste beteiligte Festplatte. \n",
    "\n",
    "![Raid 1](https://upload.wikimedia.org/wikipedia/commons/thumb/b/b7/RAID_1.svg/325px-RAID_1.svg.png)\n",
    "\n",
    "Vorteil:\n",
    "\n",
    "* erhöhte Sicherheit (fällt eine aus sind die Daten noch da)\n",
    "\n",
    "Nachteil:\n",
    "\n",
    "* Schreiben leicht langsamer."
   ]
  },
  {
   "cell_type": "markdown",
   "metadata": {},
   "source": [
    "#### RAID 10\n",
    "\n",
    "> Ein RAID-10-Verbund ist ein RAID 0 über mehrere RAID 1. Es werden dabei die Eigenschaften der beiden RAIDs kombiniert: Sicherheit und gesteigerte Schreib-/Lesegeschwindigkeit.\n",
    "\n",
    "> Ein RAID-10-Verbund benötigt mindestens vier Festplatten. \n",
    "\n",
    "![Raid 10](https://upload.wikimedia.org/wikipedia/commons/thumb/b/bb/RAID_10.svg/800px-RAID_10.svg.png)"
   ]
  },
  {
   "cell_type": "markdown",
   "metadata": {},
   "source": [
    "#### RAID 5\n",
    "\n",
    "> RAID 5 implementiert Striping mit auf Block-Level-verteilten Paritäts-Informationen. Zur Berechnung der Parität wird durch die jeweils an gleicher Adresse anliegenden Datenblöcke der am RAID-Verbund beteiligten Festplatten eine logische Gruppe gebildet. Von allen Datenblöcken einer Gruppe enthält ein Datenblock die Paritätsdaten, während die anderen Datenblöcke Nutzdaten enthalten. Die Nutzdaten von RAID-5-Gruppen werden wie bei RAID 0 auf alle Festplatten verteilt.\n",
    "\n",
    "![RAID 5](https://upload.wikimedia.org/wikipedia/commons/thumb/6/64/RAID_5.svg/675px-RAID_5.svg.png)\n",
    "\n",
    "Vorteil:\n",
    "\n",
    "* Bietet wie Raid 0 schnelle Schreib/Lesezugriffe.\n",
    "* Daten können wie bei RAID 1 bei Ausfall wiederhergestellt werden.\n",
    "\n",
    "Nachteil:\n",
    "\n",
    "* Bei kleinen Dateien. Checksumme muss für den betroffenen Datenblock neu berechnet werden.\n",
    "* Wiederherstellung ist zeitintensiver als bei RAID1.\n"
   ]
  },
  {
   "cell_type": "markdown",
   "metadata": {},
   "source": [
    "#### RAID 6\n",
    "\n",
    "> RAID 6 (unter diversen Handelsnamen angeboten, zum Beispiel Advanced Data Guarding) funktioniert ähnlich wie RAID 5, verkraftet aber den gleichzeitigen Ausfall von bis zu zwei Festplatten. Insbesondere beim intensiven Einsatz hochkapazitiver SATA-/IDE-Festplatten kann die Wiederherstellung der Redundanz nach dem Ausfall einer Platte viele Stunden bis hin zu Tagen dauern; bei RAID 5 besteht währenddessen kein Schutz vor einem weiteren Ausfall. \n",
    "\n",
    "![RAID 6](https://upload.wikimedia.org/wikipedia/commons/thumb/7/70/RAID_6.svg/850px-RAID_6.svg.png)"
   ]
  },
  {
   "cell_type": "markdown",
   "metadata": {},
   "source": [
    "### RAID Grundlagen\n",
    "\n",
    "Administration mit dem Kommando `mdadm`. Exemplarisch wird hier RAID-0 und RAID-1 gezeigt. Da im Fehlerfall eines RAID eine Mail verschickt wird, wird normalerweise auch ein Mailserver installiert. Dieses wird durch `--no-install-recommends` unterbunden.\n",
    "\n",
    "https://wiki.ubuntuusers.de/Software-RAID/"
   ]
  },
  {
   "cell_type": "markdown",
   "metadata": {},
   "source": [
    "#### RAID Pakete"
   ]
  },
  {
   "cell_type": "code",
   "execution_count": 12,
   "metadata": {
    "ExecuteTime": {
     "end_time": "2018-03-16T09:02:34.575400Z",
     "start_time": "2018-03-16T09:01:30.071245Z"
    }
   },
   "outputs": [
    {
     "name": "stdout",
     "output_type": "stream",
     "text": [
      "Paketlisten werden gelesen... Fertig\n",
      "Abhängigkeitsbaum wird aufgebaut.       \n",
      "Statusinformationen werden eingelesen.... Fertig\n",
      "Paketaktualisierung (Upgrade) wird berechnet... Fertig\n",
      "0 aktualisiert, 0 neu installiert, 0 zu entfernen und 0 nicht aktualisiert.\n",
      "Paketlisten werden gelesen... Fertig\n",
      "Abhängigkeitsbaum wird aufgebaut.       \n",
      "Statusinformationen werden eingelesen.... Fertig\n",
      "Vorgeschlagene Pakete:\n",
      "  default-mta | mail-transport-agent dracut-core gsmartcontrol smart-notifier\n",
      "Empfohlene Pakete:\n",
      "  mailx | mailutils\n",
      "Die folgenden NEUEN Pakete werden installiert:\n",
      "  mdadm smartmontools\n",
      "0 aktualisiert, 2 neu installiert, 0 zu entfernen und 0 nicht aktualisiert.\n",
      "Es müssen 837 kB an Archiven heruntergeladen werden.\n",
      "Nach dieser Operation werden 2.897 kB Plattenplatz zusätzlich benutzt.\n",
      "Holen:1 http://us.archive.ubuntu.com/ubuntu xenial-updates/main amd64 mdadm amd64 3.3-2ubuntu7.6 [394 kB]\n",
      "Holen:2 http://us.archive.ubuntu.com/ubuntu xenial/main amd64 smartmontools amd64 6.4+svn4214-1 [442 kB]\n",
      "Es wurden 837 kB in 1 s geholt (432 kB/s).m\u001b[33m\n",
      "debconf: kann Oberfläche nicht initialisieren: Dialog\n",
      "debconf: (Die Dialog-Oberfläche funktioniert nicht auf einem Dumb-Terminal, einem Emacs-Shellbuffer oder ohne ein steuerndes Terminal.)\n",
      "debconf: greife zurück auf die Oberfläche: Readline\n",
      "Vorkonfiguration der Pakete ...\n",
      "\n",
      "\u001b7\u001b[0;23r\u001b8\u001b[1AVormals nicht ausgewähltes Paket mdadm wird gewählt.\n",
      "(Lese Datenbank ... 213246 Dateien und Verzeichnisse sind derzeit installiert.)\n",
      "Vorbereitung zum Entpacken von .../mdadm_3.3-2ubuntu7.6_amd64.deb ...\n",
      "\u001b7\u001b[24;0f\u001b[42m\u001b[30mFortschritt: [  0%]\u001b[49m\u001b[39m [.......................................................] \u001b8\u001b7\u001b[24;0f\u001b[42m\u001b[30mFortschritt: [  9%]\u001b[49m\u001b[39m [#####..................................................] \u001b8Entpacken von mdadm (3.3-2ubuntu7.6) ...\n",
      "\u001b7\u001b[24;0f\u001b[42m\u001b[30mFortschritt: [ 18%]\u001b[49m\u001b[39m [##########.............................................] \u001b8\u001b7\u001b[24;0f\u001b[42m\u001b[30mFortschritt: [ 27%]\u001b[49m\u001b[39m [###############........................................] \u001b8Vormals nicht ausgewähltes Paket smartmontools wird gewählt.\n",
      "Vorbereitung zum Entpacken von .../smartmontools_6.4+svn4214-1_amd64.deb ...\n",
      "\u001b7\u001b[24;0f\u001b[42m\u001b[30mFortschritt: [ 36%]\u001b[49m\u001b[39m [####################...................................] \u001b8Entpacken von smartmontools (6.4+svn4214-1) ...\n",
      "\u001b7\u001b[24;0f\u001b[42m\u001b[30mFortschritt: [ 45%]\u001b[49m\u001b[39m [#########################..............................] \u001b8\u001b7\u001b[24;0f\u001b[42m\u001b[30mFortschritt: [ 54%]\u001b[49m\u001b[39m [##############################.........................] \u001b8Trigger für systemd (229-4ubuntu21.1) werden verarbeitet ...\n",
      "Trigger für ureadahead (0.100.0-19) werden verarbeitet ...\n",
      "Trigger für doc-base (0.10.7) werden verarbeitet ...\n",
      "4 hinzugefügte Doc-base-Dateien wird verarbeitet...\n",
      "Trigger für man-db (2.7.5-1) werden verarbeitet ...\n",
      "mdadm (3.3-2ubuntu7.6) wird eingerichtet ...\n",
      "\u001b7\u001b[24;0f\u001b[42m\u001b[30mFortschritt: [ 63%]\u001b[49m\u001b[39m [###################################....................] \u001b8debconf: kann Oberfläche nicht initialisieren: Dialog\n",
      "debconf: (Die Dialog-Oberfläche funktioniert nicht auf einem Dumb-Terminal, einem Emacs-Shellbuffer oder ohne ein steuerndes Terminal.)\n",
      "debconf: greife zurück auf die Oberfläche: Readline\n",
      "Generating mdadm.conf... done.\n",
      "update-initramfs: deferring update (trigger activated)\n",
      "Grub-Konfigurationsdatei wird generiert …\n",
      "File descriptor 3 (pipe:[34261]) leaked on vgs invocation. Parent PID 4976: /usr/sbin/grub-probe\n",
      "File descriptor 3 (pipe:[34261]) leaked on vgs invocation. Parent PID 4976: /usr/sbin/grub-probe\n",
      "File descriptor 3 (pipe:[34261]) leaked on vgs invocation. Parent PID 4989: /usr/sbin/grub-probe\n",
      "File descriptor 3 (pipe:[34261]) leaked on vgs invocation. Parent PID 4989: /usr/sbin/grub-probe\n",
      "File descriptor 3 (pipe:[34261]) leaked on vgs invocation. Parent PID 5003: /usr/sbin/grub-probe\n",
      "File descriptor 3 (pipe:[34261]) leaked on vgs invocation. Parent PID 5003: /usr/sbin/grub-probe\n",
      "File descriptor 3 (pipe:[34261]) leaked on vgs invocation. Parent PID 5016: /usr/sbin/grub-probe\n",
      "File descriptor 3 (pipe:[34261]) leaked on vgs invocation. Parent PID 5016: /usr/sbin/grub-probe\n",
      "Warnung: Werte ungleich 0 für »GRUB_TIMEOUT« werden, falls »GRUB_HIDDEN_TIMEOUT« aktiviert ist, nicht mehr unterstützt.\n",
      "File descriptor 3 (pipe:[34261]) leaked on vgs invocation. Parent PID 5078: /usr/sbin/grub-probe\n",
      "File descriptor 3 (pipe:[34261]) leaked on vgs invocation. Parent PID 5078: /usr/sbin/grub-probe\n",
      "Linux-Abbild gefunden: /boot/vmlinuz-4.4.0-116-generic\n",
      "initrd-Abbild gefunden: /boot/initrd.img-4.4.0-116-generic\n",
      "File descriptor 3 (pipe:[34261]) leaked on vgs invocation. Parent PID 5354: /usr/sbin/grub-probe\n",
      "File descriptor 3 (pipe:[34261]) leaked on vgs invocation. Parent PID 5354: /usr/sbin/grub-probe\n",
      "Found memtest86+ image: /memtest86+.elf\n",
      "Found memtest86+ image: /memtest86+.bin\n",
      "File descriptor 3 (pipe:[34261]) leaked on lvs invocation. Parent PID 5515: /bin/sh\n",
      "erledigt\n",
      "update-rc.d: warning: start and stop actions are no longer supported; falling back to defaults\n",
      "\u001b7\u001b[24;0f\u001b[42m\u001b[30mFortschritt: [ 72%]\u001b[49m\u001b[39m [########################################...............] \u001b8smartmontools (6.4+svn4214-1) wird eingerichtet ...\n",
      "\u001b7\u001b[24;0f\u001b[42m\u001b[30mFortschritt: [ 81%]\u001b[49m\u001b[39m [#############################################..........] \u001b8\u001b7\u001b[24;0f\u001b[42m\u001b[30mFortschritt: [ 90%]\u001b[49m\u001b[39m [##################################################.....] \u001b8Trigger für systemd (229-4ubuntu21.1) werden verarbeitet ...\n",
      "Trigger für ureadahead (0.100.0-19) werden verarbeitet ...\n",
      "Trigger für initramfs-tools (0.122ubuntu8.10) werden verarbeitet ...\n",
      "update-initramfs: Generating /boot/initrd.img-4.4.0-116-generic\n",
      "W: mdadm: /etc/mdadm/mdadm.conf defines no arrays.\n",
      "\n",
      "\u001b7\u001b[0;24r\u001b8\u001b[1A\u001b[J"
     ]
    }
   ],
   "source": [
    "sudo apt upgrade\n",
    "sudo apt install --yes --no-install-recommends mdadm smartmontools"
   ]
  },
  {
   "cell_type": "markdown",
   "metadata": {},
   "source": [
    "#### Erste Überprüfung"
   ]
  },
  {
   "cell_type": "code",
   "execution_count": 13,
   "metadata": {
    "ExecuteTime": {
     "end_time": "2018-03-16T09:02:34.703912Z",
     "start_time": "2018-03-16T09:02:34.586350Z"
    }
   },
   "outputs": [
    {
     "name": "stdout",
     "output_type": "stream",
     "text": [
      "/proc/mdstat\n"
     ]
    }
   ],
   "source": [
    "ls /proc/mdstat"
   ]
  },
  {
   "cell_type": "markdown",
   "metadata": {},
   "source": [
    "Oben wird geprüft, ob der Multi Devices Driver im Kernel geladen ist."
   ]
  },
  {
   "cell_type": "code",
   "execution_count": 14,
   "metadata": {
    "ExecuteTime": {
     "end_time": "2018-03-16T09:02:34.823958Z",
     "start_time": "2018-03-16T09:02:34.719166Z"
    }
   },
   "outputs": [
    {
     "name": "stdout",
     "output_type": "stream",
     "text": [
      "Personalities : \n",
      "unused devices: <none>\n"
     ]
    }
   ],
   "source": [
    "cat /proc/mdstat"
   ]
  },
  {
   "cell_type": "code",
   "execution_count": 15,
   "metadata": {
    "ExecuteTime": {
     "end_time": "2018-03-16T09:02:34.975451Z",
     "start_time": "2018-03-16T09:02:34.829168Z"
    }
   },
   "outputs": [
    {
     "name": "stdout",
     "output_type": "stream",
     "text": [
      "NAME                    MAJ:MIN RM   SIZE RO TYPE MOUNTPOINT\n",
      "sda                       8:0    0   127G  0 disk \n",
      "├─sda1                    8:1    0   487M  0 part /boot\n",
      "├─sda2                    8:2    0     1K  0 part \n",
      "└─sda5                    8:5    0 126,5G  0 part \n",
      "  ├─rdf--dev--vg-root   252:0    0 125,6G  0 lvm  /\n",
      "  └─rdf--dev--vg-swap_1 252:1    0   980M  0 lvm  [SWAP]\n",
      "sdb                       8:16   0   500G  0 disk \n",
      "sdc                       8:32   0   500G  0 disk \n",
      "sdd                       8:48   0   500G  0 disk \n"
     ]
    }
   ],
   "source": [
    "lsblk"
   ]
  },
  {
   "cell_type": "markdown",
   "metadata": {},
   "source": [
    "#### HD einrichten"
   ]
  },
  {
   "cell_type": "code",
   "execution_count": 16,
   "metadata": {
    "ExecuteTime": {
     "end_time": "2018-03-16T09:02:36.217878Z",
     "start_time": "2018-03-16T09:02:34.976756Z"
    }
   },
   "outputs": [],
   "source": [
    "sudo parted --script /dev/sdb mklabel gpt\n",
    "sudo parted --script /dev/sdc mklabel gpt\n",
    "sudo parted --script /dev/sdd mklabel gpt"
   ]
  },
  {
   "cell_type": "code",
   "execution_count": 17,
   "metadata": {
    "ExecuteTime": {
     "end_time": "2018-03-16T09:02:38.929548Z",
     "start_time": "2018-03-16T09:02:36.226364Z"
    }
   },
   "outputs": [
    {
     "name": "stdout",
     "output_type": "stream",
     "text": [
      "Modell: ATA VBOX HARDDISK (scsi)\n",
      "Festplatte  /dev/sda:  136GB\n",
      "Sektorgröße (logisch/physisch): 512B/512B\n",
      "Partitionstabelle: msdos\n",
      "Disk-Flags: \n",
      "\n",
      "Nummer  Anfang  Ende   Größe  Typ       Dateisystem  Flags\n",
      " 1      1049kB  512MB  511MB  primary   ext2         boot\n",
      " 2      513MB   136GB  136GB  extended\n",
      " 5      513MB   136GB  136GB  logical                LVM\n",
      "\n",
      "\n",
      "Modell: ATA VBOX HARDDISK (scsi)\n",
      "Festplatte  /dev/sdb:  537GB\n",
      "Sektorgröße (logisch/physisch): 512B/512B\n",
      "Partitionstabelle: gpt\n",
      "Disk-Flags: \n",
      "\n",
      "Nummer  Anfang  Ende  Größe  Dateisystem  Name  Flags\n",
      "\n",
      "\n",
      "Modell: ATA VBOX HARDDISK (scsi)\n",
      "Festplatte  /dev/sdc:  537GB\n",
      "Sektorgröße (logisch/physisch): 512B/512B\n",
      "Partitionstabelle: gpt\n",
      "Disk-Flags: \n",
      "\n",
      "Nummer  Anfang  Ende  Größe  Dateisystem  Name  Flags\n",
      "\n",
      "\n",
      "Modell: ATA VBOX HARDDISK (scsi)\n",
      "Festplatte  /dev/sdd:  537GB\n",
      "Sektorgröße (logisch/physisch): 512B/512B\n",
      "Partitionstabelle: gpt\n",
      "Disk-Flags: \n",
      "\n",
      "Nummer  Anfang  Ende  Größe  Dateisystem  Name  Flags\n",
      "\n",
      "\n",
      "Modell: Linux device-mapper (linear) (dm)\n",
      "Festplatte  /dev/mapper/rdf--dev--vg-swap_1:  1028MB\n",
      "Sektorgröße (logisch/physisch): 512B/512B\n",
      "Partitionstabelle: loop\n",
      "Disk-Flags: \n",
      "\n",
      "Nummer  Anfang  Ende    Größe   Dateisystem     Flags\n",
      " 1      0,00B   1028MB  1028MB  linux-swap(v1)\n",
      "\n",
      "\n",
      "Modell: Linux device-mapper (linear) (dm)\n",
      "Festplatte  /dev/mapper/rdf--dev--vg-root:  135GB\n",
      "Sektorgröße (logisch/physisch): 512B/512B\n",
      "Partitionstabelle: loop\n",
      "Disk-Flags: \n",
      "\n",
      "Nummer  Anfang  Ende   Größe  Dateisystem  Flags\n",
      " 1      0,00B   135GB  135GB  ext4\n",
      "\n",
      "\n"
     ]
    }
   ],
   "source": [
    "sudo parted -l"
   ]
  },
  {
   "cell_type": "code",
   "execution_count": 18,
   "metadata": {
    "ExecuteTime": {
     "end_time": "2018-03-16T09:02:39.550241Z",
     "start_time": "2018-03-16T09:02:38.931653Z"
    }
   },
   "outputs": [
    {
     "name": "stdout",
     "output_type": "stream",
     "text": [
      "Informationen: Möglicherweise müssen Sie /etc/fstab anpassen.\n",
      "\n",
      "Informationen: Möglicherweise müssen Sie /etc/fstab anpassen.             \n",
      "\n",
      "Informationen: Möglicherweise müssen Sie /etc/fstab anpassen.             \n",
      "\n",
      "                                                                          \r"
     ]
    }
   ],
   "source": [
    "sudo parted -a optimal -- /dev/sdb mkpart primary 2048s -8192s  \n",
    "sudo parted -a optimal -- /dev/sdc mkpart primary 2048s -8192s\n",
    "sudo parted -a optimal -- /dev/sdd mkpart primary 2048s -8192s"
   ]
  },
  {
   "cell_type": "code",
   "execution_count": 19,
   "metadata": {
    "ExecuteTime": {
     "end_time": "2018-03-16T09:02:40.045855Z",
     "start_time": "2018-03-16T09:02:39.555792Z"
    }
   },
   "outputs": [
    {
     "name": "stdout",
     "output_type": "stream",
     "text": [
      "Informationen: Möglicherweise müssen Sie /etc/fstab anpassen.\n",
      "\n",
      "Informationen: Möglicherweise müssen Sie /etc/fstab anpassen.             \n",
      "\n",
      "Informationen: Möglicherweise müssen Sie /etc/fstab anpassen.             \n",
      "\n",
      "                                                                          \r"
     ]
    }
   ],
   "source": [
    "sudo parted /dev/sdb set 1 raid on \n",
    "sudo parted /dev/sdc set 1 raid on \n",
    "sudo parted /dev/sdd set 1 raid on "
   ]
  },
  {
   "cell_type": "code",
   "execution_count": 20,
   "metadata": {
    "ExecuteTime": {
     "end_time": "2018-03-16T09:02:40.162843Z",
     "start_time": "2018-03-16T09:02:40.047544Z"
    }
   },
   "outputs": [
    {
     "name": "stdout",
     "output_type": "stream",
     "text": [
      "NAME                    MAJ:MIN RM   SIZE RO TYPE MOUNTPOINT\n",
      "sda                       8:0    0   127G  0 disk \n",
      "├─sda1                    8:1    0   487M  0 part /boot\n",
      "├─sda2                    8:2    0     1K  0 part \n",
      "└─sda5                    8:5    0 126,5G  0 part \n",
      "  ├─rdf--dev--vg-root   252:0    0 125,6G  0 lvm  /\n",
      "  └─rdf--dev--vg-swap_1 252:1    0   980M  0 lvm  [SWAP]\n",
      "sdb                       8:16   0   500G  0 disk \n",
      "└─sdb1                    8:17   0   500G  0 part \n",
      "sdc                       8:32   0   500G  0 disk \n",
      "└─sdc1                    8:33   0   500G  0 part \n",
      "sdd                       8:48   0   500G  0 disk \n",
      "└─sdd1                    8:49   0   500G  0 part \n"
     ]
    }
   ],
   "source": [
    "lsblk"
   ]
  },
  {
   "cell_type": "code",
   "execution_count": 21,
   "metadata": {
    "ExecuteTime": {
     "end_time": "2018-03-16T09:02:40.691826Z",
     "start_time": "2018-03-16T09:02:40.164501Z"
    }
   },
   "outputs": [
    {
     "name": "stdout",
     "output_type": "stream",
     "text": [
      "Modell: ATA VBOX HARDDISK (scsi)\n",
      "Festplatte  /dev/sda:  136GB\n",
      "Sektorgröße (logisch/physisch): 512B/512B\n",
      "Partitionstabelle: msdos\n",
      "Disk-Flags: \n",
      "\n",
      "Nummer  Anfang  Ende   Größe  Typ       Dateisystem  Flags\n",
      " 1      1049kB  512MB  511MB  primary   ext2         boot\n",
      " 2      513MB   136GB  136GB  extended\n",
      " 5      513MB   136GB  136GB  logical                LVM\n",
      "\n",
      "\n",
      "Modell: ATA VBOX HARDDISK (scsi)\n",
      "Festplatte  /dev/sdb:  537GB\n",
      "Sektorgröße (logisch/physisch): 512B/512B\n",
      "Partitionstabelle: gpt\n",
      "Disk-Flags: \n",
      "\n",
      "Nummer  Anfang  Ende   Größe  Dateisystem  Name     Flags\n",
      " 1      1049kB  537GB  537GB               primary  RAID\n",
      "\n",
      "\n",
      "Modell: ATA VBOX HARDDISK (scsi)\n",
      "Festplatte  /dev/sdc:  537GB\n",
      "Sektorgröße (logisch/physisch): 512B/512B\n",
      "Partitionstabelle: gpt\n",
      "Disk-Flags: \n",
      "\n",
      "Nummer  Anfang  Ende   Größe  Dateisystem  Name     Flags\n",
      " 1      1049kB  537GB  537GB               primary  RAID\n",
      "\n",
      "\n",
      "Modell: ATA VBOX HARDDISK (scsi)\n",
      "Festplatte  /dev/sdd:  537GB\n",
      "Sektorgröße (logisch/physisch): 512B/512B\n",
      "Partitionstabelle: gpt\n",
      "Disk-Flags: \n",
      "\n",
      "Nummer  Anfang  Ende   Größe  Dateisystem  Name     Flags\n",
      " 1      1049kB  537GB  537GB               primary  RAID\n",
      "\n",
      "\n",
      "Modell: Linux device-mapper (linear) (dm)\n",
      "Festplatte  /dev/mapper/rdf--dev--vg-swap_1:  1028MB\n",
      "Sektorgröße (logisch/physisch): 512B/512B\n",
      "Partitionstabelle: loop\n",
      "Disk-Flags: \n",
      "\n",
      "Nummer  Anfang  Ende    Größe   Dateisystem     Flags\n",
      " 1      0,00B   1028MB  1028MB  linux-swap(v1)\n",
      "\n",
      "\n",
      "Modell: Linux device-mapper (linear) (dm)\n",
      "Festplatte  /dev/mapper/rdf--dev--vg-root:  135GB\n",
      "Sektorgröße (logisch/physisch): 512B/512B\n",
      "Partitionstabelle: loop\n",
      "Disk-Flags: \n",
      "\n",
      "Nummer  Anfang  Ende   Größe  Dateisystem  Flags\n",
      " 1      0,00B   135GB  135GB  ext4\n",
      "\n",
      "\n"
     ]
    }
   ],
   "source": [
    "sudo parted -l"
   ]
  },
  {
   "cell_type": "code",
   "execution_count": 22,
   "metadata": {
    "ExecuteTime": {
     "end_time": "2018-03-16T09:02:40.817179Z",
     "start_time": "2018-03-16T09:02:40.693275Z"
    }
   },
   "outputs": [
    {
     "name": "stdout",
     "output_type": "stream",
     "text": [
      "Personalities : \n",
      "unused devices: <none>\n"
     ]
    }
   ],
   "source": [
    "cat /proc/mdstat"
   ]
  },
  {
   "cell_type": "markdown",
   "metadata": {},
   "source": [
    "### RAID-0 anlegen"
   ]
  },
  {
   "cell_type": "code",
   "execution_count": 23,
   "metadata": {
    "ExecuteTime": {
     "end_time": "2018-03-16T09:02:41.128186Z",
     "start_time": "2018-03-16T09:02:40.824929Z"
    }
   },
   "outputs": [
    {
     "name": "stdout",
     "output_type": "stream",
     "text": [
      "mdadm: Defaulting to version 1.2 metadata\n",
      "mdadm: array /dev/md0 started.\n"
     ]
    }
   ],
   "source": [
    "sudo  mdadm --create /dev/md0 --level=0 --raid-devices=2 /dev/sdb1 /dev/sdc1"
   ]
  },
  {
   "cell_type": "code",
   "execution_count": 24,
   "metadata": {
    "ExecuteTime": {
     "end_time": "2018-03-16T09:02:41.268817Z",
     "start_time": "2018-03-16T09:02:41.132672Z"
    }
   },
   "outputs": [
    {
     "name": "stdout",
     "output_type": "stream",
     "text": [
      "Personalities : [raid0] \n",
      "md0 : active raid0 sdc1[1] sdb1[0]\n",
      "      1048303616 blocks super 1.2 512k chunks\n",
      "      \n",
      "unused devices: <none>\n"
     ]
    }
   ],
   "source": [
    "cat /proc/mdstat"
   ]
  },
  {
   "cell_type": "code",
   "execution_count": 25,
   "metadata": {
    "ExecuteTime": {
     "end_time": "2018-03-16T09:02:48.827687Z",
     "start_time": "2018-03-16T09:02:41.275980Z"
    }
   },
   "outputs": [
    {
     "name": "stdout",
     "output_type": "stream",
     "text": [
      "mke2fs 1.42.13 (17-May-2015)\n",
      "Ein Dateisystems mit 262075904 (4k) Blöcken und 65519616 Inodes wird erzeugt.\n",
      "UUID des Dateisystems: 2fa654e4-bd68-497f-9f60-36f713f0f249\n",
      "Superblock-Sicherungskopien gespeichert in den Blöcken: \n",
      "\t32768, 98304, 163840, 229376, 294912, 819200, 884736, 1605632, 2654208, \n",
      "\t4096000, 7962624, 11239424, 20480000, 23887872, 71663616, 78675968, \n",
      "\t102400000, 214990848\n",
      "\n",
      "beim Anfordern von Speicher für die Gruppentabellen:    0/799        erledigt                        \n",
      "Inode-Tabellen werden geschrieben:    0/799        erledigt                        \n",
      "Das Journal (32768 Blöcke) wird angelegt: erledgt\n",
      "Die Superblöcke und die Informationen über die Dateisystemnutzung werden\n",
      "geschrieben:    0/799        erledigt\n",
      "\n"
     ]
    }
   ],
   "source": [
    "sudo mkfs.ext4 /dev/md0"
   ]
  },
  {
   "cell_type": "code",
   "execution_count": 26,
   "metadata": {
    "ExecuteTime": {
     "end_time": "2018-03-16T09:02:49.217230Z",
     "start_time": "2018-03-16T09:02:48.829637Z"
    }
   },
   "outputs": [],
   "source": [
    "sudo mkdir /striped"
   ]
  },
  {
   "cell_type": "code",
   "execution_count": 27,
   "metadata": {
    "ExecuteTime": {
     "end_time": "2018-03-16T09:02:49.514195Z",
     "start_time": "2018-03-16T09:02:49.219714Z"
    }
   },
   "outputs": [],
   "source": [
    "sudo mount /dev/md0 /striped/"
   ]
  },
  {
   "cell_type": "code",
   "execution_count": 28,
   "metadata": {
    "ExecuteTime": {
     "end_time": "2018-03-16T09:02:49.867180Z",
     "start_time": "2018-03-16T09:02:49.518814Z"
    }
   },
   "outputs": [
    {
     "name": "stdout",
     "output_type": "stream",
     "text": [
      "/dev/md0 /striped ext4 defaults 0 0\n"
     ]
    }
   ],
   "source": [
    "echo \"/dev/md0 /striped ext4 defaults 0 0\" | sudo tee -a /etc/fstab"
   ]
  },
  {
   "cell_type": "code",
   "execution_count": 29,
   "metadata": {
    "ExecuteTime": {
     "end_time": "2018-03-16T09:02:49.989117Z",
     "start_time": "2018-03-16T09:02:49.872155Z"
    }
   },
   "outputs": [
    {
     "name": "stdout",
     "output_type": "stream",
     "text": [
      "# /etc/fstab: static file system information.\n",
      "#\n",
      "# Use 'blkid' to print the universally unique identifier for a\n",
      "# device; this may be used with UUID= as a more robust way to name devices\n",
      "# that works even if disks are added and removed. See fstab(5).\n",
      "#\n",
      "# <file system> <mount point>   <type>  <options>       <dump>  <pass>\n",
      "/dev/mapper/rdf--dev--vg-root /               ext4    errors=remount-ro 0       1\n",
      "# /boot was on /dev/sda1 during installation\n",
      "UUID=e27c63ad-c743-444d-9d78-0400b7e3d1b1 /boot           ext2    defaults        0       2\n",
      "/dev/mapper/rdf--dev--vg-swap_1 none            swap    sw              0       0\n",
      "/dev/md0 /striped ext4 defaults 0 0\n"
     ]
    }
   ],
   "source": [
    "cat /etc/fstab"
   ]
  },
  {
   "cell_type": "code",
   "execution_count": 30,
   "metadata": {
    "ExecuteTime": {
     "end_time": "2018-03-16T09:02:50.123381Z",
     "start_time": "2018-03-16T09:02:49.990502Z"
    }
   },
   "outputs": [],
   "source": [
    "sudo mount -a"
   ]
  },
  {
   "cell_type": "markdown",
   "metadata": {},
   "source": [
    "Normalerweise müsste man noch die /etc/mdadm/mdadm.conf einrichten folgt später."
   ]
  },
  {
   "cell_type": "markdown",
   "metadata": {},
   "source": [
    "### RAID-1\n",
    "\n",
    "Unser RAID-0 von oben entfernen und danach RAID-1 einrichten."
   ]
  },
  {
   "cell_type": "markdown",
   "metadata": {},
   "source": [
    "#### RAID löschen"
   ]
  },
  {
   "cell_type": "code",
   "execution_count": 31,
   "metadata": {
    "ExecuteTime": {
     "end_time": "2018-03-16T09:02:50.305594Z",
     "start_time": "2018-03-16T09:02:50.127371Z"
    }
   },
   "outputs": [],
   "source": [
    "sudo umount /striped"
   ]
  },
  {
   "cell_type": "code",
   "execution_count": 32,
   "metadata": {
    "ExecuteTime": {
     "end_time": "2018-03-16T09:02:50.486862Z",
     "start_time": "2018-03-16T09:02:50.309297Z"
    }
   },
   "outputs": [
    {
     "name": "stdout",
     "output_type": "stream",
     "text": [
      "mdadm: stopped /dev/md0\n"
     ]
    }
   ],
   "source": [
    "sudo mdadm --stop /dev/md0"
   ]
  },
  {
   "cell_type": "code",
   "execution_count": 33,
   "metadata": {
    "ExecuteTime": {
     "end_time": "2018-03-16T09:02:50.832895Z",
     "start_time": "2018-03-16T09:02:50.503507Z"
    }
   },
   "outputs": [],
   "source": [
    "sudo mdadm --zero-superblock /dev/sdb1\n",
    "sudo mdadm --zero-superblock /dev/sdc1"
   ]
  },
  {
   "cell_type": "markdown",
   "metadata": {},
   "source": [
    "#### RAID-1 einrichten"
   ]
  },
  {
   "cell_type": "code",
   "execution_count": 34,
   "metadata": {
    "ExecuteTime": {
     "end_time": "2018-03-16T09:02:51.157516Z",
     "start_time": "2018-03-16T09:02:50.848252Z"
    }
   },
   "outputs": [
    {
     "name": "stdout",
     "output_type": "stream",
     "text": [
      "mdadm: Note: this array has metadata at the start and\n",
      "    may not be suitable as a boot device.  If you plan to\n",
      "    store '/boot' on this device please ensure that\n",
      "    your boot-loader understands md/v1.x metadata, or use\n",
      "    --metadata=0.90\n",
      "Continue creating array? mdadm: Defaulting to version 1.2 metadata\n",
      "mdadm: array /dev/md0 started.\n",
      "yes: Standardausgabe: Datenübergabe unterbrochen (broken pipe)\n"
     ]
    }
   ],
   "source": [
    "yes | sudo mdadm --create /dev/md0 --level=1 --force --raid-devices=2 /dev/sdb1 /dev/sdc1"
   ]
  },
  {
   "cell_type": "code",
   "execution_count": 35,
   "metadata": {
    "ExecuteTime": {
     "end_time": "2018-03-16T09:02:56.889432Z",
     "start_time": "2018-03-16T09:02:51.158821Z"
    }
   },
   "outputs": [
    {
     "name": "stdout",
     "output_type": "stream",
     "text": [
      "mke2fs 1.42.13 (17-May-2015)\n",
      "Ein Dateisystems mit 131037952 (4k) Blöcken und 32759808 Inodes wird erzeugt.\n",
      "UUID des Dateisystems: 2ebc5136-823f-44f4-b840-a6e89b9ca7ce\n",
      "Superblock-Sicherungskopien gespeichert in den Blöcken: \n",
      "\t32768, 98304, 163840, 229376, 294912, 819200, 884736, 1605632, 2654208, \n",
      "\t4096000, 7962624, 11239424, 20480000, 23887872, 71663616, 78675968, \n",
      "\t102400000\n",
      "\n",
      "beim Anfordern von Speicher für die Gruppentabellen:    0/399        erledigt                        \n",
      "Inode-Tabellen werden geschrieben:    0/399        erledigt                        \n",
      "Das Journal (32768 Blöcke) wird angelegt: erledgt\n",
      "Die Superblöcke und die Informationen über die Dateisystemnutzung werden\n",
      "geschrieben:    0/399        erledigt\n",
      "\n",
      "yes: Standardausgabe: Datenübergabe unterbrochen (broken pipe)\n"
     ]
    }
   ],
   "source": [
    "yes | sudo mkfs.ext4 /dev/md0"
   ]
  },
  {
   "cell_type": "code",
   "execution_count": 36,
   "metadata": {
    "ExecuteTime": {
     "end_time": "2018-03-16T09:02:57.018286Z",
     "start_time": "2018-03-16T09:02:56.898623Z"
    }
   },
   "outputs": [
    {
     "name": "stdout",
     "output_type": "stream",
     "text": [
      "\n",
      "\n",
      "CREATE owner=root group=disk mode=0660 auto=yes\n",
      "\n",
      "HOMEHOST <system>\n",
      "\n",
      "MAILADDR root\n",
      "\n",
      "\n"
     ]
    }
   ],
   "source": [
    "grep -v ^# /etc/mdadm/mdadm.conf"
   ]
  },
  {
   "cell_type": "code",
   "execution_count": 37,
   "metadata": {
    "ExecuteTime": {
     "end_time": "2018-03-16T09:02:57.731011Z",
     "start_time": "2018-03-16T09:02:57.036345Z"
    }
   },
   "outputs": [
    {
     "name": "stdout",
     "output_type": "stream",
     "text": [
      "ARRAY /dev/md/0  metadata=1.2 UUID=a7edd71c:dbb8d686:02843441:9dab2eee name=rdf-dev:0\n"
     ]
    }
   ],
   "source": [
    "sudo mdadm --examine --scan | sudo tee -a /etc/mdadm/mdadm.conf"
   ]
  },
  {
   "cell_type": "code",
   "execution_count": 38,
   "metadata": {
    "ExecuteTime": {
     "end_time": "2018-03-16T09:02:57.919214Z",
     "start_time": "2018-03-16T09:02:57.737761Z"
    }
   },
   "outputs": [],
   "source": [
    "sudo mount -a"
   ]
  },
  {
   "cell_type": "code",
   "execution_count": 39,
   "metadata": {
    "ExecuteTime": {
     "end_time": "2018-03-16T09:02:58.041192Z",
     "start_time": "2018-03-16T09:02:57.921029Z"
    }
   },
   "outputs": [
    {
     "name": "stdout",
     "output_type": "stream",
     "text": [
      "sysfs on /sys type sysfs (rw,nosuid,nodev,noexec,relatime)\n",
      "proc on /proc type proc (rw,nosuid,nodev,noexec,relatime)\n",
      "udev on /dev type devtmpfs (rw,nosuid,relatime,size=1004744k,nr_inodes=251186,mode=755)\n",
      "devpts on /dev/pts type devpts (rw,nosuid,noexec,relatime,gid=5,mode=620,ptmxmode=000)\n",
      "tmpfs on /run type tmpfs (rw,nosuid,noexec,relatime,size=204808k,mode=755)\n",
      "/dev/mapper/rdf--dev--vg-root on / type ext4 (rw,relatime,errors=remount-ro,data=ordered)\n",
      "securityfs on /sys/kernel/security type securityfs (rw,nosuid,nodev,noexec,relatime)\n",
      "tmpfs on /dev/shm type tmpfs (rw,nosuid,nodev)\n",
      "tmpfs on /run/lock type tmpfs (rw,nosuid,nodev,noexec,relatime,size=5120k)\n",
      "tmpfs on /sys/fs/cgroup type tmpfs (rw,mode=755)\n",
      "cgroup on /sys/fs/cgroup/systemd type cgroup (rw,nosuid,nodev,noexec,relatime,xattr,release_agent=/lib/systemd/systemd-cgroups-agent,name=systemd)\n",
      "pstore on /sys/fs/pstore type pstore (rw,nosuid,nodev,noexec,relatime)\n",
      "cgroup on /sys/fs/cgroup/memory type cgroup (rw,nosuid,nodev,noexec,relatime,memory)\n",
      "cgroup on /sys/fs/cgroup/blkio type cgroup (rw,nosuid,nodev,noexec,relatime,blkio)\n",
      "cgroup on /sys/fs/cgroup/net_cls,net_prio type cgroup (rw,nosuid,nodev,noexec,relatime,net_cls,net_prio)\n",
      "cgroup on /sys/fs/cgroup/cpu,cpuacct type cgroup (rw,nosuid,nodev,noexec,relatime,cpu,cpuacct)\n",
      "cgroup on /sys/fs/cgroup/pids type cgroup (rw,nosuid,nodev,noexec,relatime,pids,release_agent=/run/cgmanager/agents/cgm-release-agent.pids)\n",
      "cgroup on /sys/fs/cgroup/hugetlb type cgroup (rw,nosuid,nodev,noexec,relatime,hugetlb,release_agent=/run/cgmanager/agents/cgm-release-agent.hugetlb)\n",
      "cgroup on /sys/fs/cgroup/devices type cgroup (rw,nosuid,nodev,noexec,relatime,devices)\n",
      "cgroup on /sys/fs/cgroup/perf_event type cgroup (rw,nosuid,nodev,noexec,relatime,perf_event,release_agent=/run/cgmanager/agents/cgm-release-agent.perf_event)\n",
      "cgroup on /sys/fs/cgroup/freezer type cgroup (rw,nosuid,nodev,noexec,relatime,freezer)\n",
      "cgroup on /sys/fs/cgroup/cpuset type cgroup (rw,nosuid,nodev,noexec,relatime,cpuset,clone_children)\n",
      "systemd-1 on /proc/sys/fs/binfmt_misc type autofs (rw,relatime,fd=29,pgrp=1,timeout=0,minproto=5,maxproto=5,direct)\n",
      "mqueue on /dev/mqueue type mqueue (rw,relatime)\n",
      "hugetlbfs on /dev/hugepages type hugetlbfs (rw,relatime)\n",
      "debugfs on /sys/kernel/debug type debugfs (rw,relatime)\n",
      "fusectl on /sys/fs/fuse/connections type fusectl (rw,relatime)\n",
      "sunrpc on /run/rpc_pipefs type rpc_pipefs (rw,relatime)\n",
      "nfsd on /proc/fs/nfsd type nfsd (rw,relatime)\n",
      "/dev/sda1 on /boot type ext2 (rw,relatime,block_validity,barrier,user_xattr,acl)\n",
      "binfmt_misc on /proc/sys/fs/binfmt_misc type binfmt_misc (rw,relatime)\n",
      "cgmfs on /run/cgmanager/fs type tmpfs (rw,relatime,size=100k,mode=755)\n",
      "lxcfs on /var/lib/lxcfs type fuse.lxcfs (rw,nosuid,nodev,relatime,user_id=0,group_id=0,allow_other)\n",
      "tmpfs on /run/user/900 type tmpfs (rw,nosuid,nodev,relatime,size=204808k,mode=700,uid=900,gid=900)\n",
      "/dev/mapper/rdf--dev--vg-root on /var/lib/docker/plugins type ext4 (rw,relatime,errors=remount-ro,data=ordered)\n",
      "vagrant on /vagrant type vboxsf (rw,nodev,relatime)\n",
      "/dev/md0 on /striped type ext4 (rw,relatime,data=ordered)\n"
     ]
    }
   ],
   "source": [
    "mount"
   ]
  },
  {
   "cell_type": "markdown",
   "metadata": {},
   "source": [
    "#### RAID-1 Verbund testen"
   ]
  },
  {
   "cell_type": "code",
   "execution_count": 40,
   "metadata": {
    "ExecuteTime": {
     "end_time": "2018-03-16T09:02:58.187650Z",
     "start_time": "2018-03-16T09:02:58.045519Z"
    }
   },
   "outputs": [
    {
     "name": "stdout",
     "output_type": "stream",
     "text": [
      "mdadm: set /dev/sdc1 faulty in /dev/md0\n"
     ]
    }
   ],
   "source": [
    "sudo mdadm /dev/md0 --fail /dev/sdc1"
   ]
  },
  {
   "cell_type": "code",
   "execution_count": 41,
   "metadata": {
    "ExecuteTime": {
     "end_time": "2018-03-16T09:02:58.307353Z",
     "start_time": "2018-03-16T09:02:58.190618Z"
    }
   },
   "outputs": [
    {
     "name": "stdout",
     "output_type": "stream",
     "text": [
      "Personalities : [raid0] [raid1] \n",
      "md0 : active raid1 sdc1[1](F) sdb1[0]\n",
      "      524151808 blocks super 1.2 [2/1] [U_]\n",
      "      bitmap: 4/4 pages [16KB], 65536KB chunk\n",
      "\n",
      "unused devices: <none>\n"
     ]
    }
   ],
   "source": [
    "cat /proc/mdstat"
   ]
  },
  {
   "cell_type": "code",
   "execution_count": 42,
   "metadata": {
    "ExecuteTime": {
     "end_time": "2018-03-16T09:02:58.486682Z",
     "start_time": "2018-03-16T09:02:58.314207Z"
    }
   },
   "outputs": [
    {
     "name": "stdout",
     "output_type": "stream",
     "text": [
      "mdadm: hot removed /dev/sdc1 from /dev/md0\n"
     ]
    }
   ],
   "source": [
    "sudo mdadm --remove /dev/md0 /dev/sdc1"
   ]
  },
  {
   "cell_type": "code",
   "execution_count": 43,
   "metadata": {
    "ExecuteTime": {
     "end_time": "2018-03-16T09:02:58.645402Z",
     "start_time": "2018-03-16T09:02:58.490619Z"
    }
   },
   "outputs": [
    {
     "name": "stdout",
     "output_type": "stream",
     "text": [
      "mdadm: re-added /dev/sdc1\n"
     ]
    }
   ],
   "source": [
    "sudo mdadm --add /dev/md0 /dev/sdc1"
   ]
  },
  {
   "cell_type": "code",
   "execution_count": 44,
   "metadata": {
    "ExecuteTime": {
     "end_time": "2018-03-16T09:02:58.769978Z",
     "start_time": "2018-03-16T09:02:58.651014Z"
    }
   },
   "outputs": [
    {
     "name": "stdout",
     "output_type": "stream",
     "text": [
      "Personalities : [raid0] [raid1] \n",
      "md0 : active raid1 sdc1[1] sdb1[0]\n",
      "      524151808 blocks super 1.2 [2/1] [U_]\n",
      "      [>....................]  recovery =  0.1% (1022528/524151808) finish=83.0min speed=105024K/sec\n",
      "      bitmap: 4/4 pages [16KB], 65536KB chunk\n",
      "\n",
      "unused devices: <none>\n"
     ]
    }
   ],
   "source": [
    "cat /proc/mdstat"
   ]
  },
  {
   "cell_type": "code",
   "execution_count": 45,
   "metadata": {
    "ExecuteTime": {
     "end_time": "2018-03-16T09:02:58.937177Z",
     "start_time": "2018-03-16T09:02:58.789192Z"
    }
   },
   "outputs": [
    {
     "name": "stdout",
     "output_type": "stream",
     "text": [
      "/dev/md0:\n",
      "        Version : 1.2\n",
      "  Creation Time : Fri Mar 16 09:02:50 2018\n",
      "     Raid Level : raid1\n",
      "     Array Size : 524151808 (499.87 GiB 536.73 GB)\n",
      "  Used Dev Size : 524151808 (499.87 GiB 536.73 GB)\n",
      "   Raid Devices : 2\n",
      "  Total Devices : 2\n",
      "    Persistence : Superblock is persistent\n",
      "\n",
      "  Intent Bitmap : Internal\n",
      "\n",
      "    Update Time : Fri Mar 16 09:02:58 2018\n",
      "          State : active, degraded, recovering \n",
      " Active Devices : 1\n",
      "Working Devices : 2\n",
      " Failed Devices : 0\n",
      "  Spare Devices : 1\n",
      "\n",
      " Rebuild Status : 0% complete\n",
      "\n",
      "           Name : rdf-dev:0  (local to host rdf-dev)\n",
      "           UUID : a7edd71c:dbb8d686:02843441:9dab2eee\n",
      "         Events : 11\n",
      "\n",
      "    Number   Major   Minor   RaidDevice State\n",
      "       0       8       17        0      active sync   /dev/sdb1\n",
      "       1       8       33        1      spare rebuilding   /dev/sdc1\n"
     ]
    }
   ],
   "source": [
    "sudo mdadm --detail /dev/md0"
   ]
  },
  {
   "cell_type": "markdown",
   "metadata": {},
   "source": [
    "#### Defekte RAID-1-HD austauschen\n",
    "\n",
    "Wichtig ist es die richtige (Seriennummer) HD austauschen!\n",
    "\n",
    "Das Kommandos `mdadm --remove` wurde schon oben verwendet."
   ]
  },
  {
   "cell_type": "code",
   "execution_count": 46,
   "metadata": {
    "ExecuteTime": {
     "end_time": "2018-03-16T09:02:59.136377Z",
     "start_time": "2018-03-16T09:02:58.938377Z"
    }
   },
   "outputs": [
    {
     "name": "stdout",
     "output_type": "stream",
     "text": [
      "\n",
      "/dev/sdc:\n",
      "\n",
      " Model=VBOX HARDDISK, FwRev=1.0, SerialNo=VB0d11ac18-4e71b593\n",
      " Config={ Fixed }\n",
      " RawCHS=16383/16/63, TrkSize=0, SectSize=512, ECCbytes=0\n",
      " BuffType=DualPortCache, BuffSize=256kB, MaxMultSect=128, MultSect=128\n",
      " CurCHS=16383/16/63, CurSects=16514064, LBA=yes, LBAsects=1048576000\n",
      " IORDY=yes, tPIO={min:120,w/IORDY:120}, tDMA={min:120,rec:120}\n",
      " PIO modes:  pio0 pio3 pio4 \n",
      " DMA modes:  mdma0 mdma1 mdma2 \n",
      " UDMA modes: udma0 udma1 udma2 udma3 udma4 udma5 *udma6 \n",
      " AdvancedPM=no WriteCache=enabled\n",
      " Drive conforms to: unknown:  ATA/ATAPI-1,2,3,4,5,6\n",
      "\n",
      " * signifies the current active mode\n",
      "\n"
     ]
    }
   ],
   "source": [
    "sudo hdparm -i /dev/sdc"
   ]
  },
  {
   "cell_type": "code",
   "execution_count": 47,
   "metadata": {
    "ExecuteTime": {
     "end_time": "2018-03-16T09:02:59.428052Z",
     "start_time": "2018-03-16T09:02:59.137997Z"
    }
   },
   "outputs": [
    {
     "name": "stdout",
     "output_type": "stream",
     "text": [
      "smartctl 6.5 2016-01-24 r4214 [x86_64-linux-4.4.0-116-generic] (local build)\n",
      "Copyright (C) 2002-16, Bruce Allen, Christian Franke, www.smartmontools.org\n",
      "\n",
      "=== START OF INFORMATION SECTION ===\n",
      "Device Model:     VBOX HARDDISK\n",
      "Serial Number:    VB0d11ac18-4e71b593\n",
      "Firmware Version: 1.0\n",
      "User Capacity:    536.870.912.000 bytes [536 GB]\n",
      "Sector Size:      512 bytes logical/physical\n",
      "Device is:        Not in smartctl database [for details use: -P showall]\n",
      "ATA Version is:   ATA/ATAPI-6 published, ANSI INCITS 361-2002\n",
      "Local Time is:    Fri Mar 16 09:02:59 2018 UTC\n",
      "SMART support is: Unavailable - device lacks SMART capability.\n",
      "\n"
     ]
    }
   ],
   "source": [
    "sudo smartctl -i /dev/sdc"
   ]
  },
  {
   "cell_type": "markdown",
   "metadata": {},
   "source": [
    "### Partitionen analysieren"
   ]
  },
  {
   "cell_type": "code",
   "execution_count": 48,
   "metadata": {
    "ExecuteTime": {
     "end_time": "2018-03-16T09:02:59.594969Z",
     "start_time": "2018-03-16T09:02:59.430250Z"
    }
   },
   "outputs": [
    {
     "name": "stdout",
     "output_type": "stream",
     "text": [
      "/dev/sdc1: is not an md array\n",
      "/dev/sdc1: device 1 in 2 device active raid1 /dev/md0.  Use mdadm --examine for more detail.\n"
     ]
    }
   ],
   "source": [
    "sudo mdadm --query /dev/sdc1"
   ]
  },
  {
   "cell_type": "code",
   "execution_count": 49,
   "metadata": {
    "ExecuteTime": {
     "end_time": "2018-03-16T09:02:59.753403Z",
     "start_time": "2018-03-16T09:02:59.600953Z"
    }
   },
   "outputs": [
    {
     "name": "stdout",
     "output_type": "stream",
     "text": [
      "/dev/md0: 499.87GiB raid1 2 devices, 1 spare. Use mdadm --detail for more detail.\n"
     ]
    }
   ],
   "source": [
    "sudo mdadm --query /dev/md0"
   ]
  },
  {
   "cell_type": "code",
   "execution_count": 50,
   "metadata": {
    "ExecuteTime": {
     "end_time": "2018-03-16T09:02:59.976637Z",
     "start_time": "2018-03-16T09:02:59.767511Z"
    }
   },
   "outputs": [
    {
     "name": "stdout",
     "output_type": "stream",
     "text": [
      "/dev/sdc1:\n",
      "          Magic : a92b4efc\n",
      "        Version : 1.2\n",
      "    Feature Map : 0x83\n",
      "     Array UUID : a7edd71c:dbb8d686:02843441:9dab2eee\n",
      "           Name : rdf-dev:0  (local to host rdf-dev)\n",
      "  Creation Time : Fri Mar 16 09:02:50 2018\n",
      "     Raid Level : raid1\n",
      "   Raid Devices : 2\n",
      "\n",
      " Avail Dev Size : 1048303617 (499.87 GiB 536.73 GB)\n",
      "     Array Size : 524151808 (499.87 GiB 536.73 GB)\n",
      "  Used Dev Size : 1048303616 (499.87 GiB 536.73 GB)\n",
      "    Data Offset : 262144 sectors\n",
      "   Super Offset : 8 sectors\n",
      "Recovery Offset : 0 sectors\n",
      "          State : active\n",
      "    Device UUID : 1d78e61c:b71f2840:dfed71b2:da3788dc\n",
      "\n",
      "Internal Bitmap : 8 sectors from superblock\n",
      "    Update Time : Fri Mar 16 09:02:58 2018\n",
      "  Bad Block Log : 512 entries available at offset 72 sectors\n",
      "       Checksum : 23f6e5f - correct\n",
      "         Events : 11\n",
      "\n",
      "\n",
      "   Device Role : Active device 1\n",
      "   Array State : AA ('A' == active, '.' == missing, 'R' == replacing)\n"
     ]
    }
   ],
   "source": [
    "sudo mdadm --examine /dev/sdc1"
   ]
  },
  {
   "cell_type": "code",
   "execution_count": 51,
   "metadata": {
    "ExecuteTime": {
     "end_time": "2018-03-16T09:03:00.151387Z",
     "start_time": "2018-03-16T09:02:59.993141Z"
    }
   },
   "outputs": [
    {
     "name": "stdout",
     "output_type": "stream",
     "text": [
      "/dev/md0:\n",
      "        Version : 1.2\n",
      "  Creation Time : Fri Mar 16 09:02:50 2018\n",
      "     Raid Level : raid1\n",
      "     Array Size : 524151808 (499.87 GiB 536.73 GB)\n",
      "  Used Dev Size : 524151808 (499.87 GiB 536.73 GB)\n",
      "   Raid Devices : 2\n",
      "  Total Devices : 2\n",
      "    Persistence : Superblock is persistent\n",
      "\n",
      "  Intent Bitmap : Internal\n",
      "\n",
      "    Update Time : Fri Mar 16 09:02:58 2018\n",
      "          State : active, degraded, recovering \n",
      " Active Devices : 1\n",
      "Working Devices : 2\n",
      " Failed Devices : 0\n",
      "  Spare Devices : 1\n",
      "\n",
      " Rebuild Status : 0% complete\n",
      "\n",
      "           Name : rdf-dev:0  (local to host rdf-dev)\n",
      "           UUID : a7edd71c:dbb8d686:02843441:9dab2eee\n",
      "         Events : 11\n",
      "\n",
      "    Number   Major   Minor   RaidDevice State\n",
      "       0       8       17        0      active sync   /dev/sdb1\n",
      "       1       8       33        1      spare rebuilding   /dev/sdc1\n"
     ]
    }
   ],
   "source": [
    "sudo mdadm --detail /dev/md0"
   ]
  },
  {
   "cell_type": "markdown",
   "metadata": {},
   "source": [
    "### RAID Verbund deaktiveren"
   ]
  },
  {
   "cell_type": "code",
   "execution_count": 52,
   "metadata": {
    "ExecuteTime": {
     "end_time": "2018-03-16T09:03:00.361795Z",
     "start_time": "2018-03-16T09:03:00.152782Z"
    }
   },
   "outputs": [],
   "source": [
    "sudo umount /striped"
   ]
  },
  {
   "cell_type": "code",
   "execution_count": 53,
   "metadata": {
    "ExecuteTime": {
     "end_time": "2018-03-16T09:03:01.029054Z",
     "start_time": "2018-03-16T09:03:00.367077Z"
    }
   },
   "outputs": [
    {
     "name": "stdout",
     "output_type": "stream",
     "text": [
      "mdadm: stopped /dev/md0\n"
     ]
    }
   ],
   "source": [
    "sudo mdadm --stop /dev/md0"
   ]
  },
  {
   "cell_type": "markdown",
   "metadata": {},
   "source": [
    "### RAID Verbund aktivieren"
   ]
  },
  {
   "cell_type": "code",
   "execution_count": 54,
   "metadata": {
    "ExecuteTime": {
     "end_time": "2018-03-16T09:03:01.225237Z",
     "start_time": "2018-03-16T09:03:01.031582Z"
    }
   },
   "outputs": [
    {
     "name": "stdout",
     "output_type": "stream",
     "text": [
      "mdadm: /dev/md0 has been started with 1 drive (out of 2) and 1 rebuilding.\n"
     ]
    }
   ],
   "source": [
    "sudo mdadm --assemble /dev/md0 /dev/sdb1 /dev/sdc1"
   ]
  },
  {
   "cell_type": "markdown",
   "metadata": {},
   "source": [
    "### RAID-Metadaten löschen"
   ]
  },
  {
   "cell_type": "code",
   "execution_count": 55,
   "metadata": {
    "ExecuteTime": {
     "end_time": "2018-03-16T09:03:01.793357Z",
     "start_time": "2018-03-16T09:03:01.228918Z"
    }
   },
   "outputs": [
    {
     "name": "stdout",
     "output_type": "stream",
     "text": [
      "umount: /striped: not mounted\n",
      "mdadm: stopped /dev/md0\n"
     ]
    }
   ],
   "source": [
    "sudo umount /striped\n",
    "sudo mdadm --stop /dev/md0"
   ]
  },
  {
   "cell_type": "code",
   "execution_count": 56,
   "metadata": {
    "ExecuteTime": {
     "end_time": "2018-03-16T09:03:02.102676Z",
     "start_time": "2018-03-16T09:03:01.797465Z"
    }
   },
   "outputs": [],
   "source": [
    "sudo mdadm --zero-superblock /dev/sdb1\n",
    "sudo mdadm --zero-superblock /dev/sdc1"
   ]
  },
  {
   "cell_type": "markdown",
   "metadata": {},
   "source": [
    "### Aufräumen RAID"
   ]
  },
  {
   "cell_type": "code",
   "execution_count": 57,
   "metadata": {
    "ExecuteTime": {
     "end_time": "2018-03-16T09:03:02.638860Z",
     "start_time": "2018-03-16T09:03:02.107177Z"
    }
   },
   "outputs": [
    {
     "name": "stdout",
     "output_type": "stream",
     "text": [
      "Modell: ATA VBOX HARDDISK (scsi)\n",
      "Festplatte  /dev/sda:  136GB\n",
      "Sektorgröße (logisch/physisch): 512B/512B\n",
      "Partitionstabelle: msdos\n",
      "Disk-Flags: \n",
      "\n",
      "Nummer  Anfang  Ende   Größe  Typ       Dateisystem  Flags\n",
      " 1      1049kB  512MB  511MB  primary   ext2         boot\n",
      " 2      513MB   136GB  136GB  extended\n",
      " 5      513MB   136GB  136GB  logical                LVM\n",
      "\n",
      "\n",
      "Modell: ATA VBOX HARDDISK (scsi)\n",
      "Festplatte  /dev/sdb:  537GB\n",
      "Sektorgröße (logisch/physisch): 512B/512B\n",
      "Partitionstabelle: gpt\n",
      "Disk-Flags: \n",
      "\n",
      "Nummer  Anfang  Ende   Größe  Dateisystem  Name     Flags\n",
      " 1      1049kB  537GB  537GB               primary  RAID\n",
      "\n",
      "\n",
      "Modell: ATA VBOX HARDDISK (scsi)\n",
      "Festplatte  /dev/sdc:  537GB\n",
      "Sektorgröße (logisch/physisch): 512B/512B\n",
      "Partitionstabelle: gpt\n",
      "Disk-Flags: \n",
      "\n",
      "Nummer  Anfang  Ende   Größe  Dateisystem  Name     Flags\n",
      " 1      1049kB  537GB  537GB               primary  RAID\n",
      "\n",
      "\n",
      "Modell: ATA VBOX HARDDISK (scsi)\n",
      "Festplatte  /dev/sdd:  537GB\n",
      "Sektorgröße (logisch/physisch): 512B/512B\n",
      "Partitionstabelle: gpt\n",
      "Disk-Flags: \n",
      "\n",
      "Nummer  Anfang  Ende   Größe  Dateisystem  Name     Flags\n",
      " 1      1049kB  537GB  537GB               primary  RAID\n",
      "\n",
      "\n",
      "Modell: Linux device-mapper (linear) (dm)\n",
      "Festplatte  /dev/mapper/rdf--dev--vg-swap_1:  1028MB\n",
      "Sektorgröße (logisch/physisch): 512B/512B\n",
      "Partitionstabelle: loop\n",
      "Disk-Flags: \n",
      "\n",
      "Nummer  Anfang  Ende    Größe   Dateisystem     Flags\n",
      " 1      0,00B   1028MB  1028MB  linux-swap(v1)\n",
      "\n",
      "\n",
      "Modell: Linux device-mapper (linear) (dm)\n",
      "Festplatte  /dev/mapper/rdf--dev--vg-root:  135GB\n",
      "Sektorgröße (logisch/physisch): 512B/512B\n",
      "Partitionstabelle: loop\n",
      "Disk-Flags: \n",
      "\n",
      "Nummer  Anfang  Ende   Größe  Dateisystem  Flags\n",
      " 1      0,00B   135GB  135GB  ext4\n",
      "\n",
      "\n"
     ]
    }
   ],
   "source": [
    "sudo parted -l"
   ]
  },
  {
   "cell_type": "code",
   "execution_count": 58,
   "metadata": {
    "ExecuteTime": {
     "end_time": "2018-03-16T09:03:03.313008Z",
     "start_time": "2018-03-16T09:03:02.642160Z"
    }
   },
   "outputs": [
    {
     "name": "stdout",
     "output_type": "stream",
     "text": [
      "Informationen: Möglicherweise müssen Sie /etc/fstab anpassen.\n",
      "\n",
      "Informationen: Möglicherweise müssen Sie /etc/fstab anpassen.             \n",
      "\n",
      "Informationen: Möglicherweise müssen Sie /etc/fstab anpassen.             \n",
      "\n",
      "                                                                          \r"
     ]
    }
   ],
   "source": [
    "sudo parted /dev/sdb rm 1\n",
    "sudo parted /dev/sdc rm 1\n",
    "sudo parted /dev/sdd rm 1"
   ]
  },
  {
   "cell_type": "code",
   "execution_count": 59,
   "metadata": {
    "ExecuteTime": {
     "end_time": "2018-03-16T09:03:03.645537Z",
     "start_time": "2018-03-16T09:03:03.314285Z"
    }
   },
   "outputs": [
    {
     "name": "stdout",
     "output_type": "stream",
     "text": [
      "Modell: ATA VBOX HARDDISK (scsi)\n",
      "Festplatte  /dev/sda:  136GB\n",
      "Sektorgröße (logisch/physisch): 512B/512B\n",
      "Partitionstabelle: msdos\n",
      "Disk-Flags: \n",
      "\n",
      "Nummer  Anfang  Ende   Größe  Typ       Dateisystem  Flags\n",
      " 1      1049kB  512MB  511MB  primary   ext2         boot\n",
      " 2      513MB   136GB  136GB  extended\n",
      " 5      513MB   136GB  136GB  logical                LVM\n",
      "\n",
      "\n",
      "Modell: ATA VBOX HARDDISK (scsi)\n",
      "Festplatte  /dev/sdb:  537GB\n",
      "Sektorgröße (logisch/physisch): 512B/512B\n",
      "Partitionstabelle: gpt\n",
      "Disk-Flags: \n",
      "\n",
      "Nummer  Anfang  Ende  Größe  Dateisystem  Name  Flags\n",
      "\n",
      "\n",
      "Modell: ATA VBOX HARDDISK (scsi)\n",
      "Festplatte  /dev/sdc:  537GB\n",
      "Sektorgröße (logisch/physisch): 512B/512B\n",
      "Partitionstabelle: gpt\n",
      "Disk-Flags: \n",
      "\n",
      "Nummer  Anfang  Ende  Größe  Dateisystem  Name  Flags\n",
      "\n",
      "\n",
      "Modell: ATA VBOX HARDDISK (scsi)\n",
      "Festplatte  /dev/sdd:  537GB\n",
      "Sektorgröße (logisch/physisch): 512B/512B\n",
      "Partitionstabelle: gpt\n",
      "Disk-Flags: \n",
      "\n",
      "Nummer  Anfang  Ende  Größe  Dateisystem  Name  Flags\n",
      "\n",
      "\n",
      "Modell: Linux device-mapper (linear) (dm)\n",
      "Festplatte  /dev/mapper/rdf--dev--vg-swap_1:  1028MB\n",
      "Sektorgröße (logisch/physisch): 512B/512B\n",
      "Partitionstabelle: loop\n",
      "Disk-Flags: \n",
      "\n",
      "Nummer  Anfang  Ende    Größe   Dateisystem     Flags\n",
      " 1      0,00B   1028MB  1028MB  linux-swap(v1)\n",
      "\n",
      "\n",
      "Modell: Linux device-mapper (linear) (dm)\n",
      "Festplatte  /dev/mapper/rdf--dev--vg-root:  135GB\n",
      "Sektorgröße (logisch/physisch): 512B/512B\n",
      "Partitionstabelle: loop\n",
      "Disk-Flags: \n",
      "\n",
      "Nummer  Anfang  Ende   Größe  Dateisystem  Flags\n",
      " 1      0,00B   135GB  135GB  ext4\n",
      "\n",
      "\n"
     ]
    }
   ],
   "source": [
    "sudo parted -l"
   ]
  },
  {
   "cell_type": "markdown",
   "metadata": {},
   "source": [
    "### LVM\n",
    "\n",
    "> Der Logical Volume Manager (LVM) ist ein hauptsächlich im Unix- und Linux-Umfeld verbreitetes Partitionsschema, das eine Abstraktionsebene zwischen Festplatten, Partitionen und Dateisystemen bietet. Durch den LVM ist es möglich, dynamisch veränderbare Partitionen (Logical Volumes, kurz LV) zu bilden, die sich auch über mehrere Festplatten hinweg erstrecken können. Die Größe dieser virtuellen Datenträger lässt sich auch nach dem Anlegen eines Dateisystems noch ändern, selbst wenn schon Daten darin gespeichert wurden. \n",
    "\n",
    "Vorteile:\n",
    "\n",
    "* Anlegen, vergrößern und verkleinern im laufenden Betrieb.\n",
    "* Mehrere HD können als riesige virtuelle Partition zusammengefasst werden.\n",
    "* __Snapshot__ für Backups\n",
    "* Ist sehr schnell\n",
    "* Kann mit RAID kombiniert werden. Außnahme RAID-0, diese wird von LVM direkt unterstützt.\n",
    "\n",
    "![LVM](https://upload.wikimedia.org/wikipedia/commons/thumb/e/e6/Lvm.svg/620px-Lvm.svg.png)\n",
    "Von Emanuel DussDiese Vektorgrafik wurde mit Inkscape erstellt und von Perhelion dann manuell nachbearbeitet. - Eigenes Werk, CC BY-SA 3.0 de, https://commons.wikimedia.org/w/index.php?curid=11624545\n",
    "\n",
    "> Der LVM fasst _Festplatten_ beziehungsweise _Partitionen_ (Physical Volume, __PV__) zu einem _Pool_ (Volume Group, __VG__) zusammen, aus dem dynamisch _LV-„Partitionen“_ (die Logical Volumes, __LV__) angefordert werden können. Auf diesen Logical Volumes werden die Dateisysteme angelegt."
   ]
  },
  {
   "cell_type": "markdown",
   "metadata": {},
   "source": [
    "### Arbeiten mit LVM\n",
    "\n",
    "| Kommando  | \tFunktion |\n",
    "|-----------|------------|\n",
    "| lvcreate  | \trichtet ein neues LV in einer VG ein. |\n",
    "| lvdisplay  | \tliefert Detailinformationen zu einem LV. |\n",
    "| lvextend  | \tvergrößert ein LV. |\n",
    "| lvreduce  | \tverkleinert ein LV. |\n",
    "| lvremove  | \tlöscht ein LV. |\n",
    "| lvrename  | \tgibt dem LV einen neuen Namen. |\n",
    "| lvscan  | \tlistet alle LVs auf. |\n",
    "| pvcreate  | \tkennzeichnet eine Partition oder ein Device als PV. |\n",
    "| pvdisplay  | \tliefert Detailinformationen zu einem PV. |\n",
    "| pvremove  | \tentfernt die PV-Kennzeichnung eines ungenutzten PVs. |\n",
    "| pvscan  | \tlistet alle PVs auf. |\n",
    "| vgchange  | \tändert die Attribute einer VG. |\n",
    "| vgcreate  | \terzeugt eine neue VG aus einem oder mehreren PVs. |\n",
    "| vgdisplay  | \tliefert Detailinformationen zu einer VG. |\n",
    "| vgextend  | \tvergrößert eine VG um ein PV. |\n",
    "| vgmerge  | \tvereint zwei VGs. |\n",
    "| vgreduce  | \tverkleinert eine VG um ein ungenutztes PV. |\n",
    "| vgrename  | \tgibt einer VG einen neuen Namen. |\n",
    "| vgscan  | \tlistet alle VGs auf. |\n"
   ]
  },
  {
   "cell_type": "code",
   "execution_count": 60,
   "metadata": {
    "ExecuteTime": {
     "end_time": "2018-03-16T09:03:03.837154Z",
     "start_time": "2018-03-16T09:03:03.647471Z"
    }
   },
   "outputs": [
    {
     "name": "stdout",
     "output_type": "stream",
     "text": [
      "  ACTIVE            '/dev/rdf-dev-vg/root' [125,56 GiB] inherit\n",
      "  ACTIVE            '/dev/rdf-dev-vg/swap_1' [980,00 MiB] inherit\n"
     ]
    }
   ],
   "source": [
    "sudo lvscan"
   ]
  },
  {
   "cell_type": "code",
   "execution_count": 61,
   "metadata": {
    "ExecuteTime": {
     "end_time": "2018-03-16T09:03:04.013579Z",
     "start_time": "2018-03-16T09:03:03.842703Z"
    }
   },
   "outputs": [
    {
     "name": "stdout",
     "output_type": "stream",
     "text": [
      "  --- Logical volume ---\n",
      "  LV Path                /dev/rdf-dev-vg/root\n",
      "  LV Name                root\n",
      "  VG Name                rdf-dev-vg\n",
      "  LV UUID                9c81e5-NVig-Q9Lc-u9Sf-2gAW-LdTN-xR0rsx\n",
      "  LV Write Access        read/write\n",
      "  LV Creation host, time rdf-dev, 2018-03-12 21:49:31 +0000\n",
      "  LV Status              available\n",
      "  # open                 1\n",
      "  LV Size                125,56 GiB\n",
      "  Current LE             32144\n",
      "  Segments               1\n",
      "  Allocation             inherit\n",
      "  Read ahead sectors     auto\n",
      "  - currently set to     256\n",
      "  Block device           252:0\n",
      "   \n",
      "  --- Logical volume ---\n",
      "  LV Path                /dev/rdf-dev-vg/swap_1\n",
      "  LV Name                swap_1\n",
      "  VG Name                rdf-dev-vg\n",
      "  LV UUID                eir0hG-F6Ib-ZNYi-4bI6-gOZ3-j7UZ-f0tQEq\n",
      "  LV Write Access        read/write\n",
      "  LV Creation host, time rdf-dev, 2018-03-12 21:49:32 +0000\n",
      "  LV Status              available\n",
      "  # open                 2\n",
      "  LV Size                980,00 MiB\n",
      "  Current LE             245\n",
      "  Segments               1\n",
      "  Allocation             inherit\n",
      "  Read ahead sectors     auto\n",
      "  - currently set to     256\n",
      "  Block device           252:1\n",
      "   \n"
     ]
    }
   ],
   "source": [
    "sudo lvdisplay"
   ]
  },
  {
   "cell_type": "code",
   "execution_count": 62,
   "metadata": {
    "ExecuteTime": {
     "end_time": "2018-03-16T09:03:04.318793Z",
     "start_time": "2018-03-16T09:03:04.016967Z"
    }
   },
   "outputs": [
    {
     "name": "stdout",
     "output_type": "stream",
     "text": [
      "  PV /dev/sda5   VG rdf-dev-vg      lvm2 [126,52 GiB / 0    free]\n",
      "  Total: 1 [126,52 GiB] / in use: 1 [126,52 GiB] / in no VG: 0 [0   ]\n"
     ]
    }
   ],
   "source": [
    "sudo pvscan"
   ]
  },
  {
   "cell_type": "code",
   "execution_count": 63,
   "metadata": {
    "ExecuteTime": {
     "end_time": "2018-03-16T09:03:04.591076Z",
     "start_time": "2018-03-16T09:03:04.324130Z"
    }
   },
   "outputs": [
    {
     "name": "stdout",
     "output_type": "stream",
     "text": [
      "  --- Physical volume ---\n",
      "  PV Name               /dev/sda5\n",
      "  VG Name               rdf-dev-vg\n",
      "  PV Size               126,52 GiB / not usable 2,00 MiB\n",
      "  Allocatable           yes (but full)\n",
      "  PE Size               4,00 MiB\n",
      "  Total PE              32389\n",
      "  Free PE               0\n",
      "  Allocated PE          32389\n",
      "  PV UUID               V1GDlK-jSjG-YGQ5-iBnw-4N0a-G4FZ-nfFGVG\n",
      "   \n"
     ]
    }
   ],
   "source": [
    "sudo pvdisplay"
   ]
  },
  {
   "cell_type": "code",
   "execution_count": 64,
   "metadata": {
    "ExecuteTime": {
     "end_time": "2018-03-16T09:03:04.793816Z",
     "start_time": "2018-03-16T09:03:04.603912Z"
    }
   },
   "outputs": [
    {
     "name": "stdout",
     "output_type": "stream",
     "text": [
      "  Reading all physical volumes.  This may take a while...\n",
      "  Found volume group \"rdf-dev-vg\" using metadata type lvm2\n"
     ]
    }
   ],
   "source": [
    "sudo vgscan"
   ]
  },
  {
   "cell_type": "code",
   "execution_count": 65,
   "metadata": {
    "ExecuteTime": {
     "end_time": "2018-03-16T09:03:04.973994Z",
     "start_time": "2018-03-16T09:03:04.796736Z"
    }
   },
   "outputs": [
    {
     "name": "stdout",
     "output_type": "stream",
     "text": [
      "  --- Volume group ---\n",
      "  VG Name               rdf-dev-vg\n",
      "  System ID             \n",
      "  Format                lvm2\n",
      "  Metadata Areas        1\n",
      "  Metadata Sequence No  3\n",
      "  VG Access             read/write\n",
      "  VG Status             resizable\n",
      "  MAX LV                0\n",
      "  Cur LV                2\n",
      "  Open LV               2\n",
      "  Max PV                0\n",
      "  Cur PV                1\n",
      "  Act PV                1\n",
      "  VG Size               126,52 GiB\n",
      "  PE Size               4,00 MiB\n",
      "  Total PE              32389\n",
      "  Alloc PE / Size       32389 / 126,52 GiB\n",
      "  Free  PE / Size       0 / 0   \n",
      "  VG UUID               QOW1pd-nWYW-vop5-Yt1D-uTja-fR9c-G1yzzW\n",
      "   \n"
     ]
    }
   ],
   "source": [
    "sudo vgdisplay"
   ]
  },
  {
   "cell_type": "markdown",
   "metadata": {},
   "source": [
    "## Dateisysteme\n",
    "\n",
    "https://wiki.ubuntuusers.de/Dateisystem/\n",
    "\n",
    "> Dateisysteme sind die Schnittstellen zwischen dem Betriebssystem und den Partitionen auf Datenträgern. Sie organisieren die geordnete Ablage von Daten.\n",
    "\n"
   ]
  },
  {
   "cell_type": "markdown",
   "metadata": {},
   "source": [
    "## Was macht ein Dateisystem?\n",
    "\n",
    "> Neben der Datenorganisation auf dem Datenträger kann ein Dateisystem noch zusätzliche Möglichkeiten zur Verfügung stellen (Beispiele):  \n",
    "\n",
    "> * Verzeichnisse und Unterverzeichnisse anlegen\n",
    "* Datumsinformationen speichern (Erstellungsdatum, letzte Änderung, Zugriff)\n",
    "* Lange Dateinamen verwenden\n",
    "* Groß- und Kleinschreibung für Dateinamen berücksichtigen\n",
    "* Sonderzeichen für Dateinamen ermöglichen (z.B.: Leerzeichen)\n",
    "* Rechteverwaltung zur Zugriffssteuerung auf Dateien/Verzeichnisse\n",
    "* Journaling-Funktionen\n",
    "* ..."
   ]
  },
  {
   "cell_type": "markdown",
   "metadata": {},
   "source": [
    "## Dateisystem und Formatierung\n",
    "\n",
    "> Ein Dateisystem wird einer Partition durch Formatierung zugewiesen, „man formatiert mit einem Dateisystem“. Hierbei werden auf einer Partition bestimmte Stellen für die Verwaltung reserviert und mit vordefinierten Werten überschrieben (was zu Datenverlust führt). Außerdem wird eine Inhaltstabelle angelegt und die ersten Werte (für die reservierten Stellen) eingetragen. \n",
    "\n",
    "> Die Formatierung kann entweder mit grafischen Programmen wie GParted durchgeführt werden oder man benutzt die Terminalprogramme mke2fs bzw. mkfs (Für Beschreibungen der Terminalbefehle siehe die entsprechenden manpages). "
   ]
  },
  {
   "cell_type": "markdown",
   "metadata": {
    "ExecuteTime": {
     "end_time": "2018-03-10T16:24:32.144795Z",
     "start_time": "2018-03-10T16:24:31.820685Z"
    }
   },
   "source": [
    "Gegenüberstellung von Dateisystemen siehe:\n",
    "\n",
    "https://wiki.ubuntuusers.de/Dateisystem/#Unterschiede"
   ]
  },
  {
   "cell_type": "markdown",
   "metadata": {},
   "source": [
    "Hier die wichtigsten Linux Dateisysteme und deren Maximalen Dateigröße\n",
    "\n",
    "| Dateisystem |  \tMaximale Dateigröße | \tMaximale Dateisystemgröße |\n",
    "|-------------|-------------------------|-----------------------------|\n",
    "| btrfs |  \t16.777.216 TiB | \t16.777.216 TiB = 16 Exabyte = 16 EiB |\n",
    "| ext3 |  \t2 TiB  |\t32 TiB (bei 8 KiB Blockgröße) |\n",
    "| ext4 |  \t16 TiB  |\t1.048.576 TiB = 1 EiB |\n",
    "| xfs |  \t9.437.184 TiB | \t9.437.184 TiB |\n",
    "| ZFS |  \t16.777.216 TiB | \t16.777.216 TiB |\n"
   ]
  },
  {
   "cell_type": "markdown",
   "metadata": {},
   "source": [
    "### ext Dateisystem\n",
    "\n",
    "> Im Gegensatz zu den unter Windows verwendeten Dateisystemen FAT32 und NTFS, die auf einer Tabellenstruktur basieren, verwenden ext-Dateisysteme eine Baumstruktur zum Speichern des Laufwerksinhaltes. Die Knoten dieser Baumstruktur bestehen aus Inodes (Kurzwort aus \"index node\"). Diese Inodes speichern entweder direkte Verweise auf Festplattenblöcke mit kleinen Dateien oder einen Verweis auf einen weiteren Block, in dem die Datenblöcke größerer Dateien gespeichert sind. Ein Inode hat eine Mindestgröße von 128 Byte.\n",
    "\n",
    "> Informationen über das Dateisystem werden im ersten Block, im Superblock des Dateisystems, gespeichert. Hier finden sich alle Optionen des Dateisystems, die sich auch mit dem Befehl tune2fs manipulieren lassen. Außerdem findet sich dort ein Verweis auf die Inode-Struktur des zu Grunde liegenden Dateisystems.\n",
    "\n",
    "https://wiki.ubuntuusers.de/ext/ Stand 2018-03-10 20:22:53 \n",
    "\n",
    "Siehe auch: https://de.wikipedia.org/wiki/Ext4\n",
    "\n",
    "Zum Journaling:\n",
    "\n",
    "Hier wird überprüft, ob eine Dateiopreation vollständig durchgeführt wurde, ähnlich wie bei Datenbanken die Transaktion.\n",
    "\n",
    "__Allerdings__: Werden Daten im Cache gehalten und können u.U. erst nach Sekunden später ausgeführt werden. Somit kann es trotz Journalings zu Datenverlusten kommen."
   ]
  },
  {
   "cell_type": "markdown",
   "metadata": {},
   "source": [
    "### btrfs\n",
    "\n",
    "> Es soll in Zukunft die bislang im Linux-Umfeld vorherrschenden Dateisysteme ext3 bzw. ext4 mit seinen Beschränkungen (Dateigröße und Gesamtdateisystemgröße) ersetzen. Das Btrfs-Dateisystem ist u.a. auf die folgenden Eigenschaften ausgelegt:  \n",
    "* erweiterte Dateispeicherung (Dateigröße bis 2^64 Byte)\n",
    "* effizientere Speicherung kleiner Dateien\n",
    "* effizientere Verwaltung der Verzeichnisstrukturen\n",
    "* dynamische Metadatenverwaltung\n",
    "* direkt erstellbare \"Schnappschüsse\" des Dateisystems oder Teilen davon\n",
    "    * Unterverzeichnisse mit separatem Laufwerk-Charakter\n",
    "    * Objekt bezogene Spiegelung mit Trennung der Ebenen\n",
    "* Prüfsummen für Daten und Metadaten (Mehrfach-Algorithmen verfügbar)\n",
    "    * direkte Integration in den \"Device-Mapper\" mit mehrfacher Geräteunterstützung\n",
    "    * ständige (online) Dateisystemprüfung und Defragmentierung\n",
    "* sehr schnelle Dateisystemprüfung beim Hochfahren\n",
    "    * effiziente Backup-Erweiterung und Dateisystem-Spiegelung"
   ]
  },
  {
   "cell_type": "markdown",
   "metadata": {},
   "source": [
    "Wichtigste Eigenschaft:\n",
    "\n",
    "__Copy on Write (CoW)__: \n",
    "\n",
    "> Das Copy-On-Write-Verfahren (kurz COW genannt, englisch wörtlich für „Kopieren-beim-Schreiben“) ist in der Datenverarbeitung eine Optimierungsmethode zur Vermeidung unnötiger Kopien und Kopiervorgänge, beispielsweise zwischen Prozessen unter unixartigen Systemen, insbesondere bei oder nach einem fork-Systemaufruf.\n",
    "\n",
    "> Die Grundidee des Verfahrens ist, dass die Kopie erst dann „real“ angefertigt wird, sobald sie von einem der Beteiligten verändert wird. Solange alle Beteiligten ihre Kopie nicht verändert haben, reicht es, das Original ein einziges Mal zu speichern. Die Kopie erfolgt also zunächst „virtuell“ – üblicherweise durch das Setzen harter Verknüpfungen – und wird erst bei einer ersten Änderung verzögert angelegt. \n",
    "\n",
    "https://de.wikipedia.org/wiki/Copy-On-Write aufgerufen 2018-03-10 20:33:24\n",
    "\n",
    "__Achtung__: Bei großen Binärdateien (Datenbanken, virtuelle Festplattenimages) kann sich btrfs CoW negativ auswirken.\n",
    "\n",
    "__Deduplizierung__ um Dateien gleichen Inhalts nur einmal zu speichern.\n",
    "\n",
    "Direket Unterstützt RAID-0, -1, -5, -6 und -10\n",
    "\n",
    "Komprimiert Dateien (mount-Option compress)\n",
    "\n",
    "SSD-Optimierung (mount-Option ssd)\n",
    "\n",
    "...\n",
    "\n",
    "Mit Subvolumes, Snapshots und RAID bietet btrfs ähnliche Funktionen wie die\n",
    "im Kernel schon enthaltenen Multi Device und Logical Volume Manager und RAID. "
   ]
  },
  {
   "cell_type": "markdown",
   "metadata": {},
   "source": [
    "### ZFS\n",
    "\n",
    "> ZFS (ursprünglich Zettabyte File System) wird oft als Dateisystem angesehen, was im Grunde genommen ein Missverständnis darstellt. ZFS kann ein Dateisystem sein, aber beherrscht auch noch einiges mehr. Es vereint die Funktionalität eines _Logical Volume Managers_ und eines _Software-RAID_ mit einem _Copy-on-Write-Dateisystem (COW)_. Das heißt, dass es (aufgrund seiner Kenntnisse der Festplattenbelegung) effizienter als jedes Hardware-RAID arbeitet, Daten-Integrität per Transaktionen ähnlich wie bei relationalen Datenbanken sichert und im Falle von Daten-Redundanz (Mehrfachspeicherung) sogar selbständig Daten repariert.\n",
    "\n",
    "> ZFS ist ein 128-bit-Dateisystem, das die Adressierung von 1.000.000.000.000.000.000.000 (1021) Bytes erlaubt (zum Vergleich siehe Binärpräfix). Es ist wahrscheinlich das fortschrittlichste Dateisystem, das es derzeit gibt.\n",
    "\n",
    "https://wiki.ubuntuusers.de/ZFS_on_Linux/ aufgerufen 2018-03-10 21:29:52 "
   ]
  },
  {
   "cell_type": "markdown",
   "metadata": {},
   "source": [
    "## Arbeiten mit den Dateisystemen"
   ]
  },
  {
   "cell_type": "markdown",
   "metadata": {},
   "source": [
    "### EXT4\n",
    "\n",
    "Siehe auch: https://www.thomas-krenn.com/de/wiki/Ext4_Dateisystem\n"
   ]
  },
  {
   "cell_type": "code",
   "execution_count": 66,
   "metadata": {
    "ExecuteTime": {
     "end_time": "2018-03-16T09:03:05.125827Z",
     "start_time": "2018-03-16T09:03:04.976181Z"
    }
   },
   "outputs": [
    {
     "name": "stdout",
     "output_type": "stream",
     "text": [
      "/dev/mapper/rdf--dev--vg-root /               ext4    errors=remount-ro 0       1\n",
      "UUID=e27c63ad-c743-444d-9d78-0400b7e3d1b1 /boot           ext2    defaults        0       2\n",
      "/dev/mapper/rdf--dev--vg-swap_1 none            swap    sw              0       0\n",
      "/dev/md0 /striped ext4 defaults 0 0\n"
     ]
    }
   ],
   "source": [
    "grep -v ^# /etc/fstab"
   ]
  },
  {
   "cell_type": "markdown",
   "metadata": {},
   "source": [
    "#### Journaling\n",
    "\n",
    "* data=ordered: Es werden nur Metadaten gespeichert, also Informationen _über_ Dateien. Es werden alle 5 Sekunden die Daten gespeichert. Mit ext4 kommt hier auch Delayd Allocation hinzu (wie auch bei btrfs, zfs ...).  \n",
    "Die Datenblöcke werden erst beim physikalischen Schreiben reserviert. Datenblöcke werden nicht fragementiert und die Geschwindigkeit kann durch Bündelung erhöht werden.\n",
    "\n",
    "* data=writeback: Schneller also `ordered` da der Abschluß einer Operation nicht abgewartet wird. Operationen sollten mit `fsync` abgeschlossen werden.\n",
    "\n",
    "* data=journal: Es werden zusätlich die Daten im Journal abgespeichert."
   ]
  },
  {
   "cell_type": "code",
   "execution_count": 67,
   "metadata": {
    "ExecuteTime": {
     "end_time": "2018-03-16T09:03:05.425528Z",
     "start_time": "2018-03-16T09:03:05.131810Z"
    }
   },
   "outputs": [
    {
     "name": "stdout",
     "output_type": "stream",
     "text": [
      "[    6.957427] EXT4-fs (dm-0): mounted filesystem with ordered data mode. Opts: (null)\n",
      "[   14.877642] EXT4-fs (dm-0): re-mounted. Opts: errors=remount-ro\n",
      "[   17.452295] EXT4-fs (sda1): mounting ext2 file system using the ext4 subsystem\n",
      "[   17.461928] EXT4-fs (sda1): mounted filesystem without journal. Opts: (null)\n",
      "[  653.476693] EXT4-fs (md0): mounted filesystem with ordered data mode. Opts: (null)\n",
      "[  661.887261] EXT4-fs (md0): mounted filesystem with ordered data mode. Opts: (null)\n"
     ]
    }
   ],
   "source": [
    "dmesg | grep EXT"
   ]
  },
  {
   "cell_type": "code",
   "execution_count": 68,
   "metadata": {
    "ExecuteTime": {
     "end_time": "2018-03-16T09:03:05.578952Z",
     "start_time": "2018-03-16T09:03:05.426786Z"
    }
   },
   "outputs": [
    {
     "name": "stdout",
     "output_type": "stream",
     "text": [
      "tune2fs 1.42.13 (17-May-2015)\n",
      "Filesystem volume name:   <none>\n",
      "Last mounted on:          /\n",
      "Filesystem UUID:          24ecbfab-4ce2-41b1-8dcb-6f0f539e7ecb\n",
      "Filesystem magic number:  0xEF53\n",
      "Filesystem revision #:    1 (dynamic)\n",
      "Filesystem features:      has_journal ext_attr resize_inode dir_index filetype needs_recovery extent flex_bg sparse_super large_file huge_file uninit_bg dir_nlink extra_isize\n",
      "Filesystem flags:         signed_directory_hash \n",
      "Default mount options:    user_xattr acl\n",
      "Filesystem state:         clean\n",
      "Errors behavior:          Continue\n",
      "Filesystem OS type:       Linux\n",
      "Inode count:              8232960\n",
      "Block count:              32915456\n",
      "Reserved block count:     1645772\n",
      "Free blocks:              26811198\n",
      "Free inodes:              7421014\n",
      "First block:              0\n",
      "Block size:               4096\n",
      "Fragment size:            4096\n",
      "Reserved GDT blocks:      1016\n",
      "Blocks per group:         32768\n",
      "Fragments per group:      32768\n",
      "Inodes per group:         8192\n",
      "Inode blocks per group:   512\n",
      "Flex block group size:    16\n",
      "Filesystem created:       Mon Mar 12 21:49:35 2018\n",
      "Last mount time:          Fri Mar 16 08:52:10 2018\n",
      "Last write time:          Fri Mar 16 08:52:02 2018\n",
      "Mount count:              5\n",
      "Maximum mount count:      -1\n",
      "Last checked:             Mon Mar 12 21:49:35 2018\n",
      "Check interval:           0 (<none>)\n",
      "Lifetime writes:          239 GB\n",
      "Reserved blocks uid:      0 (user root)\n",
      "Reserved blocks gid:      0 (group root)\n",
      "First inode:              11\n",
      "Inode size:\t          256\n",
      "Required extra isize:     28\n",
      "Desired extra isize:      28\n",
      "Journal inode:            8\n",
      "First orphan inode:       4337769\n",
      "Default directory hash:   half_md4\n",
      "Directory Hash Seed:      08e604cc-e422-4a5a-9412-a64026bb73ca\n",
      "Journal backup:           inode blocks\n"
     ]
    }
   ],
   "source": [
    "sudo tune2fs /dev/mapper/rdf--dev--vg-root -l"
   ]
  },
  {
   "cell_type": "code",
   "execution_count": 69,
   "metadata": {
    "ExecuteTime": {
     "end_time": "2018-03-16T09:03:06.161575Z",
     "start_time": "2018-03-16T09:03:05.580690Z"
    }
   },
   "outputs": [],
   "source": [
    "sudo e2label /dev/mapper/rdf--dev--vg-root mylabel"
   ]
  },
  {
   "cell_type": "code",
   "execution_count": 70,
   "metadata": {
    "ExecuteTime": {
     "end_time": "2018-03-16T09:03:06.300720Z",
     "start_time": "2018-03-16T09:03:06.162789Z"
    }
   },
   "outputs": [
    {
     "name": "stdout",
     "output_type": "stream",
     "text": [
      "tune2fs 1.42.13 (17-May-2015)\n",
      "Filesystem volume name:   mylabel\n",
      "Last mounted on:          /\n",
      "Filesystem UUID:          24ecbfab-4ce2-41b1-8dcb-6f0f539e7ecb\n",
      "Filesystem magic number:  0xEF53\n",
      "Filesystem revision #:    1 (dynamic)\n",
      "Filesystem features:      has_journal ext_attr resize_inode dir_index filetype needs_recovery extent flex_bg sparse_super large_file huge_file uninit_bg dir_nlink extra_isize\n",
      "Filesystem flags:         signed_directory_hash \n",
      "Default mount options:    user_xattr acl\n",
      "Filesystem state:         clean\n",
      "Errors behavior:          Continue\n",
      "Filesystem OS type:       Linux\n",
      "Inode count:              8232960\n",
      "Block count:              32915456\n",
      "Reserved block count:     1645772\n",
      "Free blocks:              26811198\n",
      "Free inodes:              7421014\n",
      "First block:              0\n",
      "Block size:               4096\n",
      "Fragment size:            4096\n",
      "Reserved GDT blocks:      1016\n",
      "Blocks per group:         32768\n",
      "Fragments per group:      32768\n",
      "Inodes per group:         8192\n",
      "Inode blocks per group:   512\n",
      "Flex block group size:    16\n",
      "Filesystem created:       Mon Mar 12 21:49:35 2018\n",
      "Last mount time:          Fri Mar 16 08:52:10 2018\n",
      "Last write time:          Fri Mar 16 09:03:05 2018\n",
      "Mount count:              5\n",
      "Maximum mount count:      -1\n",
      "Last checked:             Mon Mar 12 21:49:35 2018\n",
      "Check interval:           0 (<none>)\n",
      "Lifetime writes:          239 GB\n",
      "Reserved blocks uid:      0 (user root)\n",
      "Reserved blocks gid:      0 (group root)\n",
      "First inode:              11\n",
      "Inode size:\t          256\n",
      "Required extra isize:     28\n",
      "Desired extra isize:      28\n",
      "Journal inode:            8\n",
      "First orphan inode:       4337769\n",
      "Default directory hash:   half_md4\n",
      "Directory Hash Seed:      08e604cc-e422-4a5a-9412-a64026bb73ca\n",
      "Journal backup:           inode blocks\n"
     ]
    }
   ],
   "source": [
    "sudo tune2fs /dev/mapper/rdf--dev--vg-root -l"
   ]
  },
  {
   "cell_type": "code",
   "execution_count": 71,
   "metadata": {
    "ExecuteTime": {
     "end_time": "2018-03-16T09:03:06.450929Z",
     "start_time": "2018-03-16T09:03:06.309763Z"
    }
   },
   "outputs": [
    {
     "name": "stdout",
     "output_type": "stream",
     "text": [
      "tune2fs 1.42.13 (17-May-2015)\n",
      "tune2fs: Ungültige Option -- -\n",
      "Aufruf: tune2fs [-c max_Anzahl_Einhängungen] [-e Fehlerverhalten] [-g Gruppe]\n",
      "\t[-i Intervall[d|m|w]] [-j] [-J Journal_Optionen] [-l]\n",
      "\t[-m reservierte_Blöcke_Prozent] [-o [^]Einhängeoptionen[,...]] [-p mmp_Aktualisierungsintervall]\n",
      "\t[-r Anzahl_reservierter_Blöcke] [-u Benutzer] [-C Anzahl_Einhängungen] [-L Volume_Kennung]\n",
      "\t[-M letztes_eingehängtes_Verzeichnis] [-O [^]Eigenschaft[,...]]\n",
      "\t[-Q Quota-Optionen]\n",
      "\t[-E erweiterte_Optionen[,...]] [-T Zeitpunkt_letzter_Prüfung] [-U UUID]\n",
      "\t[ -I neue_Inodegröße ] Gerät\n"
     ]
    },
    {
     "ename": "",
     "evalue": "1",
     "output_type": "error",
     "traceback": []
    }
   ],
   "source": [
    "sudo tune2fs --help"
   ]
  },
  {
   "cell_type": "code",
   "execution_count": 72,
   "metadata": {
    "ExecuteTime": {
     "end_time": "2018-03-16T09:12:31.163050Z",
     "start_time": "2018-03-16T09:12:30.866061Z"
    }
   },
   "outputs": [
    {
     "name": "stdout",
     "output_type": "stream",
     "text": [
      "resize2fs 1.42.13 (17-May-2015)\n",
      "resize2fs: Ungültige Option -- -\n",
      "Aufruf: resize2fs [-d debug_flags] [-f] [-F] [-M] [-P] [-p] Gerät [neue_Größe]\n",
      "\n"
     ]
    },
    {
     "ename": "",
     "evalue": "1",
     "output_type": "error",
     "traceback": []
    }
   ],
   "source": [
    "sudo resize2fs --help"
   ]
  },
  {
   "cell_type": "code",
   "execution_count": 73,
   "metadata": {
    "ExecuteTime": {
     "end_time": "2018-03-16T09:13:07.275940Z",
     "start_time": "2018-03-16T09:12:32.420844Z"
    }
   },
   "outputs": [
    {
     "name": "stdout",
     "output_type": "stream",
     "text": [
      "\r\n"
     ]
    }
   ],
   "source": [
    "sudo e4defrag -c /"
   ]
  },
  {
   "cell_type": "markdown",
   "metadata": {},
   "source": [
    "### BTRFS\n",
    "\n"
   ]
  },
  {
   "cell_type": "code",
   "execution_count": 74,
   "metadata": {
    "ExecuteTime": {
     "end_time": "2018-03-16T09:13:18.789934Z",
     "start_time": "2018-03-16T09:13:17.965841Z"
    }
   },
   "outputs": [],
   "source": [
    "sudo parted --script /dev/sdb mklabel msdos\n",
    "sudo parted --script /dev/sdc mklabel msdos\n",
    "sudo parted --script /dev/sdd mklabel msdos"
   ]
  },
  {
   "cell_type": "code",
   "execution_count": 75,
   "metadata": {
    "ExecuteTime": {
     "end_time": "2018-03-16T09:13:19.131662Z",
     "start_time": "2018-03-16T09:13:18.796545Z"
    }
   },
   "outputs": [
    {
     "name": "stdout",
     "output_type": "stream",
     "text": [
      "Medium /dev/sdb: 500 GiB, 536870912000 Bytes, 1048576000 Sektoren\n",
      "Einheiten: sectors von 1 * 512 = 512 Bytes\n",
      "Sektorengröße (logisch/physisch): 512 Bytes / 512 Bytes\n",
      "I/O Größe (minimal/optimal): 512 Bytes / 512 Bytes\n",
      "Typ der Medienbezeichnung: dos\n",
      "Medienkennung: 0x61438c71\n"
     ]
    }
   ],
   "source": [
    "sudo fdisk -l /dev/sdb"
   ]
  },
  {
   "cell_type": "code",
   "execution_count": 76,
   "metadata": {
    "ExecuteTime": {
     "end_time": "2018-03-16T09:13:19.296680Z",
     "start_time": "2018-03-16T09:13:19.133311Z"
    }
   },
   "outputs": [
    {
     "name": "stdout",
     "output_type": "stream",
     "text": [
      "81  Minix / old Linux\n",
      "82  Linux swap / Solaris\n",
      "83  Linux\n",
      "85  Linux extended\n",
      "88  Linux plaintext\n",
      "8e  Linux LVM\n",
      "f0  Linux/PA-RISC boot\n",
      "fd  Linux raid autodetect\n"
     ]
    }
   ],
   "source": [
    "sudo sfdisk -T | grep Linux"
   ]
  },
  {
   "cell_type": "code",
   "execution_count": 77,
   "metadata": {
    "ExecuteTime": {
     "end_time": "2018-03-16T09:13:19.926620Z",
     "start_time": "2018-03-16T09:13:19.297954Z"
    }
   },
   "outputs": [
    {
     "name": "stdout",
     "output_type": "stream",
     "text": [
      "Checking that no-one is using this disk right now ... OK\n",
      "\n",
      "Medium /dev/sdb: 500 GiB, 536870912000 Bytes, 1048576000 Sektoren\n",
      "Einheiten: sectors von 1 * 512 = 512 Bytes\n",
      "Sektorengröße (logisch/physisch): 512 Bytes / 512 Bytes\n",
      "I/O Größe (minimal/optimal): 512 Bytes / 512 Bytes\n",
      "Typ der Medienbezeichnung: dos\n",
      "Medienkennung: 0x61438c71\n",
      "\n",
      "Old situation:\n",
      "\n",
      ">>> Created a new DOS disklabel with disk identifier 0x76aa5081.\n",
      "Created a new partition 1 of type 'Linux' and of size 500 GiB.\n",
      "/dev/sdb2: \n",
      "New situation:\n",
      "\n",
      "Gerät      Boot Start       Ende   Sektoren Größe Id Typ\n",
      "/dev/sdb1        2048 1048575999 1048573952  500G 83 Linux\n",
      "\n",
      "The partition table has been altered.\n",
      "Calling ioctl() to re-read partition table.\n",
      "Syncing disks.\n"
     ]
    }
   ],
   "source": [
    "echo ',,83;' | sudo sfdisk /dev/sdb"
   ]
  },
  {
   "cell_type": "code",
   "execution_count": 78,
   "metadata": {
    "ExecuteTime": {
     "end_time": "2018-03-16T09:13:20.051272Z",
     "start_time": "2018-03-16T09:13:19.929248Z"
    }
   },
   "outputs": [
    {
     "name": "stdout",
     "output_type": "stream",
     "text": [
      "Medium /dev/sdb: 500 GiB, 536870912000 Bytes, 1048576000 Sektoren\n",
      "Einheiten: sectors von 1 * 512 = 512 Bytes\n",
      "Sektorengröße (logisch/physisch): 512 Bytes / 512 Bytes\n",
      "I/O Größe (minimal/optimal): 512 Bytes / 512 Bytes\n",
      "Typ der Medienbezeichnung: dos\n",
      "Medienkennung: 0x76aa5081\n",
      "\n",
      "Gerät      Boot Start       Ende   Sektoren Größe Id Typ\n",
      "/dev/sdb1        2048 1048575999 1048573952  500G 83 Linux\n"
     ]
    }
   ],
   "source": [
    "sudo fdisk -l /dev/sdb"
   ]
  },
  {
   "cell_type": "code",
   "execution_count": 79,
   "metadata": {
    "ExecuteTime": {
     "end_time": "2018-03-16T09:13:20.464364Z",
     "start_time": "2018-03-16T09:13:20.053643Z"
    }
   },
   "outputs": [
    {
     "name": "stdout",
     "output_type": "stream",
     "text": [
      "btrfs-progs v4.4\n",
      "See http://btrfs.wiki.kernel.org for more information.\n",
      "\n",
      "Label:              (null)\n",
      "UUID:               4389035a-9973-4b61-9fe6-dd9b4f0b8c97\n",
      "Node size:          16384\n",
      "Sector size:        4096\n",
      "Filesystem size:    500.00GiB\n",
      "Block group profiles:\n",
      "  Data:             single            8.00MiB\n",
      "  Metadata:         DUP               1.01GiB\n",
      "  System:           DUP              12.00MiB\n",
      "SSD detected:       no\n",
      "Incompat features:  extref, skinny-metadata\n",
      "Number of devices:  1\n",
      "Devices:\n",
      "   ID        SIZE  PATH\n",
      "    1   500.00GiB  /dev/sdb1\n",
      "\n"
     ]
    }
   ],
   "source": [
    "sudo mkfs.btrfs /dev/sdb1"
   ]
  },
  {
   "cell_type": "code",
   "execution_count": 80,
   "metadata": {
    "ExecuteTime": {
     "end_time": "2018-03-16T09:13:20.680259Z",
     "start_time": "2018-03-16T09:13:20.466646Z"
    }
   },
   "outputs": [],
   "source": [
    "sudo mkdir /media/btrfs"
   ]
  },
  {
   "cell_type": "code",
   "execution_count": 81,
   "metadata": {
    "ExecuteTime": {
     "end_time": "2018-03-16T09:13:20.840909Z",
     "start_time": "2018-03-16T09:13:20.682403Z"
    }
   },
   "outputs": [],
   "source": [
    "sudo mount /dev/sdb1 /media/btrfs"
   ]
  },
  {
   "cell_type": "code",
   "execution_count": 82,
   "metadata": {
    "ExecuteTime": {
     "end_time": "2018-03-16T09:13:22.149696Z",
     "start_time": "2018-03-16T09:13:20.842158Z"
    }
   },
   "outputs": [
    {
     "name": "stdout",
     "output_type": "stream",
     "text": [
      "Label: none  uuid: 4389035a-9973-4b61-9fe6-dd9b4f0b8c97\n",
      "\tTotal devices 1 FS bytes used 384.00KiB\n",
      "\tdevid    1 size 500.00GiB used 2.02GiB path /dev/sdb1\n",
      "\n"
     ]
    }
   ],
   "source": [
    "sudo btrfs filesystem show"
   ]
  },
  {
   "cell_type": "code",
   "execution_count": 83,
   "metadata": {
    "ExecuteTime": {
     "end_time": "2018-03-16T09:13:22.267039Z",
     "start_time": "2018-03-16T09:13:22.158776Z"
    },
    "scrolled": false
   },
   "outputs": [
    {
     "name": "stdout",
     "output_type": "stream",
     "text": [
      "usage: btrfs [--help] [--version] <group> [<group>...] <command> [<args>]\n",
      "\n",
      "Command groups:\n",
      "  subvolume         manage subvolumes: create, delete, list, etc\n",
      "  filesystem        overall filesystem tasks and information\n",
      "  balance           balance data accross devices, or change block groups using filters\n",
      "  device            manage and query devices in the filesystem\n",
      "  scrub             verify checksums of data and metadata\n",
      "  rescue            toolbox for specific rescue operations\n",
      "  inspect-internal  query various internal information\n",
      "  property          modify properties of filesystem objects\n",
      "  quota             manage filesystem quota settings\n",
      "  qgroup            manage quota groups\n",
      "  replace           replace a device in the filesystem\n",
      "\n",
      "Commands:\n",
      "  check             Check structural inegrity of a filesystem (unmounted).\n",
      "  restore           Try to restore files from a damaged filesystem (unmounted)\n",
      "  send              Send the subvolume(s) to stdout.\n",
      "  receive           Receive subvolumes from stdin.\n",
      "  help              Display help information\n",
      "  version           Display btrfs-progs version\n",
      "\n",
      "For an overview of a given command use 'btrfs command --help'\n",
      "or 'btrfs [command...] --help --full' to print all available options.\n",
      "Any command name can be shortened as far as it stays unambiguous,\n",
      "however it is recommended to use full command names in scripts.\n",
      "All command groups have their manual page named 'btrfs-<group>'.\n"
     ]
    },
    {
     "ename": "",
     "evalue": "1",
     "output_type": "error",
     "traceback": []
    }
   ],
   "source": [
    "btrfs"
   ]
  },
  {
   "cell_type": "code",
   "execution_count": 84,
   "metadata": {
    "ExecuteTime": {
     "end_time": "2018-03-16T09:13:31.929816Z",
     "start_time": "2018-03-16T09:13:31.714315Z"
    }
   },
   "outputs": [
    {
     "name": "stdout",
     "output_type": "stream",
     "text": [
      "Label: none  uuid: 4389035a-9973-4b61-9fe6-dd9b4f0b8c97\n",
      "\tTotal devices 1 FS bytes used 384.00KiB\n",
      "\tdevid    1 size 500.00GiB used 2.02GiB path /dev/sdb1\n",
      "\n"
     ]
    }
   ],
   "source": [
    "sudo btrfs filesystem show"
   ]
  },
  {
   "cell_type": "code",
   "execution_count": 85,
   "metadata": {
    "ExecuteTime": {
     "end_time": "2018-03-16T09:13:33.474330Z",
     "start_time": "2018-03-16T09:13:33.345599Z"
    }
   },
   "outputs": [
    {
     "name": "stdout",
     "output_type": "stream",
     "text": [
      "Resize '/media/btrfs' of '-2G'\n"
     ]
    }
   ],
   "source": [
    "sudo btrfs filesystem resize -2G /media/btrfs"
   ]
  },
  {
   "cell_type": "code",
   "execution_count": 86,
   "metadata": {
    "ExecuteTime": {
     "end_time": "2018-03-16T09:13:34.615373Z",
     "start_time": "2018-03-16T09:13:34.358613Z"
    }
   },
   "outputs": [
    {
     "name": "stdout",
     "output_type": "stream",
     "text": [
      "/dev/sdb1 is currently mounted. Aborting.\n"
     ]
    },
    {
     "ename": "",
     "evalue": "240",
     "output_type": "error",
     "traceback": []
    }
   ],
   "source": [
    "sudo btrfs check /dev/sdb1"
   ]
  },
  {
   "cell_type": "code",
   "execution_count": 87,
   "metadata": {
    "ExecuteTime": {
     "end_time": "2018-03-16T09:13:35.162837Z",
     "start_time": "2018-03-16T09:13:35.027339Z"
    }
   },
   "outputs": [
    {
     "name": "stdout",
     "output_type": "stream",
     "text": [
      "/dev/sdb1 is currently mounted. Aborting.\n"
     ]
    },
    {
     "ename": "",
     "evalue": "240",
     "output_type": "error",
     "traceback": []
    }
   ],
   "source": [
    "sudo btrfs check /dev/sdb1"
   ]
  },
  {
   "cell_type": "code",
   "execution_count": 88,
   "metadata": {
    "ExecuteTime": {
     "end_time": "2018-03-16T09:13:35.886031Z",
     "start_time": "2018-03-16T09:13:35.567981Z"
    }
   },
   "outputs": [],
   "source": [
    "sudo touch /media/btrfs/datei\n",
    "sudo chattr +C /media/btrfs/datei"
   ]
  },
  {
   "cell_type": "code",
   "execution_count": 89,
   "metadata": {
    "ExecuteTime": {
     "end_time": "2018-03-16T09:13:36.636323Z",
     "start_time": "2018-03-16T09:13:36.474773Z"
    }
   },
   "outputs": [
    {
     "name": "stdout",
     "output_type": "stream",
     "text": [
      "---------------C /media/btrfs/datei\n"
     ]
    }
   ],
   "source": [
    "sudo lsattr /media/btrfs/datei"
   ]
  },
  {
   "cell_type": "code",
   "execution_count": 90,
   "metadata": {
    "ExecuteTime": {
     "end_time": "2018-03-16T09:13:37.454574Z",
     "start_time": "2018-03-16T09:13:37.310516Z"
    }
   },
   "outputs": [
    {
     "name": "stdout",
     "output_type": "stream",
     "text": [
      "Create subvolume '/media/btrfs/sub1'\n"
     ]
    }
   ],
   "source": [
    "sudo btrfs subvolume create /media/btrfs/sub1"
   ]
  },
  {
   "cell_type": "code",
   "execution_count": 91,
   "metadata": {
    "ExecuteTime": {
     "end_time": "2018-03-16T09:13:38.168699Z",
     "start_time": "2018-03-16T09:13:38.045244Z"
    }
   },
   "outputs": [],
   "source": [
    "sudo mkdir /media/btrfs/data"
   ]
  },
  {
   "cell_type": "code",
   "execution_count": 92,
   "metadata": {
    "ExecuteTime": {
     "end_time": "2018-03-16T09:13:39.040163Z",
     "start_time": "2018-03-16T09:13:38.914788Z"
    }
   },
   "outputs": [
    {
     "name": "stdout",
     "output_type": "stream",
     "text": [
      "Create subvolume '/media/btrfs/data/sub2'\n"
     ]
    }
   ],
   "source": [
    "sudo btrfs subvolume create /media/btrfs/data/sub2"
   ]
  },
  {
   "cell_type": "code",
   "execution_count": 93,
   "metadata": {
    "ExecuteTime": {
     "end_time": "2018-03-16T09:13:39.744582Z",
     "start_time": "2018-03-16T09:13:39.620146Z"
    }
   },
   "outputs": [
    {
     "name": "stdout",
     "output_type": "stream",
     "text": [
      "ID 257 gen 8 top level 5 path sub1\n",
      "ID 258 gen 8 top level 5 path data/sub2\n"
     ]
    }
   ],
   "source": [
    "sudo btrfs subvolume list /media/btrfs"
   ]
  },
  {
   "cell_type": "code",
   "execution_count": 94,
   "metadata": {
    "ExecuteTime": {
     "end_time": "2018-03-16T09:13:40.607251Z",
     "start_time": "2018-03-16T09:13:40.480019Z"
    }
   },
   "outputs": [],
   "source": [
    "sudo touch /media/btrfs/sub1/tst"
   ]
  },
  {
   "cell_type": "code",
   "execution_count": 95,
   "metadata": {
    "ExecuteTime": {
     "end_time": "2018-03-16T09:13:46.892276Z",
     "start_time": "2018-03-16T09:13:46.757957Z"
    }
   },
   "outputs": [],
   "source": [
    "sudo rm /media/btrfs/sub1/tst"
   ]
  },
  {
   "cell_type": "code",
   "execution_count": 96,
   "metadata": {
    "ExecuteTime": {
     "end_time": "2018-03-16T09:13:47.060267Z",
     "start_time": "2018-03-16T09:13:46.896201Z"
    }
   },
   "outputs": [
    {
     "name": "stdout",
     "output_type": "stream",
     "text": [
      "rmdir: konnte '/media/btrfs/sub1' nicht entfernen: Vorgang nicht zulässig\n"
     ]
    },
    {
     "ename": "",
     "evalue": "1",
     "output_type": "error",
     "traceback": []
    }
   ],
   "source": [
    "sudo rmdir /media/btrfs/sub1"
   ]
  },
  {
   "cell_type": "code",
   "execution_count": 97,
   "metadata": {
    "ExecuteTime": {
     "end_time": "2018-03-16T09:13:59.334931Z",
     "start_time": "2018-03-16T09:13:59.185115Z"
    }
   },
   "outputs": [],
   "source": [
    "sudo mkdir /media/sub2"
   ]
  },
  {
   "cell_type": "code",
   "execution_count": 98,
   "metadata": {
    "ExecuteTime": {
     "end_time": "2018-03-16T09:13:59.502192Z",
     "start_time": "2018-03-16T09:13:59.341207Z"
    }
   },
   "outputs": [],
   "source": [
    "sudo mount -o subvolid=258 /dev/sdb1 /media/sub2"
   ]
  },
  {
   "cell_type": "code",
   "execution_count": 99,
   "metadata": {
    "ExecuteTime": {
     "end_time": "2018-03-16T09:13:59.625468Z",
     "start_time": "2018-03-16T09:13:59.503963Z"
    }
   },
   "outputs": [
    {
     "name": "stdout",
     "output_type": "stream",
     "text": [
      "Delete subvolume (no-commit): '/media/btrfs/sub1'\n"
     ]
    }
   ],
   "source": [
    "sudo btrfs subvolume delete /media/btrfs/sub1"
   ]
  },
  {
   "cell_type": "code",
   "execution_count": 100,
   "metadata": {
    "ExecuteTime": {
     "end_time": "2018-03-16T09:13:59.756937Z",
     "start_time": "2018-03-16T09:13:59.626726Z"
    }
   },
   "outputs": [
    {
     "name": "stdout",
     "output_type": "stream",
     "text": [
      "Delete subvolume (no-commit): '/media/btrfs/data/sub2'\n"
     ]
    }
   ],
   "source": [
    "sudo btrfs subvolume delete /media/btrfs/data/sub2"
   ]
  },
  {
   "cell_type": "code",
   "execution_count": 101,
   "metadata": {
    "ExecuteTime": {
     "end_time": "2018-03-16T09:13:59.882079Z",
     "start_time": "2018-03-16T09:13:59.758439Z"
    }
   },
   "outputs": [],
   "source": [
    "sudo ls /media/sub2"
   ]
  },
  {
   "cell_type": "code",
   "execution_count": 102,
   "metadata": {
    "ExecuteTime": {
     "end_time": "2018-03-16T09:13:59.992490Z",
     "start_time": "2018-03-16T09:13:59.883998Z"
    }
   },
   "outputs": [
    {
     "name": "stdout",
     "output_type": "stream",
     "text": [
      "data  datei\n"
     ]
    }
   ],
   "source": [
    "ls /media/btrfs"
   ]
  },
  {
   "cell_type": "code",
   "execution_count": 103,
   "metadata": {
    "ExecuteTime": {
     "end_time": "2018-03-16T09:14:00.140562Z",
     "start_time": "2018-03-16T09:13:59.994045Z"
    }
   },
   "outputs": [
    {
     "name": "stdout",
     "output_type": "stream",
     "text": [
      "Create a snapshot of '/media/btrfs' in '/media/btrfs/snap1'\n"
     ]
    }
   ],
   "source": [
    "sudo btrfs subvolume snapshot /media/btrfs /media/btrfs/snap1"
   ]
  },
  {
   "cell_type": "code",
   "execution_count": 104,
   "metadata": {
    "ExecuteTime": {
     "end_time": "2018-03-16T09:14:00.392499Z",
     "start_time": "2018-03-16T09:14:00.141925Z"
    }
   },
   "outputs": [],
   "source": [
    "sudo mkdir /media/snap1\n",
    "sudo mount -o subvol=snap1 /dev/sdb1 /media/snap1"
   ]
  },
  {
   "cell_type": "code",
   "execution_count": 105,
   "metadata": {
    "ExecuteTime": {
     "end_time": "2018-03-16T09:14:00.535101Z",
     "start_time": "2018-03-16T09:14:00.394095Z"
    }
   },
   "outputs": [
    {
     "name": "stdout",
     "output_type": "stream",
     "text": [
      "data  datei\n"
     ]
    }
   ],
   "source": [
    "ls /media/snap1"
   ]
  },
  {
   "cell_type": "code",
   "execution_count": 106,
   "metadata": {
    "ExecuteTime": {
     "end_time": "2018-03-16T09:14:00.668043Z",
     "start_time": "2018-03-16T09:14:00.538061Z"
    }
   },
   "outputs": [],
   "source": [
    "sudo touch /media/snap1/datei2"
   ]
  },
  {
   "cell_type": "code",
   "execution_count": 107,
   "metadata": {
    "ExecuteTime": {
     "end_time": "2018-03-16T09:14:00.796840Z",
     "start_time": "2018-03-16T09:14:00.671877Z"
    }
   },
   "outputs": [
    {
     "name": "stdout",
     "output_type": "stream",
     "text": [
      "data  datei  snap1\n"
     ]
    }
   ],
   "source": [
    "ls /media/btrfs"
   ]
  },
  {
   "cell_type": "code",
   "execution_count": 108,
   "metadata": {
    "ExecuteTime": {
     "end_time": "2018-03-16T09:14:00.923653Z",
     "start_time": "2018-03-16T09:14:00.798567Z"
    }
   },
   "outputs": [
    {
     "name": "stdout",
     "output_type": "stream",
     "text": [
      "Label: none  uuid: 4389035a-9973-4b61-9fe6-dd9b4f0b8c97\n",
      "\tTotal devices 1 FS bytes used 448.00KiB\n",
      "\tdevid    1 size 498.00GiB used 2.02GiB path /dev/sdb1\n",
      "\n"
     ]
    }
   ],
   "source": [
    "sudo btrfs filesystem show /dev/sdb1"
   ]
  },
  {
   "cell_type": "code",
   "execution_count": 109,
   "metadata": {
    "ExecuteTime": {
     "end_time": "2018-03-16T09:14:01.048664Z",
     "start_time": "2018-03-16T09:14:00.925087Z"
    }
   },
   "outputs": [
    {
     "name": "stdout",
     "output_type": "stream",
     "text": [
      "Data, single: total=8.00MiB, used=256.00KiB\n",
      "System, DUP: total=8.00MiB, used=16.00KiB\n",
      "Metadata, DUP: total=1.00GiB, used=160.00KiB\n",
      "GlobalReserve, single: total=16.00MiB, used=16.00KiB\n"
     ]
    }
   ],
   "source": [
    "sudo btrfs filesystem df /media/btrfs"
   ]
  },
  {
   "cell_type": "markdown",
   "metadata": {},
   "source": [
    "### ZFS"
   ]
  },
  {
   "cell_type": "code",
   "execution_count": 114,
   "metadata": {
    "ExecuteTime": {
     "end_time": "2018-03-16T09:17:44.030697Z",
     "start_time": "2018-03-16T09:17:19.039954Z"
    },
    "scrolled": false
   },
   "outputs": [
    {
     "name": "stdout",
     "output_type": "stream",
     "text": [
      "Paketlisten werden gelesen... Fertig\n",
      "Abhängigkeitsbaum wird aufgebaut.       \n",
      "Statusinformationen werden eingelesen.... Fertig\n",
      "»linux-headers-4.4.0-116-generic« ist bereits die neuste Version (4.4.0-116.140).\n",
      "»software-properties-common« ist bereits die neuste Version (0.96.20.7).\n",
      "Die folgenden NEUEN Pakete werden installiert:\n",
      "  dkms\n",
      "0 aktualisiert, 1 neu installiert, 0 zu entfernen und 0 nicht aktualisiert.\n",
      "Es müssen 66,3 kB an Archiven heruntergeladen werden.\n",
      "Nach dieser Operation werden 265 kB Plattenplatz zusätzlich benutzt.\n",
      "Holen:1 http://us.archive.ubuntu.com/ubuntu xenial-updates/main amd64 dkms all 2.2.0.3-2ubuntu11.5 [66,3 kB]\n",
      "Es wurden 66,3 kB in 0 s geholt (128 kB/s).\n",
      "debconf: kann Oberfläche nicht initialisieren: Dialog\n",
      "debconf: (Die Dialog-Oberfläche funktioniert nicht auf einem Dumb-Terminal, einem Emacs-Shellbuffer oder ohne ein steuerndes Terminal.)\n",
      "debconf: greife zurück auf die Oberfläche: Readline\n",
      "Vormals nicht ausgewähltes Paket dkms wird gewählt.\n",
      "(Lese Datenbank ... 213359 Dateien und Verzeichnisse sind derzeit installiert.)\n",
      "Vorbereitung zum Entpacken von .../dkms_2.2.0.3-2ubuntu11.5_all.deb ...\n",
      "Entpacken von dkms (2.2.0.3-2ubuntu11.5) ...\n",
      "Trigger für man-db (2.7.5-1) werden verarbeitet ...\n",
      "dkms (2.2.0.3-2ubuntu11.5) wird eingerichtet ...\n",
      "debconf: kann Oberfläche nicht initialisieren: Dialog\n",
      "debconf: (Die Dialog-Oberfläche funktioniert nicht auf einem Dumb-Terminal, einem Emacs-Shellbuffer oder ohne ein steuerndes Terminal.)\n",
      "debconf: greife zurück auf die Oberfläche: Readline\n"
     ]
    }
   ],
   "source": [
    "sudo apt-get install --yes software-properties-common linux-headers-$(uname -r) dkms "
   ]
  },
  {
   "cell_type": "code",
   "execution_count": 115,
   "metadata": {
    "ExecuteTime": {
     "end_time": "2018-03-16T09:18:10.210193Z",
     "start_time": "2018-03-16T09:18:09.626678Z"
    }
   },
   "outputs": [
    {
     "name": "stdout",
     "output_type": "stream",
     "text": [
      "Paketlisten werden gelesen... Fertig\n",
      "Abhängigkeitsbaum wird aufgebaut.       \n",
      "Statusinformationen werden eingelesen.... Fertig\n",
      "»zfsutils-linux« ist bereits die neuste Version (0.6.5.6-0ubuntu19).\n",
      "0 aktualisiert, 0 neu installiert, 0 zu entfernen und 0 nicht aktualisiert.\n"
     ]
    }
   ],
   "source": [
    "sudo apt-get install zfsutils-linux"
   ]
  },
  {
   "cell_type": "code",
   "execution_count": 119,
   "metadata": {
    "ExecuteTime": {
     "end_time": "2018-03-16T09:22:05.127631Z",
     "start_time": "2018-03-16T09:22:04.928799Z"
    }
   },
   "outputs": [],
   "source": [
    "## der Speicherort dieser Festplatten-Simulationen\n",
    "sudo rm -rf /mnt/free-space"
   ]
  },
  {
   "cell_type": "code",
   "execution_count": 121,
   "metadata": {
    "ExecuteTime": {
     "end_time": "2018-03-16T09:23:09.071533Z",
     "start_time": "2018-03-16T09:23:07.847772Z"
    }
   },
   "outputs": [],
   "source": [
    "sudo zpool create -f mypool /dev/sdc"
   ]
  },
  {
   "cell_type": "code",
   "execution_count": 122,
   "metadata": {
    "ExecuteTime": {
     "end_time": "2018-03-16T09:23:22.488041Z",
     "start_time": "2018-03-16T09:23:22.352700Z"
    }
   },
   "outputs": [
    {
     "name": "stdout",
     "output_type": "stream",
     "text": [
      "  pool: mypool\n",
      " state: ONLINE\n",
      "  scan: none requested\n",
      "config:\n",
      "\n",
      "\tNAME        STATE     READ WRITE CKSUM\n",
      "\tmypool      ONLINE       0     0     0\n",
      "\t  sdc       ONLINE       0     0     0\n",
      "\n",
      "errors: No known data errors\n"
     ]
    }
   ],
   "source": [
    "sudo zpool status"
   ]
  },
  {
   "cell_type": "code",
   "execution_count": 123,
   "metadata": {
    "ExecuteTime": {
     "end_time": "2018-03-16T09:23:43.070640Z",
     "start_time": "2018-03-16T09:23:42.949522Z"
    }
   },
   "outputs": [
    {
     "name": "stdout",
     "output_type": "stream",
     "text": [
      "NAME     SIZE  ALLOC   FREE  EXPANDSZ   FRAG    CAP  DEDUP  HEALTH  ALTROOT\n",
      "mypool   496G    64K   496G         -     0%     0%  1.00x  ONLINE  -\n"
     ]
    }
   ],
   "source": [
    "sudo zpool list"
   ]
  },
  {
   "cell_type": "code",
   "execution_count": 125,
   "metadata": {
    "ExecuteTime": {
     "end_time": "2018-03-16T09:24:18.287490Z",
     "start_time": "2018-03-16T09:24:17.271334Z"
    }
   },
   "outputs": [],
   "source": [
    "sudo zpool add -f mypool /dev/sdd"
   ]
  },
  {
   "cell_type": "code",
   "execution_count": 126,
   "metadata": {
    "ExecuteTime": {
     "end_time": "2018-03-16T09:24:29.625775Z",
     "start_time": "2018-03-16T09:24:29.493085Z"
    }
   },
   "outputs": [
    {
     "name": "stdout",
     "output_type": "stream",
     "text": [
      "  pool: mypool\n",
      " state: ONLINE\n",
      "  scan: none requested\n",
      "config:\n",
      "\n",
      "\tNAME        STATE     READ WRITE CKSUM\n",
      "\tmypool      ONLINE       0     0     0\n",
      "\t  sdc       ONLINE       0     0     0\n",
      "\t  sdd       ONLINE       0     0     0\n",
      "\n",
      "errors: No known data errors\n"
     ]
    }
   ],
   "source": [
    "sudo zpool status"
   ]
  },
  {
   "cell_type": "code",
   "execution_count": 127,
   "metadata": {
    "ExecuteTime": {
     "end_time": "2018-03-16T09:24:47.097575Z",
     "start_time": "2018-03-16T09:24:46.973840Z"
    }
   },
   "outputs": [
    {
     "name": "stdout",
     "output_type": "stream",
     "text": [
      "NAME     SIZE  ALLOC   FREE  EXPANDSZ   FRAG    CAP  DEDUP  HEALTH  ALTROOT\n",
      "mypool   992G    79K   992G         -     0%     0%  1.00x  ONLINE  -\n"
     ]
    }
   ],
   "source": [
    "sudo zpool list"
   ]
  },
  {
   "cell_type": "code",
   "execution_count": 128,
   "metadata": {
    "ExecuteTime": {
     "end_time": "2018-03-16T09:27:00.508845Z",
     "start_time": "2018-03-16T09:27:00.239586Z"
    }
   },
   "outputs": [],
   "source": [
    "sudo zpool destroy mypool"
   ]
  },
  {
   "cell_type": "code",
   "execution_count": 130,
   "metadata": {
    "ExecuteTime": {
     "end_time": "2018-03-16T09:28:53.835325Z",
     "start_time": "2018-03-16T09:28:52.695569Z"
    }
   },
   "outputs": [],
   "source": [
    "sudo zpool create mypool mirror /dev/sdc /dev/sdd "
   ]
  },
  {
   "cell_type": "code",
   "execution_count": 131,
   "metadata": {
    "ExecuteTime": {
     "end_time": "2018-03-16T09:29:05.128516Z",
     "start_time": "2018-03-16T09:29:04.995843Z"
    }
   },
   "outputs": [
    {
     "name": "stdout",
     "output_type": "stream",
     "text": [
      "  pool: mypool\n",
      " state: ONLINE\n",
      "  scan: none requested\n",
      "config:\n",
      "\n",
      "\tNAME        STATE     READ WRITE CKSUM\n",
      "\tmypool      ONLINE       0     0     0\n",
      "\t  mirror-0  ONLINE       0     0     0\n",
      "\t    sdc     ONLINE       0     0     0\n",
      "\t    sdd     ONLINE       0     0     0\n",
      "\n",
      "errors: No known data errors\n"
     ]
    }
   ],
   "source": [
    "sudo zpool status"
   ]
  },
  {
   "cell_type": "code",
   "execution_count": 132,
   "metadata": {
    "ExecuteTime": {
     "end_time": "2018-03-16T09:29:19.640783Z",
     "start_time": "2018-03-16T09:29:19.512982Z"
    }
   },
   "outputs": [
    {
     "name": "stdout",
     "output_type": "stream",
     "text": [
      "NAME     SIZE  ALLOC   FREE  EXPANDSZ   FRAG    CAP  DEDUP  HEALTH  ALTROOT\n",
      "mypool   496G    64K   496G         -     0%     0%  1.00x  ONLINE  -\n"
     ]
    }
   ],
   "source": [
    "sudo zpool list"
   ]
  },
  {
   "cell_type": "code",
   "execution_count": 133,
   "metadata": {
    "ExecuteTime": {
     "end_time": "2018-03-16T09:30:33.059242Z",
     "start_time": "2018-03-16T09:30:32.685093Z"
    }
   },
   "outputs": [],
   "source": [
    "sudo zfs set compression=lz4 mypool"
   ]
  },
  {
   "cell_type": "code",
   "execution_count": 134,
   "metadata": {
    "ExecuteTime": {
     "end_time": "2018-03-16T09:30:49.527135Z",
     "start_time": "2018-03-16T09:30:49.360004Z"
    }
   },
   "outputs": [],
   "source": [
    "sudo zfs create mypool/testarea"
   ]
  },
  {
   "cell_type": "code",
   "execution_count": 135,
   "metadata": {
    "ExecuteTime": {
     "end_time": "2018-03-16T09:30:59.596084Z",
     "start_time": "2018-03-16T09:30:59.484161Z"
    }
   },
   "outputs": [],
   "source": [
    "cd /mypool/testarea"
   ]
  },
  {
   "cell_type": "code",
   "execution_count": 136,
   "metadata": {
    "ExecuteTime": {
     "end_time": "2018-03-16T09:31:05.465309Z",
     "start_time": "2018-03-16T09:31:05.359776Z"
    }
   },
   "outputs": [
    {
     "name": "stdout",
     "output_type": "stream",
     "text": [
      "insgesamt 1,0K\n",
      "4 drwxr-xr-x 2 root root 2 Mär 16 09:30 .\n",
      "4 drwxr-xr-x 3 root root 3 Mär 16 09:30 ..\n"
     ]
    }
   ],
   "source": [
    "ls -lachi"
   ]
  },
  {
   "cell_type": "code",
   "execution_count": 137,
   "metadata": {
    "ExecuteTime": {
     "end_time": "2018-03-16T09:31:41.386899Z",
     "start_time": "2018-03-16T09:31:40.677585Z"
    }
   },
   "outputs": [],
   "source": [
    "sudo cp -R /var/log ."
   ]
  },
  {
   "cell_type": "code",
   "execution_count": 138,
   "metadata": {
    "ExecuteTime": {
     "end_time": "2018-03-16T09:32:24.685890Z",
     "start_time": "2018-03-16T09:32:24.437957Z"
    }
   },
   "outputs": [
    {
     "name": "stdout",
     "output_type": "stream",
     "text": [
      "NAME             PROPERTY              VALUE                  SOURCE\n",
      "mypool/testarea  used                  242K                   -\n",
      "mypool/testarea  available             480G                   -\n",
      "mypool/testarea  referenced            242K                   -\n",
      "mypool/testarea  compressratio         4.05x                  -\n",
      "mypool/testarea  recordsize            128K                   default\n",
      "mypool/testarea  usedbydataset         242K                   -\n",
      "mypool/testarea  refcompressratio      4.05x                  -\n",
      "mypool/testarea  written               242K                   -\n",
      "mypool/testarea  logicalused           901K                   -\n",
      "mypool/testarea  logicalreferenced     901K                   -\n"
     ]
    }
   ],
   "source": [
    "sudo zfs get all mypool/testarea | awk '$3 ~ /[GEKMx]$/'"
   ]
  },
  {
   "cell_type": "code",
   "execution_count": 139,
   "metadata": {
    "ExecuteTime": {
     "end_time": "2018-03-16T09:34:01.114609Z",
     "start_time": "2018-03-16T09:34:00.892556Z"
    }
   },
   "outputs": [],
   "source": [
    "sudo zfs snap mypool/testarea@varlog-import"
   ]
  },
  {
   "cell_type": "code",
   "execution_count": 142,
   "metadata": {
    "ExecuteTime": {
     "end_time": "2018-03-16T09:35:30.351334Z",
     "start_time": "2018-03-16T09:35:30.168056Z"
    }
   },
   "outputs": [
    {
     "name": "stdout",
     "output_type": "stream",
     "text": [
      "Dies ist Datei file1.txt\n",
      "Dies ist Datei file2.txt\n",
      "Dies ist Datei file3.txt\n",
      "Dies ist Datei file4.txt\n",
      "Dies ist Datei file5.txt\n"
     ]
    }
   ],
   "source": [
    "for i in `seq 1 5`; do echo Dies ist Datei \"file$i.txt\" | sudo tee file$i.txt; done"
   ]
  },
  {
   "cell_type": "code",
   "execution_count": 143,
   "metadata": {
    "ExecuteTime": {
     "end_time": "2018-03-16T09:35:42.457643Z",
     "start_time": "2018-03-16T09:35:42.343286Z"
    }
   },
   "outputs": [
    {
     "name": "stdout",
     "output_type": "stream",
     "text": [
      "insgesamt 7\n",
      "drwxr-xr-x  3 root root  8 Mär 16 09:35 ./\n",
      "drwxr-xr-x  3 root root  3 Mär 16 09:30 ../\n",
      "-rw-r--r--  1 root root 25 Mär 16 09:35 file1.txt\n",
      "-rw-r--r--  1 root root 25 Mär 16 09:35 file2.txt\n",
      "-rw-r--r--  1 root root 25 Mär 16 09:35 file3.txt\n",
      "-rw-r--r--  1 root root 25 Mär 16 09:35 file4.txt\n",
      "-rw-r--r--  1 root root 25 Mär 16 09:35 file5.txt\n",
      "drwxr-xr-x 20 root root 44 Mär 16 09:31 log/\n"
     ]
    }
   ],
   "source": [
    "ll"
   ]
  },
  {
   "cell_type": "code",
   "execution_count": 144,
   "metadata": {
    "ExecuteTime": {
     "end_time": "2018-03-16T09:36:07.448330Z",
     "start_time": "2018-03-16T09:36:07.280965Z"
    }
   },
   "outputs": [],
   "source": [
    "sudo zfs snap mypool/testarea@file1-5.txt-erzeugt"
   ]
  },
  {
   "cell_type": "code",
   "execution_count": 145,
   "metadata": {
    "ExecuteTime": {
     "end_time": "2018-03-16T09:36:49.189850Z",
     "start_time": "2018-03-16T09:36:49.066176Z"
    }
   },
   "outputs": [
    {
     "name": "stdout",
     "output_type": "stream",
     "text": [
      "Dies ist Datei drei (nach einer Änderung)\n"
     ]
    }
   ],
   "source": [
    "echo \"Dies ist Datei drei (nach einer Änderung)\" | sudo tee -a file3.txt"
   ]
  },
  {
   "cell_type": "code",
   "execution_count": 146,
   "metadata": {
    "ExecuteTime": {
     "end_time": "2018-03-16T09:37:07.197153Z",
     "start_time": "2018-03-16T09:37:07.061262Z"
    }
   },
   "outputs": [],
   "source": [
    "sudo zfs snap mypool/testarea@file3.txt-geandert"
   ]
  },
  {
   "cell_type": "code",
   "execution_count": 147,
   "metadata": {
    "ExecuteTime": {
     "end_time": "2018-03-16T09:37:27.401566Z",
     "start_time": "2018-03-16T09:37:27.271741Z"
    }
   },
   "outputs": [
    {
     "name": "stdout",
     "output_type": "stream",
     "text": [
      "'file2.txt' wurde entfernt\n",
      "'file5.txt' wurde entfernt\n"
     ]
    }
   ],
   "source": [
    "sudo rm -v file{2,5}*"
   ]
  },
  {
   "cell_type": "code",
   "execution_count": 148,
   "metadata": {
    "ExecuteTime": {
     "end_time": "2018-03-16T09:37:33.948345Z",
     "start_time": "2018-03-16T09:37:33.842351Z"
    }
   },
   "outputs": [
    {
     "name": "stdout",
     "output_type": "stream",
     "text": [
      "insgesamt 5\n",
      "drwxr-xr-x  3 root root  6 Mär 16 09:37 ./\n",
      "drwxr-xr-x  3 root root  3 Mär 16 09:30 ../\n",
      "-rw-r--r--  1 root root 25 Mär 16 09:35 file1.txt\n",
      "-rw-r--r--  1 root root 68 Mär 16 09:36 file3.txt\n",
      "-rw-r--r--  1 root root 25 Mär 16 09:35 file4.txt\n",
      "drwxr-xr-x 20 root root 44 Mär 16 09:31 log/\n"
     ]
    }
   ],
   "source": [
    "ll"
   ]
  },
  {
   "cell_type": "code",
   "execution_count": 150,
   "metadata": {
    "ExecuteTime": {
     "end_time": "2018-03-16T09:38:10.921157Z",
     "start_time": "2018-03-16T09:38:10.324607Z"
    }
   },
   "outputs": [],
   "source": [
    "sudo zfs rollback mypool/testarea@file3.txt-geandert"
   ]
  },
  {
   "cell_type": "code",
   "execution_count": 151,
   "metadata": {
    "ExecuteTime": {
     "end_time": "2018-03-16T09:38:15.170309Z",
     "start_time": "2018-03-16T09:38:15.063302Z"
    }
   },
   "outputs": [
    {
     "name": "stdout",
     "output_type": "stream",
     "text": [
      "insgesamt 7\n",
      "drwxr-xr-x  3 root root  8 Mär 16 09:35 ./\n",
      "drwxr-xr-x  3 root root  3 Mär 16 09:30 ../\n",
      "-rw-r--r--  1 root root 25 Mär 16 09:35 file1.txt\n",
      "-rw-r--r--  1 root root 25 Mär 16 09:35 file2.txt\n",
      "-rw-r--r--  1 root root 68 Mär 16 09:36 file3.txt\n",
      "-rw-r--r--  1 root root 25 Mär 16 09:35 file4.txt\n",
      "-rw-r--r--  1 root root 25 Mär 16 09:35 file5.txt\n",
      "drwxr-xr-x 20 root root 44 Mär 16 09:31 log/\n"
     ]
    }
   ],
   "source": [
    "ll"
   ]
  },
  {
   "cell_type": "code",
   "execution_count": 152,
   "metadata": {
    "ExecuteTime": {
     "end_time": "2018-03-16T10:14:10.444199Z",
     "start_time": "2018-03-16T10:14:10.278376Z"
    }
   },
   "outputs": [
    {
     "name": "stdout",
     "output_type": "stream",
     "text": [
      "Dies ist Datei file6.txt\n",
      "Dies ist Datei file7.txt\n",
      "Dies ist Datei file8.txt\n"
     ]
    }
   ],
   "source": [
    "for i in `seq 6 8`;do echo Dies ist Datei \"file$i.txt\" | sudo tee file$i.txt;done"
   ]
  },
  {
   "cell_type": "code",
   "execution_count": 153,
   "metadata": {
    "ExecuteTime": {
     "end_time": "2018-03-16T10:14:22.635791Z",
     "start_time": "2018-03-16T10:14:22.511304Z"
    }
   },
   "outputs": [
    {
     "name": "stdout",
     "output_type": "stream",
     "text": [
      "NAME                                  USED  AVAIL  REFER  MOUNTPOINT\n",
      "mypool/testarea@varlog-import          13K      -   242K  -\n",
      "mypool/testarea@file1-5.txt-erzeugt     9K      -   244K  -\n",
      "mypool/testarea@file3.txt-geandert      9K      -   244K  -\n"
     ]
    }
   ],
   "source": [
    "sudo zfs list -t snap"
   ]
  },
  {
   "cell_type": "code",
   "execution_count": 154,
   "metadata": {
    "ExecuteTime": {
     "end_time": "2018-03-16T10:14:38.100426Z",
     "start_time": "2018-03-16T10:14:37.982006Z"
    }
   },
   "outputs": [
    {
     "name": "stdout",
     "output_type": "stream",
     "text": [
      "insgesamt 9\n",
      "drwxr-xr-x  3 root root 11 Mär 16 10:14 ./\n",
      "drwxr-xr-x  3 root root  3 Mär 16 09:30 ../\n",
      "-rw-r--r--  1 root root 25 Mär 16 09:35 file1.txt\n",
      "-rw-r--r--  1 root root 25 Mär 16 09:35 file2.txt\n",
      "-rw-r--r--  1 root root 68 Mär 16 09:36 file3.txt\n",
      "-rw-r--r--  1 root root 25 Mär 16 09:35 file4.txt\n",
      "-rw-r--r--  1 root root 25 Mär 16 09:35 file5.txt\n",
      "-rw-r--r--  1 root root 25 Mär 16 10:14 file6.txt\n",
      "-rw-r--r--  1 root root 25 Mär 16 10:14 file7.txt\n",
      "-rw-r--r--  1 root root 25 Mär 16 10:14 file8.txt\n",
      "drwxr-xr-x 20 root root 44 Mär 16 09:31 log/\n"
     ]
    }
   ],
   "source": [
    "ll"
   ]
  },
  {
   "cell_type": "code",
   "execution_count": 155,
   "metadata": {
    "ExecuteTime": {
     "end_time": "2018-03-16T10:14:59.940430Z",
     "start_time": "2018-03-16T10:14:59.404839Z"
    }
   },
   "outputs": [],
   "source": [
    "sudo zfs clone mypool/testarea@file1-5.txt-erzeugt mypool/clonedemo"
   ]
  },
  {
   "cell_type": "code",
   "execution_count": 156,
   "metadata": {
    "ExecuteTime": {
     "end_time": "2018-03-16T10:15:17.145956Z",
     "start_time": "2018-03-16T10:15:17.006499Z"
    }
   },
   "outputs": [
    {
     "name": "stdout",
     "output_type": "stream",
     "text": [
      "Diese Dateien sind beschreibbar\n"
     ]
    }
   ],
   "source": [
    "echo \"Diese Dateien sind beschreibbar\" | sudo tee /mypool/clonedemo/file3.txt"
   ]
  },
  {
   "cell_type": "code",
   "execution_count": 157,
   "metadata": {
    "ExecuteTime": {
     "end_time": "2018-03-16T10:15:26.824374Z",
     "start_time": "2018-03-16T10:15:26.710104Z"
    }
   },
   "outputs": [
    {
     "name": "stdout",
     "output_type": "stream",
     "text": [
      "insgesamt 7\n",
      "drwxr-xr-x  3 root root  8 Mär 16 09:35 ./\n",
      "drwxr-xr-x  4 root root  4 Mär 16 10:14 ../\n",
      "-rw-r--r--  1 root root 25 Mär 16 09:35 file1.txt\n",
      "-rw-r--r--  1 root root 25 Mär 16 09:35 file2.txt\n",
      "-rw-r--r--  1 root root 32 Mär 16 10:15 file3.txt\n",
      "-rw-r--r--  1 root root 25 Mär 16 09:35 file4.txt\n",
      "-rw-r--r--  1 root root 25 Mär 16 09:35 file5.txt\n",
      "drwxr-xr-x 20 root root 44 Mär 16 09:31 log/\n"
     ]
    }
   ],
   "source": [
    "ll /mypool/clonedemo/ "
   ]
  },
  {
   "cell_type": "code",
   "execution_count": 158,
   "metadata": {
    "ExecuteTime": {
     "end_time": "2018-03-16T10:15:38.295330Z",
     "start_time": "2018-03-16T10:15:38.158599Z"
    }
   },
   "outputs": [
    {
     "name": "stdout",
     "output_type": "stream",
     "text": [
      "Dies ist Datei file3.txt\n",
      "Dies ist Datei drei (nach einer Änderung)\n",
      "\n",
      "Diese Dateien sind beschreibbar\n"
     ]
    }
   ],
   "source": [
    "cat file3.txt;echo;cat /mypool/clonedemo/file3.txt "
   ]
  }
 ],
 "metadata": {
  "kernelspec": {
   "display_name": "Bash",
   "language": "bash",
   "name": "bash"
  },
  "language_info": {
   "codemirror_mode": "shell",
   "file_extension": ".sh",
   "mimetype": "text/x-sh",
   "name": "bash"
  },
  "toc": {
   "nav_menu": {},
   "number_sections": true,
   "sideBar": true,
   "skip_h1_title": false,
   "title_cell": "Table of Contents",
   "title_sidebar": "Contents",
   "toc_cell": false,
   "toc_position": {
    "height": "calc(100% - 180px)",
    "left": "10px",
    "top": "150px",
    "width": "220px"
   },
   "toc_section_display": true,
   "toc_window_display": true
  },
  "varInspector": {
   "cols": {
    "lenName": 16,
    "lenType": 16,
    "lenVar": 40
   },
   "kernels_config": {
    "python": {
     "delete_cmd_postfix": "",
     "delete_cmd_prefix": "del ",
     "library": "var_list.py",
     "varRefreshCmd": "print(var_dic_list())"
    },
    "r": {
     "delete_cmd_postfix": ") ",
     "delete_cmd_prefix": "rm(",
     "library": "var_list.r",
     "varRefreshCmd": "cat(var_dic_list()) "
    }
   },
   "types_to_exclude": [
    "module",
    "function",
    "builtin_function_or_method",
    "instance",
    "_Feature"
   ],
   "window_display": false
  }
 },
 "nbformat": 4,
 "nbformat_minor": 2
}
