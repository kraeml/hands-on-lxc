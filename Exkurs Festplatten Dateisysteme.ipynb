{
 "cells": [
  {
   "cell_type": "markdown",
   "metadata": {},
   "source": [
    "# Festplatten und Dateisysteme\n",
    "\n",
    "* https://de.wikipedia.org/wiki/Festplattenlaufwerk\n",
    "\n"
   ]
  },
  {
   "cell_type": "markdown",
   "metadata": {},
   "source": [
    "## RAID und LVM\n",
    "\n",
    "* https://de.wikipedia.org/wiki/RAID\n",
    "\n",
    "* https://de.wikipedia.org/wiki/Logical_Volume_Manager"
   ]
  },
  {
   "cell_type": "markdown",
   "metadata": {},
   "source": [
    "### Redundant Array of Independent Disks (RAID)\n",
    "\n",
    "> Ein RAID-System dient zur Organisation __mehrerer physischer__ Massenspeicher (üblicherweise Festplattenlaufwerke oder Solid-State-Drives) zu __einem logischen__ Laufwerk, das eine _höhere Ausfallsicherheit_ oder einen _größeren Datendurchsatz_ erlaubt als ein einzelnes physisches Speichermedium"
   ]
  },
  {
   "cell_type": "markdown",
   "metadata": {},
   "source": [
    "> Der Betrieb eines RAID-Systems setzt __mindestens zwei__ Speichermedien voraus. Diese werden gemeinsam betrieben und bilden einen Verbund, der unter mindestens einem Aspekt betrachtet leistungsfähiger ist als die einzelnen Medien. Mit RAID-Systemen kann man folgende Vorteile erreichen (allerdings schließen sich einige gleichzeitig aus):  \n",
    "* Erhöhung der Ausfallsicherheit (Redundanz)\n",
    "* Steigerung der Datenübertragungsrate (Leistung)\n",
    "* Aufbau großer logischer Laufwerke\n",
    "* Austausch von Speichermedien (auch während des Betriebes)\n",
    "* Vergrößern des Speichers (auch während des Betriebs)\n",
    "* Kostenreduktion durch Einsatz mehrerer kleiner, preiswerter Medien"
   ]
  },
  {
   "cell_type": "markdown",
   "metadata": {
    "ExecuteTime": {
     "end_time": "2018-03-10T14:42:47.783640Z",
     "start_time": "2018-03-10T14:42:46.690321Z"
    }
   },
   "source": [
    "Es gibt zwei Arten wie ein RAID Verbund betrieben werden kann:\n",
    "\n",
    "* Hardware durch den Festplattencontroller\n",
    "* Software durch die CPU\n",
    "    * Host-Raid\n",
    "    * Linux Software RAID\n",
    "    * Windows Software RAID"
   ]
  },
  {
   "cell_type": "markdown",
   "metadata": {},
   "source": [
    "#### Host RAID\n",
    "\n",
    "__Achtung__ Host Raid (auch BIOS-RAID oder Fake-RAID) diese belasten wie die Software RAID die CPU und sind stark abhängig von der verwendeten Hardware (BIOS).\n",
    "\n",
    "* https://de.wikipedia.org/wiki/RAID#Host-RAID\n",
    "\n",
    "Fehleranfällig und sollte nicht verwendet werden."
   ]
  },
  {
   "cell_type": "markdown",
   "metadata": {},
   "source": [
    "#### Linux Software RAID\n",
    "\n",
    "Linux kann durch den Multi Devices Driver Support mehrere Festplatten(partitionen) zu einem RAID verbinden."
   ]
  },
  {
   "cell_type": "markdown",
   "metadata": {},
   "source": [
    "#### Windows RAID\n",
    "\n",
    "Auch unter Windows gibt es Softwar RAID. Diese RAID lassen sich von Linux nicht mehr auslesen."
   ]
  },
  {
   "cell_type": "markdown",
   "metadata": {},
   "source": [
    "### RAID Level\n",
    "\n",
    "* RAID-0 (Stripping)\n",
    "* RAID-1 (Mirroring)\n",
    "* RAID-10 (Kombi von 1 und 0)\n",
    "* RAID-5 (Parity Striping)\n",
    "* RADI-6 (wie 5 nur doppelt redundant)"
   ]
  },
  {
   "cell_type": "markdown",
   "metadata": {},
   "source": [
    "#### RAID 0\n",
    "\n",
    "> Bei RAID 0 fehlt die Redundanz, daher gehört es streng genommen nicht zu den RAID-Systemen, es ist nur ein schnelles „Array of Independent Disks“.\n",
    "\n",
    "> RAID 0 bietet gesteigerte Transferraten, indem die beteiligten Festplatten in zusammenhängende Blöcke gleicher Größe aufgeteilt werden, wobei diese Blöcke quasi im Reißverschlussverfahren zu einer großen Festplatte angeordnet werden. Somit können Zugriffe auf allen Platten parallel durchgeführt werden (engl. striping, was „in Streifen zerlegen“ bedeutet, abgeleitet von stripe, oder „Streifen“)\n",
    "\n",
    "![RAID-Level 0](https://upload.wikimedia.org/wikipedia/commons/thumb/9/9b/RAID_0.svg/325px-RAID_0.svg.png)\n",
    "\n",
    "Von en:User:Cburnett - Eigenes WerkDiese Vektorgrafik wurde mit Inkscape erstellt., CC BY-SA 3.0, https://commons.wikimedia.org/w/index.php?curid=1509075\n",
    "\n",
    "Nachteile: \n",
    "\n",
    "* Hohes Ausfallrisiko (eine defekt alles defekt).\n",
    "* Geschwindigkeitsgewinn nur bei großen Dateien."
   ]
  },
  {
   "cell_type": "markdown",
   "metadata": {},
   "source": [
    "#### Raid 1\n",
    "\n",
    "> RAID 1 ist der Verbund von mindestens zwei Festplatten. Ein RAID 1 speichert auf allen Festplatten die gleichen Daten (Spiegelung) und bietet somit volle Redundanz. Die Kapazität des Arrays ist hierbei höchstens so groß wie die kleinste beteiligte Festplatte. \n",
    "\n",
    "![Raid 1](https://upload.wikimedia.org/wikipedia/commons/thumb/b/b7/RAID_1.svg/325px-RAID_1.svg.png)\n",
    "\n",
    "Vorteil:\n",
    "\n",
    "* erhöhte Sicherheit (fällt eine aus sind die Daten noch da)\n",
    "\n",
    "Nachteil:\n",
    "\n",
    "* Schreiben leicht langsamer."
   ]
  },
  {
   "cell_type": "markdown",
   "metadata": {},
   "source": [
    "#### RAID 10\n",
    "\n",
    "> Ein RAID-10-Verbund ist ein RAID 0 über mehrere RAID 1. Es werden dabei die Eigenschaften der beiden RAIDs kombiniert: Sicherheit und gesteigerte Schreib-/Lesegeschwindigkeit.\n",
    "\n",
    "> Ein RAID-10-Verbund benötigt mindestens vier Festplatten. \n",
    "\n",
    "![Raid 10](https://upload.wikimedia.org/wikipedia/commons/thumb/b/bb/RAID_10.svg/800px-RAID_10.svg.png)"
   ]
  },
  {
   "cell_type": "markdown",
   "metadata": {},
   "source": [
    "#### RAID 5\n",
    "\n",
    "> RAID 5 implementiert Striping mit auf Block-Level-verteilten Paritäts-Informationen. Zur Berechnung der Parität wird durch die jeweils an gleicher Adresse anliegenden Datenblöcke der am RAID-Verbund beteiligten Festplatten eine logische Gruppe gebildet. Von allen Datenblöcken einer Gruppe enthält ein Datenblock die Paritätsdaten, während die anderen Datenblöcke Nutzdaten enthalten. Die Nutzdaten von RAID-5-Gruppen werden wie bei RAID 0 auf alle Festplatten verteilt.\n",
    "\n",
    "![RAID 5](https://upload.wikimedia.org/wikipedia/commons/thumb/6/64/RAID_5.svg/675px-RAID_5.svg.png)\n",
    "\n",
    "Vorteil:\n",
    "\n",
    "* Bietet wie Raid 0 schnelle Schreib/Lesezugriffe.\n",
    "* Daten können wie bei RAID 1 bei Ausfall wiederhergestellt werden.\n",
    "\n",
    "Nachteil:\n",
    "\n",
    "* Bei kleinen Dateien. Checksumme muss für den betroffenen Datenblock neu berechnet werden.\n",
    "* Wiederherstellung ist zeitintensiver als bei RAID1.\n"
   ]
  },
  {
   "cell_type": "markdown",
   "metadata": {},
   "source": [
    "#### RAID 6\n",
    "\n",
    "> RAID 6 (unter diversen Handelsnamen angeboten, zum Beispiel Advanced Data Guarding) funktioniert ähnlich wie RAID 5, verkraftet aber den gleichzeitigen Ausfall von bis zu zwei Festplatten. Insbesondere beim intensiven Einsatz hochkapazitiver SATA-/IDE-Festplatten kann die Wiederherstellung der Redundanz nach dem Ausfall einer Platte viele Stunden bis hin zu Tagen dauern; bei RAID 5 besteht währenddessen kein Schutz vor einem weiteren Ausfall. \n",
    "\n",
    "![RAID 6](https://upload.wikimedia.org/wikipedia/commons/thumb/7/70/RAID_6.svg/850px-RAID_6.svg.png)"
   ]
  },
  {
   "cell_type": "markdown",
   "metadata": {},
   "source": [
    "### LVM\n",
    "\n",
    "> Der Logical Volume Manager (LVM) ist ein hauptsächlich im Unix- und Linux-Umfeld verbreitetes Partitionsschema, das eine Abstraktionsebene zwischen Festplatten, Partitionen und Dateisystemen bietet. Durch den LVM ist es möglich, dynamisch veränderbare Partitionen (Logical Volumes, kurz LV) zu bilden, die sich auch über mehrere Festplatten hinweg erstrecken können. Die Größe dieser virtuellen Datenträger lässt sich auch nach dem Anlegen eines Dateisystems noch ändern, selbst wenn schon Daten darin gespeichert wurden. \n",
    "\n",
    "Vorteile:\n",
    "\n",
    "* Anlegen, vergrößern und verkleinern im laufenden Betrieb.\n",
    "* Mehrere HD können als riesige virtuelle Partition zusammengefasst werden.\n",
    "* __Snapshot__ für Backups\n",
    "* Ist sehr schnell\n",
    "* Kann mit RAID kombiniert werden.\n",
    "\n",
    "![LVM](https://upload.wikimedia.org/wikipedia/commons/thumb/e/e6/Lvm.svg/620px-Lvm.svg.png)\n",
    "Von Emanuel DussDiese Vektorgrafik wurde mit Inkscape erstellt und von Perhelion dann manuell nachbearbeitet. - Eigenes Werk, CC BY-SA 3.0 de, https://commons.wikimedia.org/w/index.php?curid=11624545\n",
    "\n",
    "> Der LVM fasst _Festplatten_ beziehungsweise _Partitionen_ (Physical Volume, __PV__) zu einem _Pool_ (Volume Group, __VG__) zusammen, aus dem dynamisch _LV-„Partitionen“_ (die Logical Volumes, __LV__) angefordert werden können. Auf diesen Logical Volumes werden die Dateisysteme angelegt."
   ]
  },
  {
   "cell_type": "markdown",
   "metadata": {},
   "source": [
    "## Dateisysteme\n",
    "\n",
    "https://wiki.ubuntuusers.de/Dateisystem/\n",
    "\n",
    "> Dateisysteme sind die Schnittstellen zwischen dem Betriebssystem und den Partitionen auf Datenträgern. Sie organisieren die geordnete Ablage von Daten.\n",
    "\n"
   ]
  },
  {
   "cell_type": "markdown",
   "metadata": {},
   "source": [
    "## Was macht ein Dateisystem?\n",
    "\n",
    "> Neben der Datenorganisation auf dem Datenträger kann ein Dateisystem noch zusätzliche Möglichkeiten zur Verfügung stellen (Beispiele):  \n",
    "\n",
    "> * Verzeichnisse und Unterverzeichnisse anlegen\n",
    "* Datumsinformationen speichern (Erstellungsdatum, letzte Änderung, Zugriff)\n",
    "* Lange Dateinamen verwenden\n",
    "* Groß- und Kleinschreibung für Dateinamen berücksichtigen\n",
    "* Sonderzeichen für Dateinamen ermöglichen (z.B.: Leerzeichen)\n",
    "* Rechteverwaltung zur Zugriffssteuerung auf Dateien/Verzeichnisse\n",
    "* Journaling-Funktionen\n",
    "* ..."
   ]
  },
  {
   "cell_type": "markdown",
   "metadata": {},
   "source": [
    "## Dateisystem und Formatierung\n",
    "\n",
    "> Ein Dateisystem wird einer Partition durch Formatierung zugewiesen, „man formatiert mit einem Dateisystem“. Hierbei werden auf einer Partition bestimmte Stellen für die Verwaltung reserviert und mit vordefinierten Werten überschrieben (was zu Datenverlust führt). Außerdem wird eine Inhaltstabelle angelegt und die ersten Werte (für die reservierten Stellen) eingetragen. \n",
    "\n",
    "> Die Formatierung kann entweder mit grafischen Programmen wie GParted durchgeführt werden oder man benutzt die Terminalprogramme mke2fs bzw. mkfs (Für Beschreibungen der Terminalbefehle siehe die entsprechenden manpages). "
   ]
  },
  {
   "cell_type": "markdown",
   "metadata": {
    "ExecuteTime": {
     "end_time": "2018-03-10T16:24:32.144795Z",
     "start_time": "2018-03-10T16:24:31.820685Z"
    }
   },
   "source": [
    "Gegenüberstellung von Dateisystemen siehe:\n",
    "\n",
    "https://wiki.ubuntuusers.de/Dateisystem/#Unterschiede"
   ]
  },
  {
   "cell_type": "code",
   "execution_count": null,
   "metadata": {},
   "outputs": [],
   "source": []
  }
 ],
 "metadata": {
  "kernelspec": {
   "display_name": "Bash",
   "language": "bash",
   "name": "bash"
  },
  "language_info": {
   "codemirror_mode": "shell",
   "file_extension": ".sh",
   "mimetype": "text/x-sh",
   "name": "bash"
  },
  "toc": {
   "nav_menu": {},
   "number_sections": true,
   "sideBar": true,
   "skip_h1_title": false,
   "title_cell": "Table of Contents",
   "title_sidebar": "Contents",
   "toc_cell": false,
   "toc_position": {},
   "toc_section_display": true,
   "toc_window_display": false
  },
  "varInspector": {
   "cols": {
    "lenName": 16,
    "lenType": 16,
    "lenVar": 40
   },
   "kernels_config": {
    "python": {
     "delete_cmd_postfix": "",
     "delete_cmd_prefix": "del ",
     "library": "var_list.py",
     "varRefreshCmd": "print(var_dic_list())"
    },
    "r": {
     "delete_cmd_postfix": ") ",
     "delete_cmd_prefix": "rm(",
     "library": "var_list.r",
     "varRefreshCmd": "cat(var_dic_list()) "
    }
   },
   "types_to_exclude": [
    "module",
    "function",
    "builtin_function_or_method",
    "instance",
    "_Feature"
   ],
   "window_display": false
  }
 },
 "nbformat": 4,
 "nbformat_minor": 2
}
