{
 "cells": [
  {
   "cell_type": "markdown",
   "metadata": {},
   "source": [
    "# Command Line und Libvirt\n"
   ]
  },
  {
   "cell_type": "code",
   "execution_count": 1,
   "metadata": {},
   "outputs": [
    {
     "name": "stdout",
     "output_type": "stream",
     "text": [
      "lvm2:\n",
      "  Installiert:           2.02.133-1ubuntu10\n",
      "  Installationskandidat: 2.02.133-1ubuntu10\n",
      "  Versionstabelle:\n",
      " *** 2.02.133-1ubuntu10 500\n",
      "        500 http://us.archive.ubuntu.com/ubuntu xenial/main amd64 Packages\n",
      "        100 /var/lib/dpkg/status\n"
     ]
    }
   ],
   "source": [
    "apt policy lvm2"
   ]
  },
  {
   "cell_type": "code",
   "execution_count": 2,
   "metadata": {},
   "outputs": [
    {
     "name": "stdout",
     "output_type": "stream",
     "text": [
      "Medium /dev/sdb: 500 GiB, 536870912000 Bytes, 1048576000 Sektoren\n",
      "Einheiten: sectors von 1 * 512 = 512 Bytes\n",
      "Sektorengröße (logisch/physisch): 512 Bytes / 512 Bytes\n",
      "I/O Größe (minimal/optimal): 512 Bytes / 512 Bytes\n",
      "Typ der Medienbezeichnung: gpt\n",
      "Medienkennung: 45D6BF56-0CA8-4BEC-A655-CCB23EE16F88\n",
      "\n",
      "Gerät      Start       Ende   Sektoren Größe Typ\n",
      "/dev/sdb1   1024 1048575966 1048574943  500G Linux LVM\n"
     ]
    }
   ],
   "source": [
    "sudo fdisk -l /dev/sdb"
   ]
  },
  {
   "cell_type": "markdown",
   "metadata": {},
   "source": [
    "```bash\n",
    "sudo fdisk /dev/sdb\n",
    "```\n",
    "\n",
    "1. Press n for creating a new partition.\n",
    "2. Then choose p for primary partition.\n",
    "3. Next, choose the partition number 1.\n",
    "4. Use the default value by just pressing the Enter key two times.\n",
    "5. Next, press p to print the defined partition.\n",
    "6. Press l to list all available types.\n",
    "7. Type t to choose the partitions.\n",
    "8. Choose 8e for the Linux LVM and press Enter to apply.\n",
    "9. Again use p to print the changes.\n",
    "10. Finally, use w to save the changes:\n"
   ]
  },
  {
   "cell_type": "code",
   "execution_count": 3,
   "metadata": {},
   "outputs": [
    {
     "name": "stdout",
     "output_type": "stream",
     "text": [
      "gdisk:\n",
      "  Installiert:           1.0.1-1build1\n",
      "  Installationskandidat: 1.0.1-1build1\n",
      "  Versionstabelle:\n",
      " *** 1.0.1-1build1 500\n",
      "        500 http://us.archive.ubuntu.com/ubuntu xenial/main amd64 Packages\n",
      "        100 /var/lib/dpkg/status\n"
     ]
    }
   ],
   "source": [
    "apt policy gdisk"
   ]
  },
  {
   "cell_type": "code",
   "execution_count": 4,
   "metadata": {},
   "outputs": [
    {
     "name": "stdout",
     "output_type": "stream",
     "text": [
      "Setting name!\n",
      "partNum is 0\n",
      "REALLY setting name!\n",
      "The operation has completed successfully.\n"
     ]
    }
   ],
   "source": [
    "sudo sgdisk -d 1 -a 1024 -n 1:1024: -c 1:\"External HD\" -t 1:8e00 /dev/sdb "
   ]
  },
  {
   "cell_type": "code",
   "execution_count": 5,
   "metadata": {},
   "outputs": [
    {
     "name": "stdout",
     "output_type": "stream",
     "text": [
      "Disk /dev/sdb: 1048576000 sectors, 500.0 GiB\n",
      "Logical sector size: 512 bytes\n",
      "Disk identifier (GUID): 45D6BF56-0CA8-4BEC-A655-CCB23EE16F88\n",
      "Partition table holds up to 128 entries\n",
      "First usable sector is 34, last usable sector is 1048575966\n",
      "Partitions will be aligned on 1024-sector boundaries\n",
      "Total free space is 990 sectors (495.0 KiB)\n",
      "\n",
      "Number  Start (sector)    End (sector)  Size       Code  Name\n",
      "   1            1024      1048575966   500.0 GiB   8E00  External HD\n"
     ]
    }
   ],
   "source": [
    "sudo sgdisk -p /dev/sdb"
   ]
  },
  {
   "cell_type": "code",
   "execution_count": 6,
   "metadata": {},
   "outputs": [
    {
     "name": "stdout",
     "output_type": "stream",
     "text": [
      "  Physical volume \"/dev/sdb1\" successfully created\n"
     ]
    }
   ],
   "source": [
    "sudo pvcreate /dev/sdb1"
   ]
  },
  {
   "cell_type": "code",
   "execution_count": 7,
   "metadata": {},
   "outputs": [
    {
     "name": "stdout",
     "output_type": "stream",
     "text": [
      "  Volume group \"lxc\" successfully created\n"
     ]
    }
   ],
   "source": [
    "sudo vgcreate lxc /dev/sdb1"
   ]
  },
  {
   "cell_type": "code",
   "execution_count": 8,
   "metadata": {},
   "outputs": [
    {
     "name": "stdout",
     "output_type": "stream",
     "text": [
      "Checking cache download in /var/cache/lxc/xenial/rootfs-amd64 ... \n",
      "Copy /var/cache/lxc/xenial/rootfs-amd64 to /usr/lib/x86_64-linux-gnu/lxc ... \n",
      "Copying rootfs to /usr/lib/x86_64-linux-gnu/lxc ...\n",
      "Generating locales (this might take a while)...\n",
      "  de_DE.UTF-8... done\n",
      "Generation complete.\n",
      "debconf: kann Oberfläche nicht initialisieren: Dialog\n",
      "debconf: (Die Dialog-Oberfläche funktioniert nicht auf einem Dumb-Terminal, einem Emacs-Shellbuffer oder ohne ein steuerndes Terminal.)\n",
      "debconf: greife zurück auf die Oberfläche: Readline\n",
      "debconf: kann Oberfläche nicht initialisieren: Readline\n",
      "debconf: (Can't locate Term/ReadLine.pm in @INC (you may need to install the Term::ReadLine module) (@INC contains: /etc/perl /usr/local/lib/x86_64-linux-gnu/perl/5.22.1 /usr/local/share/perl/5.22.1 /usr/lib/x86_64-linux-gnu/perl5/5.22 /usr/share/perl5 /usr/lib/x86_64-linux-gnu/perl/5.22 /usr/share/perl/5.22 /usr/local/lib/site_perl /usr/lib/x86_64-linux-gnu/perl-base .) at /usr/share/perl5/Debconf/FrontEnd/Readline.pm line 7.)\n",
      "debconf: greife zurück auf die Oberfläche: Teletype\n",
      "Creating SSH2 RSA key; this may take some time ...\n",
      "2048 SHA256:uAq8u0QLTqRKRqaF+X/a3XYBWFeksT9HgKJSWVOdglQ root@rdf-dev (RSA)\n",
      "Creating SSH2 DSA key; this may take some time ...\n",
      "1024 SHA256:zU3PNFgKWHNZH5a7jvND5JKUpfcDpOs7r0gOkHFAeCM root@rdf-dev (DSA)\n",
      "Creating SSH2 ECDSA key; this may take some time ...\n",
      "256 SHA256:e7UbUUBwdYaYUWxvDC1gayVeW99kOhX6ptFDq/dSi1M root@rdf-dev (ECDSA)\n",
      "Creating SSH2 ED25519 key; this may take some time ...\n",
      "256 SHA256:Ia5nLWvLPBANDXZ7I1enksjdnQ0jEmzxGDC8y3uUTRM root@rdf-dev (ED25519)\n",
      "invoke-rc.d: could not determine current runlevel\n",
      "invoke-rc.d: policy-rc.d denied execution of start.\n",
      "\n",
      "Current default time zone: 'Etc/UTC'\n",
      "Local time is now:      Sat Feb 17 17:59:57 UTC 2018.\n",
      "Universal Time is now:  Sat Feb 17 17:59:57 UTC 2018.\n",
      "\n",
      "\n",
      "##\n",
      "# The default user is 'ubuntu' with password 'ubuntu'!\n",
      "# Use the 'sudo' command to run tasks as root in the container.\n",
      "##\n",
      "\n"
     ]
    }
   ],
   "source": [
    "sudo lxc-create --bdev lvm --fssize 10G --name lvm_container --template ubuntu"
   ]
  },
  {
   "cell_type": "code",
   "execution_count": 9,
   "metadata": {},
   "outputs": [
    {
     "name": "stdout",
     "output_type": "stream",
     "text": [
      "NAME          STATE   AUTOSTART GROUPS IPV4 IPV6 \n",
      "lvm_container STOPPED 0         -      -    -    \n"
     ]
    }
   ],
   "source": [
    "sudo lxc-ls --fancy"
   ]
  },
  {
   "cell_type": "code",
   "execution_count": 10,
   "metadata": {},
   "outputs": [
    {
     "name": "stdout",
     "output_type": "stream",
     "text": [
      "  PV         VG         Fmt  Attr PSize   PFree  \n",
      "  /dev/sda5  rdf-dev-vg lvm2 a--  126,52g      0 \n",
      "  /dev/sdb1  lxc        lvm2 a--  500,00g 490,00g\n"
     ]
    }
   ],
   "source": [
    "sudo pvs"
   ]
  },
  {
   "cell_type": "code",
   "execution_count": 11,
   "metadata": {},
   "outputs": [
    {
     "name": "stdout",
     "output_type": "stream",
     "text": [
      "  VG         #PV #LV #SN Attr   VSize   VFree  \n",
      "  lxc          1   1   0 wz--n- 500,00g 490,00g\n",
      "  rdf-dev-vg   1   2   0 wz--n- 126,52g      0 \n"
     ]
    }
   ],
   "source": [
    "sudo vgs"
   ]
  },
  {
   "cell_type": "code",
   "execution_count": 12,
   "metadata": {},
   "outputs": [
    {
     "name": "stdout",
     "output_type": "stream",
     "text": [
      "  LV            VG         Attr       LSize   Pool Origin Data%  Meta%  Move Log Cpy%Sync Convert\n",
      "  lvm_container lxc        -wi-a-----  10,00g                                                    \n",
      "  root          rdf-dev-vg -wi-ao---- 124,52g                                                    \n",
      "  swap_1        rdf-dev-vg -wi-ao----   2,00g                                                    \n"
     ]
    }
   ],
   "source": [
    "sudo lvs"
   ]
  },
  {
   "cell_type": "code",
   "execution_count": 13,
   "metadata": {},
   "outputs": [],
   "source": [
    "sudo lxc-start -n lvm_container"
   ]
  },
  {
   "cell_type": "code",
   "execution_count": 14,
   "metadata": {},
   "outputs": [
    {
     "name": "stdout",
     "output_type": "stream",
     "text": [
      "NAME          STATE   AUTOSTART GROUPS IPV4 IPV6 \n",
      "lvm_container RUNNING 0         -      -    -    \n"
     ]
    }
   ],
   "source": [
    "sudo lxc-ls --fancy"
   ]
  },
  {
   "cell_type": "code",
   "execution_count": 15,
   "metadata": {},
   "outputs": [
    {
     "name": "stdout",
     "output_type": "stream",
     "text": [
      "lxc.include = /usr/share/lxc/config/ubuntu.common.conf\n",
      "lxc.rootfs.path = lvm:/dev/lxc/lvm_container\n",
      "lxc.uts.name = lvm_container\n",
      "lxc.arch = amd64\n",
      "lxc.net.0.type = veth\n",
      "lxc.net.0.link = lxcbr0\n",
      "lxc.net.0.flags = up\n",
      "lxc.net.0.hwaddr = 00:16:3e:1a:01:b6\n"
     ]
    }
   ],
   "source": [
    "sudo grep -vi ^# /var/lib/lxc/lvm_container/config | grep -v ^$"
   ]
  },
  {
   "cell_type": "code",
   "execution_count": 16,
   "metadata": {},
   "outputs": [
    {
     "name": "stdout",
     "output_type": "stream",
     "text": [
      "insgesamt 0\n",
      "drwxr-xr-x  2 root root   60 Feb 17 17:59 .\n",
      "drwxr-xr-x 20 root root 4000 Feb 17 17:59 ..\n",
      "lrwxrwxrwx  1 root root    7 Feb 17 17:59 lvm_container -> ../dm-2\n"
     ]
    }
   ],
   "source": [
    "ls -la /dev/lxc"
   ]
  },
  {
   "cell_type": "code",
   "execution_count": 17,
   "metadata": {},
   "outputs": [
    {
     "name": "stdout",
     "output_type": "stream",
     "text": [
      "insgesamt 0\n",
      "drwxr-xr-x  2 root root     120 Feb 17 17:59 .\n",
      "drwxr-xr-x 20 root root    4000 Feb 17 17:59 ..\n",
      "crw-------  1 root root 10, 236 Feb 17 16:18 control\n",
      "lrwxrwxrwx  1 root root       7 Feb 17 17:59 lxc-lvm_container -> ../dm-2\n",
      "lrwxrwxrwx  1 root root       7 Feb 17 16:18 rdf--dev--vg-root -> ../dm-0\n",
      "lrwxrwxrwx  1 root root       7 Feb 17 16:18 rdf--dev--vg-swap_1 -> ../dm-1\n"
     ]
    }
   ],
   "source": [
    "ls -la /dev/mapper"
   ]
  },
  {
   "cell_type": "code",
   "execution_count": 18,
   "metadata": {},
   "outputs": [
    {
     "name": "stdout",
     "output_type": "stream",
     "text": [
      "lrwxrwxrwx 1 root root 7 Feb 17 17:59 /dev/mapper/lxc-lvm_container -> ../dm-2\n"
     ]
    }
   ],
   "source": [
    "ls -la /dev/mapper/lxc-lvm_container"
   ]
  },
  {
   "cell_type": "code",
   "execution_count": 19,
   "metadata": {},
   "outputs": [
    {
     "name": "stdout",
     "output_type": "stream",
     "text": [
      "Checking cache download in /var/cache/lxc/xenial/rootfs-amd64 ... \n",
      "Copy /var/cache/lxc/xenial/rootfs-amd64 to /usr/lib/x86_64-linux-gnu/lxc ... \n",
      "Copying rootfs to /usr/lib/x86_64-linux-gnu/lxc ...\n",
      "Generating locales (this might take a while)...\n",
      "  de_DE.UTF-8... done\n",
      "Generation complete.\n",
      "debconf: kann Oberfläche nicht initialisieren: Dialog\n",
      "debconf: (Die Dialog-Oberfläche funktioniert nicht auf einem Dumb-Terminal, einem Emacs-Shellbuffer oder ohne ein steuerndes Terminal.)\n",
      "debconf: greife zurück auf die Oberfläche: Readline\n",
      "debconf: kann Oberfläche nicht initialisieren: Readline\n",
      "debconf: (Can't locate Term/ReadLine.pm in @INC (you may need to install the Term::ReadLine module) (@INC contains: /etc/perl /usr/local/lib/x86_64-linux-gnu/perl/5.22.1 /usr/local/share/perl/5.22.1 /usr/lib/x86_64-linux-gnu/perl5/5.22 /usr/share/perl5 /usr/lib/x86_64-linux-gnu/perl/5.22 /usr/share/perl/5.22 /usr/local/lib/site_perl /usr/lib/x86_64-linux-gnu/perl-base .) at /usr/share/perl5/Debconf/FrontEnd/Readline.pm line 7.)\n",
      "debconf: greife zurück auf die Oberfläche: Teletype\n",
      "Creating SSH2 RSA key; this may take some time ...\n",
      "2048 SHA256:hnlA5ECfgSiWYwvDoU0H123HFCXKQXMKHfyvTrYe20A root@rdf-dev (RSA)\n",
      "Creating SSH2 DSA key; this may take some time ...\n",
      "1024 SHA256:wo2slxfXjQkW/DakUDESjOFTzrEuVpnRnscZx8qBL4U root@rdf-dev (DSA)\n",
      "Creating SSH2 ECDSA key; this may take some time ...\n",
      "256 SHA256:DFcYjOxGZFO7WaAM++98NFEyIKAaVkFQoqbN5z8ePJU root@rdf-dev (ECDSA)\n",
      "Creating SSH2 ED25519 key; this may take some time ...\n",
      "256 SHA256:OuVRRFWZ6qiH1P425cvlRkxo7nz9wsu/z3218qYksxI root@rdf-dev (ED25519)\n",
      "invoke-rc.d: could not determine current runlevel\n",
      "invoke-rc.d: policy-rc.d denied execution of start.\n",
      "\n",
      "Current default time zone: 'Etc/UTC'\n",
      "Local time is now:      Sat Feb 17 18:00:07 UTC 2018.\n",
      "Universal Time is now:  Sat Feb 17 18:00:07 UTC 2018.\n",
      "\n",
      "\n",
      "##\n",
      "# The default user is 'ubuntu' with password 'ubuntu'!\n",
      "# Use the 'sudo' command to run tasks as root in the container.\n",
      "##\n",
      "\n"
     ]
    }
   ],
   "source": [
    "sudo lxc-create --bdev lvm --fssize 5G --name lvm_container_2 --template ubuntu"
   ]
  },
  {
   "cell_type": "code",
   "execution_count": 20,
   "metadata": {},
   "outputs": [
    {
     "name": "stdout",
     "output_type": "stream",
     "text": [
      "  LV              VG         Attr       LSize   Pool Origin Data%  Meta%  Move Log Cpy%Sync Convert\n",
      "  lvm_container   lxc        -wi-ao----  10,00g                                                    \n",
      "  lvm_container_2 lxc        -wi-a-----   5,00g                                                    \n",
      "  root            rdf-dev-vg -wi-ao---- 124,52g                                                    \n",
      "  swap_1          rdf-dev-vg -wi-ao----   2,00g                                                    \n"
     ]
    }
   ],
   "source": [
    "sudo lvs"
   ]
  },
  {
   "cell_type": "code",
   "execution_count": 21,
   "metadata": {},
   "outputs": [
    {
     "name": "stdout",
     "output_type": "stream",
     "text": [
      "insgesamt 0\n",
      "drwxr-xr-x  2 root root   80 Feb 17 17:59 .\n",
      "drwxr-xr-x 20 root root 4020 Feb 17 17:59 ..\n",
      "lrwxrwxrwx  1 root root    7 Feb 17 17:59 lvm_container -> ../dm-2\n",
      "lrwxrwxrwx  1 root root    7 Feb 17 18:00 lvm_container_2 -> ../dm-3\n"
     ]
    }
   ],
   "source": [
    "ls -la /dev/lxc"
   ]
  },
  {
   "cell_type": "code",
   "execution_count": 22,
   "metadata": {},
   "outputs": [
    {
     "name": "stdout",
     "output_type": "stream",
     "text": [
      "  --- Logical volume ---\n",
      "  LV Path                /dev/rdf-dev-vg/root\n",
      "  LV Name                root\n",
      "  VG Name                rdf-dev-vg\n",
      "  LV UUID                zr58k9-rXoY-1UDX-ncQg-b4WL-6k4B-dF0P3b\n",
      "  LV Write Access        read/write\n",
      "  LV Creation host, time rdf-dev, 2018-02-16 15:12:14 +0000\n",
      "  LV Status              available\n",
      "  # open                 1\n",
      "  LV Size                124,52 GiB\n",
      "  Current LE             31877\n",
      "  Segments               1\n",
      "  Allocation             inherit\n",
      "  Read ahead sectors     auto\n",
      "  - currently set to     256\n",
      "  Block device           252:0\n",
      "   \n",
      "  --- Logical volume ---\n",
      "  LV Path                /dev/rdf-dev-vg/swap_1\n",
      "  LV Name                swap_1\n",
      "  VG Name                rdf-dev-vg\n",
      "  LV UUID                1z93Fs-6BnF-V7Ot-BvIj-EHQW-AiKe-PnlafY\n",
      "  LV Write Access        read/write\n",
      "  LV Creation host, time rdf-dev, 2018-02-16 15:12:15 +0000\n",
      "  LV Status              available\n",
      "  # open                 2\n",
      "  LV Size                2,00 GiB\n",
      "  Current LE             512\n",
      "  Segments               1\n",
      "  Allocation             inherit\n",
      "  Read ahead sectors     auto\n",
      "  - currently set to     256\n",
      "  Block device           252:1\n",
      "   \n",
      "  --- Logical volume ---\n",
      "  LV Path                /dev/lxc/lvm_container\n",
      "  LV Name                lvm_container\n",
      "  VG Name                lxc\n",
      "  LV UUID                Czgo4e-7d3M-eeiQ-sDqM-h0hG-dTTx-fcC7u9\n",
      "  LV Write Access        read/write\n",
      "  LV Creation host, time rdf-dev, 2018-02-17 17:59:29 +0000\n",
      "  LV Status              available\n",
      "  # open                 1\n",
      "  LV Size                10,00 GiB\n",
      "  Current LE             2560\n",
      "  Segments               1\n",
      "  Allocation             inherit\n",
      "  Read ahead sectors     auto\n",
      "  - currently set to     256\n",
      "  Block device           252:2\n",
      "   \n",
      "  --- Logical volume ---\n",
      "  LV Path                /dev/lxc/lvm_container_2\n",
      "  LV Name                lvm_container_2\n",
      "  VG Name                lxc\n",
      "  LV UUID                alvgA0-xmC5-shGE-Bb8o-1Xko-Bf7T-dF076G\n",
      "  LV Write Access        read/write\n",
      "  LV Creation host, time rdf-dev, 2018-02-17 17:59:59 +0000\n",
      "  LV Status              available\n",
      "  # open                 0\n",
      "  LV Size                5,00 GiB\n",
      "  Current LE             1280\n",
      "  Segments               1\n",
      "  Allocation             inherit\n",
      "  Read ahead sectors     auto\n",
      "  - currently set to     256\n",
      "  Block device           252:3\n",
      "   \n"
     ]
    }
   ],
   "source": [
    "sudo lvdisplay"
   ]
  },
  {
   "cell_type": "markdown",
   "metadata": {},
   "source": [
    "## Snapshots von Containern mit LVM"
   ]
  },
  {
   "cell_type": "code",
   "execution_count": 23,
   "metadata": {},
   "outputs": [],
   "source": [
    "sudo lxc-copy --snapshot --name lvm_container_2 --newname container_2_copy"
   ]
  },
  {
   "cell_type": "code",
   "execution_count": 24,
   "metadata": {},
   "outputs": [
    {
     "name": "stdout",
     "output_type": "stream",
     "text": [
      "NAME             STATE   AUTOSTART GROUPS IPV4       IPV6 \n",
      "container_2_copy STOPPED 0         -      -          -    \n",
      "lvm_container    RUNNING 0         -      10.0.3.147 -    \n",
      "lvm_container_2  STOPPED 0         -      -          -    \n"
     ]
    }
   ],
   "source": [
    "sudo lxc-ls --fancy"
   ]
  },
  {
   "cell_type": "code",
   "execution_count": 25,
   "metadata": {},
   "outputs": [
    {
     "name": "stdout",
     "output_type": "stream",
     "text": [
      "  LV               VG         Attr       LSize   Pool Origin          Data%  Meta%  Move Log Cpy%Sync Convert\n",
      "  container_2_copy lxc        swi-a-s---   5,00g      lvm_container_2 0,00                                   \n",
      "  lvm_container    lxc        -wi-ao----  10,00g                                                             \n",
      "  lvm_container_2  lxc        owi-a-s---   5,00g                                                             \n",
      "  root             rdf-dev-vg -wi-ao---- 124,52g                                                             \n",
      "  swap_1           rdf-dev-vg -wi-ao----   2,00g                                                             \n"
     ]
    }
   ],
   "source": [
    "sudo lvs"
   ]
  },
  {
   "cell_type": "code",
   "execution_count": 26,
   "metadata": {},
   "outputs": [],
   "source": [
    "sudo lxc-copy --name lvm_container_2 --newname container_2_hard"
   ]
  },
  {
   "cell_type": "code",
   "execution_count": 27,
   "metadata": {},
   "outputs": [
    {
     "name": "stdout",
     "output_type": "stream",
     "text": [
      "  LV               VG         Attr       LSize   Pool Origin          Data%  Meta%  Move Log Cpy%Sync Convert\n",
      "  container_2_copy lxc        swi-a-s---   5,00g      lvm_container_2 0,18                                   \n",
      "  container_2_hard lxc        -wi-a-----   5,00g                                                             \n",
      "  lvm_container    lxc        -wi-ao----  10,00g                                                             \n",
      "  lvm_container_2  lxc        owi-a-s---   5,00g                                                             \n",
      "  root             rdf-dev-vg -wi-ao---- 124,52g                                                             \n",
      "  swap_1           rdf-dev-vg -wi-ao----   2,00g                                                             \n"
     ]
    }
   ],
   "source": [
    "sudo lvs"
   ]
  },
  {
   "cell_type": "markdown",
   "metadata": {},
   "source": [
    "## Erstellen eines Blockdevice"
   ]
  },
  {
   "cell_type": "code",
   "execution_count": 28,
   "metadata": {},
   "outputs": [
    {
     "name": "stdout",
     "output_type": "stream",
     "text": [
      "/home/vagrant/rdf/ais/hands-on-lxc\n"
     ]
    }
   ],
   "source": [
    "pwd"
   ]
  },
  {
   "cell_type": "code",
   "execution_count": 29,
   "metadata": {},
   "outputs": [],
   "source": [
    "truncate --size 5G ../xvdz.img"
   ]
  },
  {
   "cell_type": "code",
   "execution_count": 30,
   "metadata": {},
   "outputs": [
    {
     "name": "stdout",
     "output_type": "stream",
     "text": [
      "-rw-r--r-- 1 vagrant vagrant 5368709120 Feb 17 18:00 ../xvdz.img\n"
     ]
    }
   ],
   "source": [
    "ls -la ../xvdz.img"
   ]
  },
  {
   "cell_type": "code",
   "execution_count": 31,
   "metadata": {},
   "outputs": [],
   "source": [
    "sudo modprobe loop"
   ]
  },
  {
   "cell_type": "code",
   "execution_count": 32,
   "metadata": {},
   "outputs": [
    {
     "name": "stdout",
     "output_type": "stream",
     "text": [
      "/dev/loop0\n"
     ]
    }
   ],
   "source": [
    "sudo losetup --find"
   ]
  },
  {
   "cell_type": "code",
   "execution_count": 33,
   "metadata": {},
   "outputs": [],
   "source": [
    "sudo losetup /dev/loop0 ../xvdz.img"
   ]
  },
  {
   "cell_type": "code",
   "execution_count": 34,
   "metadata": {},
   "outputs": [
    {
     "name": "stdout",
     "output_type": "stream",
     "text": [
      "/dev/loop0: [64512]:2497524 (/home/vagrant/rdf/ais/xvdz.img)\n"
     ]
    }
   ],
   "source": [
    "sudo losetup --all"
   ]
  },
  {
   "cell_type": "code",
   "execution_count": 35,
   "metadata": {},
   "outputs": [
    {
     "name": "stdout",
     "output_type": "stream",
     "text": [
      "  Physical volume \"/dev/loop0\" successfully created\n"
     ]
    }
   ],
   "source": [
    "sudo pvcreate /dev/loop0"
   ]
  },
  {
   "cell_type": "markdown",
   "metadata": {},
   "source": [
    "## Alternative mit dd"
   ]
  },
  {
   "cell_type": "code",
   "execution_count": 36,
   "metadata": {},
   "outputs": [
    {
     "name": "stdout",
     "output_type": "stream",
     "text": [
      "500000+0 Datensätze ein\n",
      "500000+0 Datensätze aus\n",
      "512000000 bytes (512 MB, 488 MiB) copied, 2,01046 s, 255 MB/s\n"
     ]
    }
   ],
   "source": [
    "sudo  dd if=/dev/zero of=/block_device bs=1k count=500000"
   ]
  },
  {
   "cell_type": "code",
   "execution_count": 37,
   "metadata": {},
   "outputs": [
    {
     "name": "stdout",
     "output_type": "stream",
     "text": [
      "/dev/loop1\n"
     ]
    }
   ],
   "source": [
    "sudo losetup --find"
   ]
  },
  {
   "cell_type": "code",
   "execution_count": 38,
   "metadata": {},
   "outputs": [],
   "source": [
    "sudo losetup /dev/loop1 /block_device"
   ]
  },
  {
   "cell_type": "code",
   "execution_count": 39,
   "metadata": {},
   "outputs": [
    {
     "name": "stdout",
     "output_type": "stream",
     "text": [
      "  Physical volume \"/dev/loop1\" successfully created\n"
     ]
    }
   ],
   "source": [
    "sudo pvcreate /dev/loop1"
   ]
  },
  {
   "cell_type": "code",
   "execution_count": 40,
   "metadata": {},
   "outputs": [
    {
     "name": "stdout",
     "output_type": "stream",
     "text": [
      "/dev/loop0: [64512]:2497524 (/home/vagrant/rdf/ais/xvdz.img)\n",
      "/dev/loop1: [64512]:16 (/block_device)\n"
     ]
    }
   ],
   "source": [
    "sudo losetup --all"
   ]
  },
  {
   "cell_type": "markdown",
   "metadata": {},
   "source": [
    "## Löschen der Blockdevices"
   ]
  },
  {
   "cell_type": "code",
   "execution_count": 41,
   "metadata": {},
   "outputs": [],
   "source": [
    "sudo losetup --detach /dev/loop0"
   ]
  },
  {
   "cell_type": "code",
   "execution_count": 42,
   "metadata": {},
   "outputs": [],
   "source": [
    "sudo losetup --detach /dev/loop1"
   ]
  },
  {
   "cell_type": "code",
   "execution_count": 43,
   "metadata": {},
   "outputs": [],
   "source": [
    "sudo losetup --all"
   ]
  },
  {
   "cell_type": "markdown",
   "metadata": {},
   "source": [
    "## Btrfs Speicher"
   ]
  },
  {
   "cell_type": "code",
   "execution_count": 44,
   "metadata": {},
   "outputs": [
    {
     "name": "stdout",
     "output_type": "stream",
     "text": [
      "btrfs-tools:\n",
      "  Installiert:           4.4-1ubuntu1\n",
      "  Installationskandidat: 4.4-1ubuntu1\n",
      "  Versionstabelle:\n",
      " *** 4.4-1ubuntu1 500\n",
      "        500 http://us.archive.ubuntu.com/ubuntu xenial-updates/main amd64 Packages\n",
      "        100 /var/lib/dpkg/status\n",
      "     4.4-1 500\n",
      "        500 http://us.archive.ubuntu.com/ubuntu xenial/main amd64 Packages\n"
     ]
    }
   ],
   "source": [
    "apt policy btrfs-tools"
   ]
  },
  {
   "cell_type": "code",
   "execution_count": 45,
   "metadata": {},
   "outputs": [
    {
     "name": "stdout",
     "output_type": "stream",
     "text": [
      "Paketlisten werden gelesen... Fertig\n",
      "Abhängigkeitsbaum wird aufgebaut.       \n",
      "Statusinformationen werden eingelesen.... Fertig\n",
      "»btrfs-tools« ist bereits die neuste Version (4.4-1ubuntu1).\n",
      "0 aktualisiert, 0 neu installiert, 0 zu entfernen und 0 nicht aktualisiert.\n"
     ]
    }
   ],
   "source": [
    "sudo apt install -y btrfs-tools"
   ]
  },
  {
   "cell_type": "code",
   "execution_count": 46,
   "metadata": {},
   "outputs": [
    {
     "name": "stdout",
     "output_type": "stream",
     "text": [
      "btrfs                 991232  0\n",
      "xor                    24576  1 btrfs\n",
      "raid6_pq              102400  1 btrfs\n"
     ]
    }
   ],
   "source": [
    "lsmod | grep btrfs"
   ]
  },
  {
   "cell_type": "code",
   "execution_count": 47,
   "metadata": {},
   "outputs": [],
   "source": [
    "sudo modprobe btrfs"
   ]
  },
  {
   "cell_type": "code",
   "execution_count": 48,
   "metadata": {},
   "outputs": [
    {
     "name": "stdout",
     "output_type": "stream",
     "text": [
      "btrfs                 991232  0\n",
      "xor                    24576  1 btrfs\n",
      "raid6_pq              102400  1 btrfs\n"
     ]
    }
   ],
   "source": [
    "lsmod | grep btrfs"
   ]
  },
  {
   "cell_type": "code",
   "execution_count": 49,
   "metadata": {},
   "outputs": [
    {
     "name": "stdout",
     "output_type": "stream",
     "text": [
      "/dev/loop0\n"
     ]
    }
   ],
   "source": [
    "sudo losetup --find"
   ]
  },
  {
   "cell_type": "code",
   "execution_count": 50,
   "metadata": {},
   "outputs": [
    {
     "name": "stdout",
     "output_type": "stream",
     "text": [
      "-rw-r--r-- 1 vagrant vagrant 5368709120 Feb 17 18:00 ../xvdz.img\n"
     ]
    }
   ],
   "source": [
    "ls -la ../xvdz.img"
   ]
  },
  {
   "cell_type": "code",
   "execution_count": 51,
   "metadata": {},
   "outputs": [],
   "source": [
    "sudo losetup /dev/loop0 ../xvdz.img"
   ]
  },
  {
   "cell_type": "code",
   "execution_count": 52,
   "metadata": {},
   "outputs": [
    {
     "name": "stdout",
     "output_type": "stream",
     "text": [
      "btrfs-progs v4.4\n",
      "See http://btrfs.wiki.kernel.org for more information.\n",
      "\n",
      "Performing full device TRIM (5.00GiB) ...\n",
      "Label:              (null)\n",
      "UUID:               f21bfaef-88ef-40ac-b5f4-045e2d84f7a2\n",
      "Node size:          16384\n",
      "Sector size:        4096\n",
      "Filesystem size:    5.00GiB\n",
      "Block group profiles:\n",
      "  Data:             single            8.00MiB\n",
      "  Metadata:         DUP             264.00MiB\n",
      "  System:           DUP              12.00MiB\n",
      "SSD detected:       no\n",
      "Incompat features:  extref, skinny-metadata\n",
      "Number of devices:  1\n",
      "Devices:\n",
      "   ID        SIZE  PATH\n",
      "    1     5.00GiB  /dev/loop0\n",
      "\n"
     ]
    }
   ],
   "source": [
    "sudo mkfs -t btrfs -f /dev/loop0"
   ]
  },
  {
   "cell_type": "code",
   "execution_count": 53,
   "metadata": {},
   "outputs": [
    {
     "name": "stdout",
     "output_type": "stream",
     "text": [
      "/dev/loop0: BTRFS Filesystem sectorsize 4096, nodesize 16384, leafsize 16384, UUID=f21bfaef-88ef-40ac-b5f4- 45e2d84f7a2, 114688/5368709120 bytes used, 1 devices\n"
     ]
    }
   ],
   "source": [
    "sudo file -s /dev/loop0"
   ]
  },
  {
   "cell_type": "code",
   "execution_count": 54,
   "metadata": {},
   "outputs": [
    {
     "name": "stdout",
     "output_type": "stream",
     "text": [
      "Label: none  uuid: f21bfaef-88ef-40ac-b5f4-045e2d84f7a2\n",
      "\tTotal devices 1 FS bytes used 112.00KiB\n",
      "\tdevid    1 size 5.00GiB used 536.00MiB path /dev/loop0\n",
      "\n"
     ]
    }
   ],
   "source": [
    "sudo btrfs filesystem show"
   ]
  },
  {
   "cell_type": "code",
   "execution_count": 55,
   "metadata": {},
   "outputs": [],
   "source": [
    "mkdir ../btrfs_c1"
   ]
  },
  {
   "cell_type": "code",
   "execution_count": 56,
   "metadata": {},
   "outputs": [],
   "source": [
    "sudo mount /dev/loop0 ../btrfs_c1"
   ]
  },
  {
   "cell_type": "code",
   "execution_count": 57,
   "metadata": {},
   "outputs": [
    {
     "name": "stdout",
     "output_type": "stream",
     "text": [
      "/dev/loop0 /home/vagrant/rdf/ais/btrfs_c1 btrfs rw,relatime,space_cache,subvolid=5,subvol=/ 0 0\n"
     ]
    }
   ],
   "source": [
    "cat /proc/mounts | grep btrfs"
   ]
  },
  {
   "cell_type": "code",
   "execution_count": 58,
   "metadata": {},
   "outputs": [
    {
     "name": "stdout",
     "output_type": "stream",
     "text": [
      "/home/vagrant/rdf/ais/btrfs_c1 is toplevel subvolume\n"
     ]
    }
   ],
   "source": [
    "sudo btrfs subvolume show ../btrfs_c1"
   ]
  },
  {
   "cell_type": "code",
   "execution_count": 59,
   "metadata": {},
   "outputs": [
    {
     "name": "stdout",
     "output_type": "stream",
     "text": [
      "Data, single: total=8.00MiB, used=64.00KiB\n",
      "System, DUP: total=8.00MiB, used=16.00KiB\n",
      "Metadata, DUP: total=256.00MiB, used=112.00KiB\n",
      "GlobalReserve, single: total=16.00MiB, used=0.00B\n"
     ]
    }
   ],
   "source": [
    "sudo btrfs filesystem df ../btrfs_c1"
   ]
  },
  {
   "cell_type": "code",
   "execution_count": 60,
   "metadata": {},
   "outputs": [
    {
     "name": "stdout",
     "output_type": "stream",
     "text": [
      "Checking cache download in /var/cache/lxc/xenial/rootfs-amd64 ... \n",
      "Copy /var/cache/lxc/xenial/rootfs-amd64 to /home/vagrant/rdf/ais/hands-on-lxc/../btrfs_c1/btrfs_container/rootfs ... \n",
      "Copying rootfs to /home/vagrant/rdf/ais/hands-on-lxc/../btrfs_c1/btrfs_container/rootfs ...\n",
      "Generating locales (this might take a while)...\n",
      "  de_DE.UTF-8... done\n",
      "Generation complete.\n",
      "debconf: kann Oberfläche nicht initialisieren: Dialog\n",
      "debconf: (Die Dialog-Oberfläche funktioniert nicht auf einem Dumb-Terminal, einem Emacs-Shellbuffer oder ohne ein steuerndes Terminal.)\n",
      "debconf: greife zurück auf die Oberfläche: Readline\n",
      "debconf: kann Oberfläche nicht initialisieren: Readline\n",
      "debconf: (Can't locate Term/ReadLine.pm in @INC (you may need to install the Term::ReadLine module) (@INC contains: /etc/perl /usr/local/lib/x86_64-linux-gnu/perl/5.22.1 /usr/local/share/perl/5.22.1 /usr/lib/x86_64-linux-gnu/perl5/5.22 /usr/share/perl5 /usr/lib/x86_64-linux-gnu/perl/5.22 /usr/share/perl/5.22 /usr/local/lib/site_perl /usr/lib/x86_64-linux-gnu/perl-base .) at /usr/share/perl5/Debconf/FrontEnd/Readline.pm line 7.)\n",
      "debconf: greife zurück auf die Oberfläche: Teletype\n",
      "Creating SSH2 RSA key; this may take some time ...\n",
      "2048 SHA256:Og8bF32oBqMesI08+KI/w1Bf+nf8egwElO/t0ScdpzA root@rdf-dev (RSA)\n",
      "Creating SSH2 DSA key; this may take some time ...\n",
      "1024 SHA256:5Dk/egk/OK1JLsrZQhxk/Y6GigPwTCLYD3gYUhg4SeM root@rdf-dev (DSA)\n",
      "Creating SSH2 ECDSA key; this may take some time ...\n",
      "256 SHA256:KgbKwbYH2T+aBcCzaaJNade6SdyebcB1WezJWbjEXcQ root@rdf-dev (ECDSA)\n",
      "Creating SSH2 ED25519 key; this may take some time ...\n",
      "256 SHA256:V2NnFelgFZaUu6RaD2KBZMAS0IEXQIPhUlSDD/Wd2cQ root@rdf-dev (ED25519)\n",
      "invoke-rc.d: could not determine current runlevel\n",
      "invoke-rc.d: policy-rc.d denied execution of start.\n",
      "\n",
      "Current default time zone: 'Etc/UTC'\n",
      "Local time is now:      Sat Feb 17 18:00:36 UTC 2018.\n",
      "Universal Time is now:  Sat Feb 17 18:00:36 UTC 2018.\n",
      "\n",
      "\n",
      "##\n",
      "# The default user is 'ubuntu' with password 'ubuntu'!\n",
      "# Use the 'sudo' command to run tasks as root in the container.\n",
      "##\n",
      "\n"
     ]
    }
   ],
   "source": [
    "sudo lxc-create --bdev btrfs --lxcpath=$(pwd)/../btrfs_c1 --name btrfs_container --template ubuntu"
   ]
  },
  {
   "cell_type": "code",
   "execution_count": 61,
   "metadata": {},
   "outputs": [
    {
     "name": "stdout",
     "output_type": "stream",
     "text": [
      "NAME            STATE   AUTOSTART GROUPS IPV4 IPV6 \n",
      "btrfs_container STOPPED 0         -      -    -    \n"
     ]
    }
   ],
   "source": [
    "sudo lxc-ls -f --lxcpath=$(pwd)/../btrfs_c1"
   ]
  },
  {
   "cell_type": "code",
   "execution_count": 62,
   "metadata": {},
   "outputs": [
    {
     "name": "stdout",
     "output_type": "stream",
     "text": [
      "/var/lib/lxc\n"
     ]
    }
   ],
   "source": [
    "sudo lxc-config lxc.lxcpath"
   ]
  },
  {
   "cell_type": "code",
   "execution_count": 63,
   "metadata": {},
   "outputs": [
    {
     "name": "stdout",
     "output_type": "stream",
     "text": [
      "lxc.lxcpath = /home/vagrant/rdf/ais/hands-on-lxc/../btrfs_c1\n"
     ]
    }
   ],
   "source": [
    "echo \"lxc.lxcpath = $(pwd)/../btrfs_c1\" | sudo tee -a /etc/lxc/lxc.conf"
   ]
  },
  {
   "cell_type": "code",
   "execution_count": 64,
   "metadata": {},
   "outputs": [
    {
     "name": "stdout",
     "output_type": "stream",
     "text": [
      "/home/vagrant/rdf/ais/hands-on-lxc/../btrfs_c1\n"
     ]
    }
   ],
   "source": [
    "sudo lxc-config lxc.lxcpath"
   ]
  },
  {
   "cell_type": "code",
   "execution_count": 65,
   "metadata": {},
   "outputs": [
    {
     "name": "stdout",
     "output_type": "stream",
     "text": [
      "NAME            STATE   AUTOSTART GROUPS IPV4 IPV6 \n",
      "btrfs_container STOPPED 0         -      -    -    \n"
     ]
    }
   ],
   "source": [
    "sudo lxc-ls --fancy"
   ]
  },
  {
   "cell_type": "code",
   "execution_count": 66,
   "metadata": {},
   "outputs": [
    {
     "name": "stdout",
     "output_type": "stream",
     "text": [
      "insgesamt 20\n",
      "drwxrwx--- 1 root root  24 Feb 17 18:00 .\n",
      "drwxr-xr-x 1 root root  30 Feb 17 18:00 ..\n",
      "-rw-r--r-- 1 root root 806 Feb 17 18:00 config\n",
      "drwxr-xr-x 1 root root 132 Feb 16 17:28 rootfs\n"
     ]
    }
   ],
   "source": [
    "sudo ls -la ../btrfs_c1/btrfs_container"
   ]
  },
  {
   "cell_type": "code",
   "execution_count": 67,
   "metadata": {},
   "outputs": [
    {
     "name": "stdout",
     "output_type": "stream",
     "text": [
      "ID 257 gen 17 top level 5 path btrfs_container/rootfs\n"
     ]
    }
   ],
   "source": [
    "sudo btrfs subvolume list ../btrfs_c1"
   ]
  },
  {
   "cell_type": "markdown",
   "metadata": {},
   "source": [
    "### Snapshot Btrfs"
   ]
  },
  {
   "cell_type": "code",
   "execution_count": 68,
   "metadata": {},
   "outputs": [],
   "source": [
    "sudo lxc-copy -s -n btrfs_container -N btrfs_cow_clone"
   ]
  },
  {
   "cell_type": "code",
   "execution_count": 69,
   "metadata": {},
   "outputs": [
    {
     "name": "stdout",
     "output_type": "stream",
     "text": [
      "NAME            STATE   AUTOSTART GROUPS IPV4 IPV6 \n",
      "btrfs_container STOPPED 0         -      -    -    \n",
      "btrfs_cow_clone STOPPED 0         -      -    -    \n"
     ]
    }
   ],
   "source": [
    "sudo lxc-ls -f"
   ]
  },
  {
   "cell_type": "code",
   "execution_count": 70,
   "metadata": {},
   "outputs": [
    {
     "name": "stdout",
     "output_type": "stream",
     "text": [
      "ID 257 gen 18 top level 5 path btrfs_container/rootfs\n",
      "ID 259 gen 18 top level 5 path btrfs_cow_clone/rootfs\n"
     ]
    }
   ],
   "source": [
    "sudo btrfs subvolume list ../btrfs_c1"
   ]
  },
  {
   "cell_type": "code",
   "execution_count": 71,
   "metadata": {},
   "outputs": [
    {
     "name": "stdout",
     "output_type": "stream",
     "text": [
      "insgesamt 20\n",
      "drwxr-xr-x 1 root    root      60 Feb 17 18:00 .\n",
      "drwxrwxr-x 5 vagrant vagrant 4096 Feb 17 18:00 ..\n",
      "drwxrwx--- 1 root    root      24 Feb 17 18:00 btrfs_container\n",
      "drwxrwx--- 1 root    root      24 Feb 17 18:00 btrfs_cow_clone\n"
     ]
    }
   ],
   "source": [
    "sudo ls -la ../btrfs_c1"
   ]
  },
  {
   "cell_type": "code",
   "execution_count": 72,
   "metadata": {},
   "outputs": [
    {
     "name": "stdout",
     "output_type": "stream",
     "text": [
      "lxc.include = /usr/share/lxc/config/ubuntu.common.conf\n",
      "lxc.rootfs.path = btrfs:/home/vagrant/rdf/ais/hands-on-lxc/../btrfs_c1/btrfs_container/rootfs\n",
      "lxc.uts.name = btrfs_container\n",
      "lxc.arch = amd64\n",
      "lxc.net.0.type = veth\n",
      "lxc.net.0.link = lxcbr0\n",
      "lxc.net.0.flags = up\n",
      "lxc.net.0.hwaddr = 00:16:3e:15:56:4d\n"
     ]
    }
   ],
   "source": [
    "sudo grep -vi ^# ../btrfs_c1/btrfs_container/config | grep lxc"
   ]
  },
  {
   "cell_type": "code",
   "execution_count": 73,
   "metadata": {},
   "outputs": [],
   "source": [
    "sudo lxc-start -n btrfs_cow_clone"
   ]
  },
  {
   "cell_type": "code",
   "execution_count": 74,
   "metadata": {},
   "outputs": [],
   "source": [
    "sudo lxc-start -n btrfs_container"
   ]
  },
  {
   "cell_type": "code",
   "execution_count": 75,
   "metadata": {},
   "outputs": [
    {
     "name": "stdout",
     "output_type": "stream",
     "text": [
      "NAME            STATE   AUTOSTART GROUPS IPV4 IPV6 \n",
      "btrfs_container RUNNING 0         -      -    -    \n",
      "btrfs_cow_clone RUNNING 0         -      -    -    \n"
     ]
    }
   ],
   "source": [
    "sudo lxc-ls -f"
   ]
  },
  {
   "cell_type": "markdown",
   "metadata": {},
   "source": [
    "### Aufräumen"
   ]
  },
  {
   "cell_type": "code",
   "execution_count": 76,
   "metadata": {},
   "outputs": [],
   "source": [
    "sudo lxc-stop -n btrfs_cow_clone\n",
    "sudo lxc-stop -n btrfs_container"
   ]
  },
  {
   "cell_type": "code",
   "execution_count": 77,
   "metadata": {},
   "outputs": [
    {
     "name": "stdout",
     "output_type": "stream",
     "text": [
      "umount: /home/vagrant/rdf/ais/btrfs_c1: target is busy\n",
      "        (In some cases useful info about processes that\n",
      "         use the device is found by lsof(8) or fuser(1).)\n"
     ]
    },
    {
     "ename": "",
     "evalue": "32",
     "output_type": "error",
     "traceback": []
    }
   ],
   "source": [
    "sudo umount ../btrfs_c1"
   ]
  },
  {
   "cell_type": "code",
   "execution_count": 78,
   "metadata": {},
   "outputs": [
    {
     "name": "stdout",
     "output_type": "stream",
     "text": [
      "lxc.lxcpath = /var/lib/lxc\n"
     ]
    }
   ],
   "source": [
    "echo \"lxc.lxcpath = /var/lib/lxc\" | sudo tee /etc/lxc/lxc.conf"
   ]
  },
  {
   "cell_type": "markdown",
   "metadata": {},
   "source": [
    "## ZFS"
   ]
  },
  {
   "cell_type": "code",
   "execution_count": 82,
   "metadata": {},
   "outputs": [
    {
     "name": "stdout",
     "output_type": "stream",
     "text": [
      "zfsutils-linux:\n",
      "  Installiert:           0.6.5.6-0ubuntu18\n",
      "  Installationskandidat: 0.6.5.6-0ubuntu18\n",
      "  Versionstabelle:\n",
      " *** 0.6.5.6-0ubuntu18 500\n",
      "        500 http://us.archive.ubuntu.com/ubuntu xenial-updates/main amd64 Packages\n",
      "        100 /var/lib/dpkg/status\n",
      "     0.6.5.6-0ubuntu8 500\n",
      "        500 http://us.archive.ubuntu.com/ubuntu xenial/universe amd64 Packages\n"
     ]
    }
   ],
   "source": [
    "apt policy zfsutils-linux"
   ]
  },
  {
   "cell_type": "code",
   "execution_count": 83,
   "metadata": {},
   "outputs": [
    {
     "name": "stdout",
     "output_type": "stream",
     "text": [
      "zfs                  2813952  3\n",
      "zunicode              331776  1 zfs\n",
      "zcommon                57344  1 zfs\n",
      "znvpair                90112  2 zfs,zcommon\n",
      "spl                   102400  3 zfs,zcommon,znvpair\n",
      "zavl                   16384  1 zfs\n"
     ]
    }
   ],
   "source": [
    "sudo lsmod | grep zfs\n",
    "# modeprobe zfs"
   ]
  },
  {
   "cell_type": "code",
   "execution_count": 3,
   "metadata": {},
   "outputs": [
    {
     "name": "stdout",
     "output_type": "stream",
     "text": [
      "The operation has completed successfully.\n"
     ]
    }
   ],
   "source": [
    "sudo sgdisk -d 9 /dev/sdb "
   ]
  },
  {
   "cell_type": "code",
   "execution_count": 91,
   "metadata": {},
   "outputs": [
    {
     "name": "stdout",
     "output_type": "stream",
     "text": [
      "Error: Der/die Partition(en) 1, 9 auf /dev/sdb wurden geschrieben, aber es war nicht möglich, den Kernel über die Änderungen zu informieren, weil sie wahrscheinlich in Benutzung sind. Daher werden die alten Partitionen noch benutzt. Sie sollten nun den Rechner neu starten, bevor Sie weitere Änderungen vornehmen.\n"
     ]
    },
    {
     "ename": "",
     "evalue": "1",
     "output_type": "error",
     "traceback": []
    }
   ],
   "source": [
    "sudo partprobe"
   ]
  },
  {
   "cell_type": "code",
   "execution_count": 6,
   "metadata": {},
   "outputs": [
    {
     "name": "stdout",
     "output_type": "stream",
     "text": [
      "Disk /dev/sdb: 1048576000 sectors, 500.0 GiB\n",
      "Logical sector size: 512 bytes\n",
      "Disk identifier (GUID): 80A37054-FA86-BF41-930E-3F59303EC919\n",
      "Partition table holds up to 128 entries\n",
      "First usable sector is 34, last usable sector is 1048575966\n",
      "Partitions will be aligned on 2048-sector boundaries\n",
      "Total free space is 4029 sectors (2.0 MiB)\n",
      "\n",
      "Number  Start (sector)    End (sector)  Size       Code  Name\n",
      "   1            2048      1048557567   500.0 GiB   BF01  zfs-af1510068f8b7a18\n",
      "   9      1048557568      1048573951   8.0 MiB     BF07  \n"
     ]
    }
   ],
   "source": [
    "sudo sgdisk -p /dev/sdb"
   ]
  },
  {
   "cell_type": "code",
   "execution_count": 5,
   "metadata": {},
   "outputs": [],
   "source": [
    "sudo zpool create -f lxc sdb"
   ]
  },
  {
   "cell_type": "code",
   "execution_count": 6,
   "metadata": {},
   "outputs": [
    {
     "name": "stdout",
     "output_type": "stream",
     "text": [
      "Disk /dev/sdb: 1048576000 sectors, 500.0 GiB\n",
      "Logical sector size: 512 bytes\n",
      "Disk identifier (GUID): 80A37054-FA86-BF41-930E-3F59303EC919\n",
      "Partition table holds up to 128 entries\n",
      "First usable sector is 34, last usable sector is 1048575966\n",
      "Partitions will be aligned on 2048-sector boundaries\n",
      "Total free space is 4029 sectors (2.0 MiB)\n",
      "\n",
      "Number  Start (sector)    End (sector)  Size       Code  Name\n",
      "   1            2048      1048557567   500.0 GiB   BF01  zfs-af1510068f8b7a18\n",
      "   9      1048557568      1048573951   8.0 MiB     BF07  \n"
     ]
    }
   ],
   "source": [
    "sudo sgdisk -p /dev/sdb"
   ]
  },
  {
   "cell_type": "code",
   "execution_count": 7,
   "metadata": {},
   "outputs": [
    {
     "name": "stdout",
     "output_type": "stream",
     "text": [
      "NAME   SIZE  ALLOC   FREE  EXPANDSZ   FRAG    CAP  DEDUP  HEALTH  ALTROOT\n",
      "lxc    496G    64K   496G         -     0%     0%  1.00x  ONLINE  -\n"
     ]
    }
   ],
   "source": [
    "sudo zpool list"
   ]
  },
  {
   "cell_type": "code",
   "execution_count": 8,
   "metadata": {},
   "outputs": [
    {
     "name": "stdout",
     "output_type": "stream",
     "text": [
      "  pool: lxc\n",
      " state: ONLINE\n",
      "  scan: none requested\n",
      "config:\n",
      "\n",
      "\tNAME        STATE     READ WRITE CKSUM\n",
      "\tlxc         ONLINE       0     0     0\n",
      "\t  sdb       ONLINE       0     0     0\n",
      "\n",
      "errors: No known data errors\n"
     ]
    }
   ],
   "source": [
    "sudo zpool status"
   ]
  },
  {
   "cell_type": "code",
   "execution_count": 9,
   "metadata": {},
   "outputs": [
    {
     "name": "stdout",
     "output_type": "stream",
     "text": [
      "NAME   USED  AVAIL  REFER  MOUNTPOINT\n",
      "lxc     55K   480G    19K  /lxc\n"
     ]
    }
   ],
   "source": [
    "sudo zfs list"
   ]
  },
  {
   "cell_type": "code",
   "execution_count": 10,
   "metadata": {},
   "outputs": [
    {
     "name": "stdout",
     "output_type": "stream",
     "text": [
      "lxc                            481G       0  481G    0% /lxc\n"
     ]
    }
   ],
   "source": [
    "df -h | grep -w lxc"
   ]
  },
  {
   "cell_type": "markdown",
   "metadata": {},
   "source": [
    "### Erstellen eines LXC Containers"
   ]
  },
  {
   "cell_type": "code",
   "execution_count": 12,
   "metadata": {},
   "outputs": [
    {
     "name": "stdout",
     "output_type": "stream",
     "text": [
      "Checking cache download in /var/cache/lxc/xenial/rootfs-amd64 ... \n",
      "Copy /var/cache/lxc/xenial/rootfs-amd64 to /usr/lib/x86_64-linux-gnu/lxc ... \n",
      "Copying rootfs to /usr/lib/x86_64-linux-gnu/lxc ...\n",
      "Generating locales (this might take a while)...\n",
      "  de_DE.UTF-8... done\n",
      "Generation complete.\n",
      "debconf: kann Oberfläche nicht initialisieren: Dialog\n",
      "debconf: (Die Dialog-Oberfläche funktioniert nicht auf einem Dumb-Terminal, einem Emacs-Shellbuffer oder ohne ein steuerndes Terminal.)\n",
      "debconf: greife zurück auf die Oberfläche: Readline\n",
      "debconf: kann Oberfläche nicht initialisieren: Readline\n",
      "debconf: (Can't locate Term/ReadLine.pm in @INC (you may need to install the Term::ReadLine module) (@INC contains: /etc/perl /usr/local/lib/x86_64-linux-gnu/perl/5.22.1 /usr/local/share/perl/5.22.1 /usr/lib/x86_64-linux-gnu/perl5/5.22 /usr/share/perl5 /usr/lib/x86_64-linux-gnu/perl/5.22 /usr/share/perl/5.22 /usr/local/lib/site_perl /usr/lib/x86_64-linux-gnu/perl-base .) at /usr/share/perl5/Debconf/FrontEnd/Readline.pm line 7.)\n",
      "debconf: greife zurück auf die Oberfläche: Teletype\n",
      "Creating SSH2 RSA key; this may take some time ...\n",
      "2048 SHA256:KQ86uOZ3XkzfTzSsBebtPFKGAMTFESH2kD77ugDqCls root@rdf-dev (RSA)\n",
      "Creating SSH2 DSA key; this may take some time ...\n",
      "1024 SHA256:XY7vQH1B24lkRcvQGsak0eT1A0OWO/2QMc8cJxTFzn8 root@rdf-dev (DSA)\n",
      "Creating SSH2 ECDSA key; this may take some time ...\n",
      "256 SHA256:7Xa3wfIYHXMaLHtwrZ9TdKxd+DbjsOkZGa23NlgBuq4 root@rdf-dev (ECDSA)\n",
      "Creating SSH2 ED25519 key; this may take some time ...\n",
      "256 SHA256:1UKtEHsMS4A3WWVdCMNPayEvnKZOVIfCjlv33LuSBIs root@rdf-dev (ED25519)\n",
      "invoke-rc.d: could not determine current runlevel\n",
      "invoke-rc.d: policy-rc.d denied execution of start.\n",
      "\n",
      "Current default time zone: 'Etc/UTC'\n",
      "Local time is now:      Sat Feb 17 18:20:43 UTC 2018.\n",
      "Universal Time is now:  Sat Feb 17 18:20:43 UTC 2018.\n",
      "\n",
      "\n",
      "##\n",
      "# The default user is 'ubuntu' with password 'ubuntu'!\n",
      "# Use the 'sudo' command to run tasks as root in the container.\n",
      "##\n",
      "\n"
     ]
    }
   ],
   "source": [
    "sudo lxc-create --bdev zfs --lxcpath=/lxc --name zfs_container --template ubuntu"
   ]
  },
  {
   "cell_type": "code",
   "execution_count": 13,
   "metadata": {},
   "outputs": [
    {
     "name": "stdout",
     "output_type": "stream",
     "text": [
      "NAME          STATE   AUTOSTART GROUPS IPV4 IPV6 \n",
      "zfs_container STOPPED 0         -      -    -    \n"
     ]
    }
   ],
   "source": [
    "sudo lxc-ls --lxcpath=/lxc -f"
   ]
  },
  {
   "cell_type": "code",
   "execution_count": 14,
   "metadata": {},
   "outputs": [
    {
     "name": "stdout",
     "output_type": "stream",
     "text": [
      "insgesamt 5\n",
      "drwxr-xr-x  3 root root    3 Feb 17 18:20 .\n",
      "drwxr-xr-x 25 root root 4096 Feb 17 18:16 ..\n",
      "drwxrwx---  3 root root    4 Feb 17 18:20 zfs_container\n"
     ]
    }
   ],
   "source": [
    "ls -la /lxc"
   ]
  },
  {
   "cell_type": "markdown",
   "metadata": {},
   "source": [
    "### Snapshots ZFS"
   ]
  },
  {
   "cell_type": "code",
   "execution_count": 16,
   "metadata": {},
   "outputs": [],
   "source": [
    "sudo lxc-copy --lxcpath=/lxc -s -n zfs_container -N zfs_cow_clone"
   ]
  },
  {
   "cell_type": "code",
   "execution_count": 17,
   "metadata": {},
   "outputs": [
    {
     "name": "stdout",
     "output_type": "stream",
     "text": [
      "NAME          STATE   AUTOSTART GROUPS IPV4 IPV6 \n",
      "zfs_container STOPPED 0         -      -    -    \n",
      "zfs_cow_clone STOPPED 0         -      -    -    \n"
     ]
    }
   ],
   "source": [
    "sudo lxc-ls --lxcpath=/lxc -f"
   ]
  },
  {
   "cell_type": "code",
   "execution_count": 14,
   "metadata": {},
   "outputs": [
    {
     "name": "stdout",
     "output_type": "stream",
     "text": [
      "insgesamt 5\n",
      "drwxr-xr-x  3 root root    3 Feb 17 18:20 .\n",
      "drwxr-xr-x 25 root root 4096 Feb 17 18:16 ..\n",
      "drwxrwx---  3 root root    4 Feb 17 18:20 zfs_container\n"
     ]
    }
   ],
   "source": [
    "ls -la /lxc"
   ]
  },
  {
   "cell_type": "code",
   "execution_count": 18,
   "metadata": {},
   "outputs": [
    {
     "name": "stdout",
     "output_type": "stream",
     "text": [
      "NAME          STATE   AUTOSTART GROUPS IPV4 IPV6 \n",
      "zfs_container RUNNING 0         -      -    -    \n",
      "zfs_cow_clone RUNNING 0         -      -    -    \n"
     ]
    }
   ],
   "source": [
    "sudo lxc-start --lxcpath=/lxc --name zfs_container\n",
    "sudo lxc-start --lxcpath=/lxc --name zfs_cow_clone\n",
    "sleep 8\n",
    "sudo lxc-ls --lxcpath=/lxc -f"
   ]
  },
  {
   "cell_type": "code",
   "execution_count": 19,
   "metadata": {},
   "outputs": [
    {
     "name": "stdout",
     "output_type": "stream",
     "text": [
      "NAME          STATE   AUTOSTART GROUPS IPV4      IPV6 \n",
      "zfs_container RUNNING 0         -      10.0.3.84 -    \n",
      "zfs_cow_clone RUNNING 0         -      10.0.3.66 -    \n"
     ]
    }
   ],
   "source": [
    "sudo lxc-ls --lxcpath=/lxc -f"
   ]
  },
  {
   "cell_type": "code",
   "execution_count": 20,
   "metadata": {},
   "outputs": [],
   "source": [
    "sudo lxc-stop --lxcpath=/lxc --name zfs_cow_clone\n",
    "sudo lxc-stop --lxcpath=/lxc --name zfs_container"
   ]
  },
  {
   "cell_type": "code",
   "execution_count": 21,
   "metadata": {},
   "outputs": [
    {
     "name": "stdout",
     "output_type": "stream",
     "text": [
      "Destroyed container zfs_cow_clone\n",
      "Destroyed container zfs_container\n"
     ]
    }
   ],
   "source": [
    "sudo lxc-destroy --lxcpath=/lxc --name zfs_cow_clone\n",
    "sudo lxc-destroy --lxcpath=/lxc --name zfs_container"
   ]
  },
  {
   "cell_type": "code",
   "execution_count": 24,
   "metadata": {},
   "outputs": [
    {
     "name": "stdout",
     "output_type": "stream",
     "text": [
      "insgesamt 5\n",
      "drwxr-xr-x  2 root root    2 Feb 17 18:25 .\n",
      "drwxr-xr-x 25 root root 4096 Feb 17 18:16 ..\n"
     ]
    }
   ],
   "source": [
    "ls -la /lxc"
   ]
  },
  {
   "cell_type": "code",
   "execution_count": 25,
   "metadata": {},
   "outputs": [],
   "source": [
    "sudo zpool destroy lxc"
   ]
  },
  {
   "cell_type": "code",
   "execution_count": 26,
   "metadata": {},
   "outputs": [
    {
     "name": "stdout",
     "output_type": "stream",
     "text": [
      "no pools available\n"
     ]
    }
   ],
   "source": [
    "sudo zpool list"
   ]
  },
  {
   "cell_type": "markdown",
   "metadata": {},
   "source": [
    "## Autostart von LXC Containern"
   ]
  },
  {
   "cell_type": "code",
   "execution_count": 40,
   "metadata": {},
   "outputs": [
    {
     "name": "stdout",
     "output_type": "stream",
     "text": [
      "Checking cache download in /var/cache/lxc/xenial/rootfs-amd64 ... \n",
      "Copy /var/cache/lxc/xenial/rootfs-amd64 to /var/lib/lxc/autostart_container/rootfs ... \n",
      "Copying rootfs to /var/lib/lxc/autostart_container/rootfs ...\n",
      "Generating locales (this might take a while)...\n",
      "  de_DE.UTF-8... done\n",
      "Generation complete.\n",
      "debconf: kann Oberfläche nicht initialisieren: Dialog\n",
      "debconf: (Die Dialog-Oberfläche funktioniert nicht auf einem Dumb-Terminal, einem Emacs-Shellbuffer oder ohne ein steuerndes Terminal.)\n",
      "debconf: greife zurück auf die Oberfläche: Readline\n",
      "debconf: kann Oberfläche nicht initialisieren: Readline\n",
      "debconf: (Can't locate Term/ReadLine.pm in @INC (you may need to install the Term::ReadLine module) (@INC contains: /etc/perl /usr/local/lib/x86_64-linux-gnu/perl/5.22.1 /usr/local/share/perl/5.22.1 /usr/lib/x86_64-linux-gnu/perl5/5.22 /usr/share/perl5 /usr/lib/x86_64-linux-gnu/perl/5.22 /usr/share/perl/5.22 /usr/local/lib/site_perl /usr/lib/x86_64-linux-gnu/perl-base .) at /usr/share/perl5/Debconf/FrontEnd/Readline.pm line 7.)\n",
      "debconf: greife zurück auf die Oberfläche: Teletype\n",
      "Creating SSH2 RSA key; this may take some time ...\n",
      "2048 SHA256:QucYxLfzRmXTKYRTMRYFRkht9fVKu08HKoWCfmixFs8 root@rdf-dev (RSA)\n",
      "Creating SSH2 DSA key; this may take some time ...\n",
      "1024 SHA256:WvpFKmMjXYDn0vaaz8bB0/qerbznYZD7zgszN/zVzsw root@rdf-dev (DSA)\n",
      "Creating SSH2 ECDSA key; this may take some time ...\n",
      "256 SHA256:QG0kgFQ1IuAJQ+ZTw9jnDoIMBBnQIARmKa/TM0J5xuw root@rdf-dev (ECDSA)\n",
      "Creating SSH2 ED25519 key; this may take some time ...\n",
      "256 SHA256:VnJA6coeVsUmnY3rDE32aMuiSt3uPNBeOilokVbh2Xk root@rdf-dev (ED25519)\n",
      "invoke-rc.d: could not determine current runlevel\n",
      "invoke-rc.d: policy-rc.d denied execution of start.\n",
      "\n",
      "Current default time zone: 'Etc/UTC'\n",
      "Local time is now:      Sat Feb 17 19:58:45 UTC 2018.\n",
      "Universal Time is now:  Sat Feb 17 19:58:45 UTC 2018.\n",
      "\n",
      "\n",
      "##\n",
      "# The default user is 'ubuntu' with password 'ubuntu'!\n",
      "# Use the 'sudo' command to run tasks as root in the container.\n",
      "##\n",
      "\n"
     ]
    }
   ],
   "source": [
    "sudo lxc-create --name autostart_container --template ubuntu"
   ]
  },
  {
   "cell_type": "code",
   "execution_count": 41,
   "metadata": {},
   "outputs": [
    {
     "name": "stdout",
     "output_type": "stream",
     "text": [
      "lxc.start.auto = 1\n"
     ]
    }
   ],
   "source": [
    "echo \"lxc.start.auto = 1\" | sudo tee -a /var/lib/lxc/autostart_container/config"
   ]
  },
  {
   "cell_type": "code",
   "execution_count": 42,
   "metadata": {},
   "outputs": [
    {
     "name": "stdout",
     "output_type": "stream",
     "text": [
      "autostart_container 0\n"
     ]
    }
   ],
   "source": [
    "sudo lxc-autostart --list"
   ]
  },
  {
   "cell_type": "code",
   "execution_count": 43,
   "metadata": {},
   "outputs": [],
   "source": [
    "sudo lxc-autostart --all"
   ]
  },
  {
   "cell_type": "code",
   "execution_count": 48,
   "metadata": {},
   "outputs": [
    {
     "name": "stdout",
     "output_type": "stream",
     "text": [
      "NAME                STATE   AUTOSTART GROUPS IPV4 IPV6 \n",
      "autostart_container STOPPED 1         -      -    -    \n",
      "container_2_copy    STOPPED 0         -      -    -    \n",
      "container_2_hard    STOPPED 0         -      -    -    \n",
      "lvm_container       STOPPED 0         -      -    -    \n",
      "lvm_container_2     STOPPED 0         -      -    -    \n"
     ]
    }
   ],
   "source": [
    "sudo lxc-ls --fancy"
   ]
  },
  {
   "cell_type": "code",
   "execution_count": 45,
   "metadata": {},
   "outputs": [],
   "source": [
    "sudo lxc-stop --name autostart_container"
   ]
  },
  {
   "cell_type": "code",
   "execution_count": 49,
   "metadata": {},
   "outputs": [
    {
     "name": "stdout",
     "output_type": "stream",
     "text": [
      "lxc.start.delay = 5\n"
     ]
    }
   ],
   "source": [
    "echo \"lxc.start.delay = 5\" | sudo tee -a /var/lib/lxc/autostart_container/config"
   ]
  },
  {
   "cell_type": "code",
   "execution_count": 50,
   "metadata": {},
   "outputs": [
    {
     "name": "stdout",
     "output_type": "stream",
     "text": [
      "lxc.group = high_priority\n"
     ]
    }
   ],
   "source": [
    "echo \"lxc.group = high_priority\" | sudo tee -a /var/lib/lxc/autostart_container/config"
   ]
  },
  {
   "cell_type": "code",
   "execution_count": 51,
   "metadata": {},
   "outputs": [],
   "source": [
    "sudo lxc-autostart --list"
   ]
  },
  {
   "cell_type": "code",
   "execution_count": 52,
   "metadata": {},
   "outputs": [
    {
     "name": "stdout",
     "output_type": "stream",
     "text": [
      "autostart_container 5\n"
     ]
    }
   ],
   "source": [
    "sudo lxc-autostart --list --group high_priority"
   ]
  },
  {
   "cell_type": "code",
   "execution_count": 53,
   "metadata": {},
   "outputs": [],
   "source": [
    "sudo lxc-autostart --group high_priority"
   ]
  },
  {
   "cell_type": "code",
   "execution_count": 55,
   "metadata": {},
   "outputs": [
    {
     "name": "stdout",
     "output_type": "stream",
     "text": [
      "NAME                STATE   AUTOSTART GROUPS        IPV4      IPV6 \n",
      "autostart_container RUNNING 1         high_priority 10.0.3.30 -    \n",
      "container_2_copy    STOPPED 0         -             -         -    \n",
      "container_2_hard    STOPPED 0         -             -         -    \n",
      "lvm_container       STOPPED 0         -             -         -    \n",
      "lvm_container_2     STOPPED 0         -             -         -    \n"
     ]
    }
   ],
   "source": [
    "sudo lxc-ls --fancy"
   ]
  },
  {
   "cell_type": "code",
   "execution_count": 57,
   "metadata": {},
   "outputs": [
    {
     "name": "stdout",
     "output_type": "stream",
     "text": [
      "Destroyed container autostart_container\n"
     ]
    }
   ],
   "source": [
    "sudo lxc-destroy --name autostart_container --force"
   ]
  },
  {
   "cell_type": "markdown",
   "metadata": {},
   "source": [
    "## LXC hooks\n",
    "\n",
    "| Option           | \tDescription  |\n",
    "|------------------|-----------------|\n",
    "| lxc.hook.pre-start|\tA hook to be run in the host namespace before the container ttys, consoles, or mounts are loaded |\n",
    "| lxc.hook.pre-mount|\tA hook to be run in the container's filesystem namespace, but before the rootfs has been set up |\n",
    "| lxc.hook.mount| \tA hook to be run in the container after mounting has been done, but before the pivot_root |\n",
    "| lxc.hook.autodev| \tA hook to be run in the container after mounting has been done and after any mount hooks have run, but before the pivot_root |\n",
    "| lxc.hook.start| \tA hook to be run in the container right before executing the container's init |\n",
    "| lxc.hook.stop| \tA hook to be run in the host's namespace after the container has been shut down |\n",
    "|lxc.hook.post-stop |\tA hook to be run in the host's namespace after the container has been shut down |\n",
    "|lxc.hook.clone | \tA hook to be run when the container is cloned |\n",
    "|lxc.hook.destroy | \tA hook to be run when the container is destroyed |\n",
    "\n"
   ]
  },
  {
   "cell_type": "code",
   "execution_count": 58,
   "metadata": {},
   "outputs": [
    {
     "name": "stdout",
     "output_type": "stream",
     "text": [
      "Checking cache download in /var/cache/lxc/xenial/rootfs-amd64 ... \n",
      "Copy /var/cache/lxc/xenial/rootfs-amd64 to /var/lib/lxc/hooks_container/rootfs ... \n",
      "Copying rootfs to /var/lib/lxc/hooks_container/rootfs ...\n",
      "Generating locales (this might take a while)...\n",
      "  de_DE.UTF-8... done\n",
      "Generation complete.\n",
      "debconf: kann Oberfläche nicht initialisieren: Dialog\n",
      "debconf: (Die Dialog-Oberfläche funktioniert nicht auf einem Dumb-Terminal, einem Emacs-Shellbuffer oder ohne ein steuerndes Terminal.)\n",
      "debconf: greife zurück auf die Oberfläche: Readline\n",
      "debconf: kann Oberfläche nicht initialisieren: Readline\n",
      "debconf: (Can't locate Term/ReadLine.pm in @INC (you may need to install the Term::ReadLine module) (@INC contains: /etc/perl /usr/local/lib/x86_64-linux-gnu/perl/5.22.1 /usr/local/share/perl/5.22.1 /usr/lib/x86_64-linux-gnu/perl5/5.22 /usr/share/perl5 /usr/lib/x86_64-linux-gnu/perl/5.22 /usr/share/perl/5.22 /usr/local/lib/site_perl /usr/lib/x86_64-linux-gnu/perl-base .) at /usr/share/perl5/Debconf/FrontEnd/Readline.pm line 7.)\n",
      "debconf: greife zurück auf die Oberfläche: Teletype\n",
      "Creating SSH2 RSA key; this may take some time ...\n",
      "2048 SHA256:w7pZPwlox9yoKVd4sIbpjl1qOvEbQnc7F6QFJCGM004 root@rdf-dev (RSA)\n",
      "Creating SSH2 DSA key; this may take some time ...\n",
      "1024 SHA256:ObLEwzgr7qipVUhP/mplS96acpwhhAx/VwiBkdMAAps root@rdf-dev (DSA)\n",
      "Creating SSH2 ECDSA key; this may take some time ...\n",
      "256 SHA256:jf1A6NfO2M5lS5YdvDyM8eTzY6XDnnrfuGQtk0lzZvY root@rdf-dev (ECDSA)\n",
      "Creating SSH2 ED25519 key; this may take some time ...\n",
      "256 SHA256:FnUOC5+eXwRCbNppvXrsjNCHGiSjMdO444J0RcmY+qk root@rdf-dev (ED25519)\n",
      "invoke-rc.d: could not determine current runlevel\n",
      "invoke-rc.d: policy-rc.d denied execution of start.\n",
      "\n",
      "Current default time zone: 'Etc/UTC'\n",
      "Local time is now:      Sat Feb 17 20:10:27 UTC 2018.\n",
      "Universal Time is now:  Sat Feb 17 20:10:27 UTC 2018.\n",
      "\n",
      "\n",
      "##\n",
      "# The default user is 'ubuntu' with password 'ubuntu'!\n",
      "# Use the 'sudo' command to run tasks as root in the container.\n",
      "##\n",
      "\n"
     ]
    }
   ],
   "source": [
    "sudo lxc-create --name hooks_container --template ubuntu"
   ]
  },
  {
   "cell_type": "code",
   "execution_count": 59,
   "metadata": {},
   "outputs": [
    {
     "name": "stdout",
     "output_type": "stream",
     "text": [
      "lxc.hook.pre-start = /var/lib/lxc/hooks_container/pre_start.sh\n"
     ]
    }
   ],
   "source": [
    "echo \"lxc.hook.pre-start = /var/lib/lxc/hooks_container/pre_start.sh\" | sudo tee -a /var/lib/lxc/hooks_container/config\n"
   ]
  },
  {
   "cell_type": "code",
   "execution_count": 61,
   "metadata": {},
   "outputs": [
    {
     "name": "stdout",
     "output_type": "stream",
     "text": [
      "#!/bin/bash\n",
      "LOG_FILE=/tmp/container.log\n",
      "echo \"Container name: $LXC_NAME\" | tee -a $LOG_FILE\n",
      "echo \"Container mounted rootfs: $LXC_ROOTFS_MOUNT\" | tee -a\n",
      "$LOG_FILE\n",
      "echo \"Container config file $LXC_CONFIG_FILE\" | tee -a $LOG_FILE\n",
      "echo \"Container rootfs: $LXC_ROOTFS_PATH\" | tee -a $LOG_FILE\n"
     ]
    }
   ],
   "source": [
    "cat pre_start.sh"
   ]
  },
  {
   "cell_type": "code",
   "execution_count": 62,
   "metadata": {},
   "outputs": [],
   "source": [
    "sudo cp pre_start.sh /var/lib/lxc/hooks_container/pre_start.sh"
   ]
  },
  {
   "cell_type": "code",
   "execution_count": 64,
   "metadata": {},
   "outputs": [],
   "source": [
    "sudo chmod u+x /var/lib/lxc/hooks_container/pre_start.sh"
   ]
  },
  {
   "cell_type": "code",
   "execution_count": 65,
   "metadata": {},
   "outputs": [],
   "source": [
    "sudo  lxc-start --name hooks_container"
   ]
  },
  {
   "cell_type": "code",
   "execution_count": 66,
   "metadata": {},
   "outputs": [
    {
     "name": "stdout",
     "output_type": "stream",
     "text": [
      "NAME             STATE   AUTOSTART GROUPS IPV4      IPV6 \n",
      "container_2_copy STOPPED 0         -      -         -    \n",
      "container_2_hard STOPPED 0         -      -         -    \n",
      "hooks_container  RUNNING 0         -      10.0.3.65 -    \n",
      "lvm_container    STOPPED 0         -      -         -    \n",
      "lvm_container_2  STOPPED 0         -      -         -    \n"
     ]
    }
   ],
   "source": [
    "sudo lxc-ls --fancy"
   ]
  },
  {
   "cell_type": "code",
   "execution_count": 67,
   "metadata": {},
   "outputs": [
    {
     "name": "stdout",
     "output_type": "stream",
     "text": [
      "Container name: \n",
      "Container config file \n",
      "Container rootfs: \n",
      "Container name: hooks_container\n",
      "Container config file /var/lib/lxc/hooks_container/config\n",
      "Container rootfs: dir:/var/lib/lxc/hooks_container/rootfs\n"
     ]
    }
   ],
   "source": [
    "cat /tmp/container.log"
   ]
  },
  {
   "cell_type": "markdown",
   "metadata": {},
   "source": [
    "## Einhängen von Host-Dateien/Verzeichnissen"
   ]
  },
  {
   "cell_type": "code",
   "execution_count": 82,
   "metadata": {},
   "outputs": [
    {
     "name": "stdout",
     "output_type": "stream",
     "text": [
      "mkdir: das Verzeichnis »/tmp/export_to_container“ kann nicht angelegt werden: Die Datei existiert bereits\n",
      "rdf-dev.vm\n",
      "Container already exists\n"
     ]
    },
    {
     "ename": "",
     "evalue": "1",
     "output_type": "error",
     "traceback": []
    }
   ],
   "source": [
    "mkdir /tmp/export_to_container\n",
    "hostname -f >> /tmp/export_to_container/file\n",
    "sudo lxc-create --name mount_container --template ubuntu"
   ]
  },
  {
   "cell_type": "code",
   "execution_count": 69,
   "metadata": {},
   "outputs": [
    {
     "name": "stdout",
     "output_type": "stream",
     "text": [
      "lxc.mount.entry = /tmp/export_to_container/ /var/lib/lxc/mount_container/rootfs/mnt none ro,bind 0 0\n"
     ]
    }
   ],
   "source": [
    "echo \"lxc.mount.entry = /tmp/export_to_container/ /var/lib/lxc/mount_container/rootfs/mnt none ro,bind 0 0\" | sudo tee -a /var/lib/lxc/mount_container/config\n"
   ]
  },
  {
   "cell_type": "code",
   "execution_count": 85,
   "metadata": {},
   "outputs": [],
   "source": [
    "sudo lxc-start --name mount_container"
   ]
  },
  {
   "cell_type": "code",
   "execution_count": 86,
   "metadata": {},
   "outputs": [
    {
     "name": "stdout",
     "output_type": "stream",
     "text": [
      "NAME             STATE   AUTOSTART GROUPS IPV4       IPV6 \n",
      "container_2_copy STOPPED 0         -      -          -    \n",
      "container_2_hard STOPPED 0         -      -          -    \n",
      "hooks_container  RUNNING 0         -      10.0.3.65  -    \n",
      "lvm_container    STOPPED 0         -      -          -    \n",
      "lvm_container_2  STOPPED 0         -      -          -    \n",
      "mount_container  RUNNING 0         -      10.0.3.166 -    \n"
     ]
    }
   ],
   "source": [
    "sudo lxc-ls --fancy"
   ]
  },
  {
   "cell_type": "code",
   "execution_count": 91,
   "metadata": {},
   "outputs": [
    {
     "name": "stdout",
     "output_type": "stream",
     "text": [
      "# Host 10.0.3.166 found: line 1\n",
      "/home/vagrant/.ssh/known_hosts updated.\n",
      "Original contents retained as /home/vagrant/.ssh/known_hosts.old\n",
      "# 10.0.3.166:22 SSH-2.0-OpenSSH_7.2p2 Ubuntu-4ubuntu2.4\n",
      "# 10.0.3.166:22 SSH-2.0-OpenSSH_7.2p2 Ubuntu-4ubuntu2.4\n",
      "# 10.0.3.166:22 SSH-2.0-OpenSSH_7.2p2 Ubuntu-4ubuntu2.4\n"
     ]
    }
   ],
   "source": [
    "ssh-keygen -R 10.0.3.166\n",
    "ssh-keyscan 10.0.3.166 >> ~/.ssh/known_hosts"
   ]
  },
  {
   "cell_type": "code",
   "execution_count": 92,
   "metadata": {},
   "outputs": [
    {
     "name": "stdout",
     "output_type": "stream",
     "text": [
      "rdf-dev.vm\n"
     ]
    }
   ],
   "source": [
    "sshpass -p ubuntu ssh ubuntu@10.0.3.166 cat /mnt/file"
   ]
  },
  {
   "cell_type": "code",
   "execution_count": 93,
   "metadata": {},
   "outputs": [
    {
     "name": "stdout",
     "output_type": "stream",
     "text": [
      "Name:           mount_container\n",
      "State:          RUNNING\n",
      "PID:            17282\n",
      "IP:             10.0.3.166\n",
      "CPU use:        0.56 seconds\n",
      "BlkIO use:      40.00 KiB\n",
      "Memory use:     12.52 MiB\n",
      "KMem use:       0 bytes\n",
      "Link:           veth2QYQL4\n",
      " TX bytes:      29.37 KiB\n",
      " RX bytes:      29.36 KiB\n",
      " Total bytes:   58.73 KiB\n"
     ]
    }
   ],
   "source": [
    "sudo lxc-info -n mount_container"
   ]
  },
  {
   "cell_type": "code",
   "execution_count": 94,
   "metadata": {},
   "outputs": [
    {
     "name": "stdout",
     "output_type": "stream",
     "text": [
      "insgesamt 28\n",
      "drwxr-xr-x 12 root root  440 Feb 17 20:34 .\n",
      "drwxr-xr-x 21 root root 4096 Feb 16 17:28 ..\n",
      "-rw-------  1 root root    0 Feb 17 20:31 agetty.reload\n",
      "-rw-r--r--  1 root root    3 Feb 17 20:31 crond.pid\n",
      "----------  1 root root    0 Feb 17 20:31 crond.reboot\n",
      "-rw-r--r--  1 root root    4 Feb 17 20:31 dhclient.eth0.pid\n",
      "lrwxrwxrwx  1 root root   25 Feb 17 20:31 initctl -> /run/systemd/initctl/fifo\n",
      "drwxrwxrwt  3 root root   60 Feb 17 20:31 lock\n",
      "drwxr-xr-x  3 root root   60 Feb 17 20:31 log\n",
      "-rw-r--r--  1 root root  210 Feb 17 20:34 motd.dynamic\n",
      "drwxr-xr-x  2 root root   60 Feb 17 20:31 mount\n",
      "drwxr-xr-x  2 root root  120 Feb 17 20:31 network\n",
      "drwxr-xr-x  3 root root  100 Feb 17 20:31 resolvconf\n",
      "-rw-r--r--  1 root root    2 Feb 17 20:31 rsyslogd.pid\n",
      "drwxr-xr-x  2 root root   40 Feb 17 20:31 sendsigs.omit.d\n",
      "lrwxrwxrwx  1 root root    8 Feb 17 20:31 shm -> /dev/shm\n",
      "drwxr-xr-x  2 root root   40 Feb 17 20:31 sshd\n",
      "-rw-r--r--  1 root root    4 Feb 17 20:31 sshd.pid\n",
      "drwx--x--x  3 root root   60 Feb 17 20:31 sudo\n",
      "drwxr-xr-x 15 root root  380 Feb 17 20:31 systemd\n",
      "drwxr-xr-x  2 root root   40 Feb 17 20:31 user\n",
      "-rw-rw-r--  1 root utmp 2688 Feb 17 20:31 utmp\n"
     ]
    }
   ],
   "source": [
    "sudo ls -la /proc/17282/root/run"
   ]
  },
  {
   "cell_type": "markdown",
   "metadata": {},
   "source": [
    "## Freezing LXC Container"
   ]
  },
  {
   "cell_type": "code",
   "execution_count": 95,
   "metadata": {},
   "outputs": [
    {
     "name": "stdout",
     "output_type": "stream",
     "text": [
      "NAME             STATE   AUTOSTART GROUPS IPV4       IPV6 \n",
      "container_2_copy STOPPED 0         -      -          -    \n",
      "container_2_hard STOPPED 0         -      -          -    \n",
      "hooks_container  RUNNING 0         -      10.0.3.65  -    \n",
      "lvm_container    STOPPED 0         -      -          -    \n",
      "lvm_container_2  STOPPED 0         -      -          -    \n",
      "mount_container  RUNNING 0         -      10.0.3.166 -    \n"
     ]
    }
   ],
   "source": [
    "sudo lxc-ls -f"
   ]
  },
  {
   "cell_type": "code",
   "execution_count": 96,
   "metadata": {},
   "outputs": [
    {
     "name": "stdout",
     "output_type": "stream",
     "text": [
      "THAWED\n"
     ]
    }
   ],
   "source": [
    "cat /sys/fs/cgroup/freezer/lxc/mount_container/freezer.state"
   ]
  },
  {
   "cell_type": "code",
   "execution_count": 97,
   "metadata": {},
   "outputs": [],
   "source": [
    "sudo lxc-freeze -n mount_container"
   ]
  },
  {
   "cell_type": "code",
   "execution_count": 98,
   "metadata": {},
   "outputs": [
    {
     "name": "stdout",
     "output_type": "stream",
     "text": [
      "NAME             STATE   AUTOSTART GROUPS IPV4       IPV6 \n",
      "container_2_copy STOPPED 0         -      -          -    \n",
      "container_2_hard STOPPED 0         -      -          -    \n",
      "hooks_container  RUNNING 0         -      10.0.3.65  -    \n",
      "lvm_container    STOPPED 0         -      -          -    \n",
      "lvm_container_2  STOPPED 0         -      -          -    \n",
      "mount_container  FROZEN  0         -      10.0.3.166 -    \n"
     ]
    }
   ],
   "source": [
    "sudo lxc-ls -f"
   ]
  },
  {
   "cell_type": "code",
   "execution_count": 99,
   "metadata": {},
   "outputs": [
    {
     "name": "stdout",
     "output_type": "stream",
     "text": [
      "FROZEN\n"
     ]
    }
   ],
   "source": [
    "cat /sys/fs/cgroup/freezer/lxc/mount_container/freezer.state"
   ]
  },
  {
   "cell_type": "code",
   "execution_count": 102,
   "metadata": {},
   "outputs": [],
   "source": [
    "sudo lxc-unfreeze --name mount_container"
   ]
  },
  {
   "cell_type": "code",
   "execution_count": 103,
   "metadata": {},
   "outputs": [
    {
     "name": "stdout",
     "output_type": "stream",
     "text": [
      "NAME             STATE   AUTOSTART GROUPS IPV4       IPV6 \n",
      "container_2_copy STOPPED 0         -      -          -    \n",
      "container_2_hard STOPPED 0         -      -          -    \n",
      "hooks_container  RUNNING 0         -      10.0.3.65  -    \n",
      "lvm_container    STOPPED 0         -      -          -    \n",
      "lvm_container_2  STOPPED 0         -      -          -    \n",
      "mount_container  RUNNING 0         -      10.0.3.166 -    \n"
     ]
    }
   ],
   "source": [
    "sudo lxc-ls -f"
   ]
  },
  {
   "cell_type": "markdown",
   "metadata": {},
   "source": [
    "## Limit setzen"
   ]
  },
  {
   "cell_type": "code",
   "execution_count": 105,
   "metadata": {},
   "outputs": [],
   "source": [
    "sudo lxc-cgroup -n mount_container memory.limit_in_bytes 536870912"
   ]
  },
  {
   "cell_type": "code",
   "execution_count": 106,
   "metadata": {},
   "outputs": [
    {
     "name": "stdout",
     "output_type": "stream",
     "text": [
      "536870912\n"
     ]
    }
   ],
   "source": [
    "sudo cat /sys/fs/cgroup/memory/lxc/mount_container/memory.limit_in_bytes"
   ]
  },
  {
   "cell_type": "code",
   "execution_count": 107,
   "metadata": {},
   "outputs": [],
   "source": [
    "sudo lxc-cgroup -n mount_container memory.limit_in_bytes 268435456"
   ]
  },
  {
   "cell_type": "code",
   "execution_count": 108,
   "metadata": {},
   "outputs": [
    {
     "name": "stdout",
     "output_type": "stream",
     "text": [
      "268435456\n"
     ]
    }
   ],
   "source": [
    "sudo cat /sys/fs/cgroup/memory/lxc/mount_container/memory.limit_in_bytes"
   ]
  },
  {
   "cell_type": "code",
   "execution_count": 109,
   "metadata": {},
   "outputs": [
    {
     "name": "stdout",
     "output_type": "stream",
     "text": [
      "              gesamt       benutzt     frei      gemns.  Puffer/Cache verfügbar\n",
      "Speicher:         256           5         242          58           8         242\n",
      "Auslagerungsspeicher:        2047          36        2011\n"
     ]
    }
   ],
   "source": [
    "sshpass -p ubuntu ssh ubuntu@10.0.3.166 free -m"
   ]
  },
  {
   "cell_type": "code",
   "execution_count": 110,
   "metadata": {},
   "outputs": [
    {
     "name": "stdout",
     "output_type": "stream",
     "text": [
      "0-1\n"
     ]
    }
   ],
   "source": [
    "sudo cat /sys/fs/cgroup/cpuset/lxc/mount_container/cpuset.cpus"
   ]
  },
  {
   "cell_type": "code",
   "execution_count": 111,
   "metadata": {},
   "outputs": [
    {
     "name": "stdout",
     "output_type": "stream",
     "text": [
      "processor\t: 0\n",
      "processor\t: 1\n"
     ]
    }
   ],
   "source": [
    "cat /proc/cpuinfo | grep processor"
   ]
  },
  {
   "cell_type": "code",
   "execution_count": 112,
   "metadata": {},
   "outputs": [],
   "source": [
    "sudo lxc-cgroup -n mount_container cpuset.cpus 0"
   ]
  },
  {
   "cell_type": "code",
   "execution_count": 113,
   "metadata": {},
   "outputs": [
    {
     "name": "stdout",
     "output_type": "stream",
     "text": [
      "0\n"
     ]
    }
   ],
   "source": [
    "sudo cat /sys/fs/cgroup/cpuset/lxc/mount_container/cpuset.cpus"
   ]
  },
  {
   "cell_type": "code",
   "execution_count": 114,
   "metadata": {},
   "outputs": [
    {
     "name": "stdout",
     "output_type": "stream",
     "text": [
      "processor\t: 0\n"
     ]
    }
   ],
   "source": [
    "sshpass -p ubuntu ssh ubuntu@10.0.3.166 cat /proc/cpuinfo | grep processor"
   ]
  },
  {
   "cell_type": "markdown",
   "metadata": {},
   "source": [
    "## Libvirt"
   ]
  },
  {
   "cell_type": "code",
   "execution_count": 118,
   "metadata": {},
   "outputs": [
    {
     "name": "stdout",
     "output_type": "stream",
     "text": [
      "/usr/lib/libvirt/libvirt_lxc\n"
     ]
    }
   ],
   "source": [
    "ls /usr/lib/libvirt/libvirt_lxc"
   ]
  },
  {
   "cell_type": "code",
   "execution_count": 119,
   "metadata": {},
   "outputs": [
    {
     "name": "stdout",
     "output_type": "stream",
     "text": [
      "qemu:///system\n",
      "\n"
     ]
    }
   ],
   "source": [
    "sudo virsh uri"
   ]
  },
  {
   "cell_type": "code",
   "execution_count": 120,
   "metadata": {},
   "outputs": [],
   "source": [
    "export LIBVIRT_DEFAULT_URI=lxc:///"
   ]
  },
  {
   "cell_type": "code",
   "execution_count": 121,
   "metadata": {},
   "outputs": [
    {
     "name": "stdout",
     "output_type": "stream",
     "text": [
      "lxc:///\n",
      "\n"
     ]
    }
   ],
   "source": [
    "virsh uri"
   ]
  },
  {
   "cell_type": "code",
   "execution_count": 146,
   "metadata": {},
   "outputs": [
    {
     "name": "stdout",
     "output_type": "stream",
     "text": [
      " Id    Name                           Status\n",
      "----------------------------------------------------\n",
      " -     libvirt_container1             Ausgeschaltet\n",
      "\n"
     ]
    }
   ],
   "source": [
    "sudo virsh --connect lxc:/// list --all"
   ]
  },
  {
   "cell_type": "code",
   "execution_count": 127,
   "metadata": {
    "collapsed": true
   },
   "outputs": [
    {
     "name": "stdout",
     "output_type": "stream",
     "text": [
      "W: Cannot check Release signature; keyring file not available /usr/share/keyrings/debian-archive-keyring.gpg\n",
      "I: Retrieving InRelease \n",
      "I: Failed to retrieve InRelease\n",
      "I: Retrieving Release \n",
      "I: Retrieving Packages \n",
      "I: Validating Packages \n",
      "I: Resolving dependencies of required packages...\n",
      "I: Resolving dependencies of base packages...\n",
      "I: Found additional required dependencies: libaudit-common libaudit1 libbz2-1.0 libcap-ng0 libdb5.3 libdebconfclient0 libgcrypt20 libgpg-error0 liblz4-1 libncursesw5 libsemanage-common libsemanage1 libsystemd0 libudev1 libustr-1.0-1 \n",
      "I: Found additional base dependencies: dmsetup gnupg-agent libapparmor1 libassuan0 libbsd0 libcap2 libcryptsetup4 libdevmapper1.02.1 libdns-export162 libedit2 libelf1 libfastjson4 libffi6 libgmp10 libgnutls30 libgpm2 libgssapi-krb5-2 libhogweed4 libidn11 libidn2-0 libip4tc0 libip6tc0 libiptc0 libisc-export160 libk5crypto3 libkeyutils1 libkrb5-3 libkrb5support0 libksba8 liblocale-gettext-perl liblognorm5 libmnl0 libncurses5 libnetfilter-conntrack3 libnettle6 libnfnetlink0 libnpth0 libp11-kit0 libpsl5 libseccomp2 libsqlite3-0 libtasn1-6 libtext-charwidth-perl libtext-iconv-perl libtext-wrapi18n-perl libunistring0 libwrap0 libxtables12 openssh-client openssh-sftp-server pinentry-curses ucf vim-runtime xxd \n",
      "I: Checking component main on http://httpredir.debian.org/debian...\n",
      "I: Retrieving libacl1 2.2.52-3+b1\n",
      "I: Validating libacl1 2.2.52-3+b1\n",
      "I: Retrieving adduser 3.115\n",
      "I: Validating adduser 3.115\n",
      "I: Retrieving libapparmor1 2.11.0-3\n",
      "I: Validating libapparmor1 2.11.0-3\n",
      "I: Retrieving apt 1.4.8\n",
      "I: Validating apt 1.4.8\n",
      "I: Retrieving apt-utils 1.4.8\n",
      "I: Validating apt-utils 1.4.8\n",
      "I: Retrieving libapt-inst2.0 1.4.8\n",
      "I: Validating libapt-inst2.0 1.4.8\n",
      "I: Retrieving libapt-pkg5.0 1.4.8\n",
      "I: Validating libapt-pkg5.0 1.4.8\n",
      "I: Retrieving libattr1 1:2.4.47-2+b2\n",
      "I: Validating libattr1 1:2.4.47-2+b2\n",
      "I: Retrieving libaudit-common 1:2.6.7-2\n",
      "I: Validating libaudit-common 1:2.6.7-2\n",
      "I: Retrieving libaudit1 1:2.6.7-2\n",
      "I: Validating libaudit1 1:2.6.7-2\n",
      "I: Retrieving base-files 9.9+deb9u3\n",
      "I: Validating base-files 9.9+deb9u3\n",
      "I: Retrieving base-passwd 3.5.43\n",
      "I: Validating base-passwd 3.5.43\n",
      "I: Retrieving bash 4.4-5\n",
      "I: Validating bash 4.4-5\n",
      "I: Retrieving libdns-export162 1:9.10.3.dfsg.P4-12.3+deb9u3\n",
      "I: Validating libdns-export162 1:9.10.3.dfsg.P4-12.3+deb9u3\n",
      "I: Retrieving libisc-export160 1:9.10.3.dfsg.P4-12.3+deb9u3\n",
      "I: Validating libisc-export160 1:9.10.3.dfsg.P4-12.3+deb9u3\n",
      "I: Retrieving bsdmainutils 9.0.12+nmu1\n",
      "I: Validating bsdmainutils 9.0.12+nmu1\n",
      "I: Retrieving libbz2-1.0 1.0.6-8.1\n",
      "I: Validating libbz2-1.0 1.0.6-8.1\n",
      "I: Retrieving libdebconfclient0 0.227\n",
      "I: Validating libdebconfclient0 0.227\n",
      "I: Retrieving coreutils 8.26-3\n",
      "I: Validating coreutils 8.26-3\n",
      "I: Retrieving cpio 2.11+dfsg-6\n",
      "I: Validating cpio 2.11+dfsg-6\n",
      "I: Retrieving cron 3.0pl1-128+b1\n",
      "I: Validating cron 3.0pl1-128+b1\n",
      "I: Retrieving libcryptsetup4 2:1.7.3-4\n",
      "I: Validating libcryptsetup4 2:1.7.3-4\n",
      "I: Retrieving dash 0.5.8-2.4\n",
      "I: Validating dash 0.5.8-2.4\n",
      "I: Retrieving libdb5.3 5.3.28-12+deb9u1\n",
      "I: Validating libdb5.3 5.3.28-12+deb9u1\n",
      "I: Retrieving debconf 1.5.61\n",
      "I: Validating debconf 1.5.61\n",
      "I: Retrieving debconf-i18n 1.5.61\n",
      "I: Validating debconf-i18n 1.5.61\n",
      "I: Retrieving debian-archive-keyring 2017.5\n",
      "I: Validating debian-archive-keyring 2017.5\n",
      "I: Retrieving debianutils 4.8.1.1\n",
      "I: Validating debianutils 4.8.1.1\n",
      "I: Retrieving diffutils 1:3.5-3\n",
      "I: Validating diffutils 1:3.5-3\n",
      "I: Retrieving dmidecode 3.0-4\n",
      "I: Validating dmidecode 3.0-4\n",
      "I: Retrieving dpkg 1.18.24\n",
      "I: Validating dpkg 1.18.24\n",
      "I: Retrieving e2fslibs 1.43.4-2\n",
      "I: Validating e2fslibs 1.43.4-2\n",
      "I: Retrieving e2fsprogs 1.43.4-2\n",
      "I: Validating e2fsprogs 1.43.4-2\n",
      "I: Retrieving libcomerr2 1.43.4-2\n",
      "I: Validating libcomerr2 1.43.4-2\n",
      "I: Retrieving libss2 1.43.4-2\n",
      "I: Validating libss2 1.43.4-2\n",
      "I: Retrieving libelf1 0.168-1\n",
      "I: Validating libelf1 0.168-1\n",
      "I: Retrieving findutils 4.6.0+git+20161106-2\n",
      "I: Validating findutils 4.6.0+git+20161106-2\n",
      "I: Retrieving gcc-6-base 6.3.0-18\n",
      "I: Validating gcc-6-base 6.3.0-18\n",
      "I: Retrieving libgcc1 1:6.3.0-18\n",
      "I: Validating libgcc1 1:6.3.0-18\n",
      "I: Retrieving libstdc++6 6.3.0-18\n",
      "I: Validating libstdc++6 6.3.0-18\n",
      "I: Retrieving libgdbm3 1.8.3-14\n",
      "I: Validating libgdbm3 1.8.3-14\n",
      "I: Retrieving libc-bin 2.24-11+deb9u1\n",
      "I: Validating libc-bin 2.24-11+deb9u1\n",
      "I: Retrieving libc6 2.24-11+deb9u1\n",
      "I: Validating libc6 2.24-11+deb9u1\n",
      "I: Retrieving multiarch-support 2.24-11+deb9u1\n",
      "I: Validating multiarch-support 2.24-11+deb9u1\n",
      "I: Retrieving libgmp10 2:6.1.2+dfsg-1\n",
      "I: Validating libgmp10 2:6.1.2+dfsg-1\n",
      "I: Retrieving gnupg 2.1.18-8~deb9u1\n",
      "I: Validating gnupg 2.1.18-8~deb9u1\n",
      "I: Retrieving gnupg-agent 2.1.18-8~deb9u1\n",
      "I: Validating gnupg-agent 2.1.18-8~deb9u1\n",
      "I: Retrieving gpgv 2.1.18-8~deb9u1\n",
      "I: Validating gpgv 2.1.18-8~deb9u1\n",
      "I: Retrieving libgnutls30 3.5.8-5+deb9u3\n",
      "I: Validating libgnutls30 3.5.8-5+deb9u3\n",
      "I: Retrieving libgpm2 1.20.4-6.2+b1\n",
      "I: Validating libgpm2 1.20.4-6.2+b1\n",
      "I: Retrieving grep 2.27-2\n",
      "I: Validating grep 2.27-2\n",
      "I: Retrieving gzip 1.6-5+b1\n",
      "I: Validating gzip 1.6-5+b1\n",
      "I: Retrieving hostname 3.18+b1\n",
      "I: Validating hostname 3.18+b1\n",
      "I: Retrieving ifupdown 0.8.19\n",
      "I: Validating ifupdown 0.8.19\n",
      "I: Retrieving init 1.48\n",
      "I: Validating init 1.48\n",
      "I: Retrieving init-system-helpers 1.48\n",
      "I: Validating init-system-helpers 1.48\n",
      "I: Retrieving iproute2 4.9.0-1+deb9u1\n",
      "I: Validating iproute2 4.9.0-1+deb9u1\n",
      "I: Retrieving iptables 1.6.0+snapshot20161117-6\n",
      "I: Validating iptables 1.6.0+snapshot20161117-6\n",
      "I: Retrieving libip4tc0 1.6.0+snapshot20161117-6\n",
      "I: Validating libip4tc0 1.6.0+snapshot20161117-6\n",
      "I: Retrieving libip6tc0 1.6.0+snapshot20161117-6\n",
      "I: Validating libip6tc0 1.6.0+snapshot20161117-6\n",
      "I: Retrieving libiptc0 1.6.0+snapshot20161117-6\n",
      "I: Validating libiptc0 1.6.0+snapshot20161117-6\n",
      "I: Retrieving libxtables12 1.6.0+snapshot20161117-6\n",
      "I: Validating libxtables12 1.6.0+snapshot20161117-6\n",
      "I: Retrieving iputils-ping 3:20161105-1\n",
      "I: Validating iputils-ping 3:20161105-1\n",
      "I: Retrieving isc-dhcp-client 4.3.5-3\n",
      "I: Validating isc-dhcp-client 4.3.5-3\n",
      "I: Retrieving isc-dhcp-common 4.3.5-3\n",
      "I: Validating isc-dhcp-common 4.3.5-3\n",
      "I: Retrieving libkeyutils1 1.5.9-9\n",
      "I: Validating libkeyutils1 1.5.9-9\n",
      "I: Retrieving kmod 23-2\n",
      "I: Validating kmod 23-2\n",
      "I: Retrieving libkmod2 23-2\n",
      "I: Validating libkmod2 23-2\n",
      "I: Retrieving libgssapi-krb5-2 1.15-1+deb9u1\n",
      "I: Validating libgssapi-krb5-2 1.15-1+deb9u1\n",
      "I: Retrieving libk5crypto3 1.15-1+deb9u1\n",
      "I: Validating libk5crypto3 1.15-1+deb9u1\n",
      "I: Retrieving libkrb5-3 1.15-1+deb9u1\n",
      "I: Validating libkrb5-3 1.15-1+deb9u1\n",
      "I: Retrieving libkrb5support0 1.15-1+deb9u1\n",
      "I: Validating libkrb5support0 1.15-1+deb9u1\n",
      "I: Retrieving libassuan0 2.4.3-2\n",
      "I: Validating libassuan0 2.4.3-2\n",
      "I: Retrieving libbsd0 0.8.3-1\n",
      "I: Validating libbsd0 0.8.3-1\n",
      "I: Retrieving libcap-ng0 0.7.7-3+b1\n",
      "I: Validating libcap-ng0 0.7.7-3+b1\n",
      "I: Retrieving libcap2 1:2.25-1\n",
      "I: Validating libcap2 1:2.25-1\n",
      "I: Retrieving libedit2 3.1-20160903-3\n",
      "I: Validating libedit2 3.1-20160903-3\n",
      "I: Retrieving libestr0 0.1.10-2\n",
      "I: Validating libestr0 0.1.10-2\n",
      "I: Retrieving libfastjson4 0.99.4-1\n",
      "I: Validating libfastjson4 0.99.4-1\n",
      "I: Retrieving libffi6 3.2.1-6\n",
      "I: Validating libffi6 3.2.1-6\n",
      "I: Retrieving libgcrypt20 1.7.6-2+deb9u2\n",
      "I: Validating libgcrypt20 1.7.6-2+deb9u2\n",
      "I: Retrieving libgpg-error0 1.26-2\n",
      "I: Validating libgpg-error0 1.26-2\n",
      "I: Retrieving libidn11 1.33-1\n",
      "I: Validating libidn11 1.33-1\n",
      "I: Retrieving libidn2-0 0.16-1+deb9u1\n",
      "I: Validating libidn2-0 0.16-1+deb9u1\n",
      "I: Retrieving libksba8 1.3.5-2\n",
      "I: Validating libksba8 1.3.5-2\n",
      "I: Retrieving liblocale-gettext-perl 1.07-3+b1\n",
      "I: Validating liblocale-gettext-perl 1.07-3+b1\n",
      "I: Retrieving liblogging-stdlog0 1.0.5-2+b2\n",
      "I: Validating liblogging-stdlog0 1.0.5-2+b2\n",
      "I: Retrieving liblognorm5 2.0.1-1.1+b1\n",
      "I: Validating liblognorm5 2.0.1-1.1+b1\n",
      "I: Retrieving libmnl0 1.0.4-2\n",
      "I: Validating libmnl0 1.0.4-2\n",
      "I: Retrieving libnetfilter-conntrack3 1.0.6-2\n",
      "I: Validating libnetfilter-conntrack3 1.0.6-2\n",
      "I: Retrieving libnfnetlink0 1.0.1-3\n",
      "I: Validating libnfnetlink0 1.0.1-3\n",
      "I: Retrieving libpipeline1 1.4.1-2\n",
      "I: Validating libpipeline1 1.4.1-2\n",
      "I: Retrieving libpsl5 0.17.0-3\n",
      "I: Validating libpsl5 0.17.0-3\n",
      "I: Retrieving libseccomp2 2.3.1-2.1\n",
      "I: Validating libseccomp2 2.3.1-2.1\n",
      "I: Retrieving libselinux1 2.6-3+b3\n",
      "I: Validating libselinux1 2.6-3+b3\n"
     ]
    },
    {
     "name": "stdout",
     "output_type": "stream",
     "text": [
      "I: Retrieving libsemanage-common 2.6-2\n",
      "I: Validating libsemanage-common 2.6-2\n",
      "I: Retrieving libsemanage1 2.6-2\n",
      "I: Validating libsemanage1 2.6-2\n",
      "I: Retrieving libsepol1 2.6-2\n",
      "I: Validating libsepol1 2.6-2\n",
      "I: Retrieving libtasn1-6 4.10-1.1\n",
      "I: Validating libtasn1-6 4.10-1.1\n",
      "I: Retrieving libtext-charwidth-perl 0.04-7+b5\n",
      "I: Validating libtext-charwidth-perl 0.04-7+b5\n",
      "I: Retrieving libtext-iconv-perl 1.7-5+b4\n",
      "I: Validating libtext-iconv-perl 1.7-5+b4\n",
      "I: Retrieving libtext-wrapi18n-perl 0.06-7.1\n",
      "I: Validating libtext-wrapi18n-perl 0.06-7.1\n",
      "I: Retrieving libunistring0 0.9.6+really0.9.3-0.1\n",
      "I: Validating libunistring0 0.9.6+really0.9.3-0.1\n",
      "I: Retrieving logrotate 3.11.0-0.1\n",
      "I: Validating logrotate 3.11.0-0.1\n",
      "I: Retrieving lsb-base 9.20161125\n",
      "I: Validating lsb-base 9.20161125\n",
      "I: Retrieving dmsetup 2:1.02.137-2\n",
      "I: Validating dmsetup 2:1.02.137-2\n",
      "I: Retrieving libdevmapper1.02.1 2:1.02.137-2\n",
      "I: Validating libdevmapper1.02.1 2:1.02.137-2\n",
      "I: Retrieving liblz4-1 0.0~r131-2+b1\n",
      "I: Validating liblz4-1 0.0~r131-2+b1\n",
      "I: Retrieving mawk 1.3.3-17+b3\n",
      "I: Validating mawk 1.3.3-17+b3\n",
      "I: Retrieving nano 2.7.4-1\n",
      "I: Validating nano 2.7.4-1\n",
      "I: Retrieving libncurses5 6.0+20161126-1+deb9u1\n",
      "I: Validating libncurses5 6.0+20161126-1+deb9u1\n",
      "I: Retrieving libncursesw5 6.0+20161126-1+deb9u1\n",
      "I: Validating libncursesw5 6.0+20161126-1+deb9u1\n",
      "I: Retrieving libtinfo5 6.0+20161126-1+deb9u1\n",
      "I: Validating libtinfo5 6.0+20161126-1+deb9u1\n",
      "I: Retrieving ncurses-base 6.0+20161126-1+deb9u1\n",
      "I: Validating ncurses-base 6.0+20161126-1+deb9u1\n",
      "I: Retrieving ncurses-bin 6.0+20161126-1+deb9u1\n",
      "I: Validating ncurses-bin 6.0+20161126-1+deb9u1\n",
      "I: Retrieving netbase 5.4\n",
      "I: Validating netbase 5.4\n",
      "I: Retrieving libhogweed4 3.3-1+b2\n",
      "I: Validating libhogweed4 3.3-1+b2\n",
      "I: Retrieving libnettle6 3.3-1+b2\n",
      "I: Validating libnettle6 3.3-1+b2\n",
      "I: Retrieving libnewt0.52 0.52.19-1+b1\n",
      "I: Validating libnewt0.52 0.52.19-1+b1\n",
      "I: Retrieving whiptail 0.52.19-1+b1\n",
      "I: Validating whiptail 0.52.19-1+b1\n",
      "I: Retrieving libnpth0 1.3-1\n",
      "I: Validating libnpth0 1.3-1\n",
      "I: Retrieving openssh-client 1:7.4p1-10+deb9u2\n",
      "I: Validating openssh-client 1:7.4p1-10+deb9u2\n",
      "I: Retrieving openssh-server 1:7.4p1-10+deb9u2\n",
      "I: Validating openssh-server 1:7.4p1-10+deb9u2\n",
      "I: Retrieving openssh-sftp-server 1:7.4p1-10+deb9u2\n",
      "I: Validating openssh-sftp-server 1:7.4p1-10+deb9u2\n",
      "I: Retrieving libssl1.1 1.1.0f-3+deb9u1\n",
      "I: Validating libssl1.1 1.1.0f-3+deb9u1\n",
      "I: Retrieving libssl1.0.2 1.0.2l-2+deb9u1\n",
      "I: Validating libssl1.0.2 1.0.2l-2+deb9u1\n",
      "I: Retrieving libp11-kit0 0.23.3-2\n",
      "I: Validating libp11-kit0 0.23.3-2\n",
      "I: Retrieving libpam-modules 1.1.8-3.6\n",
      "I: Validating libpam-modules 1.1.8-3.6\n",
      "I: Retrieving libpam-modules-bin 1.1.8-3.6\n",
      "I: Validating libpam-modules-bin 1.1.8-3.6\n",
      "I: Retrieving libpam-runtime 1.1.8-3.6\n",
      "I: Validating libpam-runtime 1.1.8-3.6\n",
      "I: Retrieving libpam0g 1.1.8-3.6\n",
      "I: Validating libpam0g 1.1.8-3.6\n",
      "I: Retrieving libpcre3 2:8.39-3\n",
      "I: Validating libpcre3 2:8.39-3\n",
      "I: Retrieving perl-base 5.24.1-3+deb9u2\n",
      "I: Validating perl-base 5.24.1-3+deb9u2\n",
      "I: Retrieving pinentry-curses 1.0.0-2\n",
      "I: Validating pinentry-curses 1.0.0-2\n",
      "I: Retrieving libpopt0 1.16-10+b2\n",
      "I: Validating libpopt0 1.16-10+b2\n",
      "I: Retrieving libprocps6 2:3.3.12-3\n",
      "I: Validating libprocps6 2:3.3.12-3\n",
      "I: Retrieving procps 2:3.3.12-3\n",
      "I: Validating procps 2:3.3.12-3\n",
      "I: Retrieving libreadline7 7.0-3\n",
      "I: Validating libreadline7 7.0-3\n",
      "I: Retrieving readline-common 7.0-3\n",
      "I: Validating readline-common 7.0-3\n",
      "I: Retrieving rsyslog 8.24.0-1\n",
      "I: Validating rsyslog 8.24.0-1\n",
      "I: Retrieving sed 4.4-1\n",
      "I: Validating sed 4.4-1\n",
      "I: Retrieving sensible-utils 0.0.9\n",
      "I: Validating sensible-utils 0.0.9\n",
      "I: Retrieving login 1:4.4-4.1\n",
      "I: Validating login 1:4.4-4.1\n",
      "I: Retrieving passwd 1:4.4-4.1\n",
      "I: Validating passwd 1:4.4-4.1\n",
      "I: Retrieving libslang2 2.3.1-5\n",
      "I: Validating libslang2 2.3.1-5\n",
      "I: Retrieving libsqlite3-0 3.16.2-5+deb9u1\n",
      "I: Validating libsqlite3-0 3.16.2-5+deb9u1\n",
      "I: Retrieving libsystemd0 232-25+deb9u1\n",
      "I: Validating libsystemd0 232-25+deb9u1\n",
      "I: Retrieving libudev1 232-25+deb9u1\n",
      "I: Validating libudev1 232-25+deb9u1\n",
      "I: Retrieving systemd 232-25+deb9u1\n",
      "I: Validating systemd 232-25+deb9u1\n",
      "I: Retrieving systemd-sysv 232-25+deb9u1\n",
      "I: Validating systemd-sysv 232-25+deb9u1\n",
      "I: Retrieving udev 232-25+deb9u1\n",
      "I: Validating udev 232-25+deb9u1\n",
      "I: Retrieving sysvinit-utils 2.88dsf-59.9\n",
      "I: Validating sysvinit-utils 2.88dsf-59.9\n",
      "I: Retrieving tar 1.29b-1.1\n",
      "I: Validating tar 1.29b-1.1\n",
      "I: Retrieving tasksel 3.39\n",
      "I: Validating tasksel 3.39\n",
      "I: Retrieving tasksel-data 3.39\n",
      "I: Validating tasksel-data 3.39\n",
      "I: Retrieving libwrap0 7.6.q-26\n",
      "I: Validating libwrap0 7.6.q-26\n",
      "I: Retrieving tzdata 2017c-0+deb9u1\n",
      "I: Validating tzdata 2017c-0+deb9u1\n",
      "I: Retrieving ucf 3.0036\n",
      "I: Validating ucf 3.0036\n",
      "I: Retrieving libustr-1.0-1 1.0.4-6\n",
      "I: Validating libustr-1.0-1 1.0.4-6\n",
      "I: Retrieving bsdutils 1:2.29.2-1\n",
      "I: Validating bsdutils 1:2.29.2-1\n",
      "I: Retrieving libblkid1 2.29.2-1\n",
      "I: Validating libblkid1 2.29.2-1\n",
      "I: Retrieving libfdisk1 2.29.2-1\n",
      "I: Validating libfdisk1 2.29.2-1\n",
      "I: Retrieving libmount1 2.29.2-1\n",
      "I: Validating libmount1 2.29.2-1\n",
      "I: Retrieving libsmartcols1 2.29.2-1\n",
      "I: Validating libsmartcols1 2.29.2-1\n",
      "I: Retrieving libuuid1 2.29.2-1\n",
      "I: Validating libuuid1 2.29.2-1\n",
      "I: Retrieving mount 2.29.2-1\n",
      "I: Validating mount 2.29.2-1\n",
      "I: Retrieving util-linux 2.29.2-1\n",
      "I: Validating util-linux 2.29.2-1\n",
      "I: Retrieving vim 2:8.0.0197-4+deb9u1\n",
      "I: Validating vim 2:8.0.0197-4+deb9u1\n",
      "I: Retrieving vim-common 2:8.0.0197-4+deb9u1\n",
      "I: Validating vim-common 2:8.0.0197-4+deb9u1\n",
      "I: Retrieving vim-runtime 2:8.0.0197-4+deb9u1\n",
      "I: Validating vim-runtime 2:8.0.0197-4+deb9u1\n",
      "I: Retrieving vim-tiny 2:8.0.0197-4+deb9u1\n",
      "I: Validating vim-tiny 2:8.0.0197-4+deb9u1\n",
      "I: Retrieving xxd 2:8.0.0197-4+deb9u1\n",
      "I: Validating xxd 2:8.0.0197-4+deb9u1\n",
      "I: Retrieving wget 1.18-5+deb9u1\n",
      "I: Validating wget 1.18-5+deb9u1\n",
      "I: Retrieving libxapian30 1.4.3-2\n",
      "I: Validating libxapian30 1.4.3-2\n",
      "I: Retrieving liblzma5 5.2.2-1.2+b1\n",
      "I: Validating liblzma5 5.2.2-1.2+b1\n",
      "I: Retrieving zlib1g 1:1.2.8.dfsg-5\n",
      "I: Validating zlib1g 1:1.2.8.dfsg-5\n",
      "I: Chosen extractor for .deb packages: dpkg-deb\n",
      "I: Extracting libacl1...\n",
      "I: Extracting libattr1...\n",
      "I: Extracting libaudit-common...\n",
      "I: Extracting libaudit1...\n",
      "I: Extracting base-files...\n",
      "I: Extracting base-passwd...\n",
      "I: Extracting bash...\n",
      "I: Extracting libbz2-1.0...\n",
      "I: Extracting libdebconfclient0...\n",
      "I: Extracting coreutils...\n",
      "I: Extracting dash...\n",
      "I: Extracting libdb5.3...\n",
      "I: Extracting debconf...\n",
      "I: Extracting debianutils...\n",
      "I: Extracting diffutils...\n",
      "I: Extracting dpkg...\n",
      "I: Extracting e2fslibs...\n",
      "I: Extracting e2fsprogs...\n",
      "I: Extracting libcomerr2...\n",
      "I: Extracting libss2...\n",
      "I: Extracting findutils...\n",
      "I: Extracting gcc-6-base...\n",
      "I: Extracting libgcc1...\n",
      "I: Extracting libc-bin...\n",
      "I: Extracting libc6...\n",
      "I: Extracting multiarch-support...\n",
      "I: Extracting grep...\n",
      "I: Extracting gzip...\n",
      "I: Extracting hostname...\n",
      "I: Extracting init-system-helpers...\n",
      "I: Extracting libcap-ng0...\n",
      "I: Extracting libgcrypt20...\n",
      "I: Extracting libgpg-error0...\n",
      "I: Extracting libselinux1...\n",
      "I: Extracting libsemanage-common...\n",
      "I: Extracting libsemanage1...\n",
      "I: Extracting libsepol1...\n",
      "I: Extracting lsb-base...\n",
      "I: Extracting liblz4-1...\n",
      "I: Extracting mawk...\n",
      "I: Extracting libncursesw5...\n",
      "I: Extracting libtinfo5...\n",
      "I: Extracting ncurses-base...\n",
      "I: Extracting ncurses-bin...\n",
      "I: Extracting libpam-modules...\n",
      "I: Extracting libpam-modules-bin...\n",
      "I: Extracting libpam-runtime...\n",
      "I: Extracting libpam0g...\n",
      "I: Extracting libpcre3...\n",
      "I: Extracting perl-base...\n",
      "I: Extracting sed...\n",
      "I: Extracting sensible-utils...\n",
      "I: Extracting login...\n",
      "I: Extracting passwd...\n",
      "I: Extracting libsystemd0...\n",
      "I: Extracting libudev1...\n",
      "I: Extracting sysvinit-utils...\n",
      "I: Extracting tar...\n",
      "I: Extracting tzdata...\n",
      "I: Extracting libustr-1.0-1...\n",
      "I: Extracting bsdutils...\n",
      "I: Extracting libblkid1...\n",
      "I: Extracting libfdisk1...\n",
      "I: Extracting libmount1...\n",
      "I: Extracting libsmartcols1...\n",
      "I: Extracting libuuid1...\n",
      "I: Extracting mount...\n",
      "I: Extracting util-linux...\n",
      "I: Extracting liblzma5...\n",
      "I: Extracting zlib1g...\n",
      "I: Installing core packages...\n",
      "I: Unpacking required packages...\n",
      "I: Unpacking libacl1:amd64...\n",
      "I: Unpacking libattr1:amd64...\n",
      "I: Unpacking libaudit-common...\n",
      "I: Unpacking libaudit1:amd64...\n",
      "I: Unpacking base-files...\n",
      "I: Unpacking base-passwd...\n",
      "I: Unpacking bash...\n"
     ]
    },
    {
     "name": "stdout",
     "output_type": "stream",
     "text": [
      "I: Unpacking libbz2-1.0:amd64...\n",
      "I: Unpacking libdebconfclient0:amd64...\n",
      "I: Unpacking coreutils...\n",
      "I: Unpacking dash...\n",
      "I: Unpacking libdb5.3:amd64...\n",
      "I: Unpacking debconf...\n",
      "I: Unpacking debianutils...\n",
      "I: Unpacking diffutils...\n",
      "I: Unpacking dpkg...\n",
      "I: Unpacking e2fslibs:amd64...\n",
      "I: Unpacking e2fsprogs...\n",
      "I: Unpacking libcomerr2:amd64...\n",
      "I: Unpacking libss2:amd64...\n",
      "I: Unpacking findutils...\n",
      "I: Unpacking gcc-6-base:amd64...\n",
      "I: Unpacking libgcc1:amd64...\n",
      "I: Unpacking libc-bin...\n",
      "I: Unpacking libc6:amd64...\n",
      "I: Unpacking multiarch-support...\n",
      "I: Unpacking grep...\n",
      "I: Unpacking gzip...\n",
      "I: Unpacking hostname...\n",
      "I: Unpacking init-system-helpers...\n",
      "I: Unpacking libcap-ng0:amd64...\n",
      "I: Unpacking libgcrypt20:amd64...\n",
      "I: Unpacking libgpg-error0:amd64...\n",
      "I: Unpacking libselinux1:amd64...\n",
      "I: Unpacking libsemanage-common...\n",
      "I: Unpacking libsemanage1:amd64...\n",
      "I: Unpacking libsepol1:amd64...\n",
      "I: Unpacking lsb-base...\n",
      "I: Unpacking liblz4-1:amd64...\n",
      "I: Unpacking mawk...\n",
      "I: Unpacking libncursesw5:amd64...\n",
      "I: Unpacking libtinfo5:amd64...\n",
      "I: Unpacking ncurses-base...\n",
      "I: Unpacking ncurses-bin...\n",
      "I: Unpacking libpam-modules:amd64...\n",
      "I: Unpacking libpam-modules-bin...\n",
      "I: Unpacking libpam-runtime...\n",
      "I: Unpacking libpam0g:amd64...\n",
      "I: Unpacking libpcre3:amd64...\n",
      "I: Unpacking perl-base...\n",
      "I: Unpacking sed...\n",
      "I: Unpacking sensible-utils...\n",
      "I: Unpacking login...\n",
      "I: Unpacking passwd...\n",
      "I: Unpacking libsystemd0:amd64...\n",
      "I: Unpacking libudev1:amd64...\n",
      "I: Unpacking sysvinit-utils...\n",
      "I: Unpacking tar...\n",
      "I: Unpacking tzdata...\n",
      "I: Unpacking libustr-1.0-1:amd64...\n",
      "I: Unpacking bsdutils...\n",
      "I: Unpacking libblkid1:amd64...\n",
      "I: Unpacking libfdisk1:amd64...\n",
      "I: Unpacking libmount1:amd64...\n",
      "I: Unpacking libsmartcols1:amd64...\n",
      "I: Unpacking libuuid1:amd64...\n",
      "I: Unpacking mount...\n",
      "I: Unpacking util-linux...\n",
      "I: Unpacking liblzma5:amd64...\n",
      "I: Unpacking zlib1g:amd64...\n",
      "I: Configuring required packages...\n",
      "I: Configuring gcc-6-base:amd64...\n",
      "I: Configuring lsb-base...\n",
      "I: Configuring sensible-utils...\n",
      "I: Configuring ncurses-base...\n",
      "I: Configuring libsemanage-common...\n",
      "I: Configuring libaudit-common...\n",
      "I: Configuring libc6:amd64...\n",
      "I: Configuring libbz2-1.0:amd64...\n",
      "I: Configuring libgpg-error0:amd64...\n",
      "I: Configuring libc-bin...\n",
      "I: Configuring libdebconfclient0:amd64...\n",
      "I: Configuring diffutils...\n",
      "I: Configuring libcomerr2:amd64...\n",
      "I: Configuring libcap-ng0:amd64...\n",
      "I: Configuring libsepol1:amd64...\n",
      "I: Configuring libgcc1:amd64...\n",
      "I: Configuring libustr-1.0-1:amd64...\n",
      "I: Configuring libsmartcols1:amd64...\n",
      "I: Configuring libaudit1:amd64...\n",
      "I: Configuring libtinfo5:amd64...\n",
      "I: Configuring libudev1:amd64...\n",
      "I: Configuring libattr1:amd64...\n",
      "I: Configuring libss2:amd64...\n",
      "I: Configuring liblzma5:amd64...\n",
      "I: Configuring base-passwd...\n",
      "I: Configuring e2fslibs:amd64...\n",
      "I: Configuring liblz4-1:amd64...\n",
      "I: Configuring debianutils...\n",
      "I: Configuring libgcrypt20:amd64...\n",
      "I: Configuring libncursesw5:amd64...\n",
      "I: Configuring libdb5.3:amd64...\n",
      "I: Configuring zlib1g:amd64...\n",
      "I: Configuring hostname...\n",
      "I: Configuring multiarch-support...\n",
      "I: Configuring mawk...\n",
      "I: Configuring libpcre3:amd64...\n",
      "I: Configuring base-files...\n",
      "I: Configuring libselinux1:amd64...\n",
      "I: Configuring findutils...\n",
      "I: Configuring libacl1:amd64...\n",
      "I: Configuring ncurses-bin...\n",
      "I: Configuring sed...\n",
      "I: Configuring libsystemd0:amd64...\n",
      "I: Configuring coreutils...\n",
      "I: Configuring tar...\n",
      "I: Configuring libsemanage1:amd64...\n",
      "I: Configuring dpkg...\n",
      "I: Configuring perl-base...\n",
      "I: Configuring grep...\n",
      "I: Configuring debconf...\n",
      "I: Configuring tzdata...\n",
      "I: Configuring gzip...\n",
      "I: Configuring bsdutils...\n",
      "I: Configuring dash...\n",
      "I: Configuring init-system-helpers...\n",
      "I: Configuring libpam0g:amd64...\n",
      "I: Configuring libpam-modules-bin...\n",
      "I: Configuring bash...\n",
      "I: Configuring libpam-modules:amd64...\n",
      "I: Configuring libpam-runtime...\n",
      "I: Configuring passwd...\n",
      "I: Configuring login...\n",
      "I: Configuring libuuid1:amd64...\n",
      "I: Configuring libblkid1:amd64...\n",
      "I: Configuring libmount1:amd64...\n",
      "I: Configuring mount...\n",
      "I: Configuring libfdisk1:amd64...\n",
      "I: Configuring util-linux...\n",
      "I: Configuring e2fsprogs...\n",
      "I: Configuring sysvinit-utils...\n",
      "I: Configuring libc-bin...\n",
      "I: Unpacking the base system...\n",
      "I: Unpacking apt...\n",
      "I: Unpacking apt-utils...\n",
      "I: Unpacking libapt-inst2.0:amd64...\n",
      "I: Unpacking libapt-pkg5.0:amd64...\n",
      "I: Unpacking libdns-export162...\n",
      "I: Unpacking libisc-export160...\n",
      "I: Unpacking bsdmainutils...\n",
      "I: Unpacking cpio...\n",
      "I: Unpacking cron...\n",
      "I: Unpacking debconf-i18n...\n",
      "I: Unpacking debian-archive-keyring...\n",
      "I: Unpacking dmidecode...\n",
      "I: Unpacking libelf1:amd64...\n",
      "I: Unpacking libstdc++6:amd64...\n",
      "I: Unpacking libgdbm3:amd64...\n",
      "I: Unpacking libgmp10:amd64...\n",
      "I: Unpacking gnupg...\n",
      "I: Unpacking gnupg-agent...\n",
      "I: Unpacking gpgv...\n",
      "I: Unpacking libgnutls30:amd64...\n",
      "I: Unpacking libgpm2:amd64...\n",
      "I: Unpacking ifupdown...\n",
      "I: Unpacking init...\n",
      "I: Unpacking iproute2...\n",
      "I: Unpacking iptables...\n",
      "I: Unpacking libip6tc0:amd64...\n",
      "I: Unpacking libiptc0:amd64...\n",
      "I: Unpacking libxtables12:amd64...\n",
      "I: Unpacking iputils-ping...\n",
      "I: Unpacking isc-dhcp-client...\n",
      "I: Unpacking isc-dhcp-common...\n",
      "I: Unpacking libkeyutils1:amd64...\n",
      "I: Unpacking kmod...\n",
      "I: Unpacking libgssapi-krb5-2:amd64...\n",
      "I: Unpacking libk5crypto3:amd64...\n",
      "I: Unpacking libkrb5-3:amd64...\n",
      "I: Unpacking libkrb5support0:amd64...\n",
      "I: Unpacking libassuan0:amd64...\n",
      "I: Unpacking libbsd0:amd64...\n",
      "I: Unpacking libedit2:amd64...\n",
      "I: Unpacking libestr0...\n",
      "I: Unpacking libfastjson4:amd64...\n",
      "I: Unpacking libffi6:amd64...\n",
      "I: Unpacking libidn2-0:amd64...\n",
      "I: Unpacking libksba8:amd64...\n",
      "I: Unpacking liblocale-gettext-perl...\n",
      "I: Unpacking liblogging-stdlog0:amd64...\n",
      "I: Unpacking liblognorm5:amd64...\n",
      "I: Unpacking libmnl0:amd64...\n",
      "I: Unpacking libnetfilter-conntrack3:amd64...\n",
      "I: Unpacking libnfnetlink0:amd64...\n",
      "I: Unpacking libpipeline1:amd64...\n",
      "I: Unpacking libpsl5:amd64...\n",
      "I: Unpacking libtasn1-6:amd64...\n",
      "I: Unpacking libtext-charwidth-perl...\n",
      "I: Unpacking libtext-iconv-perl...\n",
      "I: Unpacking libtext-wrapi18n-perl...\n",
      "I: Unpacking libunistring0:amd64...\n",
      "I: Unpacking logrotate...\n",
      "I: Unpacking nano...\n",
      "I: Unpacking netbase...\n",
      "I: Unpacking libhogweed4:amd64...\n",
      "I: Unpacking libnettle6:amd64...\n",
      "I: Unpacking libnewt0.52:amd64...\n",
      "I: Unpacking whiptail...\n",
      "I: Unpacking libnpth0:amd64...\n",
      "I: Unpacking openssh-client...\n",
      "I: Unpacking openssh-server...\n",
      "I: Unpacking openssh-sftp-server...\n",
      "I: Unpacking libssl1.1:amd64...\n",
      "I: Unpacking libssl1.0.2:amd64...\n",
      "I: Unpacking libp11-kit0:amd64...\n",
      "I: Unpacking pinentry-curses...\n",
      "I: Unpacking libpopt0:amd64...\n",
      "I: Unpacking libreadline7:amd64...\n",
      "I: Unpacking readline-common...\n",
      "I: Unpacking rsyslog...\n",
      "I: Unpacking libslang2:amd64...\n",
      "I: Unpacking libsqlite3-0:amd64...\n",
      "I: Unpacking udev...\n",
      "I: Unpacking tasksel...\n",
      "I: Unpacking tasksel-data...\n",
      "I: Unpacking libwrap0:amd64...\n",
      "I: Unpacking ucf...\n",
      "I: Unpacking vim...\n",
      "I: Unpacking vim-common...\n",
      "I: Unpacking vim-runtime...\n",
      "I: Unpacking vim-tiny...\n",
      "I: Unpacking xxd...\n",
      "I: Unpacking wget...\n",
      "I: Unpacking libxapian30:amd64...\n",
      "I: Configuring the base system...\n",
      "I: Configuring libnpth0:amd64...\n",
      "I: Configuring readline-common...\n",
      "I: Configuring libgdbm3:amd64...\n",
      "I: Configuring libnettle6:amd64...\n",
      "I: Configuring cpio...\n",
      "I: Configuring libpopt0:amd64...\n",
      "I: Configuring kmod...\n",
      "I: Configuring libestr0...\n",
      "I: Configuring libisc-export160...\n",
      "I: Configuring xxd...\n",
      "I: Configuring libfastjson4:amd64...\n",
      "I: Configuring isc-dhcp-common...\n",
      "I: Configuring dmidecode...\n",
      "I: Configuring libgpm2:amd64...\n",
      "I: Configuring libreadline7:amd64...\n",
      "I: Configuring init...\n",
      "I: Configuring libelf1:amd64...\n",
      "I: Configuring gpgv...\n",
      "I: Configuring liblogging-stdlog0:amd64...\n",
      "I: Configuring libpipeline1:amd64...\n",
      "I: Configuring libksba8:amd64...\n",
      "I: Configuring libbsd0:amd64...\n",
      "I: Configuring ucf...\n",
      "I: Configuring liblognorm5:amd64...\n",
      "I: Configuring libtasn1-6:amd64...\n",
      "I: Configuring libssl1.0.2:amd64...\n",
      "I: Configuring nano...\n",
      "I: Configuring libgmp10:amd64...\n",
      "I: Configuring libxtables12:amd64...\n",
      "I: Configuring udev...\n",
      "I: Configuring libunistring0:amd64...\n",
      "I: Configuring libssl1.1:amd64...\n",
      "I: Configuring debian-archive-keyring...\n",
      "I: Configuring libtext-iconv-perl...\n",
      "I: Configuring vim-common...\n",
      "I: Configuring libsqlite3-0:amd64...\n",
      "I: Configuring liblocale-gettext-perl...\n",
      "I: Configuring libnfnetlink0:amd64...\n",
      "I: Configuring vim-runtime...\n",
      "I: Configuring libstdc++6:amd64...\n"
     ]
    },
    {
     "name": "stdout",
     "output_type": "stream",
     "text": [
      "I: Configuring libffi6:amd64...\n",
      "I: Configuring libtext-charwidth-perl...\n",
      "I: Configuring libkeyutils1:amd64...\n",
      "I: Configuring bsdmainutils...\n",
      "I: Configuring libslang2:amd64...\n",
      "I: Configuring cron...\n",
      "I: Configuring libmnl0:amd64...\n",
      "I: Configuring libassuan0:amd64...\n",
      "I: Configuring logrotate...\n",
      "I: Configuring rsyslog...\n",
      "I: Configuring libip6tc0:amd64...\n",
      "I: Configuring libwrap0:amd64...\n",
      "I: Configuring netbase...\n",
      "I: Configuring iputils-ping...\n",
      "I: Configuring libedit2:amd64...\n",
      "I: Configuring vim-tiny...\n",
      "I: Configuring libapt-pkg5.0:amd64...\n",
      "I: Configuring libapt-inst2.0:amd64...\n",
      "I: Configuring libxapian30:amd64...\n",
      "I: Configuring libidn2-0:amd64...\n",
      "I: Configuring libnetfilter-conntrack3:amd64...\n",
      "I: Configuring vim...\n",
      "I: Configuring libpsl5:amd64...\n",
      "I: Configuring libdns-export162...\n",
      "I: Configuring libiptc0:amd64...\n",
      "I: Configuring iproute2...\n",
      "I: Configuring libkrb5support0:amd64...\n",
      "I: Configuring isc-dhcp-client...\n",
      "I: Configuring libhogweed4:amd64...\n",
      "I: Configuring iptables...\n",
      "I: Configuring libtext-wrapi18n-perl...\n",
      "I: Configuring libp11-kit0:amd64...\n",
      "I: Configuring apt...\n",
      "I: Configuring pinentry-curses...\n",
      "I: Configuring libnewt0.52:amd64...\n",
      "I: Configuring gnupg-agent...\n",
      "I: Configuring libk5crypto3:amd64...\n",
      "I: Configuring ifupdown...\n",
      "I: Configuring apt-utils...\n",
      "I: Configuring debconf-i18n...\n",
      "I: Configuring whiptail...\n",
      "I: Configuring gnupg...\n",
      "I: Configuring libgnutls30:amd64...\n",
      "I: Configuring wget...\n",
      "I: Configuring libkrb5-3:amd64...\n",
      "I: Configuring libgssapi-krb5-2:amd64...\n",
      "I: Configuring openssh-client...\n",
      "I: Configuring openssh-sftp-server...\n",
      "I: Configuring openssh-server...\n",
      "I: Configuring tasksel...\n",
      "I: Configuring tasksel-data...\n",
      "I: Configuring libc-bin...\n",
      "I: Configuring systemd...\n",
      "I: Base system installed successfully.\n"
     ]
    }
   ],
   "source": [
    "sudo debootstrap --arch=amd64 --include=\"openssh-server vim\" stable /root/container http://httpredir.debian.org/debian/"
   ]
  },
  {
   "cell_type": "code",
   "execution_count": 145,
   "metadata": {},
   "outputs": [
    {
     "name": "stdout",
     "output_type": "stream",
     "text": [
      "Domain libvirt_container1 von libvirt_container1.xml definiert\n",
      "\n"
     ]
    }
   ],
   "source": [
    "sudo -H virsh --connect lxc:/// define libvirt_container1.xml"
   ]
  },
  {
   "cell_type": "code",
   "execution_count": 146,
   "metadata": {},
   "outputs": [
    {
     "name": "stdout",
     "output_type": "stream",
     "text": [
      " Id    Name                           Status\n",
      "----------------------------------------------------\n",
      " -     libvirt_container1             Ausgeschaltet\n",
      "\n"
     ]
    }
   ],
   "source": [
    "sudo virsh --connect lxc:/// list --all"
   ]
  },
  {
   "cell_type": "code",
   "execution_count": 148,
   "metadata": {},
   "outputs": [
    {
     "name": "stdout",
     "output_type": "stream",
     "text": [
      "Domain libvirt_container1 gestartet\n",
      "\n"
     ]
    }
   ],
   "source": [
    "sudo  virsh --connect lxc:/// start libvirt_container1 "
   ]
  },
  {
   "cell_type": "code",
   "execution_count": 149,
   "metadata": {},
   "outputs": [
    {
     "name": "stdout",
     "output_type": "stream",
     "text": [
      " Id    Name                           Status\n",
      "----------------------------------------------------\n",
      " 29647 libvirt_container1             laufend\n",
      "\n"
     ]
    }
   ],
   "source": [
    "sudo virsh --connect lxc:/// list --all"
   ]
  },
  {
   "cell_type": "code",
   "execution_count": null,
   "metadata": {},
   "outputs": [],
   "source": []
  },
  {
   "cell_type": "code",
   "execution_count": null,
   "metadata": {},
   "outputs": [],
   "source": []
  },
  {
   "cell_type": "code",
   "execution_count": 133,
   "metadata": {},
   "outputs": [
    {
     "name": "stdout",
     "output_type": "stream",
     "text": [
      "Checking cache download in /var/cache/lxc/xenial/rootfs-amd64 ... \n",
      "Copy /var/cache/lxc/xenial/rootfs-amd64 to /var/lib/lxc/lxc-container/rootfs ... \n",
      "Copying rootfs to /var/lib/lxc/lxc-container/rootfs ...\n",
      "Generating locales (this might take a while)...\n",
      "  de_DE.UTF-8... done\n",
      "Generation complete.\n",
      "debconf: kann Oberfläche nicht initialisieren: Dialog\n",
      "debconf: (Die Dialog-Oberfläche funktioniert nicht auf einem Dumb-Terminal, einem Emacs-Shellbuffer oder ohne ein steuerndes Terminal.)\n",
      "debconf: greife zurück auf die Oberfläche: Readline\n",
      "debconf: kann Oberfläche nicht initialisieren: Readline\n",
      "debconf: (Can't locate Term/ReadLine.pm in @INC (you may need to install the Term::ReadLine module) (@INC contains: /etc/perl /usr/local/lib/x86_64-linux-gnu/perl/5.22.1 /usr/local/share/perl/5.22.1 /usr/lib/x86_64-linux-gnu/perl5/5.22 /usr/share/perl5 /usr/lib/x86_64-linux-gnu/perl/5.22 /usr/share/perl/5.22 /usr/local/lib/site_perl /usr/lib/x86_64-linux-gnu/perl-base .) at /usr/share/perl5/Debconf/FrontEnd/Readline.pm line 7.)\n",
      "debconf: greife zurück auf die Oberfläche: Teletype\n",
      "Creating SSH2 RSA key; this may take some time ...\n",
      "2048 SHA256:yA6sw6Tnn6IjdGocYiabRkyJ6d9JSGaqg5fB6AnBx0c root@rdf-dev (RSA)\n",
      "Creating SSH2 DSA key; this may take some time ...\n",
      "1024 SHA256:eWDcdGPRDfLj56GyDHaPRVuwRY5wS0Ipjmiric73yVI root@rdf-dev (DSA)\n",
      "Creating SSH2 ECDSA key; this may take some time ...\n",
      "256 SHA256:uNphKyyCx4QTSIMALYHtIVSM+mhqI70MxajiobTstZk root@rdf-dev (ECDSA)\n",
      "Creating SSH2 ED25519 key; this may take some time ...\n",
      "256 SHA256:yl0fjzDUl+2ox7gVqIkdgZgsyiNBhvJOGKJzmzGlq9Y root@rdf-dev (ED25519)\n",
      "invoke-rc.d: could not determine current runlevel\n",
      "invoke-rc.d: policy-rc.d denied execution of start.\n",
      "\n",
      "Current default time zone: 'Etc/UTC'\n",
      "Local time is now:      Sat Feb 17 21:01:08 UTC 2018.\n",
      "Universal Time is now:  Sat Feb 17 21:01:08 UTC 2018.\n",
      "\n",
      "\n",
      "##\n",
      "# The default user is 'ubuntu' with password 'ubuntu'!\n",
      "# Use the 'sudo' command to run tasks as root in the container.\n",
      "##\n",
      "\n"
     ]
    }
   ],
   "source": [
    "sudo  lxc-create --name lxc-container --template ubuntu"
   ]
  },
  {
   "cell_type": "code",
   "execution_count": 142,
   "metadata": {},
   "outputs": [
    {
     "name": "stdout",
     "output_type": "stream",
     "text": [
      "Fehler: Ungültiges Argument: Nicht unterstützter Konfigurationstyp lxc-tools\n",
      "\n"
     ]
    }
   ],
   "source": [
    "sudo virsh domxml-from-native lxc-tools /var/lib/lxc/lxc-container/config | tee -a lxc-container.xml"
   ]
  },
  {
   "cell_type": "code",
   "execution_count": null,
   "metadata": {},
   "outputs": [],
   "source": []
  }
 ],
 "metadata": {
  "kernelspec": {
   "display_name": "Bash",
   "language": "bash",
   "name": "bash"
  },
  "language_info": {
   "codemirror_mode": "shell",
   "file_extension": ".sh",
   "mimetype": "text/x-sh",
   "name": "bash"
  }
 },
 "nbformat": 4,
 "nbformat_minor": 2
}
