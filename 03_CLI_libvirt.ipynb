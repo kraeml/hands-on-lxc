{
 "cells": [
  {
   "cell_type": "markdown",
   "metadata": {},
   "source": [
    "# Command Line und Libvirt\n"
   ]
  },
  {
   "cell_type": "markdown",
   "metadata": {},
   "source": [
    "## LVM\n",
    "\n",
    "![alt text](data:image/svg+xml, %3Csvg%20xmlns%3D%22http%3A%2F%2Fwww.w3.org%2F2000%2Fsvg%22%20xmlns%3Axlink%3D%22http%3A%2F%2Fwww.w3.org%2F1999%2Fxlink%22%20width%3D%22781px%22%20height%3D%22401px%22%20version%3D%221.1%22%3E%3Cdefs%2F%3E%3Cg%20transform%3D%22translate%280.5%2C0.5%29%22%3E%3Crect%20x%3D%220%22%20y%3D%220%22%20width%3D%22780%22%20height%3D%22400%22%20fill%3D%22%23ffffff%22%20stroke%3D%22%23000000%22%20pointer-events%3D%22none%22%2F%3E%3Crect%20x%3D%2230%22%20y%3D%22320%22%20width%3D%22340%22%20height%3D%2260%22%20fill%3D%22%23b3b3b3%22%20stroke%3D%22%23000000%22%20pointer-events%3D%22none%22%2F%3E%3Cg%20transform%3D%22translate%2836.5%2C330.5%29%22%3E%3Cswitch%3E%3CforeignObject%20style%3D%22overflow%3Avisible%3B%22%20pointer-events%3D%22all%22%20width%3D%2257%22%20height%3D%2227%22%20requiredFeatures%3D%22http%3A%2F%2Fwww.w3.org%2FTR%2FSVG11%2Ffeature%23Extensibility%22%3E%3Cdiv%20xmlns%3D%22http%3A%2F%2Fwww.w3.org%2F1999%2Fxhtml%22%20style%3D%22display%3A%20inline-block%3B%20font-size%3A%2012px%3B%20font-family%3A%20Helvetica%3B%20color%3A%20rgb%280%2C%200%2C%200%29%3B%20line-height%3A%201.2%3B%20vertical-align%3A%20top%3B%20width%3A%2058px%3B%20white-space%3A%20nowrap%3B%20overflow-wrap%3A%20normal%3B%22%20dir%3D%22ltr%22%3E%3Cdiv%20xmlns%3D%22http%3A%2F%2Fwww.w3.org%2F1999%2Fxhtml%22%20style%3D%22display%3Ainline-block%3Btext-align%3Ainherit%3Btext-decoration%3Ainherit%3B%22%3EHarddisk%201%3Cbr%20%2F%3E%2Fdev%2Fsdb%3C%2Fdiv%3E%3C%2Fdiv%3E%3C%2FforeignObject%3E%3Ctext%20x%3D%2229%22%20y%3D%2220%22%20fill%3D%22%23000000%22%20text-anchor%3D%22middle%22%20font-size%3D%2212px%22%20font-family%3D%22Helvetica%22%3EHarddisk%201%26lt%3Bbr%26gt%3B%2Fdev%2Fsdb%3C%2Ftext%3E%3C%2Fswitch%3E%3C%2Fg%3E%3Crect%20x%3D%22400%22%20y%3D%22320%22%20width%3D%22340%22%20height%3D%2260%22%20fill%3D%22%23b3b3b3%22%20stroke%3D%22%23000000%22%20pointer-events%3D%22none%22%2F%3E%3Cg%20transform%3D%22translate%28406.5%2C330.5%29%22%3E%3Cswitch%3E%3CforeignObject%20style%3D%22overflow%3Avisible%3B%22%20pointer-events%3D%22all%22%20width%3D%2257%22%20height%3D%2227%22%20requiredFeatures%3D%22http%3A%2F%2Fwww.w3.org%2FTR%2FSVG11%2Ffeature%23Extensibility%22%3E%3Cdiv%20xmlns%3D%22http%3A%2F%2Fwww.w3.org%2F1999%2Fxhtml%22%20style%3D%22display%3A%20inline-block%3B%20font-size%3A%2012px%3B%20font-family%3A%20Helvetica%3B%20color%3A%20rgb%280%2C%200%2C%200%29%3B%20line-height%3A%201.2%3B%20vertical-align%3A%20top%3B%20width%3A%2058px%3B%20white-space%3A%20nowrap%3B%20overflow-wrap%3A%20normal%3B%22%20dir%3D%22ltr%22%3E%3Cdiv%20xmlns%3D%22http%3A%2F%2Fwww.w3.org%2F1999%2Fxhtml%22%20style%3D%22display%3Ainline-block%3Btext-align%3Ainherit%3Btext-decoration%3Ainherit%3B%22%3EHarddisk%201%3Cbr%20%2F%3E%2Fdev%2Fsdc%3C%2Fdiv%3E%3C%2Fdiv%3E%3C%2FforeignObject%3E%3Ctext%20x%3D%2229%22%20y%3D%2220%22%20fill%3D%22%23000000%22%20text-anchor%3D%22middle%22%20font-size%3D%2212px%22%20font-family%3D%22Helvetica%22%3EHarddisk%201%26lt%3Bbr%26gt%3B%2Fdev%2Fsdc%3C%2Ftext%3E%3C%2Fswitch%3E%3C%2Fg%3E%3Crect%20x%3D%2220%22%20y%3D%22140%22%20width%3D%22740%22%20height%3D%22130%22%20fill%3D%22%23e6e6e6%22%20stroke%3D%22%23000000%22%20pointer-events%3D%22none%22%2F%3E%3Cg%20transform%3D%22translate%2822.5%2C147.5%29%22%3E%3Cswitch%3E%3CforeignObject%20style%3D%22overflow%3Avisible%3B%22%20pointer-events%3D%22all%22%20width%3D%22111%22%20height%3D%2212%22%20requiredFeatures%3D%22http%3A%2F%2Fwww.w3.org%2FTR%2FSVG11%2Ffeature%23Extensibility%22%3E%3Cdiv%20xmlns%3D%22http%3A%2F%2Fwww.w3.org%2F1999%2Fxhtml%22%20style%3D%22display%3A%20inline-block%3B%20font-size%3A%2012px%3B%20font-family%3A%20Helvetica%3B%20color%3A%20rgb%280%2C%200%2C%200%29%3B%20line-height%3A%201.2%3B%20vertical-align%3A%20top%3B%20width%3A%20112px%3B%20white-space%3A%20nowrap%3B%20overflow-wrap%3A%20normal%3B%22%3E%3Cdiv%20xmlns%3D%22http%3A%2F%2Fwww.w3.org%2F1999%2Fxhtml%22%20style%3D%22display%3Ainline-block%3Btext-align%3Ainherit%3Btext-decoration%3Ainherit%3B%22%3EVolume%20Group%20%28VG1%29%3C%2Fdiv%3E%3C%2Fdiv%3E%3C%2FforeignObject%3E%3Ctext%20x%3D%2256%22%20y%3D%2212%22%20fill%3D%22%23000000%22%20text-anchor%3D%22middle%22%20font-size%3D%2212px%22%20font-family%3D%22Helvetica%22%3EVolume%20Group%20%28VG1%29%3C%2Ftext%3E%3C%2Fswitch%3E%3C%2Fg%3E%3Crect%20x%3D%2230%22%20y%3D%22205%22%20width%3D%22340%22%20height%3D%2260%22%20fill%3D%22%23b3b3b3%22%20stroke%3D%22%23000000%22%20pointer-events%3D%22none%22%2F%3E%3Cg%20transform%3D%22translate%2836.5%2C215.5%29%22%3E%3Cswitch%3E%3CforeignObject%20style%3D%22overflow%3Avisible%3B%22%20pointer-events%3D%22all%22%20width%3D%22122%22%20height%3D%2227%22%20requiredFeatures%3D%22http%3A%2F%2Fwww.w3.org%2FTR%2FSVG11%2Ffeature%23Extensibility%22%3E%3Cdiv%20xmlns%3D%22http%3A%2F%2Fwww.w3.org%2F1999%2Fxhtml%22%20style%3D%22display%3A%20inline-block%3B%20font-size%3A%2012px%3B%20font-family%3A%20Helvetica%3B%20color%3A%20rgb%280%2C%200%2C%200%29%3B%20line-height%3A%201.2%3B%20vertical-align%3A%20top%3B%20width%3A%20123px%3B%20white-space%3A%20nowrap%3B%20overflow-wrap%3A%20normal%3B%22%20dir%3D%22ltr%22%3E%3Cdiv%20xmlns%3D%22http%3A%2F%2Fwww.w3.org%2F1999%2Fxhtml%22%20style%3D%22display%3Ainline-block%3Btext-align%3Ainherit%3Btext-decoration%3Ainherit%3B%22%3EPhysikalische%20Partition%3Cbr%20%2F%3E%2Fdev%2Fsdb1%3C%2Fdiv%3E%3C%2Fdiv%3E%3C%2FforeignObject%3E%3Ctext%20x%3D%2261%22%20y%3D%2220%22%20fill%3D%22%23000000%22%20text-anchor%3D%22middle%22%20font-size%3D%2212px%22%20font-family%3D%22Helvetica%22%3EPhysikalische%20Partition%26lt%3Bbr%26gt%3B%2Fdev%2Fsdb1%3C%2Ftext%3E%3C%2Fswitch%3E%3C%2Fg%3E%3Crect%20x%3D%22400%22%20y%3D%22205%22%20width%3D%22340%22%20height%3D%2260%22%20fill%3D%22%23b3b3b3%22%20stroke%3D%22%23000000%22%20pointer-events%3D%22none%22%2F%3E%3Cg%20transform%3D%22translate%28406.5%2C215.5%29%22%3E%3Cswitch%3E%3CforeignObject%20style%3D%22overflow%3Avisible%3B%22%20pointer-events%3D%22all%22%20width%3D%22122%22%20height%3D%2227%22%20requiredFeatures%3D%22http%3A%2F%2Fwww.w3.org%2FTR%2FSVG11%2Ffeature%23Extensibility%22%3E%3Cdiv%20xmlns%3D%22http%3A%2F%2Fwww.w3.org%2F1999%2Fxhtml%22%20style%3D%22display%3A%20inline-block%3B%20font-size%3A%2012px%3B%20font-family%3A%20Helvetica%3B%20color%3A%20rgb%280%2C%200%2C%200%29%3B%20line-height%3A%201.2%3B%20vertical-align%3A%20top%3B%20width%3A%20123px%3B%20white-space%3A%20nowrap%3B%20overflow-wrap%3A%20normal%3B%22%20dir%3D%22ltr%22%3E%3Cdiv%20xmlns%3D%22http%3A%2F%2Fwww.w3.org%2F1999%2Fxhtml%22%20style%3D%22display%3Ainline-block%3Btext-align%3Ainherit%3Btext-decoration%3Ainherit%3B%22%3EPhysikalische%20Partition%3Cbr%20%2F%3E%2Fdev%2Fsdc1%3C%2Fdiv%3E%3C%2Fdiv%3E%3C%2FforeignObject%3E%3Ctext%20x%3D%2261%22%20y%3D%2220%22%20fill%3D%22%23000000%22%20text-anchor%3D%22middle%22%20font-size%3D%2212px%22%20font-family%3D%22Helvetica%22%3EPhysikalische%20Partition%26lt%3Bbr%26gt%3B%2Fdev%2Fsdc1%3C%2Ftext%3E%3C%2Fswitch%3E%3C%2Fg%3E%3Crect%20x%3D%2230%22%20y%3D%2250%22%20width%3D%22150%22%20height%3D%2260%22%20fill%3D%22%23b3b3b3%22%20stroke%3D%22%23000000%22%20pointer-events%3D%22none%22%2F%3E%3Cg%20transform%3D%22translate%2836.5%2C60.5%29%22%3E%3Cswitch%3E%3CforeignObject%20style%3D%22overflow%3Avisible%3B%22%20pointer-events%3D%22all%22%20width%3D%22130%22%20height%3D%2227%22%20requiredFeatures%3D%22http%3A%2F%2Fwww.w3.org%2FTR%2FSVG11%2Ffeature%23Extensibility%22%3E%3Cdiv%20xmlns%3D%22http%3A%2F%2Fwww.w3.org%2F1999%2Fxhtml%22%20style%3D%22display%3A%20inline-block%3B%20font-size%3A%2012px%3B%20font-family%3A%20Helvetica%3B%20color%3A%20rgb%280%2C%200%2C%200%29%3B%20line-height%3A%201.2%3B%20vertical-align%3A%20top%3B%20width%3A%20131px%3B%20white-space%3A%20nowrap%3B%20overflow-wrap%3A%20normal%3B%22%20dir%3D%22ltr%22%3E%3Cdiv%20xmlns%3D%22http%3A%2F%2Fwww.w3.org%2F1999%2Fxhtml%22%20style%3D%22display%3Ainline-block%3Btext-align%3Ainherit%3Btext-decoration%3Ainherit%3B%22%3ELogisches%20Volume%20%28LV1%29%3Cbr%20%2F%3E%2Fdev%2FVG1%2FLV1%3C%2Fdiv%3E%3C%2Fdiv%3E%3C%2FforeignObject%3E%3Ctext%20x%3D%2265%22%20y%3D%2220%22%20fill%3D%22%23000000%22%20text-anchor%3D%22middle%22%20font-size%3D%2212px%22%20font-family%3D%22Helvetica%22%3ELogisches%20Volume%20%28LV1%29%26lt%3Bbr%26gt%3B%2Fdev%2FVG1%2FLV1%3C%2Ftext%3E%3C%2Fswitch%3E%3C%2Fg%3E%3Crect%20x%3D%22190%22%20y%3D%2250%22%20width%3D%22150%22%20height%3D%2260%22%20fill%3D%22%23b3b3b3%22%20stroke%3D%22%23000000%22%20pointer-events%3D%22none%22%2F%3E%3Cg%20transform%3D%22translate%28196.5%2C60.5%29%22%3E%3Cswitch%3E%3CforeignObject%20style%3D%22overflow%3Avisible%3B%22%20pointer-events%3D%22all%22%20width%3D%22130%22%20height%3D%2227%22%20requiredFeatures%3D%22http%3A%2F%2Fwww.w3.org%2FTR%2FSVG11%2Ffeature%23Extensibility%22%3E%3Cdiv%20xmlns%3D%22http%3A%2F%2Fwww.w3.org%2F1999%2Fxhtml%22%20style%3D%22display%3A%20inline-block%3B%20font-size%3A%2012px%3B%20font-family%3A%20Helvetica%3B%20color%3A%20rgb%280%2C%200%2C%200%29%3B%20line-height%3A%201.2%3B%20vertical-align%3A%20top%3B%20width%3A%20131px%3B%20white-space%3A%20nowrap%3B%20overflow-wrap%3A%20normal%3B%22%20dir%3D%22ltr%22%3E%3Cdiv%20xmlns%3D%22http%3A%2F%2Fwww.w3.org%2F1999%2Fxhtml%22%20style%3D%22display%3Ainline-block%3Btext-align%3Ainherit%3Btext-decoration%3Ainherit%3B%22%3ELogisches%20Volume%20%28LV2%29%3Cbr%20%2F%3E%2Fdev%2FVG1%2FLV2%3C%2Fdiv%3E%3C%2Fdiv%3E%3C%2FforeignObject%3E%3Ctext%20x%3D%2265%22%20y%3D%2220%22%20fill%3D%22%23000000%22%20text-anchor%3D%22middle%22%20font-size%3D%2212px%22%20font-family%3D%22Helvetica%22%3ELogisches%20Volume%20%28LV2%29%26lt%3Bbr%26gt%3B%2Fdev%2FVG1%2FLV2%3C%2Ftext%3E%3C%2Fswitch%3E%3C%2Fg%3E%3Crect%20x%3D%22360%22%20y%3D%2250%22%20width%3D%22380%22%20height%3D%2260%22%20fill%3D%22%23b3b3b3%22%20stroke%3D%22%23000000%22%20pointer-events%3D%22none%22%2F%3E%3Cg%20transform%3D%22translate%28366.5%2C60.5%29%22%3E%3Cswitch%3E%3CforeignObject%20style%3D%22overflow%3Avisible%3B%22%20pointer-events%3D%22all%22%20width%3D%2261%22%20height%3D%2212%22%20requiredFeatures%3D%22http%3A%2F%2Fwww.w3.org%2FTR%2FSVG11%2Ffeature%23Extensibility%22%3E%3Cdiv%20xmlns%3D%22http%3A%2F%2Fwww.w3.org%2F1999%2Fxhtml%22%20style%3D%22display%3A%20inline-block%3B%20font-size%3A%2012px%3B%20font-family%3A%20Helvetica%3B%20color%3A%20rgb%280%2C%200%2C%200%29%3B%20line-height%3A%201.2%3B%20vertical-align%3A%20top%3B%20width%3A%2062px%3B%20white-space%3A%20nowrap%3B%20overflow-wrap%3A%20normal%3B%22%20dir%3D%22ltr%22%3E%3Cdiv%20xmlns%3D%22http%3A%2F%2Fwww.w3.org%2F1999%2Fxhtml%22%20style%3D%22display%3Ainline-block%3Btext-align%3Ainherit%3Btext-decoration%3Ainherit%3B%22%3EFreier%20Platz%3Cbr%20%2F%3E%3C%2Fdiv%3E%3C%2Fdiv%3E%3C%2FforeignObject%3E%3Ctext%20x%3D%2231%22%20y%3D%2212%22%20fill%3D%22%23000000%22%20text-anchor%3D%22middle%22%20font-size%3D%2212px%22%20font-family%3D%22Helvetica%22%3EFreier%20Platz%26lt%3Bbr%26gt%3B%3C%2Ftext%3E%3C%2Fswitch%3E%3C%2Fg%3E%3C%2Fg%3E%3C%2Fsvg%3E)"
   ]
  },
  {
   "cell_type": "code",
   "execution_count": 33,
   "metadata": {
    "ExecuteTime": {
     "end_time": "2018-03-02T22:38:01.570436Z",
     "start_time": "2018-03-02T22:38:01.378632Z"
    }
   },
   "outputs": [
    {
     "name": "stdout",
     "output_type": "stream",
     "text": [
      "lvm2:\n",
      "  Installiert:           2.02.133-1ubuntu10\n",
      "  Installationskandidat: 2.02.133-1ubuntu10\n",
      "  Versionstabelle:\n",
      " *** 2.02.133-1ubuntu10 500\n",
      "        500 http://us.archive.ubuntu.com/ubuntu xenial/main amd64 Packages\n",
      "        100 /var/lib/dpkg/status\n"
     ]
    }
   ],
   "source": [
    "apt policy lvm2"
   ]
  },
  {
   "cell_type": "markdown",
   "metadata": {},
   "source": [
    "### Festplatte partionieren"
   ]
  },
  {
   "cell_type": "markdown",
   "metadata": {},
   "source": [
    "> `fdisk` (für fixed disk) ist ein Kommandozeilen-Programm zur Partitionierung von Datenträgern mit `Legacy-MBR`, der `Master-Partitionstabelle (MPT)` und `GUID Partition-Table (GPT)` (ab Xenial). Bei `fdisk` handelt es sich um eigenständige Programm-Module, die nicht auf `libparted` aufsetzen. In den meisten Fällen wird nur das Modul `fdisk` zum Auflisten und Analysieren der MBR-Partitionstabelle sowie __`sfdisk`__ zum Erzeugen einer Backup-Datei der Partitionstabelle benötigt.\n",
    "\n",
    "https://wiki.ubuntuusers.de/fdisk/ aufgerufen am 2018-03-02 09:09:06 "
   ]
  },
  {
   "cell_type": "code",
   "execution_count": 34,
   "metadata": {
    "ExecuteTime": {
     "end_time": "2018-03-02T22:38:04.125275Z",
     "start_time": "2018-03-02T22:38:03.980813Z"
    }
   },
   "outputs": [
    {
     "name": "stdout",
     "output_type": "stream",
     "text": [
      "Medium /dev/sdb: 500 GiB, 536870912000 Bytes, 1048576000 Sektoren\n",
      "Einheiten: sectors von 1 * 512 = 512 Bytes\n",
      "Sektorengröße (logisch/physisch): 512 Bytes / 512 Bytes\n",
      "I/O Größe (minimal/optimal): 512 Bytes / 512 Bytes\n",
      "Typ der Medienbezeichnung: dos\n",
      "Medienkennung: 0x52f14c4d\n"
     ]
    }
   ],
   "source": [
    "sudo fdisk -l /dev/sdb"
   ]
  },
  {
   "cell_type": "markdown",
   "metadata": {},
   "source": [
    "```bash\n",
    "sudo fdisk /dev/sdb\n",
    "```\n",
    "\n",
    "1. Press n for creating a new partition.\n",
    "2. Then choose p for primary partition.\n",
    "3. Next, choose the partition number 1.\n",
    "4. Use the default value by just pressing the Enter key two times.\n",
    "5. Next, press p to print the defined partition.\n",
    "6. Press l to list all available types.\n",
    "7. Type t to choose the partitions.\n",
    "8. Choose 8e for the Linux LVM and press Enter to apply.\n",
    "9. Again use p to print the changes.\n",
    "10. Finally, use w to save the changes:\n"
   ]
  },
  {
   "cell_type": "markdown",
   "metadata": {},
   "source": [
    ">  `sfdisk` führt die gleichen Aufgaben wie `fdisk` durch, wird aber komplett über mitgegebene Optionen gesteuert und ist daher für Skripte geeignet.\n",
    "\n",
    "> In vielen Anweisungen wird zur Sicherung einer Partitionstabelle das Programm dd aufgeführt. Dies ist mit Vorsicht anzuwenden, da dabei oft nur die MPT gesichert wird und dadurch die Einträge zu den erweiterten, logischen Partitionen fehlen. Beim Einsatz von erweiterten Partitionen ist sfdisk zum Sichern und Rückspielen der einfachste und schnellste Weg, um die Datenintegrität zu gewährleisten.\n",
    "\n",
    "https://wiki.ubuntuusers.de/fdisk/#sfdisk aufgerufen am 2018-03-02 09:11:13 "
   ]
  },
  {
   "cell_type": "code",
   "execution_count": 35,
   "metadata": {
    "ExecuteTime": {
     "end_time": "2018-03-02T22:38:05.854000Z",
     "start_time": "2018-03-02T22:38:05.713305Z"
    }
   },
   "outputs": [
    {
     "name": "stdout",
     "output_type": "stream",
     "text": [
      "\n",
      "Usage:\n",
      " sfdisk [options] <dev> [[-N] <part>]\n",
      " sfdisk [options] <command>\n",
      "\n",
      "Anzeigen oder ändern der Partitionstabelle des Mediums.\n",
      "\n",
      "Commands:\n",
      " -A, --activate <dev> [<part> ...] list or set bootable MBR partitions\n",
      " -d, --dump <dev>                  dump partition table (usable for later input)\n",
      " -J, --json <dev>                  dump partition table in JSON format\n",
      " -g, --show-geometry [<dev> ...]   list geometry of all or specified devices\n",
      " -l, --list [<dev> ...]            list partitions of each device\n",
      " -F, --list-free [<dev> ...]       list unpartitions free areas of each device\n",
      " -s, --show-size [<dev> ...]       list sizes of all or specified devices\n",
      " -T, --list-types                  print the recognized types (see -X)\n",
      " -V, --verify [<dev> ...]          test whether partitions seem correct\n",
      "\n",
      " --part-label <dev> <part> [<str>] print or change partition label\n",
      " --part-type <dev> <part> [<type>] print or change partition type\n",
      " --part-uuid <dev> <part> [<uuid>] print or change partition uuid\n",
      " --part-attrs <dev> <part> [<str>] print or change partition attributes\n",
      "\n",
      " <dev>                     device (usually disk) path\n",
      " <part>                    partition number\n",
      " <type>                    partition type, GUID for GPT, hex for MBR\n",
      "\n",
      "Optionen:\n",
      " -a, --append              append partitions to existing partition table\n",
      " -b, --backup              backup partition table sectors (see -O)\n",
      "     --bytes               print SIZE in bytes rather than in human readable format\n",
      " -f, --force               disable all consistency checking\n",
      "     --color[=<when>]      colorize output (auto, always or never)\n",
      "                             colors are enabled by default\n",
      " -N, --partno <num>        specify partition number\n",
      " -n, --no-act              do everything except write to device\n",
      "     --no-reread           do not check whether the device is in use\n",
      " -O, --backup-file <path>  override default backup file name\n",
      " -o, --output <list>       output columns\n",
      " -q, --quiet               suppress extra info messages\n",
      " -X, --label <name>        specify label type (dos, gpt, ...)\n",
      " -Y, --label-nested <name> specify nested label type (dos, bsd)\n",
      "\n",
      " -L, --Linux               deprecated, only for backward compatibility\n",
      " -u, --unit S              deprecated, only sector unit is supported\n",
      "\n",
      " -h, --help     display this help and exit\n",
      " -v, --version  output version information and exit\n",
      "\n",
      "Mögliche Spalten (für -o):\n",
      " gpt: Device Start End Sectors Size Type Type-UUID Attrs Name UUID\n",
      " dos: Device Start End Sectors Cylinders Size Type Id Attrs Boot End-C/H/S\n",
      "      Start-C/H/S\n",
      " bsd: Slice Start End Sectors Cylinders Size Type Bsize Cpg Fsize\n",
      " sgi: Device Start End Sectors Cylinders Size Type Id Attrs\n",
      " sun: Device Start End Sectors Cylinders Size Type Id Flags\n",
      "\n",
      "For more details see sfdisk(8).\n"
     ]
    }
   ],
   "source": [
    "sudo sfdisk -h"
   ]
  },
  {
   "cell_type": "code",
   "execution_count": 36,
   "metadata": {
    "ExecuteTime": {
     "end_time": "2018-03-02T22:38:06.378636Z",
     "start_time": "2018-03-02T22:38:06.228133Z"
    }
   },
   "outputs": [
    {
     "name": "stdout",
     "output_type": "stream",
     "text": [
      "Medium /dev/sdb: 500 GiB, 536870912000 Bytes, 1048576000 Sektoren\n",
      "Einheiten: sectors von 1 * 512 = 512 Bytes\n",
      "Sektorengröße (logisch/physisch): 512 Bytes / 512 Bytes\n",
      "I/O Größe (minimal/optimal): 512 Bytes / 512 Bytes\n",
      "Typ der Medienbezeichnung: dos\n",
      "Medienkennung: 0x52f14c4d\n"
     ]
    }
   ],
   "source": [
    "sudo sfdisk -l /dev/sdb"
   ]
  },
  {
   "cell_type": "code",
   "execution_count": 37,
   "metadata": {
    "ExecuteTime": {
     "end_time": "2018-03-02T22:38:07.180197Z",
     "start_time": "2018-03-02T22:38:07.023579Z"
    }
   },
   "outputs": [
    {
     "name": "stdout",
     "output_type": "stream",
     "text": [
      "8e  Linux LVM\n"
     ]
    }
   ],
   "source": [
    "sudo sfdisk -T | grep LVM"
   ]
  },
  {
   "cell_type": "code",
   "execution_count": 38,
   "metadata": {
    "ExecuteTime": {
     "end_time": "2018-03-02T22:38:08.228560Z",
     "start_time": "2018-03-02T22:38:08.010758Z"
    }
   },
   "outputs": [
    {
     "name": "stdout",
     "output_type": "stream",
     "text": [
      "Checking that no-one is using this disk right now ... OK\n",
      "\n",
      "Medium /dev/sdb: 500 GiB, 536870912000 Bytes, 1048576000 Sektoren\n",
      "Einheiten: sectors von 1 * 512 = 512 Bytes\n",
      "Sektorengröße (logisch/physisch): 512 Bytes / 512 Bytes\n",
      "I/O Größe (minimal/optimal): 512 Bytes / 512 Bytes\n",
      "Typ der Medienbezeichnung: dos\n",
      "Medienkennung: 0x52f14c4d\n",
      "\n",
      "Old situation:\n",
      "\n",
      ">>> Created a new DOS disklabel with disk identifier 0x39252438.\n",
      "Created a new partition 1 of type 'Linux LVM' and of size 500 GiB.\n",
      "/dev/sdb2: \n",
      "New situation:\n",
      "\n",
      "Gerät      Boot Start       Ende   Sektoren Größe Id Typ\n",
      "/dev/sdb1        2048 1048575999 1048573952  500G 8e Linux LVM\n",
      "\n",
      "The partition table has been altered.\n",
      "Calling ioctl() to re-read partition table.\n",
      "Syncing disks.\n"
     ]
    }
   ],
   "source": [
    "#     start,end,Type\n",
    "echo ',,8e;' | sudo sfdisk /dev/sdb"
   ]
  },
  {
   "cell_type": "code",
   "execution_count": 39,
   "metadata": {
    "ExecuteTime": {
     "end_time": "2018-03-02T22:38:08.906669Z",
     "start_time": "2018-03-02T22:38:08.771863Z"
    }
   },
   "outputs": [
    {
     "name": "stdout",
     "output_type": "stream",
     "text": [
      "Medium /dev/sdb: 500 GiB, 536870912000 Bytes, 1048576000 Sektoren\n",
      "Einheiten: sectors von 1 * 512 = 512 Bytes\n",
      "Sektorengröße (logisch/physisch): 512 Bytes / 512 Bytes\n",
      "I/O Größe (minimal/optimal): 512 Bytes / 512 Bytes\n",
      "Typ der Medienbezeichnung: dos\n",
      "Medienkennung: 0x39252438\n",
      "\n",
      "Gerät      Boot Start       Ende   Sektoren Größe Id Typ\n",
      "/dev/sdb1        2048 1048575999 1048573952  500G 8e Linux LVM\n"
     ]
    }
   ],
   "source": [
    "sudo sfdisk -l /dev/sdb"
   ]
  },
  {
   "cell_type": "code",
   "execution_count": 40,
   "metadata": {
    "ExecuteTime": {
     "end_time": "2018-03-02T22:38:09.578727Z",
     "start_time": "2018-03-02T22:38:09.413110Z"
    }
   },
   "outputs": [
    {
     "name": "stdout",
     "output_type": "stream",
     "text": [
      "  Physical volume \"/dev/sdb1\" successfully created\n"
     ]
    }
   ],
   "source": [
    "sudo pvcreate /dev/sdb1"
   ]
  },
  {
   "cell_type": "code",
   "execution_count": 41,
   "metadata": {
    "ExecuteTime": {
     "end_time": "2018-03-02T22:38:10.414385Z",
     "start_time": "2018-03-02T22:38:10.122754Z"
    }
   },
   "outputs": [
    {
     "name": "stdout",
     "output_type": "stream",
     "text": [
      "  --- Physical volume ---\n",
      "  PV Name               /dev/sda5\n",
      "  VG Name               rdf-dev-vg\n",
      "  PV Size               126,52 GiB / not usable 2,00 MiB\n",
      "  Allocatable           yes (but full)\n",
      "  PE Size               4,00 MiB\n",
      "  Total PE              32389\n",
      "  Free PE               0\n",
      "  Allocated PE          32389\n",
      "  PV UUID               VmfmJI-34r3-XL3L-yD8u-tJvo-FVk1-QjdT6L\n",
      "   \n",
      "  \"/dev/sdb1\" is a new physical volume of \"500,00 GiB\"\n",
      "  --- NEW Physical volume ---\n",
      "  PV Name               /dev/sdb1\n",
      "  VG Name               \n",
      "  PV Size               500,00 GiB\n",
      "  Allocatable           NO\n",
      "  PE Size               0   \n",
      "  Total PE              0\n",
      "  Free PE               0\n",
      "  Allocated PE          0\n",
      "  PV UUID               3fVhSz-L2ne-4BV8-04Qw-7YU3-bccJ-Cq2v2I\n",
      "   \n"
     ]
    }
   ],
   "source": [
    "sudo pvdisplay"
   ]
  },
  {
   "cell_type": "code",
   "execution_count": 42,
   "metadata": {
    "ExecuteTime": {
     "end_time": "2018-03-02T22:38:11.814656Z",
     "start_time": "2018-03-02T22:38:11.649969Z"
    }
   },
   "outputs": [
    {
     "name": "stdout",
     "output_type": "stream",
     "text": [
      "  Volume group \"lxc\" successfully created\n"
     ]
    }
   ],
   "source": [
    "sudo vgcreate lxc /dev/sdb1"
   ]
  },
  {
   "cell_type": "code",
   "execution_count": 43,
   "metadata": {
    "ExecuteTime": {
     "end_time": "2018-03-02T22:38:12.686232Z",
     "start_time": "2018-03-02T22:38:12.529195Z"
    }
   },
   "outputs": [
    {
     "name": "stdout",
     "output_type": "stream",
     "text": [
      "  --- Volume group ---\n",
      "  VG Name               rdf-dev-vg\n",
      "  System ID             \n",
      "  Format                lvm2\n",
      "  Metadata Areas        1\n",
      "  Metadata Sequence No  3\n",
      "  VG Access             read/write\n",
      "  VG Status             resizable\n",
      "  MAX LV                0\n",
      "  Cur LV                2\n",
      "  Open LV               2\n",
      "  Max PV                0\n",
      "  Cur PV                1\n",
      "  Act PV                1\n",
      "  VG Size               126,52 GiB\n",
      "  PE Size               4,00 MiB\n",
      "  Total PE              32389\n",
      "  Alloc PE / Size       32389 / 126,52 GiB\n",
      "  Free  PE / Size       0 / 0   \n",
      "  VG UUID               wXk0gg-8wqq-8VGw-t2bp-BJCv-MIhD-dWfCJM\n",
      "   \n",
      "  --- Volume group ---\n",
      "  VG Name               lxc\n",
      "  System ID             \n",
      "  Format                lvm2\n",
      "  Metadata Areas        1\n",
      "  Metadata Sequence No  1\n",
      "  VG Access             read/write\n",
      "  VG Status             resizable\n",
      "  MAX LV                0\n",
      "  Cur LV                0\n",
      "  Open LV               0\n",
      "  Max PV                0\n",
      "  Cur PV                1\n",
      "  Act PV                1\n",
      "  VG Size               500,00 GiB\n",
      "  PE Size               4,00 MiB\n",
      "  Total PE              127999\n",
      "  Alloc PE / Size       0 / 0   \n",
      "  Free  PE / Size       127999 / 500,00 GiB\n",
      "  VG UUID               6cjGWb-iMKZ-nGaF-YIov-gnqr-dosI-aHWOiJ\n",
      "   \n"
     ]
    }
   ],
   "source": [
    "sudo vgdisplay"
   ]
  },
  {
   "cell_type": "code",
   "execution_count": 44,
   "metadata": {
    "ExecuteTime": {
     "end_time": "2018-03-02T22:38:19.985896Z",
     "start_time": "2018-03-02T22:38:13.612265Z"
    }
   },
   "outputs": [
    {
     "name": "stdout",
     "output_type": "stream",
     "text": [
      "Checking cache download in /var/cache/lxc/xenial/rootfs-amd64 ... \n",
      "Copy /var/cache/lxc/xenial/rootfs-amd64 to /usr/lib/x86_64-linux-gnu/lxc ... \n",
      "Copying rootfs to /usr/lib/x86_64-linux-gnu/lxc ...\n",
      "Generating locales (this might take a while)...\n",
      "  de_DE.UTF-8... done\n",
      "Generation complete.\n",
      "debconf: kann Oberfläche nicht initialisieren: Dialog\n",
      "debconf: (Die Dialog-Oberfläche funktioniert nicht auf einem Dumb-Terminal, einem Emacs-Shellbuffer oder ohne ein steuerndes Terminal.)\n",
      "debconf: greife zurück auf die Oberfläche: Readline\n",
      "debconf: kann Oberfläche nicht initialisieren: Readline\n",
      "debconf: (Can't locate Term/ReadLine.pm in @INC (you may need to install the Term::ReadLine module) (@INC contains: /etc/perl /usr/local/lib/x86_64-linux-gnu/perl/5.22.1 /usr/local/share/perl/5.22.1 /usr/lib/x86_64-linux-gnu/perl5/5.22 /usr/share/perl5 /usr/lib/x86_64-linux-gnu/perl/5.22 /usr/share/perl/5.22 /usr/local/lib/site_perl /usr/lib/x86_64-linux-gnu/perl-base .) at /usr/share/perl5/Debconf/FrontEnd/Readline.pm line 7.)\n",
      "debconf: greife zurück auf die Oberfläche: Teletype\n",
      "Creating SSH2 RSA key; this may take some time ...\n",
      "2048 SHA256:g5HLcyZux1d37p4ChcvbsTV99Lhv/5V7cmv0+Y046e8 root@rdf-dev (RSA)\n",
      "Creating SSH2 DSA key; this may take some time ...\n",
      "1024 SHA256:jAhrw1L6ub4xRH1tGLIVCEClihnJnUF6UQTgtyIWTe0 root@rdf-dev (DSA)\n",
      "Creating SSH2 ECDSA key; this may take some time ...\n",
      "256 SHA256:q55nExyysoUfxYbFr6qxm4G29+ILdake/RFDK5EjtB0 root@rdf-dev (ECDSA)\n",
      "Creating SSH2 ED25519 key; this may take some time ...\n",
      "256 SHA256:XZQl6nnl+vZ+9gJK+k3CHMLoFAyN37e74ygysbBFsnc root@rdf-dev (ED25519)\n",
      "invoke-rc.d: could not determine current runlevel\n",
      "invoke-rc.d: policy-rc.d denied execution of start.\n",
      "\n",
      "Current default time zone: 'Etc/UTC'\n",
      "Local time is now:      Fri Mar  2 22:38:19 UTC 2018.\n",
      "Universal Time is now:  Fri Mar  2 22:38:19 UTC 2018.\n",
      "\n",
      "\n",
      "##\n",
      "# The default user is 'ubuntu' with password 'ubuntu'!\n",
      "# Use the 'sudo' command to run tasks as root in the container.\n",
      "##\n",
      "\n"
     ]
    }
   ],
   "source": [
    "sudo lxc-create --bdev lvm --fssize 10G --name lvm_container --template ubuntu"
   ]
  },
  {
   "cell_type": "code",
   "execution_count": 45,
   "metadata": {
    "ExecuteTime": {
     "end_time": "2018-03-02T22:38:20.127982Z",
     "start_time": "2018-03-02T22:38:19.987597Z"
    }
   },
   "outputs": [
    {
     "name": "stdout",
     "output_type": "stream",
     "text": [
      "NAME          STATE   AUTOSTART GROUPS IPV4 IPV6 \n",
      "lvm_container STOPPED 0         -      -    -    \n"
     ]
    }
   ],
   "source": [
    "sudo lxc-ls --fancy"
   ]
  },
  {
   "cell_type": "code",
   "execution_count": 46,
   "metadata": {
    "ExecuteTime": {
     "end_time": "2018-03-02T22:38:23.012501Z",
     "start_time": "2018-03-02T22:38:22.739187Z"
    }
   },
   "outputs": [
    {
     "name": "stdout",
     "output_type": "stream",
     "text": [
      "  PV         VG         Fmt  Attr PSize   PFree  \n",
      "  /dev/sda5  rdf-dev-vg lvm2 a--  126,52g      0 \n",
      "  /dev/sdb1  lxc        lvm2 a--  500,00g 490,00g\n"
     ]
    }
   ],
   "source": [
    "sudo pvs"
   ]
  },
  {
   "cell_type": "code",
   "execution_count": 47,
   "metadata": {
    "ExecuteTime": {
     "end_time": "2018-03-02T22:38:23.880254Z",
     "start_time": "2018-03-02T22:38:23.742760Z"
    }
   },
   "outputs": [
    {
     "name": "stdout",
     "output_type": "stream",
     "text": [
      "  VG         #PV #LV #SN Attr   VSize   VFree  \n",
      "  lxc          1   1   0 wz--n- 500,00g 490,00g\n",
      "  rdf-dev-vg   1   2   0 wz--n- 126,52g      0 \n"
     ]
    }
   ],
   "source": [
    "sudo vgs"
   ]
  },
  {
   "cell_type": "code",
   "execution_count": 48,
   "metadata": {
    "ExecuteTime": {
     "end_time": "2018-03-02T22:38:25.075852Z",
     "start_time": "2018-03-02T22:38:24.931301Z"
    }
   },
   "outputs": [
    {
     "name": "stdout",
     "output_type": "stream",
     "text": [
      "  LV            VG         Attr       LSize   Pool Origin Data%  Meta%  Move Log Cpy%Sync Convert\n",
      "  lvm_container lxc        -wi-a-----  10,00g                                                    \n",
      "  root          rdf-dev-vg -wi-ao---- 124,52g                                                    \n",
      "  swap_1        rdf-dev-vg -wi-ao----   2,00g                                                    \n"
     ]
    }
   ],
   "source": [
    "sudo lvs"
   ]
  },
  {
   "cell_type": "code",
   "execution_count": 49,
   "metadata": {
    "ExecuteTime": {
     "end_time": "2018-03-02T22:38:25.922111Z",
     "start_time": "2018-03-02T22:38:25.688473Z"
    }
   },
   "outputs": [],
   "source": [
    "sudo lxc-start -n lvm_container"
   ]
  },
  {
   "cell_type": "code",
   "execution_count": 50,
   "metadata": {
    "ExecuteTime": {
     "end_time": "2018-03-02T22:38:26.820026Z",
     "start_time": "2018-03-02T22:38:26.673307Z"
    }
   },
   "outputs": [
    {
     "name": "stdout",
     "output_type": "stream",
     "text": [
      "NAME          STATE   AUTOSTART GROUPS IPV4 IPV6 \n",
      "lvm_container RUNNING 0         -      -    -    \n"
     ]
    }
   ],
   "source": [
    "sudo lxc-ls --fancy"
   ]
  },
  {
   "cell_type": "code",
   "execution_count": 51,
   "metadata": {
    "ExecuteTime": {
     "end_time": "2018-03-02T22:38:27.513996Z",
     "start_time": "2018-03-02T22:38:27.385682Z"
    }
   },
   "outputs": [
    {
     "name": "stdout",
     "output_type": "stream",
     "text": [
      "lxc.include = /usr/share/lxc/config/ubuntu.common.conf\n",
      "lxc.rootfs.path = lvm:/dev/lxc/lvm_container\n",
      "lxc.uts.name = lvm_container\n",
      "lxc.arch = amd64\n",
      "lxc.net.0.type = veth\n",
      "lxc.net.0.link = lxcbr0\n",
      "lxc.net.0.flags = up\n",
      "lxc.net.0.hwaddr = 00:16:3e:50:e6:dc\n"
     ]
    }
   ],
   "source": [
    "sudo grep -vi ^# /var/lib/lxc/lvm_container/config | grep -v ^$"
   ]
  },
  {
   "cell_type": "code",
   "execution_count": 52,
   "metadata": {
    "ExecuteTime": {
     "end_time": "2018-03-02T22:38:28.366842Z",
     "start_time": "2018-03-02T22:38:28.253471Z"
    }
   },
   "outputs": [
    {
     "name": "stdout",
     "output_type": "stream",
     "text": [
      "insgesamt 0\n",
      "drwxr-xr-x  2 root root   60 Mär  2 22:38 .\n",
      "drwxr-xr-x 20 root root 4000 Mär  2 22:38 ..\n",
      "lrwxrwxrwx  1 root root    7 Mär  2 22:38 lvm_container -> ../dm-2\n"
     ]
    }
   ],
   "source": [
    "ls -la /dev/lxc"
   ]
  },
  {
   "cell_type": "code",
   "execution_count": 53,
   "metadata": {
    "ExecuteTime": {
     "end_time": "2018-03-02T22:38:29.127255Z",
     "start_time": "2018-03-02T22:38:29.010729Z"
    }
   },
   "outputs": [
    {
     "name": "stdout",
     "output_type": "stream",
     "text": [
      "insgesamt 0\n",
      "drwxr-xr-x  2 root root     120 Mär  2 22:38 .\n",
      "drwxr-xr-x 20 root root    4000 Mär  2 22:38 ..\n",
      "crw-------  1 root root 10, 236 Mär  2 21:23 control\n",
      "lrwxrwxrwx  1 root root       7 Mär  2 22:38 lxc-lvm_container -> ../dm-2\n",
      "lrwxrwxrwx  1 root root       7 Mär  2 21:23 rdf--dev--vg-root -> ../dm-0\n",
      "lrwxrwxrwx  1 root root       7 Mär  2 21:23 rdf--dev--vg-swap_1 -> ../dm-1\n"
     ]
    }
   ],
   "source": [
    "ls -la /dev/mapper"
   ]
  },
  {
   "cell_type": "code",
   "execution_count": 54,
   "metadata": {
    "ExecuteTime": {
     "end_time": "2018-03-02T22:38:30.844068Z",
     "start_time": "2018-03-02T22:38:30.719168Z"
    }
   },
   "outputs": [
    {
     "name": "stdout",
     "output_type": "stream",
     "text": [
      "lrwxrwxrwx 1 root root 7 Mär  2 22:38 /dev/mapper/lxc-lvm_container -> ../dm-2\n"
     ]
    }
   ],
   "source": [
    "ls -la /dev/mapper/lxc-lvm_container"
   ]
  },
  {
   "cell_type": "code",
   "execution_count": null,
   "metadata": {
    "ExecuteTime": {
     "start_time": "2018-03-02T22:38:31.726Z"
    }
   },
   "outputs": [],
   "source": [
    "sudo lxc-create --bdev lvm --fssize 5G --name lvm_container_2 --template ubuntu"
   ]
  },
  {
   "cell_type": "code",
   "execution_count": null,
   "metadata": {
    "ExecuteTime": {
     "end_time": "2018-03-02T22:36:09.044951Z",
     "start_time": "2018-03-02T22:35:51.505Z"
    }
   },
   "outputs": [],
   "source": [
    "sudo lvs"
   ]
  },
  {
   "cell_type": "code",
   "execution_count": null,
   "metadata": {
    "ExecuteTime": {
     "end_time": "2018-03-02T22:36:09.045623Z",
     "start_time": "2018-03-02T22:35:51.509Z"
    }
   },
   "outputs": [],
   "source": [
    "ls -la /dev/lxc"
   ]
  },
  {
   "cell_type": "code",
   "execution_count": null,
   "metadata": {
    "ExecuteTime": {
     "end_time": "2018-03-02T22:36:09.046336Z",
     "start_time": "2018-03-02T22:35:51.514Z"
    }
   },
   "outputs": [],
   "source": [
    "sudo lvdisplay"
   ]
  },
  {
   "cell_type": "markdown",
   "metadata": {},
   "source": [
    "## Snapshots von Containern mit LVM"
   ]
  },
  {
   "cell_type": "code",
   "execution_count": null,
   "metadata": {
    "ExecuteTime": {
     "end_time": "2018-03-02T22:36:09.047127Z",
     "start_time": "2018-03-02T22:35:51.518Z"
    }
   },
   "outputs": [],
   "source": [
    "sudo lxc-copy --snapshot --name lvm_container_2 --newname container_2_copy"
   ]
  },
  {
   "cell_type": "code",
   "execution_count": null,
   "metadata": {
    "ExecuteTime": {
     "end_time": "2018-03-02T22:36:09.047735Z",
     "start_time": "2018-03-02T22:35:51.522Z"
    }
   },
   "outputs": [],
   "source": [
    "sudo lxc-ls --fancy"
   ]
  },
  {
   "cell_type": "code",
   "execution_count": null,
   "metadata": {
    "ExecuteTime": {
     "end_time": "2018-03-02T22:36:09.048540Z",
     "start_time": "2018-03-02T22:35:51.525Z"
    }
   },
   "outputs": [],
   "source": [
    "sudo lvs"
   ]
  },
  {
   "cell_type": "code",
   "execution_count": null,
   "metadata": {
    "ExecuteTime": {
     "end_time": "2018-03-02T22:36:09.049274Z",
     "start_time": "2018-03-02T22:35:51.529Z"
    }
   },
   "outputs": [],
   "source": [
    "sudo lxc-copy --name lvm_container_2 --newname container_2_hard"
   ]
  },
  {
   "cell_type": "code",
   "execution_count": null,
   "metadata": {
    "ExecuteTime": {
     "end_time": "2018-03-02T22:36:09.049926Z",
     "start_time": "2018-03-02T22:35:51.533Z"
    }
   },
   "outputs": [],
   "source": [
    "sudo sfdisk -l"
   ]
  },
  {
   "cell_type": "code",
   "execution_count": null,
   "metadata": {
    "ExecuteTime": {
     "end_time": "2018-03-02T22:36:09.050496Z",
     "start_time": "2018-03-02T22:35:51.537Z"
    }
   },
   "outputs": [],
   "source": [
    "sudo lvs"
   ]
  },
  {
   "cell_type": "markdown",
   "metadata": {},
   "source": [
    "## Aufräumen LVM"
   ]
  },
  {
   "cell_type": "code",
   "execution_count": 18,
   "metadata": {
    "ExecuteTime": {
     "end_time": "2018-03-02T22:36:21.546117Z",
     "start_time": "2018-03-02T22:36:21.152078Z"
    }
   },
   "outputs": [
    {
     "name": "stdout",
     "output_type": "stream",
     "text": [
      "Container is not defined\n",
      "Container is not defined\n",
      "lxc-destroy: lvm_container: lxccontainer.c: lxc_container_new: 4509 Error: lvm_container creation was not completed\n",
      "Container is not defined\n",
      "Container is not defined\n"
     ]
    },
    {
     "ename": "",
     "evalue": "1",
     "output_type": "error",
     "traceback": []
    }
   ],
   "source": [
    "sudo lxc-destroy -n container_2_copy --force\n",
    "sudo lxc-destroy -n container_2_hard --force\n",
    "sudo lxc-destroy -n lvm_container --force\n",
    "sudo lxc-destroy -n lvm_container_2 --force"
   ]
  },
  {
   "cell_type": "code",
   "execution_count": 19,
   "metadata": {
    "ExecuteTime": {
     "end_time": "2018-03-02T22:36:22.414371Z",
     "start_time": "2018-03-02T22:36:22.273385Z"
    }
   },
   "outputs": [],
   "source": [
    "sudo lxc-ls"
   ]
  },
  {
   "cell_type": "code",
   "execution_count": 20,
   "metadata": {
    "ExecuteTime": {
     "end_time": "2018-03-02T22:36:23.470298Z",
     "start_time": "2018-03-02T22:36:23.328021Z"
    }
   },
   "outputs": [],
   "source": [
    "sudo rm -rf /var/lib/lxc/lvm_container /var/lib/lxc/container*"
   ]
  },
  {
   "cell_type": "code",
   "execution_count": 21,
   "metadata": {
    "ExecuteTime": {
     "end_time": "2018-03-02T22:36:25.303075Z",
     "start_time": "2018-03-02T22:36:25.142223Z"
    }
   },
   "outputs": [
    {
     "name": "stdout",
     "output_type": "stream",
     "text": [
      "insgesamt 8\n",
      "drwx------  2 root root 4096 Mär  2 22:36 .\n",
      "drwxr-xr-x 80 root root 4096 Mär  1 20:57 ..\n"
     ]
    }
   ],
   "source": [
    "sudo ls -la /var/lib/lxc"
   ]
  },
  {
   "cell_type": "code",
   "execution_count": 22,
   "metadata": {
    "ExecuteTime": {
     "end_time": "2018-03-02T22:36:26.190854Z",
     "start_time": "2018-03-02T22:36:26.034911Z"
    }
   },
   "outputs": [
    {
     "name": "stdout",
     "output_type": "stream",
     "text": [
      "  --- Logical volume ---\n",
      "  LV Path                /dev/rdf-dev-vg/root\n",
      "  LV Name                root\n",
      "  VG Name                rdf-dev-vg\n",
      "  LV UUID                e37fOu-htdN-6LU1-DhCt-uRsQ-Xmeg-Q7gIVq\n",
      "  LV Write Access        read/write\n",
      "  LV Creation host, time rdf-dev, 2018-03-01 18:34:14 +0000\n",
      "  LV Status              available\n",
      "  # open                 1\n",
      "  LV Size                124,52 GiB\n",
      "  Current LE             31877\n",
      "  Segments               1\n",
      "  Allocation             inherit\n",
      "  Read ahead sectors     auto\n",
      "  - currently set to     256\n",
      "  Block device           252:0\n",
      "   \n",
      "  --- Logical volume ---\n",
      "  LV Path                /dev/rdf-dev-vg/swap_1\n",
      "  LV Name                swap_1\n",
      "  VG Name                rdf-dev-vg\n",
      "  LV UUID                3dndC1-HqZf-oKqh-ZHJu-eK1y-jOIa-vf4TOC\n",
      "  LV Write Access        read/write\n",
      "  LV Creation host, time rdf-dev, 2018-03-01 18:34:14 +0000\n",
      "  LV Status              available\n",
      "  # open                 2\n",
      "  LV Size                2,00 GiB\n",
      "  Current LE             512\n",
      "  Segments               1\n",
      "  Allocation             inherit\n",
      "  Read ahead sectors     auto\n",
      "  - currently set to     256\n",
      "  Block device           252:1\n",
      "   \n",
      "  --- Logical volume ---\n",
      "  LV Path                /dev/lxc/lvm_container\n",
      "  LV Name                lvm_container\n",
      "  VG Name                lxc\n",
      "  LV UUID                0v9zjD-PCWX-2tkg-HQym-Ddds-sT0N-RQgQel\n",
      "  LV Write Access        read/write\n",
      "  LV Creation host, time rdf-dev, 2018-03-02 22:35:53 +0000\n",
      "  LV Status              available\n",
      "  # open                 0\n",
      "  LV Size                10,00 GiB\n",
      "  Current LE             2560\n",
      "  Segments               1\n",
      "  Allocation             inherit\n",
      "  Read ahead sectors     auto\n",
      "  - currently set to     256\n",
      "  Block device           252:2\n",
      "   \n"
     ]
    }
   ],
   "source": [
    "sudo lvdisplay"
   ]
  },
  {
   "cell_type": "code",
   "execution_count": 23,
   "metadata": {
    "ExecuteTime": {
     "end_time": "2018-03-02T22:36:34.875652Z",
     "start_time": "2018-03-02T22:36:34.703281Z"
    }
   },
   "outputs": [
    {
     "name": "stdout",
     "output_type": "stream",
     "text": [
      "Do you really want to remove and DISCARD active logical volume lvm_container? [y/n]:   Logical volume \"lvm_container\" successfully removed\n",
      "yes: Standardausgabe: Datenübergabe unterbrochen (broken pipe)\n"
     ]
    }
   ],
   "source": [
    "yes | sudo lvremove /dev/lxc/lvm_container*"
   ]
  },
  {
   "cell_type": "code",
   "execution_count": 24,
   "metadata": {
    "ExecuteTime": {
     "end_time": "2018-03-02T22:36:43.505820Z",
     "start_time": "2018-03-02T22:36:43.369590Z"
    }
   },
   "outputs": [
    {
     "name": "stdout",
     "output_type": "stream",
     "text": [
      "  --- Logical volume ---\n",
      "  LV Path                /dev/rdf-dev-vg/root\n",
      "  LV Name                root\n",
      "  VG Name                rdf-dev-vg\n",
      "  LV UUID                e37fOu-htdN-6LU1-DhCt-uRsQ-Xmeg-Q7gIVq\n",
      "  LV Write Access        read/write\n",
      "  LV Creation host, time rdf-dev, 2018-03-01 18:34:14 +0000\n",
      "  LV Status              available\n",
      "  # open                 1\n",
      "  LV Size                124,52 GiB\n",
      "  Current LE             31877\n",
      "  Segments               1\n",
      "  Allocation             inherit\n",
      "  Read ahead sectors     auto\n",
      "  - currently set to     256\n",
      "  Block device           252:0\n",
      "   \n",
      "  --- Logical volume ---\n",
      "  LV Path                /dev/rdf-dev-vg/swap_1\n",
      "  LV Name                swap_1\n",
      "  VG Name                rdf-dev-vg\n",
      "  LV UUID                3dndC1-HqZf-oKqh-ZHJu-eK1y-jOIa-vf4TOC\n",
      "  LV Write Access        read/write\n",
      "  LV Creation host, time rdf-dev, 2018-03-01 18:34:14 +0000\n",
      "  LV Status              available\n",
      "  # open                 2\n",
      "  LV Size                2,00 GiB\n",
      "  Current LE             512\n",
      "  Segments               1\n",
      "  Allocation             inherit\n",
      "  Read ahead sectors     auto\n",
      "  - currently set to     256\n",
      "  Block device           252:1\n",
      "   \n"
     ]
    }
   ],
   "source": [
    "sudo lvdisplay"
   ]
  },
  {
   "cell_type": "code",
   "execution_count": 25,
   "metadata": {
    "ExecuteTime": {
     "end_time": "2018-03-02T22:36:46.993096Z",
     "start_time": "2018-03-02T22:36:46.844338Z"
    }
   },
   "outputs": [
    {
     "name": "stdout",
     "output_type": "stream",
     "text": [
      "  --- Volume group ---\n",
      "  VG Name               rdf-dev-vg\n",
      "  System ID             \n",
      "  Format                lvm2\n",
      "  Metadata Areas        1\n",
      "  Metadata Sequence No  3\n",
      "  VG Access             read/write\n",
      "  VG Status             resizable\n",
      "  MAX LV                0\n",
      "  Cur LV                2\n",
      "  Open LV               2\n",
      "  Max PV                0\n",
      "  Cur PV                1\n",
      "  Act PV                1\n",
      "  VG Size               126,52 GiB\n",
      "  PE Size               4,00 MiB\n",
      "  Total PE              32389\n",
      "  Alloc PE / Size       32389 / 126,52 GiB\n",
      "  Free  PE / Size       0 / 0   \n",
      "  VG UUID               wXk0gg-8wqq-8VGw-t2bp-BJCv-MIhD-dWfCJM\n",
      "   \n",
      "  --- Volume group ---\n",
      "  VG Name               lxc\n",
      "  System ID             \n",
      "  Format                lvm2\n",
      "  Metadata Areas        1\n",
      "  Metadata Sequence No  3\n",
      "  VG Access             read/write\n",
      "  VG Status             resizable\n",
      "  MAX LV                0\n",
      "  Cur LV                0\n",
      "  Open LV               0\n",
      "  Max PV                0\n",
      "  Cur PV                1\n",
      "  Act PV                1\n",
      "  VG Size               500,00 GiB\n",
      "  PE Size               4,00 MiB\n",
      "  Total PE              127999\n",
      "  Alloc PE / Size       0 / 0   \n",
      "  Free  PE / Size       127999 / 500,00 GiB\n",
      "  VG UUID               sfRsUy-62dv-AjNc-yLdq-8dfO-yPmF-TqAifo\n",
      "   \n"
     ]
    }
   ],
   "source": [
    "sudo vgdisplay"
   ]
  },
  {
   "cell_type": "code",
   "execution_count": 26,
   "metadata": {
    "ExecuteTime": {
     "end_time": "2018-03-02T22:36:50.697112Z",
     "start_time": "2018-03-02T22:36:50.563405Z"
    }
   },
   "outputs": [
    {
     "name": "stdout",
     "output_type": "stream",
     "text": [
      "  Volume group \"lxc\" successfully removed\n",
      "yes: Standardausgabe: Datenübergabe unterbrochen (broken pipe)\n"
     ]
    }
   ],
   "source": [
    "yes | sudo vgremove lxc"
   ]
  },
  {
   "cell_type": "code",
   "execution_count": 27,
   "metadata": {
    "ExecuteTime": {
     "end_time": "2018-03-02T22:36:52.568650Z",
     "start_time": "2018-03-02T22:36:52.432779Z"
    }
   },
   "outputs": [
    {
     "name": "stdout",
     "output_type": "stream",
     "text": [
      "  --- Volume group ---\n",
      "  VG Name               rdf-dev-vg\n",
      "  System ID             \n",
      "  Format                lvm2\n",
      "  Metadata Areas        1\n",
      "  Metadata Sequence No  3\n",
      "  VG Access             read/write\n",
      "  VG Status             resizable\n",
      "  MAX LV                0\n",
      "  Cur LV                2\n",
      "  Open LV               2\n",
      "  Max PV                0\n",
      "  Cur PV                1\n",
      "  Act PV                1\n",
      "  VG Size               126,52 GiB\n",
      "  PE Size               4,00 MiB\n",
      "  Total PE              32389\n",
      "  Alloc PE / Size       32389 / 126,52 GiB\n",
      "  Free  PE / Size       0 / 0   \n",
      "  VG UUID               wXk0gg-8wqq-8VGw-t2bp-BJCv-MIhD-dWfCJM\n",
      "   \n"
     ]
    }
   ],
   "source": [
    "sudo vgdisplay"
   ]
  },
  {
   "cell_type": "code",
   "execution_count": 28,
   "metadata": {
    "ExecuteTime": {
     "end_time": "2018-03-02T22:36:53.991601Z",
     "start_time": "2018-03-02T22:36:53.748869Z"
    }
   },
   "outputs": [
    {
     "name": "stdout",
     "output_type": "stream",
     "text": [
      "  --- Physical volume ---\n",
      "  PV Name               /dev/sda5\n",
      "  VG Name               rdf-dev-vg\n",
      "  PV Size               126,52 GiB / not usable 2,00 MiB\n",
      "  Allocatable           yes (but full)\n",
      "  PE Size               4,00 MiB\n",
      "  Total PE              32389\n",
      "  Free PE               0\n",
      "  Allocated PE          32389\n",
      "  PV UUID               VmfmJI-34r3-XL3L-yD8u-tJvo-FVk1-QjdT6L\n",
      "   \n",
      "  \"/dev/sdb1\" is a new physical volume of \"500,00 GiB\"\n",
      "  --- NEW Physical volume ---\n",
      "  PV Name               /dev/sdb1\n",
      "  VG Name               \n",
      "  PV Size               500,00 GiB\n",
      "  Allocatable           NO\n",
      "  PE Size               0   \n",
      "  Total PE              0\n",
      "  Free PE               0\n",
      "  Allocated PE          0\n",
      "  PV UUID               nDPGZB-L3T1-BJxE-HvJi-JPIl-nI6t-HRPKyH\n",
      "   \n"
     ]
    }
   ],
   "source": [
    "sudo pvdisplay"
   ]
  },
  {
   "cell_type": "code",
   "execution_count": 29,
   "metadata": {
    "ExecuteTime": {
     "end_time": "2018-03-02T22:36:54.902626Z",
     "start_time": "2018-03-02T22:36:54.764845Z"
    }
   },
   "outputs": [
    {
     "name": "stdout",
     "output_type": "stream",
     "text": [
      "  Labels on physical volume \"/dev/sdb1\" successfully wiped\n"
     ]
    }
   ],
   "source": [
    "sudo pvremove /dev/sdb1"
   ]
  },
  {
   "cell_type": "code",
   "execution_count": 30,
   "metadata": {
    "ExecuteTime": {
     "end_time": "2018-03-02T22:36:56.011470Z",
     "start_time": "2018-03-02T22:36:55.741221Z"
    }
   },
   "outputs": [
    {
     "name": "stdout",
     "output_type": "stream",
     "text": [
      "  --- Physical volume ---\n",
      "  PV Name               /dev/sda5\n",
      "  VG Name               rdf-dev-vg\n",
      "  PV Size               126,52 GiB / not usable 2,00 MiB\n",
      "  Allocatable           yes (but full)\n",
      "  PE Size               4,00 MiB\n",
      "  Total PE              32389\n",
      "  Free PE               0\n",
      "  Allocated PE          32389\n",
      "  PV UUID               VmfmJI-34r3-XL3L-yD8u-tJvo-FVk1-QjdT6L\n",
      "   \n"
     ]
    }
   ],
   "source": [
    "sudo pvdisplay"
   ]
  },
  {
   "cell_type": "code",
   "execution_count": 31,
   "metadata": {
    "ExecuteTime": {
     "end_time": "2018-03-02T22:36:58.422390Z",
     "start_time": "2018-03-02T22:36:58.254822Z"
    }
   },
   "outputs": [],
   "source": [
    "sudo parted -s /dev/sdb rm 1"
   ]
  },
  {
   "cell_type": "markdown",
   "metadata": {},
   "source": [
    "## Erstellen eines Blockdevice"
   ]
  },
  {
   "cell_type": "code",
   "execution_count": null,
   "metadata": {},
   "outputs": [],
   "source": [
    "pwd"
   ]
  },
  {
   "cell_type": "code",
   "execution_count": null,
   "metadata": {},
   "outputs": [],
   "source": [
    "truncate --size 5G ../xvdz.img"
   ]
  },
  {
   "cell_type": "code",
   "execution_count": null,
   "metadata": {},
   "outputs": [],
   "source": [
    "ls -la ../xvdz.img"
   ]
  },
  {
   "cell_type": "code",
   "execution_count": null,
   "metadata": {},
   "outputs": [],
   "source": [
    "sudo modprobe loop"
   ]
  },
  {
   "cell_type": "code",
   "execution_count": null,
   "metadata": {},
   "outputs": [],
   "source": [
    "sudo losetup --find"
   ]
  },
  {
   "cell_type": "code",
   "execution_count": null,
   "metadata": {},
   "outputs": [],
   "source": [
    "sudo losetup /dev/loop0 ../xvdz.img"
   ]
  },
  {
   "cell_type": "code",
   "execution_count": null,
   "metadata": {},
   "outputs": [],
   "source": [
    "sudo losetup --all"
   ]
  },
  {
   "cell_type": "code",
   "execution_count": null,
   "metadata": {},
   "outputs": [],
   "source": [
    "sudo pvcreate /dev/loop0"
   ]
  },
  {
   "cell_type": "markdown",
   "metadata": {},
   "source": [
    "## Alternative mit dd"
   ]
  },
  {
   "cell_type": "code",
   "execution_count": null,
   "metadata": {},
   "outputs": [],
   "source": [
    "sudo  dd if=/dev/zero of=/block_device bs=1k count=500000"
   ]
  },
  {
   "cell_type": "code",
   "execution_count": null,
   "metadata": {},
   "outputs": [],
   "source": [
    "sudo losetup --find"
   ]
  },
  {
   "cell_type": "code",
   "execution_count": null,
   "metadata": {},
   "outputs": [],
   "source": [
    "sudo losetup /dev/loop1 /block_device"
   ]
  },
  {
   "cell_type": "code",
   "execution_count": null,
   "metadata": {},
   "outputs": [],
   "source": [
    "sudo pvcreate /dev/loop1"
   ]
  },
  {
   "cell_type": "code",
   "execution_count": null,
   "metadata": {},
   "outputs": [],
   "source": [
    "sudo losetup --all"
   ]
  },
  {
   "cell_type": "markdown",
   "metadata": {},
   "source": [
    "## Löschen der Blockdevices"
   ]
  },
  {
   "cell_type": "code",
   "execution_count": null,
   "metadata": {},
   "outputs": [],
   "source": [
    "sudo losetup --detach /dev/loop0"
   ]
  },
  {
   "cell_type": "code",
   "execution_count": null,
   "metadata": {},
   "outputs": [],
   "source": [
    "sudo losetup --detach /dev/loop1"
   ]
  },
  {
   "cell_type": "code",
   "execution_count": null,
   "metadata": {},
   "outputs": [],
   "source": [
    "sudo losetup --all"
   ]
  },
  {
   "cell_type": "markdown",
   "metadata": {},
   "source": [
    "## Btrfs Speicher"
   ]
  },
  {
   "cell_type": "code",
   "execution_count": null,
   "metadata": {},
   "outputs": [],
   "source": [
    "apt policy btrfs-tools"
   ]
  },
  {
   "cell_type": "code",
   "execution_count": null,
   "metadata": {},
   "outputs": [],
   "source": [
    "sudo apt install -y btrfs-tools"
   ]
  },
  {
   "cell_type": "code",
   "execution_count": null,
   "metadata": {},
   "outputs": [],
   "source": [
    "lsmod | grep btrfs"
   ]
  },
  {
   "cell_type": "code",
   "execution_count": null,
   "metadata": {},
   "outputs": [],
   "source": [
    "sudo modprobe btrfs"
   ]
  },
  {
   "cell_type": "code",
   "execution_count": null,
   "metadata": {},
   "outputs": [],
   "source": [
    "lsmod | grep btrfs"
   ]
  },
  {
   "cell_type": "code",
   "execution_count": null,
   "metadata": {},
   "outputs": [],
   "source": [
    "sudo losetup --find"
   ]
  },
  {
   "cell_type": "code",
   "execution_count": null,
   "metadata": {},
   "outputs": [],
   "source": [
    "ls -la ../xvdz.img"
   ]
  },
  {
   "cell_type": "code",
   "execution_count": null,
   "metadata": {},
   "outputs": [],
   "source": [
    "sudo losetup /dev/loop0 ../xvdz.img"
   ]
  },
  {
   "cell_type": "code",
   "execution_count": null,
   "metadata": {},
   "outputs": [],
   "source": [
    "sudo mkfs -t btrfs -f /dev/loop0"
   ]
  },
  {
   "cell_type": "code",
   "execution_count": null,
   "metadata": {},
   "outputs": [],
   "source": [
    "sudo file -s /dev/loop0"
   ]
  },
  {
   "cell_type": "code",
   "execution_count": null,
   "metadata": {},
   "outputs": [],
   "source": [
    "sudo btrfs filesystem show"
   ]
  },
  {
   "cell_type": "code",
   "execution_count": null,
   "metadata": {},
   "outputs": [],
   "source": [
    "mkdir ../btrfs_c1"
   ]
  },
  {
   "cell_type": "code",
   "execution_count": null,
   "metadata": {},
   "outputs": [],
   "source": [
    "sudo mount /dev/loop0 ../btrfs_c1"
   ]
  },
  {
   "cell_type": "code",
   "execution_count": null,
   "metadata": {},
   "outputs": [],
   "source": [
    "cat /proc/mounts | grep btrfs"
   ]
  },
  {
   "cell_type": "code",
   "execution_count": null,
   "metadata": {},
   "outputs": [],
   "source": [
    "sudo btrfs subvolume show ../btrfs_c1"
   ]
  },
  {
   "cell_type": "code",
   "execution_count": null,
   "metadata": {},
   "outputs": [],
   "source": [
    "sudo btrfs filesystem df ../btrfs_c1"
   ]
  },
  {
   "cell_type": "code",
   "execution_count": null,
   "metadata": {},
   "outputs": [],
   "source": [
    "sudo lxc-create --bdev btrfs --lxcpath=$(pwd)/../btrfs_c1 --name btrfs_container --template ubuntu"
   ]
  },
  {
   "cell_type": "code",
   "execution_count": null,
   "metadata": {},
   "outputs": [],
   "source": [
    "sudo lxc-ls -f --lxcpath=$(pwd)/../btrfs_c1"
   ]
  },
  {
   "cell_type": "code",
   "execution_count": null,
   "metadata": {},
   "outputs": [],
   "source": [
    "sudo lxc-config lxc.lxcpath"
   ]
  },
  {
   "cell_type": "code",
   "execution_count": null,
   "metadata": {},
   "outputs": [],
   "source": [
    "echo \"lxc.lxcpath = $(pwd)/../btrfs_c1\" | sudo tee -a /etc/lxc/lxc.conf"
   ]
  },
  {
   "cell_type": "code",
   "execution_count": null,
   "metadata": {},
   "outputs": [],
   "source": [
    "sudo lxc-config lxc.lxcpath"
   ]
  },
  {
   "cell_type": "code",
   "execution_count": null,
   "metadata": {},
   "outputs": [],
   "source": [
    "sudo lxc-ls --fancy"
   ]
  },
  {
   "cell_type": "code",
   "execution_count": null,
   "metadata": {},
   "outputs": [],
   "source": [
    "sudo ls -la ../btrfs_c1/btrfs_container"
   ]
  },
  {
   "cell_type": "code",
   "execution_count": null,
   "metadata": {},
   "outputs": [],
   "source": [
    "sudo btrfs subvolume list ../btrfs_c1"
   ]
  },
  {
   "cell_type": "markdown",
   "metadata": {},
   "source": [
    "### Snapshot Btrfs"
   ]
  },
  {
   "cell_type": "code",
   "execution_count": null,
   "metadata": {},
   "outputs": [],
   "source": [
    "sudo lxc-copy -s -n btrfs_container -N btrfs_cow_clone"
   ]
  },
  {
   "cell_type": "code",
   "execution_count": null,
   "metadata": {},
   "outputs": [],
   "source": [
    "sudo lxc-ls -f"
   ]
  },
  {
   "cell_type": "code",
   "execution_count": null,
   "metadata": {},
   "outputs": [],
   "source": [
    "sudo btrfs subvolume list ../btrfs_c1"
   ]
  },
  {
   "cell_type": "code",
   "execution_count": null,
   "metadata": {},
   "outputs": [],
   "source": [
    "sudo ls -la ../btrfs_c1"
   ]
  },
  {
   "cell_type": "code",
   "execution_count": null,
   "metadata": {},
   "outputs": [],
   "source": [
    "sudo grep -vi ^# ../btrfs_c1/btrfs_container/config | grep lxc"
   ]
  },
  {
   "cell_type": "code",
   "execution_count": null,
   "metadata": {},
   "outputs": [],
   "source": [
    "sudo lxc-start -n btrfs_cow_clone"
   ]
  },
  {
   "cell_type": "code",
   "execution_count": null,
   "metadata": {},
   "outputs": [],
   "source": [
    "sudo lxc-start -n btrfs_container"
   ]
  },
  {
   "cell_type": "code",
   "execution_count": null,
   "metadata": {},
   "outputs": [],
   "source": [
    "sudo lxc-ls -f"
   ]
  },
  {
   "cell_type": "markdown",
   "metadata": {},
   "source": [
    "### Aufräumen"
   ]
  },
  {
   "cell_type": "code",
   "execution_count": null,
   "metadata": {},
   "outputs": [],
   "source": [
    "sudo lxc-stop -n btrfs_cow_clone\n",
    "sudo lxc-stop -n btrfs_container"
   ]
  },
  {
   "cell_type": "code",
   "execution_count": null,
   "metadata": {},
   "outputs": [],
   "source": [
    "sudo umount ../btrfs_c1"
   ]
  },
  {
   "cell_type": "code",
   "execution_count": null,
   "metadata": {},
   "outputs": [],
   "source": [
    "echo \"lxc.lxcpath = /var/lib/lxc\" | sudo tee /etc/lxc/lxc.conf"
   ]
  },
  {
   "cell_type": "markdown",
   "metadata": {},
   "source": [
    "## ZFS"
   ]
  },
  {
   "cell_type": "code",
   "execution_count": null,
   "metadata": {},
   "outputs": [],
   "source": [
    "apt policy zfsutils-linux"
   ]
  },
  {
   "cell_type": "code",
   "execution_count": null,
   "metadata": {},
   "outputs": [],
   "source": [
    "sudo lsmod | grep zfs\n",
    "# modeprobe zfs"
   ]
  },
  {
   "cell_type": "code",
   "execution_count": null,
   "metadata": {},
   "outputs": [],
   "source": [
    "sudo sgdisk -d 9 /dev/sdb "
   ]
  },
  {
   "cell_type": "code",
   "execution_count": null,
   "metadata": {},
   "outputs": [],
   "source": [
    "sudo partprobe"
   ]
  },
  {
   "cell_type": "code",
   "execution_count": null,
   "metadata": {},
   "outputs": [],
   "source": [
    "sudo sgdisk -p /dev/sdb"
   ]
  },
  {
   "cell_type": "code",
   "execution_count": null,
   "metadata": {},
   "outputs": [],
   "source": [
    "sudo zpool create -f lxc sdb"
   ]
  },
  {
   "cell_type": "code",
   "execution_count": null,
   "metadata": {},
   "outputs": [],
   "source": [
    "sudo sgdisk -p /dev/sdb"
   ]
  },
  {
   "cell_type": "code",
   "execution_count": null,
   "metadata": {},
   "outputs": [],
   "source": [
    "sudo zpool list"
   ]
  },
  {
   "cell_type": "code",
   "execution_count": null,
   "metadata": {},
   "outputs": [],
   "source": [
    "sudo zpool status"
   ]
  },
  {
   "cell_type": "code",
   "execution_count": null,
   "metadata": {},
   "outputs": [],
   "source": [
    "sudo zfs list"
   ]
  },
  {
   "cell_type": "code",
   "execution_count": null,
   "metadata": {},
   "outputs": [],
   "source": [
    "df -h | grep -w lxc"
   ]
  },
  {
   "cell_type": "markdown",
   "metadata": {},
   "source": [
    "### Erstellen eines LXC Containers"
   ]
  },
  {
   "cell_type": "code",
   "execution_count": null,
   "metadata": {},
   "outputs": [],
   "source": [
    "sudo lxc-create --bdev zfs --lxcpath=/lxc --name zfs_container --template ubuntu"
   ]
  },
  {
   "cell_type": "code",
   "execution_count": null,
   "metadata": {},
   "outputs": [],
   "source": [
    "sudo lxc-ls --lxcpath=/lxc -f"
   ]
  },
  {
   "cell_type": "code",
   "execution_count": null,
   "metadata": {},
   "outputs": [],
   "source": [
    "ls -la /lxc"
   ]
  },
  {
   "cell_type": "markdown",
   "metadata": {},
   "source": [
    "### Snapshots ZFS"
   ]
  },
  {
   "cell_type": "code",
   "execution_count": null,
   "metadata": {},
   "outputs": [],
   "source": [
    "sudo lxc-copy --lxcpath=/lxc -s -n zfs_container -N zfs_cow_clone"
   ]
  },
  {
   "cell_type": "code",
   "execution_count": null,
   "metadata": {},
   "outputs": [],
   "source": [
    "sudo lxc-ls --lxcpath=/lxc -f"
   ]
  },
  {
   "cell_type": "code",
   "execution_count": null,
   "metadata": {},
   "outputs": [],
   "source": [
    "ls -la /lxc"
   ]
  },
  {
   "cell_type": "code",
   "execution_count": null,
   "metadata": {},
   "outputs": [],
   "source": [
    "sudo lxc-start --lxcpath=/lxc --name zfs_container\n",
    "sudo lxc-start --lxcpath=/lxc --name zfs_cow_clone\n",
    "sleep 8\n",
    "sudo lxc-ls --lxcpath=/lxc -f"
   ]
  },
  {
   "cell_type": "code",
   "execution_count": null,
   "metadata": {},
   "outputs": [],
   "source": [
    "sudo lxc-ls --lxcpath=/lxc -f"
   ]
  },
  {
   "cell_type": "code",
   "execution_count": null,
   "metadata": {},
   "outputs": [],
   "source": [
    "sudo lxc-stop --lxcpath=/lxc --name zfs_cow_clone\n",
    "sudo lxc-stop --lxcpath=/lxc --name zfs_container"
   ]
  },
  {
   "cell_type": "code",
   "execution_count": null,
   "metadata": {},
   "outputs": [],
   "source": [
    "sudo lxc-destroy --lxcpath=/lxc --name zfs_cow_clone\n",
    "sudo lxc-destroy --lxcpath=/lxc --name zfs_container"
   ]
  },
  {
   "cell_type": "code",
   "execution_count": null,
   "metadata": {},
   "outputs": [],
   "source": [
    "ls -la /lxc"
   ]
  },
  {
   "cell_type": "code",
   "execution_count": null,
   "metadata": {},
   "outputs": [],
   "source": [
    "sudo zpool destroy lxc"
   ]
  },
  {
   "cell_type": "code",
   "execution_count": null,
   "metadata": {},
   "outputs": [],
   "source": [
    "sudo zpool list"
   ]
  },
  {
   "cell_type": "markdown",
   "metadata": {},
   "source": [
    "## Autostart von LXC Containern"
   ]
  },
  {
   "cell_type": "code",
   "execution_count": null,
   "metadata": {},
   "outputs": [],
   "source": [
    "sudo lxc-create --name autostart_container --template ubuntu"
   ]
  },
  {
   "cell_type": "code",
   "execution_count": null,
   "metadata": {},
   "outputs": [],
   "source": [
    "echo \"lxc.start.auto = 1\" | sudo tee -a /var/lib/lxc/autostart_container/config"
   ]
  },
  {
   "cell_type": "code",
   "execution_count": null,
   "metadata": {},
   "outputs": [],
   "source": [
    "sudo lxc-autostart --list"
   ]
  },
  {
   "cell_type": "code",
   "execution_count": null,
   "metadata": {},
   "outputs": [],
   "source": [
    "sudo lxc-autostart --all"
   ]
  },
  {
   "cell_type": "code",
   "execution_count": null,
   "metadata": {},
   "outputs": [],
   "source": [
    "sudo lxc-ls --fancy"
   ]
  },
  {
   "cell_type": "code",
   "execution_count": null,
   "metadata": {},
   "outputs": [],
   "source": [
    "sudo lxc-stop --name autostart_container"
   ]
  },
  {
   "cell_type": "code",
   "execution_count": null,
   "metadata": {},
   "outputs": [],
   "source": [
    "echo \"lxc.start.delay = 5\" | sudo tee -a /var/lib/lxc/autostart_container/config"
   ]
  },
  {
   "cell_type": "code",
   "execution_count": null,
   "metadata": {},
   "outputs": [],
   "source": [
    "echo \"lxc.group = high_priority\" | sudo tee -a /var/lib/lxc/autostart_container/config"
   ]
  },
  {
   "cell_type": "code",
   "execution_count": null,
   "metadata": {},
   "outputs": [],
   "source": [
    "sudo lxc-autostart --list"
   ]
  },
  {
   "cell_type": "code",
   "execution_count": null,
   "metadata": {},
   "outputs": [],
   "source": [
    "sudo lxc-autostart --list --group high_priority"
   ]
  },
  {
   "cell_type": "code",
   "execution_count": null,
   "metadata": {},
   "outputs": [],
   "source": [
    "sudo lxc-autostart --group high_priority"
   ]
  },
  {
   "cell_type": "code",
   "execution_count": null,
   "metadata": {},
   "outputs": [],
   "source": [
    "sudo lxc-ls --fancy"
   ]
  },
  {
   "cell_type": "code",
   "execution_count": null,
   "metadata": {},
   "outputs": [],
   "source": [
    "sudo lxc-destroy --name autostart_container --force"
   ]
  },
  {
   "cell_type": "markdown",
   "metadata": {},
   "source": [
    "## LXC hooks\n",
    "\n",
    "| Option           | \tDescription  |\n",
    "|------------------|-----------------|\n",
    "| lxc.hook.pre-start|\tA hook to be run in the host namespace before the container ttys, consoles, or mounts are loaded |\n",
    "| lxc.hook.pre-mount|\tA hook to be run in the container's filesystem namespace, but before the rootfs has been set up |\n",
    "| lxc.hook.mount| \tA hook to be run in the container after mounting has been done, but before the pivot_root |\n",
    "| lxc.hook.autodev| \tA hook to be run in the container after mounting has been done and after any mount hooks have run, but before the pivot_root |\n",
    "| lxc.hook.start| \tA hook to be run in the container right before executing the container's init |\n",
    "| lxc.hook.stop| \tA hook to be run in the host's namespace after the container has been shut down |\n",
    "|lxc.hook.post-stop |\tA hook to be run in the host's namespace after the container has been shut down |\n",
    "|lxc.hook.clone | \tA hook to be run when the container is cloned |\n",
    "|lxc.hook.destroy | \tA hook to be run when the container is destroyed |\n",
    "\n"
   ]
  },
  {
   "cell_type": "code",
   "execution_count": null,
   "metadata": {},
   "outputs": [],
   "source": [
    "sudo lxc-create --name hooks_container --template ubuntu"
   ]
  },
  {
   "cell_type": "code",
   "execution_count": null,
   "metadata": {},
   "outputs": [],
   "source": [
    "echo \"lxc.hook.pre-start = /var/lib/lxc/hooks_container/pre_start.sh\" | sudo tee -a /var/lib/lxc/hooks_container/config\n"
   ]
  },
  {
   "cell_type": "code",
   "execution_count": null,
   "metadata": {},
   "outputs": [],
   "source": [
    "cat pre_start.sh"
   ]
  },
  {
   "cell_type": "code",
   "execution_count": null,
   "metadata": {},
   "outputs": [],
   "source": [
    "sudo cp pre_start.sh /var/lib/lxc/hooks_container/pre_start.sh"
   ]
  },
  {
   "cell_type": "code",
   "execution_count": null,
   "metadata": {},
   "outputs": [],
   "source": [
    "sudo chmod u+x /var/lib/lxc/hooks_container/pre_start.sh"
   ]
  },
  {
   "cell_type": "code",
   "execution_count": null,
   "metadata": {},
   "outputs": [],
   "source": [
    "sudo  lxc-start --name hooks_container"
   ]
  },
  {
   "cell_type": "code",
   "execution_count": null,
   "metadata": {},
   "outputs": [],
   "source": [
    "sudo lxc-ls --fancy"
   ]
  },
  {
   "cell_type": "code",
   "execution_count": null,
   "metadata": {},
   "outputs": [],
   "source": [
    "cat /tmp/container.log"
   ]
  },
  {
   "cell_type": "markdown",
   "metadata": {},
   "source": [
    "## Einhängen von Host-Dateien/Verzeichnissen"
   ]
  },
  {
   "cell_type": "code",
   "execution_count": null,
   "metadata": {},
   "outputs": [],
   "source": [
    "mkdir /tmp/export_to_container\n",
    "hostname -f >> /tmp/export_to_container/file\n",
    "sudo lxc-create --name mount_container --template ubuntu"
   ]
  },
  {
   "cell_type": "code",
   "execution_count": null,
   "metadata": {},
   "outputs": [],
   "source": [
    "echo \"lxc.mount.entry = /tmp/export_to_container/ /var/lib/lxc/mount_container/rootfs/mnt none ro,bind 0 0\" | sudo tee -a /var/lib/lxc/mount_container/config\n"
   ]
  },
  {
   "cell_type": "code",
   "execution_count": null,
   "metadata": {},
   "outputs": [],
   "source": [
    "sudo lxc-start --name mount_container"
   ]
  },
  {
   "cell_type": "code",
   "execution_count": null,
   "metadata": {},
   "outputs": [],
   "source": [
    "sudo lxc-ls --fancy"
   ]
  },
  {
   "cell_type": "code",
   "execution_count": null,
   "metadata": {},
   "outputs": [],
   "source": [
    "ssh-keygen -R 10.0.3.166\n",
    "ssh-keyscan 10.0.3.166 >> ~/.ssh/known_hosts"
   ]
  },
  {
   "cell_type": "code",
   "execution_count": null,
   "metadata": {},
   "outputs": [],
   "source": [
    "sshpass -p ubuntu ssh ubuntu@10.0.3.166 cat /mnt/file"
   ]
  },
  {
   "cell_type": "code",
   "execution_count": null,
   "metadata": {},
   "outputs": [],
   "source": [
    "sudo lxc-info -n mount_container"
   ]
  },
  {
   "cell_type": "code",
   "execution_count": null,
   "metadata": {},
   "outputs": [],
   "source": [
    "sudo ls -la /proc/17282/root/run"
   ]
  },
  {
   "cell_type": "markdown",
   "metadata": {},
   "source": [
    "## Freezing LXC Container"
   ]
  },
  {
   "cell_type": "code",
   "execution_count": null,
   "metadata": {},
   "outputs": [],
   "source": [
    "sudo lxc-ls -f"
   ]
  },
  {
   "cell_type": "code",
   "execution_count": null,
   "metadata": {},
   "outputs": [],
   "source": [
    "cat /sys/fs/cgroup/freezer/lxc/mount_container/freezer.state"
   ]
  },
  {
   "cell_type": "code",
   "execution_count": null,
   "metadata": {},
   "outputs": [],
   "source": [
    "sudo lxc-freeze -n mount_container"
   ]
  },
  {
   "cell_type": "code",
   "execution_count": null,
   "metadata": {},
   "outputs": [],
   "source": [
    "sudo lxc-ls -f"
   ]
  },
  {
   "cell_type": "code",
   "execution_count": null,
   "metadata": {},
   "outputs": [],
   "source": [
    "cat /sys/fs/cgroup/freezer/lxc/mount_container/freezer.state"
   ]
  },
  {
   "cell_type": "code",
   "execution_count": null,
   "metadata": {},
   "outputs": [],
   "source": [
    "sudo lxc-unfreeze --name mount_container"
   ]
  },
  {
   "cell_type": "code",
   "execution_count": null,
   "metadata": {},
   "outputs": [],
   "source": [
    "sudo lxc-ls -f"
   ]
  },
  {
   "cell_type": "markdown",
   "metadata": {},
   "source": [
    "## Limit setzen"
   ]
  },
  {
   "cell_type": "code",
   "execution_count": null,
   "metadata": {},
   "outputs": [],
   "source": [
    "sudo lxc-cgroup -n mount_container memory.limit_in_bytes 536870912"
   ]
  },
  {
   "cell_type": "code",
   "execution_count": null,
   "metadata": {},
   "outputs": [],
   "source": [
    "sudo cat /sys/fs/cgroup/memory/lxc/mount_container/memory.limit_in_bytes"
   ]
  },
  {
   "cell_type": "code",
   "execution_count": null,
   "metadata": {},
   "outputs": [],
   "source": [
    "sudo lxc-cgroup -n mount_container memory.limit_in_bytes 268435456"
   ]
  },
  {
   "cell_type": "code",
   "execution_count": null,
   "metadata": {},
   "outputs": [],
   "source": [
    "sudo cat /sys/fs/cgroup/memory/lxc/mount_container/memory.limit_in_bytes"
   ]
  },
  {
   "cell_type": "code",
   "execution_count": null,
   "metadata": {},
   "outputs": [],
   "source": [
    "sshpass -p ubuntu ssh ubuntu@10.0.3.166 free -m"
   ]
  },
  {
   "cell_type": "code",
   "execution_count": null,
   "metadata": {},
   "outputs": [],
   "source": [
    "sudo cat /sys/fs/cgroup/cpuset/lxc/mount_container/cpuset.cpus"
   ]
  },
  {
   "cell_type": "code",
   "execution_count": null,
   "metadata": {},
   "outputs": [],
   "source": [
    "cat /proc/cpuinfo | grep processor"
   ]
  },
  {
   "cell_type": "code",
   "execution_count": null,
   "metadata": {},
   "outputs": [],
   "source": [
    "sudo lxc-cgroup -n mount_container cpuset.cpus 0"
   ]
  },
  {
   "cell_type": "code",
   "execution_count": null,
   "metadata": {},
   "outputs": [],
   "source": [
    "sudo cat /sys/fs/cgroup/cpuset/lxc/mount_container/cpuset.cpus"
   ]
  },
  {
   "cell_type": "code",
   "execution_count": null,
   "metadata": {},
   "outputs": [],
   "source": [
    "sshpass -p ubuntu ssh ubuntu@10.0.3.166 cat /proc/cpuinfo | grep processor"
   ]
  },
  {
   "cell_type": "markdown",
   "metadata": {},
   "source": [
    "## Libvirt"
   ]
  },
  {
   "cell_type": "code",
   "execution_count": null,
   "metadata": {},
   "outputs": [],
   "source": [
    "ls /usr/lib/libvirt/libvirt_lxc"
   ]
  },
  {
   "cell_type": "code",
   "execution_count": null,
   "metadata": {},
   "outputs": [],
   "source": [
    "sudo virsh uri"
   ]
  },
  {
   "cell_type": "code",
   "execution_count": null,
   "metadata": {},
   "outputs": [],
   "source": [
    "export LIBVIRT_DEFAULT_URI=lxc:///"
   ]
  },
  {
   "cell_type": "code",
   "execution_count": null,
   "metadata": {},
   "outputs": [],
   "source": [
    "virsh uri"
   ]
  },
  {
   "cell_type": "code",
   "execution_count": null,
   "metadata": {},
   "outputs": [],
   "source": [
    "sudo virsh --connect lxc:/// list --all"
   ]
  },
  {
   "cell_type": "code",
   "execution_count": null,
   "metadata": {},
   "outputs": [],
   "source": [
    "sudo debootstrap --arch=amd64 --include=\"openssh-server vim\" stable /root/container http://httpredir.debian.org/debian/"
   ]
  },
  {
   "cell_type": "code",
   "execution_count": null,
   "metadata": {},
   "outputs": [],
   "source": [
    "sudo -H virsh --connect lxc:/// define libvirt_container1.xml"
   ]
  },
  {
   "cell_type": "code",
   "execution_count": null,
   "metadata": {},
   "outputs": [],
   "source": [
    "sudo virsh --connect lxc:/// list --all"
   ]
  },
  {
   "cell_type": "code",
   "execution_count": null,
   "metadata": {},
   "outputs": [],
   "source": [
    "sudo  virsh --connect lxc:/// start libvirt_container1 "
   ]
  },
  {
   "cell_type": "code",
   "execution_count": null,
   "metadata": {},
   "outputs": [],
   "source": [
    "sudo virsh --connect lxc:/// list --all"
   ]
  },
  {
   "cell_type": "code",
   "execution_count": null,
   "metadata": {},
   "outputs": [],
   "source": []
  },
  {
   "cell_type": "code",
   "execution_count": null,
   "metadata": {},
   "outputs": [],
   "source": []
  },
  {
   "cell_type": "code",
   "execution_count": null,
   "metadata": {},
   "outputs": [],
   "source": [
    "sudo  lxc-create --name lxc-container --template ubuntu"
   ]
  },
  {
   "cell_type": "code",
   "execution_count": null,
   "metadata": {},
   "outputs": [],
   "source": [
    "sudo virsh domxml-from-native lxc-tools /var/lib/lxc/lxc-container/config | tee -a lxc-container.xml"
   ]
  },
  {
   "cell_type": "code",
   "execution_count": null,
   "metadata": {},
   "outputs": [],
   "source": []
  }
 ],
 "metadata": {
  "kernelspec": {
   "display_name": "Bash",
   "language": "bash",
   "name": "bash"
  },
  "language_info": {
   "codemirror_mode": "shell",
   "file_extension": ".sh",
   "mimetype": "text/x-sh",
   "name": "bash"
  },
  "toc": {
   "nav_menu": {},
   "number_sections": true,
   "sideBar": true,
   "skip_h1_title": false,
   "title_cell": "Table of Contents",
   "title_sidebar": "Contents",
   "toc_cell": false,
   "toc_position": {},
   "toc_section_display": true,
   "toc_window_display": false
  }
 },
 "nbformat": 4,
 "nbformat_minor": 2
}
