{
 "cells": [
  {
   "cell_type": "markdown",
   "metadata": {},
   "source": [
    "# Command Line und Libvirt\n"
   ]
  },
  {
   "cell_type": "code",
   "execution_count": 1,
   "metadata": {},
   "outputs": [
    {
     "name": "stdout",
     "output_type": "stream",
     "text": [
      "lvm2:\n",
      "  Installiert:           2.02.133-1ubuntu10\n",
      "  Installationskandidat: 2.02.133-1ubuntu10\n",
      "  Versionstabelle:\n",
      " *** 2.02.133-1ubuntu10 500\n",
      "        500 http://us.archive.ubuntu.com/ubuntu xenial/main amd64 Packages\n",
      "        100 /var/lib/dpkg/status\n"
     ]
    }
   ],
   "source": [
    "apt policy lvm2"
   ]
  },
  {
   "cell_type": "code",
   "execution_count": 2,
   "metadata": {},
   "outputs": [
    {
     "name": "stdout",
     "output_type": "stream",
     "text": [
      "Medium /dev/sdb: 40 GiB, 42949672960 Bytes, 83886080 Sektoren\n",
      "Einheiten: sectors von 1 * 512 = 512 Bytes\n",
      "Sektorengröße (logisch/physisch): 512 Bytes / 512 Bytes\n",
      "I/O Größe (minimal/optimal): 512 Bytes / 512 Bytes\n"
     ]
    }
   ],
   "source": [
    "sudo fdisk -l /dev/sdb"
   ]
  },
  {
   "cell_type": "markdown",
   "metadata": {},
   "source": [
    "```bash\n",
    "sudo fdisk /dev/sdb\n",
    "```\n",
    "\n",
    "1. Press n for creating a new partition.\n",
    "2. Then choose p for primary partition.\n",
    "3. Next, choose the partition number 1.\n",
    "4. Use the default value by just pressing the Enter key two times.\n",
    "5. Next, press p to print the defined partition.\n",
    "6. Press l to list all available types.\n",
    "7. Type t to choose the partitions.\n",
    "8. Choose 8e for the Linux LVM and press Enter to apply.\n",
    "9. Again use p to print the changes.\n",
    "10. Finally, use w to save the changes:\n"
   ]
  },
  {
   "cell_type": "code",
   "execution_count": 3,
   "metadata": {},
   "outputs": [
    {
     "name": "stdout",
     "output_type": "stream",
     "text": [
      "  Physical volume \"/dev/sdb1\" successfully created\n"
     ]
    }
   ],
   "source": [
    "sudo pvcreate /dev/sdb1"
   ]
  },
  {
   "cell_type": "code",
   "execution_count": 4,
   "metadata": {},
   "outputs": [
    {
     "name": "stdout",
     "output_type": "stream",
     "text": [
      "  Volume group \"lxc\" successfully created\n"
     ]
    }
   ],
   "source": [
    "sudo vgcreate lxc /dev/sdb1"
   ]
  },
  {
   "cell_type": "code",
   "execution_count": 5,
   "metadata": {},
   "outputs": [
    {
     "name": "stdout",
     "output_type": "stream",
     "text": [
      "Checking cache download in /var/cache/lxc/xenial/rootfs-amd64 ... \n",
      "Copy /var/cache/lxc/xenial/rootfs-amd64 to /usr/lib/x86_64-linux-gnu/lxc ... \n",
      "Copying rootfs to /usr/lib/x86_64-linux-gnu/lxc ...\n",
      "Generating locales (this might take a while)...\n",
      "  de_DE.UTF-8... done\n",
      "Generation complete.\n",
      "debconf: kann Oberfläche nicht initialisieren: Dialog\n",
      "debconf: (Die Dialog-Oberfläche funktioniert nicht auf einem Dumb-Terminal, einem Emacs-Shellbuffer oder ohne ein steuerndes Terminal.)\n",
      "debconf: greife zurück auf die Oberfläche: Readline\n",
      "debconf: kann Oberfläche nicht initialisieren: Readline\n",
      "debconf: (Can't locate Term/ReadLine.pm in @INC (you may need to install the Term::ReadLine module) (@INC contains: /etc/perl /usr/local/lib/x86_64-linux-gnu/perl/5.22.1 /usr/local/share/perl/5.22.1 /usr/lib/x86_64-linux-gnu/perl5/5.22 /usr/share/perl5 /usr/lib/x86_64-linux-gnu/perl/5.22 /usr/share/perl/5.22 /usr/local/lib/site_perl /usr/lib/x86_64-linux-gnu/perl-base .) at /usr/share/perl5/Debconf/FrontEnd/Readline.pm line 7.)\n",
      "debconf: greife zurück auf die Oberfläche: Teletype\n",
      "Creating SSH2 RSA key; this may take some time ...\n",
      "2048 SHA256:XsSGMK9AebF+hu8JG+i/0QU07NzslVSWBg6Uz8L9B9Y root@rdf-dev (RSA)\n",
      "Creating SSH2 DSA key; this may take some time ...\n",
      "1024 SHA256:JGi63iIWy+6KUNntT1iPZA9A35kwf0wd2d/gqwdaHw4 root@rdf-dev (DSA)\n",
      "Creating SSH2 ECDSA key; this may take some time ...\n",
      "256 SHA256:ITPomWlM2FZvTm+10a/q8Hn9VX8VHe1sChOMfLy2HjA root@rdf-dev (ECDSA)\n",
      "Creating SSH2 ED25519 key; this may take some time ...\n",
      "256 SHA256:LnH1PIkTd0y+G3psdcgHd6X8+kVhRS7jZE5pIWYwzc0 root@rdf-dev (ED25519)\n",
      "invoke-rc.d: could not determine current runlevel\n",
      "invoke-rc.d: policy-rc.d denied execution of start.\n",
      "\n",
      "Current default time zone: 'Etc/UTC'\n",
      "Local time is now:      Thu Feb 15 15:06:15 UTC 2018.\n",
      "Universal Time is now:  Thu Feb 15 15:06:15 UTC 2018.\n",
      "\n",
      "\n",
      "##\n",
      "# The default user is 'ubuntu' with password 'ubuntu'!\n",
      "# Use the 'sudo' command to run tasks as root in the container.\n",
      "##\n",
      "\n"
     ]
    }
   ],
   "source": [
    "sudo lxc-create --bdev lvm --fssize 10G --name lvm_container --template ubuntu"
   ]
  },
  {
   "cell_type": "code",
   "execution_count": 8,
   "metadata": {},
   "outputs": [
    {
     "name": "stdout",
     "output_type": "stream",
     "text": [
      "NAME          STATE   AUTOSTART GROUPS IPV4 IPV6 \n",
      "lvm_container STOPPED 0         -      -    -    \n"
     ]
    }
   ],
   "source": [
    "sudo lxc-ls --fancy"
   ]
  },
  {
   "cell_type": "code",
   "execution_count": 9,
   "metadata": {},
   "outputs": [
    {
     "name": "stdout",
     "output_type": "stream",
     "text": [
      "  PV         VG         Fmt  Attr PSize   PFree \n",
      "  /dev/sda5  rdf-dev-vg lvm2 a--  126,52g     0 \n",
      "  /dev/sdb1  lxc        lvm2 a--   40,00g 30,00g\n"
     ]
    }
   ],
   "source": [
    "sudo pvs"
   ]
  },
  {
   "cell_type": "code",
   "execution_count": 10,
   "metadata": {},
   "outputs": [
    {
     "name": "stdout",
     "output_type": "stream",
     "text": [
      "  VG         #PV #LV #SN Attr   VSize   VFree \n",
      "  lxc          1   1   0 wz--n-  40,00g 30,00g\n",
      "  rdf-dev-vg   1   2   0 wz--n- 126,52g     0 \n"
     ]
    }
   ],
   "source": [
    "sudo vgs"
   ]
  },
  {
   "cell_type": "code",
   "execution_count": 13,
   "metadata": {},
   "outputs": [
    {
     "name": "stdout",
     "output_type": "stream",
     "text": [
      "  LV            VG         Attr       LSize   Pool Origin Data%  Meta%  Move Log Cpy%Sync Convert\n",
      "  lvm_container lxc        -wi-a-----  10,00g                                                    \n",
      "  root          rdf-dev-vg -wi-ao---- 124,52g                                                    \n",
      "  swap_1        rdf-dev-vg -wi-ao----   2,00g                                                    \n"
     ]
    }
   ],
   "source": [
    "sudo lvs"
   ]
  },
  {
   "cell_type": "code",
   "execution_count": 14,
   "metadata": {},
   "outputs": [],
   "source": [
    "sudo lxc-start -n lvm_container"
   ]
  },
  {
   "cell_type": "code",
   "execution_count": 15,
   "metadata": {},
   "outputs": [
    {
     "name": "stdout",
     "output_type": "stream",
     "text": [
      "NAME          STATE   AUTOSTART GROUPS IPV4      IPV6 \n",
      "lvm_container RUNNING 0         -      10.0.3.12 -    \n"
     ]
    }
   ],
   "source": [
    "sudo lxc-ls --fancy"
   ]
  },
  {
   "cell_type": "code",
   "execution_count": 18,
   "metadata": {},
   "outputs": [
    {
     "name": "stdout",
     "output_type": "stream",
     "text": [
      "lxc.include = /usr/share/lxc/config/ubuntu.common.conf\n",
      "lxc.rootfs.path = lvm:/dev/lxc/lvm_container\n",
      "lxc.uts.name = lvm_container\n",
      "lxc.arch = amd64\n",
      "lxc.net.0.type = veth\n",
      "lxc.net.0.link = lxcbr0\n",
      "lxc.net.0.flags = up\n",
      "lxc.net.0.hwaddr = 00:16:3e:a7:fc:4e\n"
     ]
    }
   ],
   "source": [
    "sudo grep -vi ^# /var/lib/lxc/lvm_container/config | grep -v ^$"
   ]
  },
  {
   "cell_type": "code",
   "execution_count": 19,
   "metadata": {},
   "outputs": [
    {
     "name": "stdout",
     "output_type": "stream",
     "text": [
      "insgesamt 0\n",
      "drwxr-xr-x  2 root root   60 Feb 15 15:06 .\n",
      "drwxr-xr-x 20 root root 4000 Feb 15 15:06 ..\n",
      "lrwxrwxrwx  1 root root    7 Feb 15 15:06 lvm_container -> ../dm-2\n"
     ]
    }
   ],
   "source": [
    "ls -la /dev/lxc"
   ]
  },
  {
   "cell_type": "code",
   "execution_count": 20,
   "metadata": {},
   "outputs": [
    {
     "name": "stdout",
     "output_type": "stream",
     "text": [
      "insgesamt 0\n",
      "drwxr-xr-x  2 root root     120 Feb 15 15:06 .\n",
      "drwxr-xr-x 20 root root    4000 Feb 15 15:06 ..\n",
      "crw-------  1 root root 10, 236 Feb 15 14:53 control\n",
      "lrwxrwxrwx  1 root root       7 Feb 15 15:06 lxc-lvm_container -> ../dm-2\n",
      "lrwxrwxrwx  1 root root       7 Feb 15 14:53 rdf--dev--vg-root -> ../dm-0\n",
      "lrwxrwxrwx  1 root root       7 Feb 15 14:53 rdf--dev--vg-swap_1 -> ../dm-1\n"
     ]
    }
   ],
   "source": [
    "ls -la /dev/mapper"
   ]
  },
  {
   "cell_type": "code",
   "execution_count": 21,
   "metadata": {},
   "outputs": [
    {
     "name": "stdout",
     "output_type": "stream",
     "text": [
      "lrwxrwxrwx 1 root root 7 Feb 15 15:06 /dev/mapper/lxc-lvm_container -> ../dm-2\n"
     ]
    }
   ],
   "source": [
    "ls -la /dev/mapper/lxc-lvm_container"
   ]
  },
  {
   "cell_type": "code",
   "execution_count": 22,
   "metadata": {},
   "outputs": [
    {
     "name": "stdout",
     "output_type": "stream",
     "text": [
      "Checking cache download in /var/cache/lxc/xenial/rootfs-amd64 ... \n",
      "Copy /var/cache/lxc/xenial/rootfs-amd64 to /usr/lib/x86_64-linux-gnu/lxc ... \n",
      "Copying rootfs to /usr/lib/x86_64-linux-gnu/lxc ...\n",
      "Generating locales (this might take a while)...\n",
      "  de_DE.UTF-8... done\n",
      "Generation complete.\n",
      "debconf: kann Oberfläche nicht initialisieren: Dialog\n",
      "debconf: (Die Dialog-Oberfläche funktioniert nicht auf einem Dumb-Terminal, einem Emacs-Shellbuffer oder ohne ein steuerndes Terminal.)\n",
      "debconf: greife zurück auf die Oberfläche: Readline\n",
      "debconf: kann Oberfläche nicht initialisieren: Readline\n",
      "debconf: (Can't locate Term/ReadLine.pm in @INC (you may need to install the Term::ReadLine module) (@INC contains: /etc/perl /usr/local/lib/x86_64-linux-gnu/perl/5.22.1 /usr/local/share/perl/5.22.1 /usr/lib/x86_64-linux-gnu/perl5/5.22 /usr/share/perl5 /usr/lib/x86_64-linux-gnu/perl/5.22 /usr/share/perl/5.22 /usr/local/lib/site_perl /usr/lib/x86_64-linux-gnu/perl-base .) at /usr/share/perl5/Debconf/FrontEnd/Readline.pm line 7.)\n",
      "debconf: greife zurück auf die Oberfläche: Teletype\n",
      "Creating SSH2 RSA key; this may take some time ...\n",
      "2048 SHA256:3Y+QDqxp0TvwWn88eKlUuVZRTklkfq+lNVBxyk6zTxE root@rdf-dev (RSA)\n",
      "Creating SSH2 DSA key; this may take some time ...\n",
      "1024 SHA256:PbJRe94/SRdge5kAR9EoBhlM7y9mQquzqIJq4LCe+Bk root@rdf-dev (DSA)\n",
      "Creating SSH2 ECDSA key; this may take some time ...\n",
      "256 SHA256:kvmwYiHG/R4zjaBConMA8YHmGufdPnl4yeNGqzfNF80 root@rdf-dev (ECDSA)\n",
      "Creating SSH2 ED25519 key; this may take some time ...\n",
      "256 SHA256:aSsDPkES6LwOvZzG6NzLmgUf5q9fFYjbpkCoatb9mVI root@rdf-dev (ED25519)\n",
      "invoke-rc.d: could not determine current runlevel\n",
      "invoke-rc.d: policy-rc.d denied execution of start.\n",
      "\n",
      "Current default time zone: 'Etc/UTC'\n",
      "Local time is now:      Thu Feb 15 16:30:52 UTC 2018.\n",
      "Universal Time is now:  Thu Feb 15 16:30:52 UTC 2018.\n",
      "\n",
      "\n",
      "##\n",
      "# The default user is 'ubuntu' with password 'ubuntu'!\n",
      "# Use the 'sudo' command to run tasks as root in the container.\n",
      "##\n",
      "\n"
     ]
    }
   ],
   "source": [
    "sudo lxc-create --bdev lvm --fssize 5G --name lvm_container_2 --template ubuntu"
   ]
  },
  {
   "cell_type": "code",
   "execution_count": 23,
   "metadata": {},
   "outputs": [
    {
     "name": "stdout",
     "output_type": "stream",
     "text": [
      "  LV              VG         Attr       LSize   Pool Origin Data%  Meta%  Move Log Cpy%Sync Convert\n",
      "  lvm_container   lxc        -wi-ao----  10,00g                                                    \n",
      "  lvm_container_2 lxc        -wi-a-----   5,00g                                                    \n",
      "  root            rdf-dev-vg -wi-ao---- 124,52g                                                    \n",
      "  swap_1          rdf-dev-vg -wi-ao----   2,00g                                                    \n"
     ]
    }
   ],
   "source": [
    "sudo lvs"
   ]
  },
  {
   "cell_type": "code",
   "execution_count": 24,
   "metadata": {},
   "outputs": [
    {
     "name": "stdout",
     "output_type": "stream",
     "text": [
      "insgesamt 0\n",
      "drwxr-xr-x  2 root root   80 Feb 15 16:30 .\n",
      "drwxr-xr-x 20 root root 4020 Feb 15 16:30 ..\n",
      "lrwxrwxrwx  1 root root    7 Feb 15 15:06 lvm_container -> ../dm-2\n",
      "lrwxrwxrwx  1 root root    7 Feb 15 16:30 lvm_container_2 -> ../dm-3\n"
     ]
    }
   ],
   "source": [
    "ls -la /dev/lxc"
   ]
  },
  {
   "cell_type": "code",
   "execution_count": 25,
   "metadata": {},
   "outputs": [
    {
     "name": "stdout",
     "output_type": "stream",
     "text": [
      "  --- Logical volume ---\n",
      "  LV Path                /dev/lxc/lvm_container\n",
      "  LV Name                lvm_container\n",
      "  VG Name                lxc\n",
      "  LV UUID                4XQX0L-rl0a-F4dr-euzv-CkWJ-MNdJ-cx42e0\n",
      "  LV Write Access        read/write\n",
      "  LV Creation host, time rdf-dev, 2018-02-15 15:06:02 +0000\n",
      "  LV Status              available\n",
      "  # open                 1\n",
      "  LV Size                10,00 GiB\n",
      "  Current LE             2560\n",
      "  Segments               1\n",
      "  Allocation             inherit\n",
      "  Read ahead sectors     auto\n",
      "  - currently set to     256\n",
      "  Block device           252:2\n",
      "   \n",
      "  --- Logical volume ---\n",
      "  LV Path                /dev/lxc/lvm_container_2\n",
      "  LV Name                lvm_container_2\n",
      "  VG Name                lxc\n",
      "  LV UUID                Bvw5Cs-JtLc-92ye-nAGX-hLJc-Yopr-sXHryd\n",
      "  LV Write Access        read/write\n",
      "  LV Creation host, time rdf-dev, 2018-02-15 16:30:40 +0000\n",
      "  LV Status              available\n",
      "  # open                 0\n",
      "  LV Size                5,00 GiB\n",
      "  Current LE             1280\n",
      "  Segments               1\n",
      "  Allocation             inherit\n",
      "  Read ahead sectors     auto\n",
      "  - currently set to     256\n",
      "  Block device           252:3\n",
      "   \n",
      "  --- Logical volume ---\n",
      "  LV Path                /dev/rdf-dev-vg/root\n",
      "  LV Name                root\n",
      "  VG Name                rdf-dev-vg\n",
      "  LV UUID                3pRAhz-Lrlv-0wHF-LLlT-ydaM-FBnh-4s60M7\n",
      "  LV Write Access        read/write\n",
      "  LV Creation host, time rdf-dev, 2018-02-14 16:40:42 +0000\n",
      "  LV Status              available\n",
      "  # open                 1\n",
      "  LV Size                124,52 GiB\n",
      "  Current LE             31877\n",
      "  Segments               1\n",
      "  Allocation             inherit\n",
      "  Read ahead sectors     auto\n",
      "  - currently set to     256\n",
      "  Block device           252:0\n",
      "   \n",
      "  --- Logical volume ---\n",
      "  LV Path                /dev/rdf-dev-vg/swap_1\n",
      "  LV Name                swap_1\n",
      "  VG Name                rdf-dev-vg\n",
      "  LV UUID                IWL7Xe-s1O1-8iiv-DHOW-Wjq3-EGPb-JXVDfd\n",
      "  LV Write Access        read/write\n",
      "  LV Creation host, time rdf-dev, 2018-02-14 16:40:43 +0000\n",
      "  LV Status              available\n",
      "  # open                 2\n",
      "  LV Size                2,00 GiB\n",
      "  Current LE             512\n",
      "  Segments               1\n",
      "  Allocation             inherit\n",
      "  Read ahead sectors     auto\n",
      "  - currently set to     256\n",
      "  Block device           252:1\n",
      "   \n"
     ]
    }
   ],
   "source": [
    "sudo lvdisplay"
   ]
  },
  {
   "cell_type": "markdown",
   "metadata": {},
   "source": [
    "## Snapshots von Containern mit LVM"
   ]
  },
  {
   "cell_type": "code",
   "execution_count": 26,
   "metadata": {},
   "outputs": [],
   "source": [
    "sudo lxc-copy --snapshot --name lvm_container_2 --newname container_2_copy"
   ]
  },
  {
   "cell_type": "code",
   "execution_count": 27,
   "metadata": {},
   "outputs": [
    {
     "name": "stdout",
     "output_type": "stream",
     "text": [
      "NAME             STATE   AUTOSTART GROUPS IPV4      IPV6 \n",
      "container_2_copy STOPPED 0         -      -         -    \n",
      "lvm_container    RUNNING 0         -      10.0.3.12 -    \n",
      "lvm_container_2  STOPPED 0         -      -         -    \n"
     ]
    }
   ],
   "source": [
    "sudo lxc-ls --fancy"
   ]
  },
  {
   "cell_type": "code",
   "execution_count": 29,
   "metadata": {},
   "outputs": [
    {
     "name": "stdout",
     "output_type": "stream",
     "text": [
      "  LV               VG         Attr       LSize   Pool Origin          Data%  Meta%  Move Log Cpy%Sync Convert\n",
      "  container_2_copy lxc        swi-a-s---   5,00g      lvm_container_2 0,00                                   \n",
      "  lvm_container    lxc        -wi-ao----  10,00g                                                             \n",
      "  lvm_container_2  lxc        owi-a-s---   5,00g                                                             \n",
      "  root             rdf-dev-vg -wi-ao---- 124,52g                                                             \n",
      "  swap_1           rdf-dev-vg -wi-ao----   2,00g                                                             \n"
     ]
    }
   ],
   "source": [
    "sudo lvs"
   ]
  },
  {
   "cell_type": "code",
   "execution_count": 30,
   "metadata": {},
   "outputs": [],
   "source": [
    "sudo lxc-copy --name lvm_container_2 --newname container_2_hard"
   ]
  },
  {
   "cell_type": "code",
   "execution_count": 31,
   "metadata": {},
   "outputs": [
    {
     "name": "stdout",
     "output_type": "stream",
     "text": [
      "  LV               VG         Attr       LSize   Pool Origin          Data%  Meta%  Move Log Cpy%Sync Convert\n",
      "  container_2_copy lxc        swi-a-s---   5,00g      lvm_container_2 0,15                                   \n",
      "  container_2_hard lxc        -wi-a-----   5,00g                                                             \n",
      "  lvm_container    lxc        -wi-ao----  10,00g                                                             \n",
      "  lvm_container_2  lxc        owi-a-s---   5,00g                                                             \n",
      "  root             rdf-dev-vg -wi-ao---- 124,52g                                                             \n",
      "  swap_1           rdf-dev-vg -wi-ao----   2,00g                                                             \n"
     ]
    }
   ],
   "source": [
    "sudo lvs"
   ]
  },
  {
   "cell_type": "markdown",
   "metadata": {},
   "source": [
    "## Erstellen eines Blockdevice"
   ]
  },
  {
   "cell_type": "code",
   "execution_count": 32,
   "metadata": {},
   "outputs": [
    {
     "name": "stdout",
     "output_type": "stream",
     "text": [
      "/home/vagrant/rdf/ais/hands-on-lxc\n"
     ]
    }
   ],
   "source": [
    "pwd"
   ]
  },
  {
   "cell_type": "code",
   "execution_count": 34,
   "metadata": {},
   "outputs": [],
   "source": [
    "truncate --size 5G ../xvdz.img"
   ]
  },
  {
   "cell_type": "code",
   "execution_count": 35,
   "metadata": {},
   "outputs": [
    {
     "name": "stdout",
     "output_type": "stream",
     "text": [
      "-rw-r--r-- 1 vagrant vagrant 5368709120 Feb 15 16:39 ../xvdz.img\n"
     ]
    }
   ],
   "source": [
    "ls -la ../xvdz.img"
   ]
  },
  {
   "cell_type": "code",
   "execution_count": 36,
   "metadata": {},
   "outputs": [],
   "source": [
    "sudo modprobe loop"
   ]
  },
  {
   "cell_type": "code",
   "execution_count": 37,
   "metadata": {},
   "outputs": [
    {
     "name": "stdout",
     "output_type": "stream",
     "text": [
      "/dev/loop0\n"
     ]
    }
   ],
   "source": [
    "sudo losetup --find"
   ]
  },
  {
   "cell_type": "code",
   "execution_count": 38,
   "metadata": {},
   "outputs": [],
   "source": [
    "sudo losetup /dev/loop0 ../xvdz.img"
   ]
  },
  {
   "cell_type": "code",
   "execution_count": 39,
   "metadata": {},
   "outputs": [
    {
     "name": "stdout",
     "output_type": "stream",
     "text": [
      "/dev/loop0: [64512]:3145981 (/home/vagrant/rdf/ais/xvdz.img)\n"
     ]
    }
   ],
   "source": [
    "sudo losetup --all"
   ]
  },
  {
   "cell_type": "code",
   "execution_count": 41,
   "metadata": {},
   "outputs": [
    {
     "name": "stdout",
     "output_type": "stream",
     "text": [
      "  Physical volume \"/dev/loop0\" successfully created\n"
     ]
    }
   ],
   "source": [
    "sudo pvcreate /dev/loop0"
   ]
  },
  {
   "cell_type": "markdown",
   "metadata": {},
   "source": [
    "## Alternative mit dd"
   ]
  },
  {
   "cell_type": "code",
   "execution_count": 43,
   "metadata": {},
   "outputs": [
    {
     "name": "stdout",
     "output_type": "stream",
     "text": [
      "500000+0 Datensätze ein\n",
      "500000+0 Datensätze aus\n",
      "512000000 bytes (512 MB, 488 MiB) copied, 2,11976 s, 242 MB/s\n"
     ]
    }
   ],
   "source": [
    "sudo  dd if=/dev/zero of=/block_device bs=1k count=500000"
   ]
  },
  {
   "cell_type": "code",
   "execution_count": 44,
   "metadata": {},
   "outputs": [
    {
     "name": "stdout",
     "output_type": "stream",
     "text": [
      "/dev/loop1\n"
     ]
    }
   ],
   "source": [
    "sudo losetup --find"
   ]
  },
  {
   "cell_type": "code",
   "execution_count": 45,
   "metadata": {},
   "outputs": [],
   "source": [
    "sudo losetup /dev/loop1 /block_device"
   ]
  },
  {
   "cell_type": "code",
   "execution_count": 46,
   "metadata": {},
   "outputs": [
    {
     "name": "stdout",
     "output_type": "stream",
     "text": [
      "  Physical volume \"/dev/loop1\" successfully created\n"
     ]
    }
   ],
   "source": [
    "sudo pvcreate /dev/loop1"
   ]
  },
  {
   "cell_type": "code",
   "execution_count": 47,
   "metadata": {},
   "outputs": [
    {
     "name": "stdout",
     "output_type": "stream",
     "text": [
      "/dev/loop0: [64512]:3145981 (/home/vagrant/rdf/ais/xvdz.img)\n",
      "/dev/loop1: [64512]:16 (/block_device)\n"
     ]
    }
   ],
   "source": [
    "sudo losetup --all"
   ]
  },
  {
   "cell_type": "markdown",
   "metadata": {},
   "source": [
    "## Löschen der Blockdevices"
   ]
  },
  {
   "cell_type": "code",
   "execution_count": 49,
   "metadata": {},
   "outputs": [],
   "source": [
    "sudo losetup --detach /dev/loop0"
   ]
  },
  {
   "cell_type": "code",
   "execution_count": 50,
   "metadata": {},
   "outputs": [],
   "source": [
    "sudo losetup --detach /dev/loop1"
   ]
  },
  {
   "cell_type": "code",
   "execution_count": 51,
   "metadata": {},
   "outputs": [],
   "source": [
    "sudo losetup --all"
   ]
  },
  {
   "cell_type": "markdown",
   "metadata": {},
   "source": [
    "## Btrfs Speicher"
   ]
  },
  {
   "cell_type": "code",
   "execution_count": 52,
   "metadata": {},
   "outputs": [
    {
     "name": "stdout",
     "output_type": "stream",
     "text": [
      "btrfs-tools:\n",
      "  Installiert:           (keine)\n",
      "  Installationskandidat: 4.4-1ubuntu1\n",
      "  Versionstabelle:\n",
      "     4.4-1ubuntu1 500\n",
      "        500 http://us.archive.ubuntu.com/ubuntu xenial-updates/main amd64 Packages\n",
      "     4.4-1 500\n",
      "        500 http://us.archive.ubuntu.com/ubuntu xenial/main amd64 Packages\n"
     ]
    }
   ],
   "source": [
    "apt policy btrfs-tools"
   ]
  },
  {
   "cell_type": "code",
   "execution_count": 53,
   "metadata": {},
   "outputs": [
    {
     "name": "stdout",
     "output_type": "stream",
     "text": [
      "Paketlisten werden gelesen... Fertig\n",
      "Abhängigkeitsbaum wird aufgebaut.       \n",
      "Statusinformationen werden eingelesen.... Fertig\n",
      "Die folgenden NEUEN Pakete werden installiert:\n",
      "  btrfs-tools\n",
      "0 aktualisiert, 1 neu installiert, 0 zu entfernen und 2 nicht aktualisiert.\n",
      "Es müssen 523 kB an Archiven heruntergeladen werden.\n",
      "Nach dieser Operation werden 3.725 kB Plattenplatz zusätzlich benutzt.\n",
      "Holen:1 http://us.archive.ubuntu.com/ubuntu xenial-updates/main amd64 btrfs-tools amd64 4.4-1ubuntu1 [523 kB]\n",
      "Es wurden 523 kB in 0 s geholt (562 kB/s).[33m\n",
      "debconf: kann Oberfläche nicht initialisieren: Dialog\n",
      "debconf: (Die Dialog-Oberfläche funktioniert nicht auf einem Dumb-Terminal, einem Emacs-Shellbuffer oder ohne ein steuerndes Terminal.)\n",
      "debconf: greife zurück auf die Oberfläche: Readline\n",
      "\n",
      "\u001b7\u001b[0;23r\u001b8\u001b[1AVormals nicht ausgewähltes Paket btrfs-tools wird gewählt.\n",
      "(Lese Datenbank ... 246102 Dateien und Verzeichnisse sind derzeit installiert.)\n",
      "Vorbereitung zum Entpacken von .../btrfs-tools_4.4-1ubuntu1_amd64.deb ...\n",
      "\u001b7\u001b[24;0f\u001b[42m\u001b[30mFortschritt: [  0%]\u001b[49m\u001b[39m [.......................................................] \u001b8\u001b7\u001b[24;0f\u001b[42m\u001b[30mFortschritt: [ 16%]\u001b[49m\u001b[39m [##########.............................................] \u001b8Entpacken von btrfs-tools (4.4-1ubuntu1) ...\n",
      "\u001b7\u001b[24;0f\u001b[42m\u001b[30mFortschritt: [ 33%]\u001b[49m\u001b[39m [###################....................................] \u001b8\u001b7\u001b[24;0f\u001b[42m\u001b[30mFortschritt: [ 50%]\u001b[49m\u001b[39m [############################...........................] \u001b8Trigger für libc-bin (2.23-0ubuntu10) werden verarbeitet ...\n",
      "Trigger für man-db (2.7.5-1) werden verarbeitet ...\n",
      "btrfs-tools (4.4-1ubuntu1) wird eingerichtet ...\n",
      "\u001b7\u001b[24;0f\u001b[42m\u001b[30mFortschritt: [ 66%]\u001b[49m\u001b[39m [#####################################..................] \u001b8update-initramfs: deferring update (trigger activated)\n",
      "\u001b7\u001b[24;0f\u001b[42m\u001b[30mFortschritt: [ 83%]\u001b[49m\u001b[39m [##############################################.........] \u001b8Trigger für libc-bin (2.23-0ubuntu10) werden verarbeitet ...\n",
      "Trigger für initramfs-tools (0.122ubuntu8.10) werden verarbeitet ...\n",
      "update-initramfs: Generating /boot/initrd.img-4.4.0-112-generic\n",
      "\n",
      "\u001b7\u001b[0;24r\u001b8\u001b[1A\u001b[J"
     ]
    }
   ],
   "source": [
    "sudo apt install -y btrfs-tools"
   ]
  },
  {
   "cell_type": "code",
   "execution_count": 54,
   "metadata": {},
   "outputs": [
    {
     "ename": "",
     "evalue": "1",
     "output_type": "error",
     "traceback": []
    }
   ],
   "source": [
    "lsmod | grep btrfs"
   ]
  },
  {
   "cell_type": "code",
   "execution_count": 56,
   "metadata": {},
   "outputs": [],
   "source": [
    "sudo modprobe btrfs"
   ]
  },
  {
   "cell_type": "code",
   "execution_count": 57,
   "metadata": {},
   "outputs": [
    {
     "name": "stdout",
     "output_type": "stream",
     "text": [
      "btrfs                 991232  0\n",
      "xor                    24576  1 btrfs\n",
      "raid6_pq              102400  1 btrfs\n"
     ]
    }
   ],
   "source": [
    "lsmod | grep btrfs"
   ]
  },
  {
   "cell_type": "code",
   "execution_count": 58,
   "metadata": {},
   "outputs": [
    {
     "name": "stdout",
     "output_type": "stream",
     "text": [
      "/dev/loop0\n"
     ]
    }
   ],
   "source": [
    "sudo losetup --find"
   ]
  },
  {
   "cell_type": "code",
   "execution_count": 59,
   "metadata": {},
   "outputs": [
    {
     "name": "stdout",
     "output_type": "stream",
     "text": [
      "-rw-r--r-- 1 vagrant vagrant 5368709120 Feb 15 16:41 ../xvdz.img\n"
     ]
    }
   ],
   "source": [
    "ls -la ../xvdz.img"
   ]
  },
  {
   "cell_type": "code",
   "execution_count": 60,
   "metadata": {},
   "outputs": [],
   "source": [
    "sudo losetup /dev/loop0 ../xvdz.img"
   ]
  },
  {
   "cell_type": "code",
   "execution_count": 64,
   "metadata": {},
   "outputs": [
    {
     "name": "stdout",
     "output_type": "stream",
     "text": [
      "btrfs-progs v4.4\n",
      "See http://btrfs.wiki.kernel.org for more information.\n",
      "\n",
      "Performing full device TRIM (5.00GiB) ...\n",
      "Label:              (null)\n",
      "UUID:               015dde95-7e3a-457a-8c78-f304520ae0df\n",
      "Node size:          16384\n",
      "Sector size:        4096\n",
      "Filesystem size:    5.00GiB\n",
      "Block group profiles:\n",
      "  Data:             single            8.00MiB\n",
      "  Metadata:         DUP             264.00MiB\n",
      "  System:           DUP              12.00MiB\n",
      "SSD detected:       no\n",
      "Incompat features:  extref, skinny-metadata\n",
      "Number of devices:  1\n",
      "Devices:\n",
      "   ID        SIZE  PATH\n",
      "    1     5.00GiB  /dev/loop0\n",
      "\n"
     ]
    }
   ],
   "source": [
    "sudo mkfs -t btrfs -f /dev/loop0"
   ]
  },
  {
   "cell_type": "code",
   "execution_count": 67,
   "metadata": {},
   "outputs": [
    {
     "name": "stdout",
     "output_type": "stream",
     "text": [
      "/dev/loop0: BTRFS Filesystem sectorsize 4096, nodesize 16384, leafsize 16384, UUID= 15dde95-7e3a-457a-8c78-f304520ae0df, 114688/5368709120 bytes used, 1 devices\n"
     ]
    }
   ],
   "source": [
    "sudo file -s /dev/loop0"
   ]
  },
  {
   "cell_type": "code",
   "execution_count": 68,
   "metadata": {},
   "outputs": [
    {
     "name": "stdout",
     "output_type": "stream",
     "text": [
      "Label: none  uuid: 015dde95-7e3a-457a-8c78-f304520ae0df\n",
      "\tTotal devices 1 FS bytes used 112.00KiB\n",
      "\tdevid    1 size 5.00GiB used 536.00MiB path /dev/loop0\n",
      "\n"
     ]
    }
   ],
   "source": [
    "sudo btrfs filesystem show"
   ]
  },
  {
   "cell_type": "code",
   "execution_count": 69,
   "metadata": {},
   "outputs": [],
   "source": [
    "mkdir ../btrfs_c1"
   ]
  },
  {
   "cell_type": "code",
   "execution_count": 70,
   "metadata": {},
   "outputs": [],
   "source": [
    "sudo mount /dev/loop0 ../btrfs_c1"
   ]
  },
  {
   "cell_type": "code",
   "execution_count": 72,
   "metadata": {},
   "outputs": [
    {
     "name": "stdout",
     "output_type": "stream",
     "text": [
      "/dev/loop0 /home/vagrant/rdf/ais/btrfs_c1 btrfs rw,relatime,space_cache,subvolid=5,subvol=/ 0 0\n"
     ]
    }
   ],
   "source": [
    "cat /proc/mounts | grep btrfs"
   ]
  },
  {
   "cell_type": "code",
   "execution_count": 73,
   "metadata": {},
   "outputs": [
    {
     "name": "stdout",
     "output_type": "stream",
     "text": [
      "/home/vagrant/rdf/ais/btrfs_c1 is toplevel subvolume\n"
     ]
    }
   ],
   "source": [
    "sudo btrfs subvolume show ../btrfs_c1"
   ]
  },
  {
   "cell_type": "code",
   "execution_count": 74,
   "metadata": {},
   "outputs": [
    {
     "name": "stdout",
     "output_type": "stream",
     "text": [
      "Data, single: total=8.00MiB, used=64.00KiB\n",
      "System, DUP: total=8.00MiB, used=16.00KiB\n",
      "Metadata, DUP: total=256.00MiB, used=112.00KiB\n",
      "GlobalReserve, single: total=16.00MiB, used=0.00B\n"
     ]
    }
   ],
   "source": [
    "sudo btrfs filesystem df ../btrfs_c1"
   ]
  },
  {
   "cell_type": "code",
   "execution_count": 99,
   "metadata": {},
   "outputs": [
    {
     "name": "stdout",
     "output_type": "stream",
     "text": [
      "Checking cache download in /var/cache/lxc/xenial/rootfs-amd64 ... \n",
      "Copy /var/cache/lxc/xenial/rootfs-amd64 to /home/vagrant/rdf/ais/hands-on-lxc/../btrfs_c1/btrfs_container/rootfs ... \n",
      "Copying rootfs to /home/vagrant/rdf/ais/hands-on-lxc/../btrfs_c1/btrfs_container/rootfs ...\n",
      "Generating locales (this might take a while)...\n",
      "  de_DE.UTF-8... done\n",
      "Generation complete.\n",
      "debconf: kann Oberfläche nicht initialisieren: Dialog\n",
      "debconf: (Die Dialog-Oberfläche funktioniert nicht auf einem Dumb-Terminal, einem Emacs-Shellbuffer oder ohne ein steuerndes Terminal.)\n",
      "debconf: greife zurück auf die Oberfläche: Readline\n",
      "debconf: kann Oberfläche nicht initialisieren: Readline\n",
      "debconf: (Can't locate Term/ReadLine.pm in @INC (you may need to install the Term::ReadLine module) (@INC contains: /etc/perl /usr/local/lib/x86_64-linux-gnu/perl/5.22.1 /usr/local/share/perl/5.22.1 /usr/lib/x86_64-linux-gnu/perl5/5.22 /usr/share/perl5 /usr/lib/x86_64-linux-gnu/perl/5.22 /usr/share/perl/5.22 /usr/local/lib/site_perl /usr/lib/x86_64-linux-gnu/perl-base .) at /usr/share/perl5/Debconf/FrontEnd/Readline.pm line 7.)\n",
      "debconf: greife zurück auf die Oberfläche: Teletype\n",
      "Creating SSH2 RSA key; this may take some time ...\n",
      "2048 SHA256:arv3rVigz3NKfgNAzD91HFOYPTEOKvQE0uieZ3bb2dQ root@rdf-dev (RSA)\n",
      "Creating SSH2 DSA key; this may take some time ...\n",
      "1024 SHA256:bdUTVkSxJsCTWNXbaQKOSdXMPVxIKPocfU0AHeEBSbA root@rdf-dev (DSA)\n",
      "Creating SSH2 ECDSA key; this may take some time ...\n",
      "256 SHA256:vY+BBFv9KLOFShdk7mwL18rry6yq009+WFvvaJHuNaY root@rdf-dev (ECDSA)\n",
      "Creating SSH2 ED25519 key; this may take some time ...\n",
      "256 SHA256:jAilJtPR7/fWvG8PzSvl5peF2XgXQK+MRqwQeGrwlBg root@rdf-dev (ED25519)\n",
      "invoke-rc.d: could not determine current runlevel\n",
      "invoke-rc.d: policy-rc.d denied execution of start.\n",
      "\n",
      "Current default time zone: 'Etc/UTC'\n",
      "Local time is now:      Thu Feb 15 21:52:49 UTC 2018.\n",
      "Universal Time is now:  Thu Feb 15 21:52:49 UTC 2018.\n",
      "\n",
      "\n",
      "##\n",
      "# The default user is 'ubuntu' with password 'ubuntu'!\n",
      "# Use the 'sudo' command to run tasks as root in the container.\n",
      "##\n",
      "\n"
     ]
    }
   ],
   "source": [
    "sudo lxc-create --bdev btrfs --lxcpath=$(pwd)/../btrfs_c1 --name btrfs_container --template ubuntu"
   ]
  },
  {
   "cell_type": "code",
   "execution_count": 100,
   "metadata": {},
   "outputs": [
    {
     "name": "stdout",
     "output_type": "stream",
     "text": [
      "NAME            STATE   AUTOSTART GROUPS IPV4 IPV6 \n",
      "btrfs_container STOPPED 0         -      -    -    \n"
     ]
    }
   ],
   "source": [
    "sudo lxc-ls -f --lxcpath=$(pwd)/../btrfs_c1"
   ]
  },
  {
   "cell_type": "code",
   "execution_count": 101,
   "metadata": {},
   "outputs": [
    {
     "name": "stdout",
     "output_type": "stream",
     "text": [
      "/home/vagrant/rdf/ais/hands-on-lxc/../btrfs_c1\n"
     ]
    }
   ],
   "source": [
    "sudo lxc-config lxc.lxcpath"
   ]
  },
  {
   "cell_type": "code",
   "execution_count": 86,
   "metadata": {},
   "outputs": [
    {
     "name": "stdout",
     "output_type": "stream",
     "text": [
      "lxc.lxcpath = /home/vagrant/rdf/ais/hands-on-lxc/../btrfs_c1\n"
     ]
    }
   ],
   "source": [
    "echo \"lxc.lxcpath = $(pwd)/../btrfs_c1\" | sudo tee -a /etc/lxc/lxc.conf"
   ]
  },
  {
   "cell_type": "code",
   "execution_count": 102,
   "metadata": {},
   "outputs": [
    {
     "name": "stdout",
     "output_type": "stream",
     "text": [
      "/home/vagrant/rdf/ais/hands-on-lxc/../btrfs_c1\n"
     ]
    }
   ],
   "source": [
    "sudo lxc-config lxc.lxcpath"
   ]
  },
  {
   "cell_type": "code",
   "execution_count": 103,
   "metadata": {},
   "outputs": [
    {
     "name": "stdout",
     "output_type": "stream",
     "text": [
      "NAME            STATE   AUTOSTART GROUPS IPV4 IPV6 \n",
      "btrfs_container STOPPED 0         -      -    -    \n"
     ]
    }
   ],
   "source": [
    "sudo lxc-ls --fancy"
   ]
  },
  {
   "cell_type": "code",
   "execution_count": 104,
   "metadata": {},
   "outputs": [
    {
     "name": "stdout",
     "output_type": "stream",
     "text": [
      "insgesamt 20\n",
      "drwxrwx--- 1 root root  24 Feb 15 21:52 .\n",
      "drwxr-xr-x 1 root root  30 Feb 15 21:52 ..\n",
      "-rw-r--r-- 1 root root 806 Feb 15 21:52 config\n",
      "drwxr-xr-x 1 root root 132 Feb 14 20:06 rootfs\n"
     ]
    }
   ],
   "source": [
    "sudo ls -la ../btrfs_c1/btrfs_container"
   ]
  },
  {
   "cell_type": "code",
   "execution_count": 105,
   "metadata": {},
   "outputs": [
    {
     "name": "stdout",
     "output_type": "stream",
     "text": [
      "ID 260 gen 35 top level 5 path btrfs_container/rootfs\n"
     ]
    }
   ],
   "source": [
    "sudo btrfs subvolume list ../btrfs_c1"
   ]
  },
  {
   "cell_type": "markdown",
   "metadata": {},
   "source": [
    "### Snapshot Btrfs"
   ]
  },
  {
   "cell_type": "code",
   "execution_count": 106,
   "metadata": {},
   "outputs": [],
   "source": [
    "sudo lxc-copy -s -n btrfs_container -N btrfs_cow_clone"
   ]
  },
  {
   "cell_type": "code",
   "execution_count": 107,
   "metadata": {},
   "outputs": [
    {
     "name": "stdout",
     "output_type": "stream",
     "text": [
      "NAME            STATE   AUTOSTART GROUPS IPV4 IPV6 \n",
      "btrfs_container STOPPED 0         -      -    -    \n",
      "btrfs_cow_clone STOPPED 0         -      -    -    \n"
     ]
    }
   ],
   "source": [
    "sudo lxc-ls -f"
   ]
  },
  {
   "cell_type": "code",
   "execution_count": 108,
   "metadata": {},
   "outputs": [
    {
     "name": "stdout",
     "output_type": "stream",
     "text": [
      "ID 260 gen 36 top level 5 path btrfs_container/rootfs\n",
      "ID 262 gen 36 top level 5 path btrfs_cow_clone/rootfs\n"
     ]
    }
   ],
   "source": [
    "sudo btrfs subvolume list ../btrfs_c1"
   ]
  },
  {
   "cell_type": "code",
   "execution_count": 109,
   "metadata": {},
   "outputs": [
    {
     "name": "stdout",
     "output_type": "stream",
     "text": [
      "insgesamt 20\n",
      "drwxr-xr-x 1 root    root      60 Feb 15 21:53 .\n",
      "drwxrwxr-x 6 vagrant vagrant 4096 Feb 15 21:32 ..\n",
      "drwxrwx--- 1 root    root      24 Feb 15 21:52 btrfs_container\n",
      "drwxrwx--- 1 root    root      24 Feb 15 21:53 btrfs_cow_clone\n"
     ]
    }
   ],
   "source": [
    "sudo ls -la ../btrfs_c1"
   ]
  },
  {
   "cell_type": "code",
   "execution_count": 110,
   "metadata": {},
   "outputs": [
    {
     "name": "stdout",
     "output_type": "stream",
     "text": [
      "lxc.include = /usr/share/lxc/config/ubuntu.common.conf\n",
      "lxc.rootfs.path = btrfs:/home/vagrant/rdf/ais/hands-on-lxc/../btrfs_c1/btrfs_container/rootfs\n",
      "lxc.uts.name = btrfs_container\n",
      "lxc.arch = amd64\n",
      "lxc.net.0.type = veth\n",
      "lxc.net.0.link = lxcbr0\n",
      "lxc.net.0.flags = up\n",
      "lxc.net.0.hwaddr = 00:16:3e:d3:2c:36\n"
     ]
    }
   ],
   "source": [
    "sudo grep -vi ^# ../btrfs_c1/btrfs_container/config | grep lxc"
   ]
  },
  {
   "cell_type": "code",
   "execution_count": 111,
   "metadata": {},
   "outputs": [],
   "source": [
    "sudo lxc-start -n btrfs_cow_clone"
   ]
  },
  {
   "cell_type": "code",
   "execution_count": 112,
   "metadata": {},
   "outputs": [],
   "source": [
    "sudo lxc-start -n btrfs_container"
   ]
  },
  {
   "cell_type": "code",
   "execution_count": 113,
   "metadata": {},
   "outputs": [
    {
     "name": "stdout",
     "output_type": "stream",
     "text": [
      "NAME            STATE   AUTOSTART GROUPS IPV4       IPV6 \n",
      "btrfs_container RUNNING 0         -      10.0.3.160 -    \n",
      "btrfs_cow_clone RUNNING 0         -      10.0.3.216 -    \n"
     ]
    }
   ],
   "source": [
    "sudo lxc-ls -f"
   ]
  },
  {
   "cell_type": "markdown",
   "metadata": {},
   "source": [
    "### Aufräumen"
   ]
  },
  {
   "cell_type": "code",
   "execution_count": 114,
   "metadata": {},
   "outputs": [],
   "source": [
    "sudo lxc-stop -n btrfs_cow_clone\n",
    "sudo lxc-stop -n btrfs_container"
   ]
  },
  {
   "cell_type": "code",
   "execution_count": 115,
   "metadata": {},
   "outputs": [],
   "source": [
    "sudo umount ../btrfs_c1"
   ]
  },
  {
   "cell_type": "code",
   "execution_count": 116,
   "metadata": {},
   "outputs": [
    {
     "name": "stdout",
     "output_type": "stream",
     "text": [
      "lxc.lxcpath = /var/lib/lxc\n"
     ]
    }
   ],
   "source": [
    "echo \"lxc.lxcpath = /var/lib/lxc\" | sudo tee /etc/lxc/lxc.conf"
   ]
  },
  {
   "cell_type": "code",
   "execution_count": null,
   "metadata": {},
   "outputs": [],
   "source": []
  }
 ],
 "metadata": {
  "kernelspec": {
   "display_name": "Bash",
   "language": "bash",
   "name": "bash"
  },
  "language_info": {
   "codemirror_mode": "shell",
   "file_extension": ".sh",
   "mimetype": "text/x-sh",
   "name": "bash"
  }
 },
 "nbformat": 4,
 "nbformat_minor": 2
}
