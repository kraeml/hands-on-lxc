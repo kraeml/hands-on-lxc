{
 "cells": [
  {
   "cell_type": "code",
   "execution_count": 1,
   "metadata": {
    "ExecuteTime": {
     "end_time": "2018-03-12T15:25:44.821640Z",
     "start_time": "2018-03-12T15:25:42.501993Z"
    }
   },
   "outputs": [
    {
     "name": "stdout",
     "output_type": "stream",
     "text": [
      "creating directory '/home/vagrant/.local/share/jupyter/nbextensions/spellchecker/typo/dictionaries'\n",
      "saving 'https://chromium.googlesource.com/chromium/deps/hunspell_dictionaries/+/master/de_DE.dic?format=TEXT'\n",
      "    to '/home/vagrant/.local/share/jupyter/nbextensions/spellchecker/typo/dictionaries/de_DE.dic'\n",
      "saving 'https://chromium.googlesource.com/chromium/deps/hunspell_dictionaries/+/master/de_DE.aff?format=TEXT'\n",
      "    to '/home/vagrant/.local/share/jupyter/nbextensions/spellchecker/typo/dictionaries/de_DE.aff'\n"
     ]
    },
    {
     "data": {
      "text/plain": [
       "{'load_extensions': {'codefolding/main': True,\n",
       "  'contrib_nbextensions_help_item/main': True,\n",
       "  'datestamper/main': True,\n",
       "  'execute_time/ExecuteTime': True,\n",
       "  'export_embedded/main': True,\n",
       "  'freeze/main': True,\n",
       "  'gist_it/main': True,\n",
       "  'help_panel/help_panel': True,\n",
       "  'highlight_selected_word/main': True,\n",
       "  'highlighter/highlighter': True,\n",
       "  'hinterland/hinterland': True,\n",
       "  'init_cell/main': True,\n",
       "  'livemdpreview/livemdpreview': True,\n",
       "  'move_selected_cells/main': True,\n",
       "  'nbextensions_configurator/config_menu/main': True,\n",
       "  'printview/main': True,\n",
       "  'python-markdown/main': True,\n",
       "  'rubberband/main': True,\n",
       "  'ruler/main': True,\n",
       "  'runtools/main': True,\n",
       "  'scratchpad/main': True,\n",
       "  'snippets/main': True,\n",
       "  'snippets_menu/main': True,\n",
       "  'spellchecker/main': True,\n",
       "  'splitcell/splitcell': True,\n",
       "  'table_beautifier/main': True,\n",
       "  'toc2/main': True,\n",
       "  'tree-filter/index': True,\n",
       "  'varInspector/main': True},\n",
       " 'spellchecker': {'aff_url': './typo/dictionaries/de_DE.aff',\n",
       "  'dic_url': './typo/dictionaries/de_DE.dic',\n",
       "  'lang_code': 'de_DE'}}"
      ]
     },
     "execution_count": 1,
     "metadata": {},
     "output_type": "execute_result"
    }
   ],
   "source": [
    "from __future__ import print_function\n",
    "\n",
    "import base64\n",
    "import os.path\n",
    "\n",
    "from jupyter_core.paths import jupyter_data_dir\n",
    "from notebook.services.config import ConfigManager\n",
    "\n",
    "try:\n",
    "    from urllib.request import urlopen  # Py3\n",
    "except ImportError:\n",
    "    from urllib import urlopen  # Py2\n",
    "\n",
    "remote_base_url = (\n",
    "    'https://chromium.googlesource.com/' +\n",
    "    'chromium/deps/hunspell_dictionaries/+/master'\n",
    ")\n",
    "local_base_url = os.path.join(\n",
    "    jupyter_data_dir(),\n",
    "    'nbextensions', 'spellchecker', 'typo', 'dictionaries')\n",
    "\n",
    "lang_code = 'de_DE'\n",
    "\n",
    "if not os.path.exists(local_base_url):\n",
    "    print('creating directory {!r}'.format(local_base_url))\n",
    "    os.makedirs(os.path.realpath(local_base_url))\n",
    "\n",
    "cm = ConfigManager()\n",
    "for ext in ('dic', 'aff'):\n",
    "    dict_fname = lang_code + '.' + ext\n",
    "    remote_path = remote_base_url + '/' + dict_fname + '?format=TEXT'\n",
    "    local_path = os.path.join(local_base_url, dict_fname)\n",
    "    print('saving {!r}\\n    to {!r}'.format(remote_path, local_path))\n",
    "    with open(local_path, 'wb') as loc_file:\n",
    "        base64.decode(urlopen(remote_path), loc_file)\n",
    "    rel_path = './typo/dictionaries/' + dict_fname\n",
    "    cm.update('notebook', {'spellchecker': {ext + '_url': rel_path}})\n",
    "\n",
    "cm.update('notebook', {'spellchecker': {'lang_code': lang_code}})"
   ]
  },
  {
   "cell_type": "code",
   "execution_count": null,
   "metadata": {},
   "outputs": [],
   "source": []
  }
 ],
 "metadata": {
  "kernelspec": {
   "display_name": "Python 3",
   "language": "python",
   "name": "python3"
  },
  "language_info": {
   "codemirror_mode": {
    "name": "ipython",
    "version": 3
   },
   "file_extension": ".py",
   "mimetype": "text/x-python",
   "name": "python",
   "nbconvert_exporter": "python",
   "pygments_lexer": "ipython3",
   "version": "3.5.2"
  },
  "toc": {
   "nav_menu": {},
   "number_sections": true,
   "sideBar": true,
   "skip_h1_title": false,
   "title_cell": "Table of Contents",
   "title_sidebar": "Contents",
   "toc_cell": false,
   "toc_position": {},
   "toc_section_display": true,
   "toc_window_display": false
  },
  "varInspector": {
   "cols": {
    "lenName": 16,
    "lenType": 16,
    "lenVar": 40
   },
   "kernels_config": {
    "python": {
     "delete_cmd_postfix": "",
     "delete_cmd_prefix": "del ",
     "library": "var_list.py",
     "varRefreshCmd": "print(var_dic_list())"
    },
    "r": {
     "delete_cmd_postfix": ") ",
     "delete_cmd_prefix": "rm(",
     "library": "var_list.r",
     "varRefreshCmd": "cat(var_dic_list()) "
    }
   },
   "types_to_exclude": [
    "module",
    "function",
    "builtin_function_or_method",
    "instance",
    "_Feature"
   ],
   "window_display": false
  }
 },
 "nbformat": 4,
 "nbformat_minor": 2
}
