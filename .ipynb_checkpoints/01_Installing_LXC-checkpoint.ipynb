{
 "cells": [
  {
   "cell_type": "markdown",
   "metadata": {},
   "source": [
    "# Einstieg LXC\n",
    "\n",
    "Wichtige Kommandos."
   ]
  },
  {
   "cell_type": "markdown",
   "metadata": {},
   "source": [
    "## Installation von LXC\n",
    "\n",
    "Über Paketmanager und ppa:ubuntu-lxc/lxc-stable."
   ]
  },
  {
   "cell_type": "code",
   "execution_count": 1,
   "metadata": {},
   "outputs": [
    {
     "name": "stdout",
     "output_type": "stream",
     "text": [
      "Description:\tUbuntu 16.04.3 LTS\n",
      "Codename:\txenial\n"
     ]
    }
   ],
   "source": [
    "lsb_release --description --codename"
   ]
  },
  {
   "cell_type": "code",
   "execution_count": 2,
   "metadata": {},
   "outputs": [
    {
     "name": "stdout",
     "output_type": "stream",
     "text": [
      "lxc:\n",
      "  Installiert:           2.1.1-0ubuntu1~ubuntu16.04.1~ppa1\n",
      "  Installationskandidat: 2.1.1-0ubuntu1~ubuntu16.04.1~ppa1\n",
      "  Versionstabelle:\n",
      " *** 2.1.1-0ubuntu1~ubuntu16.04.1~ppa1 500\n",
      "        500 http://ppa.launchpad.net/ubuntu-lxc/lxc-stable/ubuntu xenial/main amd64 Packages\n",
      "        500 http://ppa.launchpad.net/ubuntu-lxc/lxc-stable/ubuntu xenial/main i386 Packages\n",
      "        100 /var/lib/dpkg/status\n",
      "     2.0.8-0ubuntu1~16.04.2 500\n",
      "        500 http://us.archive.ubuntu.com/ubuntu xenial-updates/main amd64 Packages\n",
      "        500 http://us.archive.ubuntu.com/ubuntu xenial-updates/main i386 Packages\n",
      "     2.0.7-0ubuntu1~16.04.2 500\n",
      "        500 http://security.ubuntu.com/ubuntu xenial-security/main amd64 Packages\n",
      "        500 http://security.ubuntu.com/ubuntu xenial-security/main i386 Packages\n",
      "     2.0.0-0ubuntu2 500\n",
      "        500 http://us.archive.ubuntu.com/ubuntu xenial/main amd64 Packages\n",
      "        500 http://us.archive.ubuntu.com/ubuntu xenial/main i386 Packages\n",
      "bridge-utils:\n",
      "  Installiert:           1.5-9ubuntu1\n",
      "  Installationskandidat: 1.5-9ubuntu1\n",
      "  Versionstabelle:\n",
      " *** 1.5-9ubuntu1 500\n",
      "        500 http://us.archive.ubuntu.com/ubuntu xenial/main amd64 Packages\n",
      "        100 /var/lib/dpkg/status\n"
     ]
    }
   ],
   "source": [
    "apt policy lxc bridge-utils"
   ]
  },
  {
   "cell_type": "code",
   "execution_count": 3,
   "metadata": {},
   "outputs": [
    {
     "name": "stdout",
     "output_type": "stream",
     "text": [
      "liblxc1 2.1.1-0ubuntu1~ubuntu16.04.1~ppa1\n",
      "lxc 2.1.1-0ubuntu1~ubuntu16.04.1~ppa1\n",
      "lxc-common 2.1.1-0ubuntu1~ubuntu16.04.1~ppa1\n",
      "lxc-templates 2.1.1-0ubuntu1~ubuntu16.04.1~ppa1\n",
      "lxc1 2.1.1-0ubuntu1~ubuntu16.04.1~ppa1\n",
      "lxcfs 2.0.8-1ubuntu2~ubuntu16.04.1~ppa1\n",
      "python-lxc 0.1-0ubuntu6\n",
      "python3-lxc 2.1.1-0ubuntu1~ubuntu16.04.1~ppa1\n"
     ]
    }
   ],
   "source": [
    "dpkg --list | grep lxc | awk '{print $2,$3}'"
   ]
  },
  {
   "cell_type": "markdown",
   "metadata": {},
   "source": [
    "## LXC Verzeichnisse"
   ]
  },
  {
   "cell_type": "markdown",
   "metadata": {},
   "source": [
    "Skripte, Vorlagen usw. befinden sich unterhalb von `/usr/share/lxc`:"
   ]
  },
  {
   "cell_type": "code",
   "execution_count": 4,
   "metadata": {},
   "outputs": [
    {
     "name": "stdout",
     "output_type": "stream",
     "text": [
      "/usr/share/lxc\n",
      "+-- config/\n",
      "+-- hooks/\n",
      "+-- lxc.functions\n",
      "+-- lxc-patch.py\n",
      "+-- selinux/\n",
      "\\-- templates/\n",
      "\n",
      "4 directories, 2 files\n"
     ]
    }
   ],
   "source": [
    "tree -aF -L 1 /usr/share/lxc | sed 's/├/\\+/g; s/─/-/g; s/└/\\\\/g'"
   ]
  },
  {
   "cell_type": "markdown",
   "metadata": {},
   "source": [
    "Die Konfiguration (teilweise) befindet sich:"
   ]
  },
  {
   "cell_type": "code",
   "execution_count": 5,
   "metadata": {},
   "outputs": [
    {
     "name": "stdout",
     "output_type": "stream",
     "text": [
      "lxc.net.0.type = veth\n",
      "lxc.net.0.link = lxcbr0\n",
      "lxc.net.0.flags = up\n",
      "lxc.net.0.hwaddr = 00:16:3e:xx:xx:xx\n"
     ]
    }
   ],
   "source": [
    "cat /etc/lxc/default.conf"
   ]
  },
  {
   "cell_type": "markdown",
   "metadata": {},
   "source": [
    "Die dnsmasq Einstellungen (teilweise) befindet sich:"
   ]
  },
  {
   "cell_type": "code",
   "execution_count": 11,
   "metadata": {},
   "outputs": [
    {
     "name": "stdout",
     "output_type": "stream",
     "text": [
      "# Tell any system-wide dnsmasq instance to make sure to bind to interfaces\n",
      "# instead of listening on 0.0.0.0\n",
      "# WARNING: changes to this file will get lost if lxc is removed.\n",
      "bind-interfaces\n",
      "except-interface=lxcbr0\n"
     ]
    }
   ],
   "source": [
    "cat /etc/dnsmasq.d/lxc"
   ]
  },
  {
   "cell_type": "code",
   "execution_count": 10,
   "metadata": {},
   "outputs": [
    {
     "name": "stdout",
     "output_type": "stream",
     "text": [
      "# This file is auto-generated by lxc.postinst if it does not\n",
      "# exist.  Customizations will not be overridden.\n",
      "# Leave USE_LXC_BRIDGE as \"true\" if you want to use lxcbr0 for your\n",
      "# containers.  Set to \"false\" if you'll use virbr0 or another existing\n",
      "# bridge, or mavlan to your host's NIC.\n",
      "USE_LXC_BRIDGE=\"true\"\n",
      "\n",
      "# If you change the LXC_BRIDGE to something other than lxcbr0, then\n",
      "# you will also need to update your /etc/lxc/default.conf as well as the\n",
      "# configuration (/var/lib/lxc/<container>/config) for any containers\n",
      "# already created using the default config to reflect the new bridge\n",
      "# name.\n",
      "# If you have the dnsmasq daemon installed, you'll also have to update\n",
      "# /etc/dnsmasq.d/lxc and restart the system wide dnsmasq daemon.\n",
      "LXC_BRIDGE=\"lxcbr0\"\n",
      "LXC_ADDR=\"10.0.3.1\"\n",
      "LXC_NETMASK=\"255.255.255.0\"\n",
      "LXC_NETWORK=\"10.0.3.0/24\"\n",
      "LXC_DHCP_RANGE=\"10.0.3.2,10.0.3.254\"\n",
      "LXC_DHCP_MAX=\"253\"\n",
      "# Uncomment the next line if you'd like to use a conf-file for the lxcbr0\n",
      "# dnsmasq.  For instance, you can use 'dhcp-host=mail1,10.0.3.100' to have\n",
      "# container 'mail1' always get ip address 10.0.3.100.\n",
      "#LXC_DHCP_CONFILE=/etc/lxc/dnsmasq.conf\n",
      "\n",
      "# Uncomment the next line if you want lxcbr0's dnsmasq to resolve the .lxc\n",
      "# domain.  You can then add \"server=/lxc/10.0.3.1' (or your actual $LXC_ADDR)\n",
      "# to your system dnsmasq configuration file (normally /etc/dnsmasq.conf,\n",
      "# or /etc/NetworkManager/dnsmasq.d/lxc.conf on systems that use NetworkManager).\n",
      "# Once these changes are made, restart the lxc-net and network-manager services.\n",
      "# 'container1.lxc' will then resolve on your host.\n",
      "#LXC_DOMAIN=\"lxc\"\n"
     ]
    }
   ],
   "source": [
    "cat /etc/default/lxc-net"
   ]
  },
  {
   "cell_type": "code",
   "execution_count": 12,
   "metadata": {},
   "outputs": [],
   "source": [
    "sudo lxc-ls --fancy"
   ]
  },
  {
   "cell_type": "code",
   "execution_count": 13,
   "metadata": {},
   "outputs": [
    {
     "name": "stdout",
     "output_type": "stream",
     "text": [
      "/var/lib/lxc\n",
      "\n",
      "0 directories, 0 files\n"
     ]
    }
   ],
   "source": [
    "sudo tree -aF -L 1 /var/lib/lxc | sed 's/├/\\+/g; s/─/-/g; s/└/\\\\/g'"
   ]
  },
  {
   "cell_type": "code",
   "execution_count": 14,
   "metadata": {},
   "outputs": [
    {
     "name": "stdout",
     "output_type": "stream",
     "text": [
      "c1.log  foo.log\n"
     ]
    }
   ],
   "source": [
    "ls /var/log/lxc/"
   ]
  },
  {
   "cell_type": "markdown",
   "metadata": {},
   "source": [
    "## Erstellen und einrichten von LXC Containern"
   ]
  },
  {
   "cell_type": "code",
   "execution_count": 17,
   "metadata": {},
   "outputs": [
    {
     "name": "stdout",
     "output_type": "stream",
     "text": [
      "Checking cache download in /var/cache/lxc/xenial/rootfs-amd64 ... \n",
      "Copy /var/cache/lxc/xenial/rootfs-amd64 to /var/lib/lxc/c1/rootfs ... \n",
      "Copying rootfs to /var/lib/lxc/c1/rootfs ...\n",
      "Generating locales (this might take a while)...\n",
      "  de_DE.UTF-8... done\n",
      "Generation complete.\n",
      "debconf: kann Oberfläche nicht initialisieren: Dialog\n",
      "debconf: (Die Dialog-Oberfläche funktioniert nicht auf einem Dumb-Terminal, einem Emacs-Shellbuffer oder ohne ein steuerndes Terminal.)\n",
      "debconf: greife zurück auf die Oberfläche: Readline\n",
      "debconf: kann Oberfläche nicht initialisieren: Readline\n",
      "debconf: (Can't locate Term/ReadLine.pm in @INC (you may need to install the Term::ReadLine module) (@INC contains: /etc/perl /usr/local/lib/x86_64-linux-gnu/perl/5.22.1 /usr/local/share/perl/5.22.1 /usr/lib/x86_64-linux-gnu/perl5/5.22 /usr/share/perl5 /usr/lib/x86_64-linux-gnu/perl/5.22 /usr/share/perl/5.22 /usr/local/lib/site_perl /usr/lib/x86_64-linux-gnu/perl-base .) at /usr/share/perl5/Debconf/FrontEnd/Readline.pm line 7.)\n",
      "debconf: greife zurück auf die Oberfläche: Teletype\n",
      "Creating SSH2 RSA key; this may take some time ...\n",
      "2048 SHA256:XSKtxUzYrUazkc+K0yNLnt89iwBF3Gm0Ae7MZtyqP9k root@rdf-dev (RSA)\n",
      "Creating SSH2 DSA key; this may take some time ...\n",
      "1024 SHA256:qlgqBM52QqPJIemuXtB0SGj7Bp+96HELDxBKsfN5fVQ root@rdf-dev (DSA)\n",
      "Creating SSH2 ECDSA key; this may take some time ...\n",
      "256 SHA256:n3tW9TuFt27aRxR3usMxufm2sU1um7rjinTzYyA9XUw root@rdf-dev (ECDSA)\n",
      "Creating SSH2 ED25519 key; this may take some time ...\n",
      "256 SHA256:of0s/xsJ/lOmO4aO1fr3CsRQCl5FqpcSLYHralG/BoA root@rdf-dev (ED25519)\n",
      "invoke-rc.d: could not determine current runlevel\n",
      "invoke-rc.d: policy-rc.d denied execution of start.\n",
      "\n",
      "Current default time zone: 'Etc/UTC'\n",
      "Local time is now:      Thu Feb 15 09:08:12 UTC 2018.\n",
      "Universal Time is now:  Thu Feb 15 09:08:12 UTC 2018.\n",
      "\n",
      "\n",
      "##\n",
      "# The default user is 'ubuntu' with password 'ubuntu'!\n",
      "# Use the 'sudo' command to run tasks as root in the container.\n",
      "##\n",
      "\n"
     ]
    }
   ],
   "source": [
    "sudo lxc-create --name c1 --template ubuntu"
   ]
  },
  {
   "cell_type": "code",
   "execution_count": 18,
   "metadata": {},
   "outputs": [
    {
     "name": "stdout",
     "output_type": "stream",
     "text": [
      "NAME STATE   AUTOSTART GROUPS IPV4 IPV6 \n",
      "c1   STOPPED 0         -      -    -    \n"
     ]
    }
   ],
   "source": [
    "sudo lxc-ls --fancy"
   ]
  },
  {
   "cell_type": "code",
   "execution_count": 19,
   "metadata": {},
   "outputs": [],
   "source": [
    "sudo lxc-start --name c1 -l DEBUG"
   ]
  },
  {
   "cell_type": "code",
   "execution_count": 21,
   "metadata": {},
   "outputs": [
    {
     "name": "stdout",
     "output_type": "stream",
     "text": [
      "NAME STATE   AUTOSTART GROUPS IPV4       IPV6 \n",
      "c1   RUNNING 0         -      10.0.3.254 -    \n"
     ]
    }
   ],
   "source": [
    "sudo lxc-ls --fancy"
   ]
  },
  {
   "cell_type": "code",
   "execution_count": 22,
   "metadata": {},
   "outputs": [
    {
     "name": "stdout",
     "output_type": "stream",
     "text": [
      "Name:           c1\n",
      "State:          RUNNING\n",
      "PID:            6863\n",
      "IP:             10.0.3.254\n",
      "CPU use:        0.36 seconds\n",
      "BlkIO use:      17.96 MiB\n",
      "Memory use:     21.85 MiB\n",
      "KMem use:       0 bytes\n",
      "Link:           veth1QQO7E\n",
      " TX bytes:      1.23 KiB\n",
      " RX bytes:      6.05 KiB\n",
      " Total bytes:   7.29 KiB\n"
     ]
    }
   ],
   "source": [
    "sudo lxc-info --name c1"
   ]
  },
  {
   "cell_type": "code",
   "execution_count": 23,
   "metadata": {},
   "outputs": [
    {
     "name": "stdout",
     "output_type": "stream",
     "text": [
      "bridge name\tbridge id\t\tSTP enabled\tinterfaces\n",
      "docker0\t\t8000.0242125cdcc9\tno\t\t\n",
      "lxcbr0\t\t8000.00163e000000\tno\t\tveth1QQO7E\n",
      "lxdbr0\t\t8000.000000000000\tno\t\t\n"
     ]
    }
   ],
   "source": [
    "sudo brctl show"
   ]
  },
  {
   "cell_type": "code",
   "execution_count": 24,
   "metadata": {},
   "outputs": [
    {
     "name": "stdout",
     "output_type": "stream",
     "text": [
      "5: lxcbr0: <BROADCAST,MULTICAST,UP,LOWER_UP> mtu 1500 qdisc noqueue state UP group default qlen 1000\n",
      "    link/ether 00:16:3e:00:00:00 brd ff:ff:ff:ff:ff:ff\n",
      "    inet 10.0.3.1/24 scope global lxcbr0\n",
      "       valid_lft forever preferred_lft forever\n",
      "    inet6 fe80::216:3eff:fe00:0/64 scope link \n",
      "       valid_lft forever preferred_lft forever\n"
     ]
    }
   ],
   "source": [
    "ip addr show lxcbr0"
   ]
  },
  {
   "cell_type": "code",
   "execution_count": 25,
   "metadata": {},
   "outputs": [
    {
     "name": "stdout",
     "output_type": "stream",
     "text": [
      "8: veth1QQO7E@if7: <BROADCAST,MULTICAST,UP,LOWER_UP> mtu 1500 qdisc noqueue master lxcbr0 state UP group default qlen 1000\n",
      "    link/ether fe:9a:90:7f:d1:81 brd ff:ff:ff:ff:ff:ff link-netnsid 0\n",
      "    inet6 fe80::fc9a:90ff:fe7f:d181/64 scope link \n",
      "       valid_lft forever preferred_lft forever\n"
     ]
    }
   ],
   "source": [
    "ip addr show veth1QQO7E"
   ]
  },
  {
   "cell_type": "code",
   "execution_count": 26,
   "metadata": {},
   "outputs": [
    {
     "name": "stdout",
     "output_type": "stream",
     "text": [
      "Chain PREROUTING (policy ACCEPT)\n",
      "target     prot opt source               destination         \n",
      "DOCKER     all  --  0.0.0.0/0            0.0.0.0/0            ADDRTYPE match dst-type LOCAL\n",
      "\n",
      "Chain INPUT (policy ACCEPT)\n",
      "target     prot opt source               destination         \n",
      "\n",
      "Chain OUTPUT (policy ACCEPT)\n",
      "target     prot opt source               destination         \n",
      "DOCKER     all  --  0.0.0.0/0           !127.0.0.0/8          ADDRTYPE match dst-type LOCAL\n",
      "\n",
      "Chain POSTROUTING (policy ACCEPT)\n",
      "target     prot opt source               destination         \n",
      "MASQUERADE  all  --  172.17.0.0/16        0.0.0.0/0           \n",
      "MASQUERADE  all  --  10.38.59.0/24       !10.38.59.0/24        /* managed by lxd-bridge */\n",
      "MASQUERADE  all  --  10.0.3.0/24         !10.0.3.0/24         \n",
      "\n",
      "Chain DOCKER (2 references)\n",
      "target     prot opt source               destination         \n",
      "RETURN     all  --  0.0.0.0/0            0.0.0.0/0           \n"
     ]
    }
   ],
   "source": [
    "sudo iptables -L -n -t nat"
   ]
  },
  {
   "cell_type": "code",
   "execution_count": 27,
   "metadata": {},
   "outputs": [
    {
     "name": "stdout",
     "output_type": "stream",
     "text": [
      "# Host 10.0.3.2 found: line 1\n",
      "# Host 10.0.3.2 found: line 2\n",
      "# Host 10.0.3.2 found: line 3\n",
      "/home/vagrant/.ssh/known_hosts updated.\n",
      "Original contents retained as /home/vagrant/.ssh/known_hosts.old\n"
     ]
    }
   ],
   "source": [
    "ssh-keygen -R 10.0.3.254"
   ]
  },
  {
   "cell_type": "code",
   "execution_count": 30,
   "metadata": {},
   "outputs": [
    {
     "name": "stdout",
     "output_type": "stream",
     "text": [
      "# 10.0.3.254:22 SSH-2.0-OpenSSH_7.2p2 Ubuntu-4ubuntu2.4\n",
      "# 10.0.3.254:22 SSH-2.0-OpenSSH_7.2p2 Ubuntu-4ubuntu2.4\n",
      "# 10.0.3.254:22 SSH-2.0-OpenSSH_7.2p2 Ubuntu-4ubuntu2.4\n"
     ]
    }
   ],
   "source": [
    "ssh-keyscan 10.0.3.254 >> ~/.ssh/known_hosts"
   ]
  },
  {
   "cell_type": "code",
   "execution_count": 31,
   "metadata": {
    "scrolled": false
   },
   "outputs": [
    {
     "name": "stdout",
     "output_type": "stream",
     "text": [
      "c1\n"
     ]
    }
   ],
   "source": [
    "sshpass -p ubuntu ssh ubuntu@10.0.3.254 hostname"
   ]
  },
  {
   "cell_type": "code",
   "execution_count": 32,
   "metadata": {},
   "outputs": [
    {
     "name": "stdout",
     "output_type": "stream",
     "text": [
      "insgesamt 16\n",
      "drwxrwx---  3 root root 4096 Feb 15 09:08 .\n",
      "drwx------  3 root root 4096 Feb 15 09:07 ..\n",
      "-rw-r--r--  1 root root  744 Feb 15 09:08 config\n",
      "drwxr-xr-x 21 root root 4096 Feb 14 20:06 rootfs\n"
     ]
    }
   ],
   "source": [
    "sudo ls -la /var/lib/lxc/c1/"
   ]
  },
  {
   "cell_type": "code",
   "execution_count": 33,
   "metadata": {},
   "outputs": [
    {
     "name": "stdout",
     "output_type": "stream",
     "text": [
      "# Template used to create this container: /usr/share/lxc/templates/lxc-ubuntu\n",
      "# Parameters passed to the template:\n",
      "# Template script checksum (SHA-1): 865a6e4050da6a45575473b0a71f84ced41604fe\n",
      "# For additional config options, please look at lxc.container.conf(5)\n",
      "\n",
      "# Uncomment the following line to support nesting containers:\n",
      "#lxc.include = /usr/share/lxc/config/nesting.conf\n",
      "# (Be aware this has security implications)\n",
      "\n",
      "\n",
      "# Common configuration\n",
      "lxc.include = /usr/share/lxc/config/ubuntu.common.conf\n",
      "\n",
      "# Container specific configuration\n",
      "lxc.rootfs.path = dir:/var/lib/lxc/c1/rootfs\n",
      "lxc.uts.name = c1\n",
      "lxc.arch = amd64\n",
      "\n",
      "# Network configuration\n",
      "lxc.net.0.type = veth\n",
      "lxc.net.0.link = lxcbr0\n",
      "lxc.net.0.flags = up\n",
      "lxc.net.0.hwaddr = 00:16:3e:1a:8c:09\n"
     ]
    }
   ],
   "source": [
    "sudo cat /var/lib/lxc/c1/config"
   ]
  },
  {
   "cell_type": "code",
   "execution_count": 34,
   "metadata": {},
   "outputs": [],
   "source": [
    "sudo lxc-stop --name c1"
   ]
  },
  {
   "cell_type": "code",
   "execution_count": 35,
   "metadata": {},
   "outputs": [
    {
     "name": "stdout",
     "output_type": "stream",
     "text": [
      "Destroyed container c1\n"
     ]
    }
   ],
   "source": [
    "sudo lxc-destroy --name c1"
   ]
  },
  {
   "cell_type": "code",
   "execution_count": 36,
   "metadata": {},
   "outputs": [],
   "source": [
    "sudo lxc-ls --fancy"
   ]
  }
 ],
 "metadata": {
  "kernelspec": {
   "display_name": "Bash",
   "language": "bash",
   "name": "bash"
  },
  "language_info": {
   "codemirror_mode": "shell",
   "file_extension": ".sh",
   "mimetype": "text/x-sh",
   "name": "bash"
  }
 },
 "nbformat": 4,
 "nbformat_minor": 2
}
