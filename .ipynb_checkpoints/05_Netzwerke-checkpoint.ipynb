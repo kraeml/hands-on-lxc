{
 "cells": [
  {
   "cell_type": "markdown",
   "metadata": {},
   "source": [
    "# Netzwerke in LXC"
   ]
  },
  {
   "cell_type": "markdown",
   "metadata": {},
   "source": [
    "## dnsmasq"
   ]
  },
  {
   "cell_type": "code",
   "execution_count": 1,
   "metadata": {},
   "outputs": [
    {
     "name": "stdout",
     "output_type": "stream",
     "text": [
      "Sortierung... Fertig\n",
      "Volltextsuche... Fertig\n",
      "\u001b[32mdbab\u001b[0m/xenial,xenial 1.3.2-1 all\n",
      "  dnsmasq-based ad-blocking using pixelserv\n",
      "\n",
      "\u001b[32mdnsmasq\u001b[0m/xenial-updates,xenial-updates,now 2.75-1ubuntu0.16.04.4 all  [installiert]\n",
      "  Small caching DNS proxy and DHCP/TFTP server\n",
      "\n",
      "\u001b[32mdnsmasq-base\u001b[0m/xenial-updates,now 2.75-1ubuntu0.16.04.4 amd64  [Installiert,automatisch]\n",
      "  Small caching DNS proxy and DHCP/TFTP server\n",
      "\n",
      "\u001b[32mdnsmasq-utils\u001b[0m/xenial-updates 2.75-1ubuntu0.16.04.4 amd64\n",
      "  Utilities for manipulating DHCP leases\n",
      "\n",
      "\u001b[32mopenresolv\u001b[0m/xenial 3.7.2-1 amd64\n",
      "  management framework for resolv.conf\n",
      "\n"
     ]
    }
   ],
   "source": [
    "apt search dnsmasq"
   ]
  },
  {
   "cell_type": "code",
   "execution_count": 2,
   "metadata": {},
   "outputs": [
    {
     "name": "stdout",
     "output_type": "stream",
     "text": [
      "dnsmasq:\n",
      "  Installiert:           2.75-1ubuntu0.16.04.4\n",
      "  Installationskandidat: 2.75-1ubuntu0.16.04.4\n",
      "  Versionstabelle:\n",
      " *** 2.75-1ubuntu0.16.04.4 500\n",
      "        500 http://us.archive.ubuntu.com/ubuntu xenial-updates/universe amd64 Packages\n",
      "        500 http://us.archive.ubuntu.com/ubuntu xenial-updates/universe i386 Packages\n",
      "        100 /var/lib/dpkg/status\n",
      "     2.75-1ubuntu0.16.04.3 500\n",
      "        500 http://security.ubuntu.com/ubuntu xenial-security/universe amd64 Packages\n",
      "        500 http://security.ubuntu.com/ubuntu xenial-security/universe i386 Packages\n",
      "     2.75-1 500\n",
      "        500 http://us.archive.ubuntu.com/ubuntu xenial/universe amd64 Packages\n",
      "        500 http://us.archive.ubuntu.com/ubuntu xenial/universe i386 Packages\n",
      "dnsmasq-base:\n",
      "  Installiert:           2.75-1ubuntu0.16.04.4\n",
      "  Installationskandidat: 2.75-1ubuntu0.16.04.4\n",
      "  Versionstabelle:\n",
      " *** 2.75-1ubuntu0.16.04.4 500\n",
      "        500 http://us.archive.ubuntu.com/ubuntu xenial-updates/main amd64 Packages\n",
      "        100 /var/lib/dpkg/status\n",
      "     2.75-1ubuntu0.16.04.3 500\n",
      "        500 http://security.ubuntu.com/ubuntu xenial-security/main amd64 Packages\n",
      "     2.75-1 500\n",
      "        500 http://us.archive.ubuntu.com/ubuntu xenial/main amd64 Packages\n",
      "dnsmasq-utils:\n",
      "  Installiert:           (keine)\n",
      "  Installationskandidat: 2.75-1ubuntu0.16.04.4\n",
      "  Versionstabelle:\n",
      "     2.75-1ubuntu0.16.04.4 500\n",
      "        500 http://us.archive.ubuntu.com/ubuntu xenial-updates/main amd64 Packages\n",
      "     2.75-1ubuntu0.16.04.3 500\n",
      "        500 http://security.ubuntu.com/ubuntu xenial-security/main amd64 Packages\n",
      "     2.75-1 500\n",
      "        500 http://us.archive.ubuntu.com/ubuntu xenial/main amd64 Packages\n"
     ]
    }
   ],
   "source": [
    "apt policy dnsmasq dnsmasq-base dnsmasq-utils"
   ]
  },
  {
   "cell_type": "code",
   "execution_count": 3,
   "metadata": {},
   "outputs": [
    {
     "name": "stdout",
     "output_type": "stream",
     "text": [
      "2680 dnsmasq -s lxd -S /lxd/ -u lxd --strict-order --bind-interfaces --pid-file=/run/lxd-bridge//dnsmasq.pid --dhcp-no-override --except-interface=lo --interface=lxdbr0 --dhcp-leasefile=/var/lib/lxd-bridge//dnsmasq.lxdbr0.leases --dhcp-authoritative --listen-address 10.38.59.1 --dhcp-range 10.38.59.2,10.38.59.254 --dhcp-lease-max=252 --dhcp-range=fd71:3725:86f7:3a47::1,ra-stateless,ra-names --listen-address fd71:3725:86f7:3a47::1\n",
      "9440 /usr/sbin/dnsmasq -x /var/run/dnsmasq/dnsmasq.pid -u dnsmasq -r /var/run/dnsmasq/resolv.conf -7 /etc/dnsmasq.d,.dpkg-dist,.dpkg-old,.dpkg-new --local-service\n",
      "18315 dnsmasq -u lxc-dnsmasq --strict-order --bind-interfaces --pid-file=/run/lxc/dnsmasq.pid --listen-address 10.0.3.1 --dhcp-range 10.0.3.2,10.0.3.254 --dhcp-lease-max=253 --dhcp-no-override --except-interface=lo --interface=lxcbr0 --dhcp-leasefile=/var/lib/misc/dnsmasq.lxcbr0.leases --dhcp-authoritative\n",
      "18450 sudo pgrep -lfaww dnsmasq\n"
     ]
    }
   ],
   "source": [
    "sudo pgrep -lfaww dnsmasq"
   ]
  },
  {
   "cell_type": "code",
   "execution_count": 4,
   "metadata": {},
   "outputs": [
    {
     "name": "stdout",
     "output_type": "stream",
     "text": [
      "USE_LXC_BRIDGE=\"true\"\n",
      "\n",
      "LXC_BRIDGE=\"lxcbr0\"\n",
      "LXC_ADDR=\"10.0.3.1\"\n",
      "LXC_NETMASK=\"255.255.255.0\"\n",
      "LXC_NETWORK=\"10.0.3.0/24\"\n",
      "LXC_DHCP_RANGE=\"10.0.3.2,10.0.3.254\"\n",
      "LXC_DHCP_MAX=\"253\"\n",
      "\n"
     ]
    }
   ],
   "source": [
    "grep -v ^# /etc/default/lxc-net"
   ]
  },
  {
   "cell_type": "code",
   "execution_count": 5,
   "metadata": {},
   "outputs": [
    {
     "name": "stdout",
     "output_type": "stream",
     "text": [
      "Checking cache download in /var/cache/lxc/xenial/rootfs-amd64 ... \n",
      "Copy /var/cache/lxc/xenial/rootfs-amd64 to /var/lib/lxc/br1/rootfs ... \n",
      "Copying rootfs to /var/lib/lxc/br1/rootfs ...\n",
      "Generating locales (this might take a while)...\n",
      "  de_DE.UTF-8... done\n",
      "Generation complete.\n",
      "debconf: kann Oberfläche nicht initialisieren: Dialog\n",
      "debconf: (Die Dialog-Oberfläche funktioniert nicht auf einem Dumb-Terminal, einem Emacs-Shellbuffer oder ohne ein steuerndes Terminal.)\n",
      "debconf: greife zurück auf die Oberfläche: Readline\n",
      "debconf: kann Oberfläche nicht initialisieren: Readline\n",
      "debconf: (Can't locate Term/ReadLine.pm in @INC (you may need to install the Term::ReadLine module) (@INC contains: /etc/perl /usr/local/lib/x86_64-linux-gnu/perl/5.22.1 /usr/local/share/perl/5.22.1 /usr/lib/x86_64-linux-gnu/perl5/5.22 /usr/share/perl5 /usr/lib/x86_64-linux-gnu/perl/5.22 /usr/share/perl/5.22 /usr/local/lib/site_perl /usr/lib/x86_64-linux-gnu/perl-base .) at /usr/share/perl5/Debconf/FrontEnd/Readline.pm line 7.)\n",
      "debconf: greife zurück auf die Oberfläche: Teletype\n",
      "Creating SSH2 RSA key; this may take some time ...\n",
      "2048 SHA256:s1LqUIg4ogBdL2rqXC4Ys0dCIqCdVkz7YK2LcKXQd8w root@rdf-dev (RSA)\n",
      "Creating SSH2 DSA key; this may take some time ...\n",
      "1024 SHA256:eT3AsabZim/aIDceG7MI/gc6icD8D71YBGgzyEOVNWM root@rdf-dev (DSA)\n",
      "Creating SSH2 ECDSA key; this may take some time ...\n",
      "256 SHA256:sAsVxz9K1Hc0n6TBpBXAxc4FssNGn9mWq3dunyWll6E root@rdf-dev (ECDSA)\n",
      "Creating SSH2 ED25519 key; this may take some time ...\n",
      "256 SHA256:7JkbQwBVzF9J67wHKUy9rJFP7dQYU046AgjN79QY7qw root@rdf-dev (ED25519)\n",
      "invoke-rc.d: could not determine current runlevel\n",
      "invoke-rc.d: policy-rc.d denied execution of start.\n",
      "\n",
      "Current default time zone: 'Etc/UTC'\n",
      "Local time is now:      Thu Feb 15 13:28:38 UTC 2018.\n",
      "Universal Time is now:  Thu Feb 15 13:28:38 UTC 2018.\n",
      "\n",
      "\n",
      "##\n",
      "# The default user is 'ubuntu' with password 'ubuntu'!\n",
      "# Use the 'sudo' command to run tasks as root in the container.\n",
      "##\n",
      "\n"
     ]
    }
   ],
   "source": [
    "sudo lxc-create -t ubuntu --name br1"
   ]
  },
  {
   "cell_type": "markdown",
   "metadata": {},
   "source": [
    "Den Benutzer `ubuntu` auf `br1` alles via `sudo` erlauben, ohne Passworteingabe."
   ]
  },
  {
   "cell_type": "code",
   "execution_count": 6,
   "metadata": {},
   "outputs": [
    {
     "name": "stdout",
     "output_type": "stream",
     "text": [
      "vagrant        ALL=(ALL)       NOPASSWD: ALL\n",
      "ubuntu        ALL=(ALL)       NOPASSWD: ALL\n"
     ]
    }
   ],
   "source": [
    "sudo grep vagrant /etc/sudoers \\\n",
    "    | sudo tee /var/lib/lxc/br1/rootfs/etc/sudoers.d/ubuntu && \\\n",
    "    sudo sed -i s/vagrant/ubuntu/g /var/lib/lxc/br1/rootfs/etc/sudoers.d/ubuntu\n",
    "sudo cat /var/lib/lxc/br1/rootfs/etc/sudoers.d/ubuntu"
   ]
  },
  {
   "cell_type": "code",
   "execution_count": 7,
   "metadata": {},
   "outputs": [],
   "source": [
    "sudo lxc-start --name br1 && sleep 5"
   ]
  },
  {
   "cell_type": "code",
   "execution_count": 8,
   "metadata": {},
   "outputs": [
    {
     "name": "stdout",
     "output_type": "stream",
     "text": [
      "Name:           br1\n",
      "State:          RUNNING\n",
      "PID:            18667\n",
      "IP:             10.0.3.111\n",
      "CPU use:        0.34 seconds\n",
      "BlkIO use:      1.70 MiB\n",
      "Memory use:     13.70 MiB\n",
      "KMem use:       0 bytes\n",
      "Link:           veth3K37A3\n",
      " TX bytes:      1.23 KiB\n",
      " RX bytes:      6.06 KiB\n",
      " Total bytes:   7.29 KiB\n"
     ]
    }
   ],
   "source": [
    "sudo lxc-info --name br1"
   ]
  },
  {
   "cell_type": "code",
   "execution_count": 9,
   "metadata": {},
   "outputs": [
    {
     "name": "stdout",
     "output_type": "stream",
     "text": [
      "bridge name\tbridge id\t\tSTP enabled\tinterfaces\n",
      "docker0\t\t8000.0242125cdcc9\tno\t\t\n",
      "lxcbr0\t\t8000.00163e000000\tno\t\tveth3K37A3\n",
      "lxdbr0\t\t8000.000000000000\tno\t\t\n"
     ]
    }
   ],
   "source": [
    "sudo brctl show"
   ]
  },
  {
   "cell_type": "code",
   "execution_count": 10,
   "metadata": {},
   "outputs": [
    {
     "name": "stdout",
     "output_type": "stream",
     "text": [
      "85: lxcbr0: <BROADCAST,MULTICAST,UP,LOWER_UP> mtu 1500 qdisc noqueue state UP group default qlen 1000\n",
      "    link/ether 00:16:3e:00:00:00 brd ff:ff:ff:ff:ff:ff\n",
      "    inet 10.0.3.1/24 scope global lxcbr0\n",
      "       valid_lft forever preferred_lft forever\n",
      "    inet6 fe80::216:3eff:fe00:0/64 scope link \n",
      "       valid_lft forever preferred_lft forever\n"
     ]
    }
   ],
   "source": [
    "ip addr show lxcbr0"
   ]
  },
  {
   "cell_type": "code",
   "execution_count": 11,
   "metadata": {},
   "outputs": [
    {
     "name": "stdout",
     "output_type": "stream",
     "text": [
      "USE_LXC_BRIDGE=\"true\"\n",
      "\n",
      "LXC_BRIDGE=\"lxcbr0\"\n",
      "LXC_ADDR=\"10.0.3.1\"\n",
      "LXC_NETMASK=\"255.255.255.0\"\n",
      "LXC_NETWORK=\"10.0.3.0/24\"\n",
      "LXC_DHCP_RANGE=\"10.0.3.2,10.0.3.254\"\n",
      "LXC_DHCP_MAX=\"253\"\n",
      "\n"
     ]
    }
   ],
   "source": [
    "grep -v ^# /etc/default/lxc-net"
   ]
  },
  {
   "cell_type": "code",
   "execution_count": 12,
   "metadata": {},
   "outputs": [
    {
     "name": "stdout",
     "output_type": "stream",
     "text": [
      "10.0.3.111 \n"
     ]
    }
   ],
   "source": [
    "sudo lxc-ls --name br1 --fancy --fancy-format IPV4 | grep -v IPV4"
   ]
  },
  {
   "cell_type": "code",
   "execution_count": 13,
   "metadata": {},
   "outputs": [
    {
     "name": "stdout",
     "output_type": "stream",
     "text": [
      "10.0.3.111\n"
     ]
    }
   ],
   "source": [
    "BR1_IP=$(sudo lxc-ls --name br1 --fancy --fancy-format IPV4 | grep -v IPV4)\n",
    "echo $BR1_IP"
   ]
  },
  {
   "cell_type": "code",
   "execution_count": 14,
   "metadata": {},
   "outputs": [
    {
     "name": "stdout",
     "output_type": "stream",
     "text": [
      "Host 10.0.3.111 not found in /home/vagrant/.ssh/known_hosts\n",
      "# 10.0.3.111:22 SSH-2.0-OpenSSH_7.2p2 Ubuntu-4ubuntu2.4\n",
      "# 10.0.3.111:22 SSH-2.0-OpenSSH_7.2p2 Ubuntu-4ubuntu2.4\n",
      "# 10.0.3.111:22 SSH-2.0-OpenSSH_7.2p2 Ubuntu-4ubuntu2.4\n"
     ]
    }
   ],
   "source": [
    "ssh-keygen -R $BR1_IP; ssh-keyscan $BR1_IP >> ~/.ssh/known_hosts"
   ]
  },
  {
   "cell_type": "code",
   "execution_count": 15,
   "metadata": {},
   "outputs": [],
   "source": [
    "alias BR1='sshpass -p ubuntu ssh ubuntu@$BR1_IP'"
   ]
  },
  {
   "cell_type": "code",
   "execution_count": 16,
   "metadata": {},
   "outputs": [
    {
     "name": "stdout",
     "output_type": "stream",
     "text": [
      "1: lo: <LOOPBACK,UP,LOWER_UP> mtu 65536 qdisc noqueue state UNKNOWN group default qlen 1\n",
      "    link/loopback 00:00:00:00:00:00 brd 00:00:00:00:00:00\n",
      "    inet 127.0.0.1/8 scope host lo\n",
      "       valid_lft forever preferred_lft forever\n",
      "    inet6 ::1/128 scope host \n",
      "       valid_lft forever preferred_lft forever\n",
      "86: eth0@if87: <BROADCAST,MULTICAST,UP,LOWER_UP> mtu 1500 qdisc noqueue state UP group default qlen 1000\n",
      "    link/ether 00:16:3e:05:87:83 brd ff:ff:ff:ff:ff:ff link-netnsid 0\n",
      "    inet 10.0.3.111/24 brd 10.0.3.255 scope global eth0\n",
      "       valid_lft forever preferred_lft forever\n",
      "    inet6 fe80::216:3eff:fe05:8783/64 scope link \n",
      "       valid_lft forever preferred_lft forever\n"
     ]
    }
   ],
   "source": [
    "BR1 ip addr show"
   ]
  },
  {
   "cell_type": "code",
   "execution_count": 17,
   "metadata": {},
   "outputs": [
    {
     "name": "stdout",
     "output_type": "stream",
     "text": [
      "default via 10.0.3.1 dev eth0 \n",
      "10.0.3.0/24 dev eth0  proto kernel  scope link  src 10.0.3.111 \n"
     ]
    }
   ],
   "source": [
    "BR1 ip route show"
   ]
  },
  {
   "cell_type": "code",
   "execution_count": 18,
   "metadata": {},
   "outputs": [
    {
     "name": "stdout",
     "output_type": "stream",
     "text": [
      "# This file describes the network interfaces available on your system\n",
      "# and how to activate them. For more information, see interfaces(5).\n",
      "\n",
      "# The loopback network interface\n",
      "auto lo\n",
      "iface lo inet loopback\n",
      "\n",
      "auto eth0\n",
      "iface eth0 inet dhcp\n"
     ]
    }
   ],
   "source": [
    "BR1 cat /etc/network/interfaces"
   ]
  },
  {
   "cell_type": "markdown",
   "metadata": {},
   "source": [
    "## Ändern der IP Range\n",
    "\n",
    "Damit wir Platz bekommen für statische IP-Adressen von 10.0.3.2 bis 10.0.3.99."
   ]
  },
  {
   "cell_type": "code",
   "execution_count": 19,
   "metadata": {},
   "outputs": [],
   "source": [
    "sudo sed -i 's/LXC_DHCP_RANGE=\"10.0.3.2,10.0.3.254\"/LXC_DHCP_RANGE=\"10.0.3.100,10.0.3.254\"/g' /etc/default/lxc-net\n"
   ]
  },
  {
   "cell_type": "code",
   "execution_count": 20,
   "metadata": {},
   "outputs": [
    {
     "name": "stdout",
     "output_type": "stream",
     "text": [
      "LXC_DHCP_RANGE=\"10.0.3.100,10.0.3.254\"\n"
     ]
    }
   ],
   "source": [
    "grep LXC_DHCP_RANGE /etc/default/lxc-net"
   ]
  },
  {
   "cell_type": "code",
   "execution_count": 21,
   "metadata": {},
   "outputs": [],
   "source": [
    "sudo systemctl restart lxc-net.service"
   ]
  },
  {
   "cell_type": "code",
   "execution_count": 22,
   "metadata": {},
   "outputs": [
    {
     "name": "stdout",
     "output_type": "stream",
     "text": [
      "2680 dnsmasq -s lxd -S /lxd/ -u lxd --strict-order --bind-interfaces --pid-file=/run/lxd-bridge//dnsmasq.pid --dhcp-no-override --except-interface=lo --interface=lxdbr0 --dhcp-leasefile=/var/lib/lxd-bridge//dnsmasq.lxdbr0.leases --dhcp-authoritative --listen-address 10.38.59.1 --dhcp-range 10.38.59.2,10.38.59.254 --dhcp-lease-max=252 --dhcp-range=fd71:3725:86f7:3a47::1,ra-stateless,ra-names --listen-address fd71:3725:86f7:3a47::1\n",
      "9440 /usr/sbin/dnsmasq -x /var/run/dnsmasq/dnsmasq.pid -u dnsmasq -r /var/run/dnsmasq/resolv.conf -7 /etc/dnsmasq.d,.dpkg-dist,.dpkg-old,.dpkg-new --local-service\n",
      "19095 dnsmasq -u lxc-dnsmasq --strict-order --bind-interfaces --pid-file=/run/lxc/dnsmasq.pid --listen-address 10.0.3.1 --dhcp-range 10.0.3.100,10.0.3.254 --dhcp-lease-max=253 --dhcp-no-override --except-interface=lo --interface=lxcbr0 --dhcp-leasefile=/var/lib/misc/dnsmasq.lxcbr0.leases --dhcp-authoritative\n",
      "19178 sudo pgrep -lfaww dnsmasq\n"
     ]
    }
   ],
   "source": [
    "sudo pgrep -lfaww dnsmasq"
   ]
  },
  {
   "cell_type": "markdown",
   "metadata": {},
   "source": [
    "Somit können wir die ersten 99 (ausgenommen 1 für den dnsmasq Server) verwenden.\n",
    "\n",
    "https://wiki.ubuntuusers.de/ip/#Optionen die Option set wird durch replace ersetzt.\n",
    "\n",
    "https://www.thomas-krenn.com/de/wiki/Linux_ip_Kommando"
   ]
  },
  {
   "cell_type": "code",
   "execution_count": 23,
   "metadata": {},
   "outputs": [
    {
     "name": "stdout",
     "output_type": "stream",
     "text": [
      "\r\n"
     ]
    }
   ],
   "source": [
    "BR1 sudo ifconfig eth0 10.0.3.10 netmask 255.255.255.0 && sudo ip route add default via 10.0.3.1"
   ]
  },
  {
   "cell_type": "markdown",
   "metadata": {},
   "source": [
    "So mit schlagen wir uns selber die SSH Verbindung weg."
   ]
  },
  {
   "cell_type": "code",
   "execution_count": 24,
   "metadata": {},
   "outputs": [
    {
     "name": "stdout",
     "output_type": "stream",
     "text": [
      "10.0.3.10\n"
     ]
    }
   ],
   "source": [
    "BR1_IP=$(sudo lxc-ls --name br1 --fancy --fancy-format IPV4 | grep -v IPV4)\n",
    "echo $BR1_IP"
   ]
  },
  {
   "cell_type": "code",
   "execution_count": 25,
   "metadata": {},
   "outputs": [
    {
     "name": "stdout",
     "output_type": "stream",
     "text": [
      "# Host 10.0.3.10 found: line 43\n",
      "# Host 10.0.3.10 found: line 44\n",
      "# Host 10.0.3.10 found: line 45\n",
      "/home/vagrant/.ssh/known_hosts updated.\n",
      "Original contents retained as /home/vagrant/.ssh/known_hosts.old\n",
      "# 10.0.3.10:22 SSH-2.0-OpenSSH_7.2p2 Ubuntu-4ubuntu2.4\n",
      "# 10.0.3.10:22 SSH-2.0-OpenSSH_7.2p2 Ubuntu-4ubuntu2.4\n",
      "# 10.0.3.10:22 SSH-2.0-OpenSSH_7.2p2 Ubuntu-4ubuntu2.4\n"
     ]
    }
   ],
   "source": [
    "ssh-keygen -R $BR1_IP; ssh-keyscan $BR1_IP >> ~/.ssh/known_hosts"
   ]
  },
  {
   "cell_type": "code",
   "execution_count": 26,
   "metadata": {},
   "outputs": [
    {
     "name": "stdout",
     "output_type": "stream",
     "text": [
      "insgesamt 24K\n",
      "4201410 drwxr-xr-x 3 ubuntu ubuntu 4,0K Feb 15 13:28 .\n",
      "3810406 drwxr-xr-x 3 root   root   4,0K Feb 15 13:28 ..\n",
      "4201411 -rw-r--r-- 1 ubuntu ubuntu  220 Feb 15 13:28 .bash_logout\n",
      "4201428 -rw-r--r-- 1 ubuntu ubuntu 3,7K Feb 15 13:28 .bashrc\n",
      "7621125 drwx------ 2 ubuntu ubuntu 4,0K Feb 15 13:28 .cache\n",
      "4201417 -rw-r--r-- 1 ubuntu ubuntu  655 Feb 15 13:28 .profile\n",
      "4201727 -rw-r--r-- 1 ubuntu ubuntu    0 Feb 15 13:28 .sudo_as_admin_successful\n"
     ]
    }
   ],
   "source": [
    "BR1 ls -lachi"
   ]
  },
  {
   "cell_type": "code",
   "execution_count": 27,
   "metadata": {},
   "outputs": [
    {
     "name": "stdout",
     "output_type": "stream",
     "text": [
      "\r\n"
     ]
    }
   ],
   "source": [
    "BR1 \"sudo reboot --no-wall &\""
   ]
  },
  {
   "cell_type": "code",
   "execution_count": 28,
   "metadata": {},
   "outputs": [
    {
     "name": "stdout",
     "output_type": "stream",
     "text": [
      "NAME STATE   AUTOSTART GROUPS IPV4       IPV6 \n",
      "br1  RUNNING 0         -      10.0.3.111 -    \n"
     ]
    }
   ],
   "source": [
    "sudo lxc-ls --fancy"
   ]
  },
  {
   "cell_type": "code",
   "execution_count": 29,
   "metadata": {},
   "outputs": [
    {
     "name": "stdout",
     "output_type": "stream",
     "text": [
      "10.0.3.111\n"
     ]
    }
   ],
   "source": [
    "BR1_IP=$(sudo lxc-ls --name br1 --fancy --fancy-format IPV4 | grep -v IPV4)\n",
    "echo $BR1_IP"
   ]
  },
  {
   "cell_type": "code",
   "execution_count": 30,
   "metadata": {},
   "outputs": [
    {
     "name": "stdout",
     "output_type": "stream",
     "text": [
      "# This file describes the network interfaces available on your system\n",
      "# and how to activate them. For more information, see interfaces(5).\n",
      "\n",
      "# The loopback network interface\n",
      "auto lo\n",
      "iface lo inet loopback\n",
      "\n",
      "auto eth0\n",
      "iface eth0 inet dhcp\n"
     ]
    }
   ],
   "source": [
    "BR1 cat /etc/network/interfaces"
   ]
  },
  {
   "cell_type": "code",
   "execution_count": 31,
   "metadata": {},
   "outputs": [],
   "source": [
    "BR1 'sudo sed -i s/dhcp/static\\\\n\\\\taddress\\ 10.0.3.10\\\\n\\\\tnetmask\\ 255.255.255.0\\\\n\\\\tgateway\\ 10.0.3.1/g /etc/network/interfaces'"
   ]
  },
  {
   "cell_type": "code",
   "execution_count": 32,
   "metadata": {},
   "outputs": [
    {
     "name": "stdout",
     "output_type": "stream",
     "text": [
      "# This file describes the network interfaces available on your system\n",
      "# and how to activate them. For more information, see interfaces(5).\n",
      "\n",
      "# The loopback network interface\n",
      "auto lo\n",
      "iface lo inet loopback\n",
      "\n",
      "auto eth0\n",
      "iface eth0 inet static\n",
      "\taddress 10.0.3.10\n",
      "\tnetmask 255.255.255.0\n",
      "\tgateway 10.0.3.1\n"
     ]
    }
   ],
   "source": [
    "BR1 cat /etc/network/interfaces"
   ]
  },
  {
   "cell_type": "code",
   "execution_count": 33,
   "metadata": {},
   "outputs": [],
   "source": [
    "sudo lxc-stop --name br1 && sudo lxc-start --name br1"
   ]
  },
  {
   "cell_type": "code",
   "execution_count": 34,
   "metadata": {},
   "outputs": [
    {
     "name": "stdout",
     "output_type": "stream",
     "text": [
      "NAME STATE   AUTOSTART GROUPS IPV4 IPV6 \n",
      "br1  RUNNING 0         -      -    -    \n"
     ]
    }
   ],
   "source": [
    "sudo lxc-ls --fancy"
   ]
  },
  {
   "cell_type": "code",
   "execution_count": 35,
   "metadata": {},
   "outputs": [
    {
     "name": "stdout",
     "output_type": "stream",
     "text": [
      "10.0.3.10\n"
     ]
    }
   ],
   "source": [
    "BR1_IP=$(sudo lxc-ls --name br1 --fancy --fancy-format IPV4 | grep -v IPV4)\n",
    "echo $BR1_IP"
   ]
  },
  {
   "cell_type": "code",
   "execution_count": 36,
   "metadata": {},
   "outputs": [
    {
     "name": "stdout",
     "output_type": "stream",
     "text": [
      "1: lo: <LOOPBACK,UP,LOWER_UP> mtu 65536 qdisc noqueue state UNKNOWN group default qlen 1\n",
      "    link/loopback 00:00:00:00:00:00 brd 00:00:00:00:00:00\n",
      "    inet 127.0.0.1/8 scope host lo\n",
      "       valid_lft forever preferred_lft forever\n",
      "    inet6 ::1/128 scope host \n",
      "       valid_lft forever preferred_lft forever\n",
      "90: eth0@if91: <BROADCAST,MULTICAST,UP,LOWER_UP> mtu 1500 qdisc noqueue state UP group default qlen 1000\n",
      "    link/ether 00:16:3e:05:87:83 brd ff:ff:ff:ff:ff:ff link-netnsid 0\n",
      "    inet 10.0.3.10/24 brd 10.0.3.255 scope global eth0\n",
      "       valid_lft forever preferred_lft forever\n",
      "    inet6 fe80::216:3eff:fe05:8783/64 scope link tentative \n",
      "       valid_lft forever preferred_lft forever\n"
     ]
    }
   ],
   "source": [
    "BR1 ip addr show"
   ]
  },
  {
   "cell_type": "code",
   "execution_count": 37,
   "metadata": {},
   "outputs": [
    {
     "name": "stdout",
     "output_type": "stream",
     "text": [
      "port no\tmac addr\t\tis local?\tageing timer\n",
      "  1\t00:16:3e:05:87:83\tno\t\t   0.12\n",
      "  1\tfe:e0:3e:b9:de:fc\tyes\t\t   0.00\n",
      "  1\tfe:e0:3e:b9:de:fc\tyes\t\t   0.00\n"
     ]
    }
   ],
   "source": [
    "sudo brctl showmacs lxcbr0"
   ]
  },
  {
   "cell_type": "markdown",
   "metadata": {},
   "source": [
    "## Manuelles aufsetzen der Linux bridge"
   ]
  },
  {
   "cell_type": "code",
   "execution_count": null,
   "metadata": {},
   "outputs": [],
   "source": [
    "sudo brctl show"
   ]
  },
  {
   "cell_type": "code",
   "execution_count": null,
   "metadata": {},
   "outputs": [],
   "source": [
    "sudo ifconfig lxcbr0 down"
   ]
  },
  {
   "cell_type": "code",
   "execution_count": null,
   "metadata": {},
   "outputs": [],
   "source": [
    "sudo brctl delbr lxcbr0"
   ]
  },
  {
   "cell_type": "code",
   "execution_count": null,
   "metadata": {},
   "outputs": [],
   "source": [
    "sudo brctl show"
   ]
  },
  {
   "cell_type": "code",
   "execution_count": null,
   "metadata": {},
   "outputs": [],
   "source": [
    "sudo brctl addbr lxcbr0\n",
    "sudo brctl show"
   ]
  },
  {
   "cell_type": "code",
   "execution_count": null,
   "metadata": {},
   "outputs": [],
   "source": [
    "sudo brctl addif lxcbr0 veth366R6F\n",
    "sudo brctl show"
   ]
  },
  {
   "cell_type": "code",
   "execution_count": null,
   "metadata": {},
   "outputs": [],
   "source": [
    "sudo ifconfig lxcbr0"
   ]
  },
  {
   "cell_type": "code",
   "execution_count": null,
   "metadata": {},
   "outputs": [],
   "source": [
    "sudo ifconfig lxcbr0 up"
   ]
  },
  {
   "cell_type": "code",
   "execution_count": null,
   "metadata": {},
   "outputs": [],
   "source": [
    "sudo ifconfig lxcbr0"
   ]
  },
  {
   "cell_type": "code",
   "execution_count": null,
   "metadata": {},
   "outputs": [],
   "source": [
    "sudo  ifconfig lxcbr0 10.0.3.1 netmask 255.255.255.0"
   ]
  },
  {
   "cell_type": "code",
   "execution_count": null,
   "metadata": {},
   "outputs": [],
   "source": [
    "sudo ifconfig lxcbr0"
   ]
  },
  {
   "cell_type": "code",
   "execution_count": null,
   "metadata": {},
   "outputs": [],
   "source": [
    "sudo brctl show"
   ]
  },
  {
   "cell_type": "markdown",
   "metadata": {},
   "source": [
    "## Open vSwitch"
   ]
  },
  {
   "cell_type": "code",
   "execution_count": 38,
   "metadata": {},
   "outputs": [
    {
     "name": "stdout",
     "output_type": "stream",
     "text": [
      "openvswitch-switch:\n",
      "  Installiert:           (keine)\n",
      "  Installationskandidat: 2.5.2-0ubuntu0.16.04.3\n",
      "  Versionstabelle:\n",
      "     2.5.2-0ubuntu0.16.04.3 500\n",
      "        500 http://us.archive.ubuntu.com/ubuntu xenial-updates/main amd64 Packages\n",
      "     2.5.2-0ubuntu0.16.04.2 500\n",
      "        500 http://security.ubuntu.com/ubuntu xenial-security/main amd64 Packages\n",
      "     2.5.0-0ubuntu1 500\n",
      "        500 http://us.archive.ubuntu.com/ubuntu xenial/main amd64 Packages\n"
     ]
    }
   ],
   "source": [
    "apt policy openvswitch-switch"
   ]
  },
  {
   "cell_type": "code",
   "execution_count": 40,
   "metadata": {},
   "outputs": [
    {
     "name": "stdout",
     "output_type": "stream",
     "text": [
      "Paketlisten werden gelesen... Fertig\n",
      "Abhängigkeitsbaum wird aufgebaut.       \n",
      "Statusinformationen werden eingelesen.... Fertig\n",
      "Die folgenden zusätzlichen Pakete werden Installiert\n",
      "  openvswitch-common\n",
      "Die folgenden NEUEN Pakete werden installiert:\n",
      "  openvswitch-common openvswitch-switch\n",
      "0 aktualisiert, 2 neu installiert, 0 zu entfernen und 0 nicht aktualisiert.\n",
      "Es müssen 1.811 kB an Archiven heruntergeladen werden.\n",
      "Nach dieser Operation werden 8.033 kB Plattenplatz zusätzlich benutzt.\n",
      "Holen:1 http://us.archive.ubuntu.com/ubuntu xenial-updates/main amd64 openvswitch-common amd64 2.5.2-0ubuntu0.16.04.3 [654 kB]\n",
      "Holen:2 http://us.archive.ubuntu.com/ubuntu xenial-updates/main amd64 openvswitch-switch amd64 2.5.2-0ubuntu0.16.04.3 [1.157 kB]\n",
      "Es wurden 1.811 kB in 1 s geholt (975 kB/s).  \u001b[0m\u001b[33m\n",
      "debconf: kann Oberfläche nicht initialisieren: Dialog\n",
      "debconf: (Die Dialog-Oberfläche funktioniert nicht auf einem Dumb-Terminal, einem Emacs-Shellbuffer oder ohne ein steuerndes Terminal.)\n",
      "debconf: greife zurück auf die Oberfläche: Readline\n",
      "\n",
      "\u001b7\u001b[0;23r\u001b8\u001b[1AVormals nicht ausgewähltes Paket openvswitch-common wird gewählt.\n",
      "(Lese Datenbank ... 234957 Dateien und Verzeichnisse sind derzeit installiert.)\n",
      "Vorbereitung zum Entpacken von .../openvswitch-common_2.5.2-0ubuntu0.16.04.3_amd64.deb ...\n",
      "\u001b7\u001b[24;0f\u001b[42m\u001b[30mFortschritt: [  0%]\u001b[49m\u001b[39m [.......................................................] \u001b8\u001b7\u001b[24;0f\u001b[42m\u001b[30mFortschritt: [  9%]\u001b[49m\u001b[39m [#####..................................................] \u001b8Entpacken von openvswitch-common (2.5.2-0ubuntu0.16.04.3) ...\n",
      "\u001b7\u001b[24;0f\u001b[42m\u001b[30mFortschritt: [ 18%]\u001b[49m\u001b[39m [##########.............................................] \u001b8\u001b7\u001b[24;0f\u001b[42m\u001b[30mFortschritt: [ 27%]\u001b[49m\u001b[39m [###############........................................] \u001b8Vormals nicht ausgewähltes Paket openvswitch-switch wird gewählt.\n",
      "Vorbereitung zum Entpacken von .../openvswitch-switch_2.5.2-0ubuntu0.16.04.3_amd64.deb ...\n",
      "\u001b7\u001b[24;0f\u001b[42m\u001b[30mFortschritt: [ 36%]\u001b[49m\u001b[39m [####################...................................] \u001b8Entpacken von openvswitch-switch (2.5.2-0ubuntu0.16.04.3) ...\n",
      "\u001b7\u001b[24;0f\u001b[42m\u001b[30mFortschritt: [ 45%]\u001b[49m\u001b[39m [#########################..............................] \u001b8\u001b7\u001b[24;0f\u001b[42m\u001b[30mFortschritt: [ 54%]\u001b[49m\u001b[39m [##############################.........................] \u001b8Trigger für man-db (2.7.5-1) werden verarbeitet ...\n",
      "Trigger für systemd (229-4ubuntu21.1) werden verarbeitet ...\n",
      "Trigger für ureadahead (0.100.0-19) werden verarbeitet ...\n",
      "openvswitch-common (2.5.2-0ubuntu0.16.04.3) wird eingerichtet ...\n",
      "\u001b7\u001b[24;0f\u001b[42m\u001b[30mFortschritt: [ 63%]\u001b[49m\u001b[39m [###################################....................] \u001b8\u001b7\u001b[24;0f\u001b[42m\u001b[30mFortschritt: [ 72%]\u001b[49m\u001b[39m [########################################...............] \u001b8openvswitch-switch (2.5.2-0ubuntu0.16.04.3) wird eingerichtet ...\n",
      "\u001b7\u001b[24;0f\u001b[42m\u001b[30mFortschritt: [ 81%]\u001b[49m\u001b[39m [#############################################..........] \u001b8update-alternatives: /usr/lib/openvswitch-switch/ovs-vswitchd wird verwendet, um /usr/sbin/ovs-vswitchd (ovs-vswitchd) im automatischen Modus bereitzustellen\n",
      "openvswitch-nonetwork.service is a disabled or a static unit, not starting it.\n",
      "\u001b7\u001b[24;0f\u001b[42m\u001b[30mFortschritt: [ 90%]\u001b[49m\u001b[39m [##################################################.....] \u001b8Trigger für systemd (229-4ubuntu21.1) werden verarbeitet ...\n",
      "Trigger für ureadahead (0.100.0-19) werden verarbeitet ...\n",
      "\n",
      "\u001b7\u001b[0;24r\u001b8\u001b[1A\u001b[J"
     ]
    }
   ],
   "source": [
    "sudo apt install --yes openvswitch-switch"
   ]
  },
  {
   "cell_type": "code",
   "execution_count": 41,
   "metadata": {},
   "outputs": [
    {
     "name": "stdout",
     "output_type": "stream",
     "text": [
      "ovs-vsctl (Open vSwitch) 2.5.2\n",
      "Compiled Oct 17 2017 16:38:57\n",
      "DB Schema 7.12.1\n"
     ]
    }
   ],
   "source": [
    "ovs-vsctl --version"
   ]
  },
  {
   "cell_type": "code",
   "execution_count": null,
   "metadata": {},
   "outputs": [],
   "source": []
  },
  {
   "cell_type": "code",
   "execution_count": null,
   "metadata": {},
   "outputs": [],
   "source": []
  },
  {
   "cell_type": "code",
   "execution_count": null,
   "metadata": {},
   "outputs": [],
   "source": []
  },
  {
   "cell_type": "code",
   "execution_count": null,
   "metadata": {},
   "outputs": [],
   "source": []
  },
  {
   "cell_type": "code",
   "execution_count": null,
   "metadata": {},
   "outputs": [],
   "source": []
  },
  {
   "cell_type": "markdown",
   "metadata": {},
   "source": [
    "## Aufräumen"
   ]
  },
  {
   "cell_type": "code",
   "execution_count": null,
   "metadata": {},
   "outputs": [],
   "source": [
    "sudo lxc-destroy -n br1 --force"
   ]
  },
  {
   "cell_type": "code",
   "execution_count": null,
   "metadata": {},
   "outputs": [],
   "source": [
    "sudo sed -i 's/LXC_DHCP_RANGE=\"10.0.3.100,10.0.3.254\"/LXC_DHCP_RANGE=\"10.0.3.2,10.0.3.254\"/g' /etc/default/lxc-net\n",
    "sudo systemctl restart lxc-net.service\n"
   ]
  },
  {
   "cell_type": "code",
   "execution_count": null,
   "metadata": {},
   "outputs": [],
   "source": []
  }
 ],
 "metadata": {
  "kernelspec": {
   "display_name": "Bash",
   "language": "bash",
   "name": "bash"
  },
  "language_info": {
   "codemirror_mode": "shell",
   "file_extension": ".sh",
   "mimetype": "text/x-sh",
   "name": "bash"
  }
 },
 "nbformat": 4,
 "nbformat_minor": 2
}
