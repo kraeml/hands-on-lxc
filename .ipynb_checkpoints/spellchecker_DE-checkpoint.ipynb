{
 "cells": [
  {
   "cell_type": "code",
   "execution_count": 2,
   "metadata": {},
   "outputs": [
    {
     "name": "stdout",
     "output_type": "stream",
     "text": [
      "saving 'https://chromium.googlesource.com/chromium/deps/hunspell_dictionaries/+/master/de_DE.dic?format=TEXT'\n",
      "    to '/home/vagrant/.local/share/jupyter/nbextensions/spellchecker/typo/dictionaries/de_DE.dic'\n",
      "saving 'https://chromium.googlesource.com/chromium/deps/hunspell_dictionaries/+/master/de_DE.aff?format=TEXT'\n",
      "    to '/home/vagrant/.local/share/jupyter/nbextensions/spellchecker/typo/dictionaries/de_DE.aff'\n"
     ]
    },
    {
     "data": {
      "text/plain": [
       "{'load_extensions': {'contrib_nbextensions_help_item/main': True,\n",
       "  'nbextensions_configurator/config_menu/main': True,\n",
       "  'spellchecker/main': True},\n",
       " 'spellchecker': {'aff_url': './typo/dictionaries/de_DE.aff',\n",
       "  'dic_url': './typo/dictionaries/de_DE.dic',\n",
       "  'lang_code': 'de_DE'}}"
      ]
     },
     "execution_count": 2,
     "metadata": {},
     "output_type": "execute_result"
    }
   ],
   "source": [
    "from __future__ import print_function\n",
    "\n",
    "import base64\n",
    "import os.path\n",
    "\n",
    "from jupyter_core.paths import jupyter_data_dir\n",
    "from notebook.services.config import ConfigManager\n",
    "\n",
    "try:\n",
    "    from urllib.request import urlopen  # Py3\n",
    "except ImportError:\n",
    "    from urllib import urlopen  # Py2\n",
    "\n",
    "remote_base_url = (\n",
    "    'https://chromium.googlesource.com/' +\n",
    "    'chromium/deps/hunspell_dictionaries/+/master'\n",
    ")\n",
    "local_base_url = os.path.join(\n",
    "    jupyter_data_dir(),\n",
    "    'nbextensions', 'spellchecker', 'typo', 'dictionaries')\n",
    "\n",
    "lang_code = 'de_DE'\n",
    "\n",
    "if not os.path.exists(local_base_url):\n",
    "    print('creating directory {!r}'.format(local_base_url))\n",
    "    os.makedirs(os.path.realpath(local_base_url))\n",
    "\n",
    "cm = ConfigManager()\n",
    "for ext in ('dic', 'aff'):\n",
    "    dict_fname = lang_code + '.' + ext\n",
    "    remote_path = remote_base_url + '/' + dict_fname + '?format=TEXT'\n",
    "    local_path = os.path.join(local_base_url, dict_fname)\n",
    "    print('saving {!r}\\n    to {!r}'.format(remote_path, local_path))\n",
    "    with open(local_path, 'wb') as loc_file:\n",
    "        base64.decode(urlopen(remote_path), loc_file)\n",
    "    rel_path = './typo/dictionaries/' + dict_fname\n",
    "    cm.update('notebook', {'spellchecker': {ext + '_url': rel_path}})\n",
    "\n",
    "cm.update('notebook', {'spellchecker': {'lang_code': lang_code}})"
   ]
  },
  {
   "cell_type": "code",
   "execution_count": null,
   "metadata": {},
   "outputs": [],
   "source": []
  }
 ],
 "metadata": {
  "kernelspec": {
   "display_name": "Python 3",
   "language": "python",
   "name": "python3"
  },
  "language_info": {
   "codemirror_mode": {
    "name": "ipython",
    "version": 3
   },
   "file_extension": ".py",
   "mimetype": "text/x-python",
   "name": "python",
   "nbconvert_exporter": "python",
   "pygments_lexer": "ipython3",
   "version": "3.5.2"
  }
 },
 "nbformat": 4,
 "nbformat_minor": 2
}
